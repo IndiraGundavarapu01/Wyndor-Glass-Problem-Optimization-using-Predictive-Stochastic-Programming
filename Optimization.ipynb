{
 "cells": [
  {
   "cell_type": "code",
   "execution_count": 3,
   "id": "135ec251",
   "metadata": {},
   "outputs": [
    {
     "name": "stderr",
     "output_type": "stream",
     "text": [
      "\u001b[32m\u001b[1m   Resolving\u001b[22m\u001b[39m package versions...\n",
      "\u001b[32m\u001b[1m  No Changes\u001b[22m\u001b[39m to `~/.julia/environments/v1.8/Project.toml`\n",
      "\u001b[32m\u001b[1m  No Changes\u001b[22m\u001b[39m to `~/.julia/environments/v1.8/Manifest.toml`\n"
     ]
    }
   ],
   "source": [
    "import Pkg\n",
    "Pkg.add(\"MathOptInterface\")"
   ]
  },
  {
   "cell_type": "code",
   "execution_count": 4,
   "id": "1410cf70",
   "metadata": {},
   "outputs": [],
   "source": [
    "using Pkg\n",
    "using CSV,DataFrames,Random\n",
    "using GLM\n",
    "using CPLEX,JuMP\n",
    "using HypothesisTests,Plots,StatsPlots,Distributions\n",
    "using MathOptInterface,Random\n",
    "using TwoSD"
   ]
  },
  {
   "cell_type": "markdown",
   "id": "0f0149d3",
   "metadata": {},
   "source": [
    "# 1. SAA"
   ]
  },
  {
   "cell_type": "markdown",
   "id": "e55c059b",
   "metadata": {},
   "source": [
    "#### 1.1 Descriptive Analytics"
   ]
  },
  {
   "cell_type": "code",
   "execution_count": 5,
   "id": "1fa82f95",
   "metadata": {},
   "outputs": [
    {
     "data": {
      "text/plain": [
       "partitionTrainTest (generic function with 2 methods)"
      ]
     },
     "execution_count": 5,
     "metadata": {},
     "output_type": "execute_result"
    }
   ],
   "source": [
    "function partitionTrainTest(data, at = 0.5)\n",
    "    n = nrow(data)\n",
    "    idx = shuffle(1:nrow(data))\n",
    "    train_idx = view(idx, 1:floor(Int, at*n))\n",
    "    test_idx = view(idx, (floor(Int, at*n)+1):n)\n",
    "    data[train_idx,:], data[test_idx,:]\n",
    "end"
   ]
  },
  {
   "cell_type": "code",
   "execution_count": 6,
   "id": "02275fc9",
   "metadata": {},
   "outputs": [
    {
     "data": {
      "text/html": [
       "<div class=\"data-frame\"><p>200 rows × 5 columns</p><table class=\"data-frame\"><thead><tr><th></th><th>Column1</th><th>TV</th><th>Radio</th><th>Newspaper</th><th>Sales</th></tr><tr><th></th><th title=\"Int64\">Int64</th><th title=\"Float64\">Float64</th><th title=\"Float64\">Float64</th><th title=\"Float64\">Float64</th><th title=\"Float64\">Float64</th></tr></thead><tbody><tr><th>1</th><td>1</td><td>230.1</td><td>37.8</td><td>69.2</td><td>22.1</td></tr><tr><th>2</th><td>2</td><td>44.5</td><td>39.3</td><td>45.1</td><td>10.4</td></tr><tr><th>3</th><td>3</td><td>17.2</td><td>45.9</td><td>69.3</td><td>9.3</td></tr><tr><th>4</th><td>4</td><td>151.5</td><td>41.3</td><td>58.5</td><td>18.5</td></tr><tr><th>5</th><td>5</td><td>180.8</td><td>10.8</td><td>58.4</td><td>12.9</td></tr><tr><th>6</th><td>6</td><td>8.7</td><td>48.9</td><td>75.0</td><td>7.2</td></tr><tr><th>7</th><td>7</td><td>57.5</td><td>32.8</td><td>23.5</td><td>11.8</td></tr><tr><th>8</th><td>8</td><td>120.2</td><td>19.6</td><td>11.6</td><td>13.2</td></tr><tr><th>9</th><td>9</td><td>8.6</td><td>2.1</td><td>1.0</td><td>4.8</td></tr><tr><th>10</th><td>10</td><td>199.8</td><td>2.6</td><td>21.2</td><td>10.6</td></tr><tr><th>11</th><td>11</td><td>66.1</td><td>5.8</td><td>24.2</td><td>8.6</td></tr><tr><th>12</th><td>12</td><td>214.7</td><td>24.0</td><td>4.0</td><td>17.4</td></tr><tr><th>13</th><td>13</td><td>23.8</td><td>35.1</td><td>65.9</td><td>9.2</td></tr><tr><th>14</th><td>14</td><td>97.5</td><td>7.6</td><td>7.2</td><td>9.7</td></tr><tr><th>15</th><td>15</td><td>204.1</td><td>32.9</td><td>46.0</td><td>19.0</td></tr><tr><th>16</th><td>16</td><td>195.4</td><td>47.7</td><td>52.9</td><td>22.4</td></tr><tr><th>17</th><td>17</td><td>67.8</td><td>36.6</td><td>114.0</td><td>12.5</td></tr><tr><th>18</th><td>18</td><td>281.4</td><td>39.6</td><td>55.8</td><td>24.4</td></tr><tr><th>19</th><td>19</td><td>69.2</td><td>20.5</td><td>18.3</td><td>11.3</td></tr><tr><th>20</th><td>20</td><td>147.3</td><td>23.9</td><td>19.1</td><td>14.6</td></tr><tr><th>21</th><td>21</td><td>218.4</td><td>27.7</td><td>53.4</td><td>18.0</td></tr><tr><th>22</th><td>22</td><td>237.4</td><td>5.1</td><td>23.5</td><td>12.5</td></tr><tr><th>23</th><td>23</td><td>13.2</td><td>15.9</td><td>49.6</td><td>5.6</td></tr><tr><th>24</th><td>24</td><td>228.3</td><td>16.9</td><td>26.2</td><td>15.5</td></tr><tr><th>25</th><td>25</td><td>62.3</td><td>12.6</td><td>18.3</td><td>9.7</td></tr><tr><th>26</th><td>26</td><td>262.9</td><td>3.5</td><td>19.5</td><td>12.0</td></tr><tr><th>27</th><td>27</td><td>142.9</td><td>29.3</td><td>12.6</td><td>15.0</td></tr><tr><th>28</th><td>28</td><td>240.1</td><td>16.7</td><td>22.9</td><td>15.9</td></tr><tr><th>29</th><td>29</td><td>248.8</td><td>27.1</td><td>22.9</td><td>18.9</td></tr><tr><th>30</th><td>30</td><td>70.6</td><td>16.0</td><td>40.8</td><td>10.5</td></tr><tr><th>&vellip;</th><td>&vellip;</td><td>&vellip;</td><td>&vellip;</td><td>&vellip;</td><td>&vellip;</td></tr></tbody></table></div>"
      ],
      "text/latex": [
       "\\begin{tabular}{r|ccccc}\n",
       "\t& Column1 & TV & Radio & Newspaper & Sales\\\\\n",
       "\t\\hline\n",
       "\t& Int64 & Float64 & Float64 & Float64 & Float64\\\\\n",
       "\t\\hline\n",
       "\t1 & 1 & 230.1 & 37.8 & 69.2 & 22.1 \\\\\n",
       "\t2 & 2 & 44.5 & 39.3 & 45.1 & 10.4 \\\\\n",
       "\t3 & 3 & 17.2 & 45.9 & 69.3 & 9.3 \\\\\n",
       "\t4 & 4 & 151.5 & 41.3 & 58.5 & 18.5 \\\\\n",
       "\t5 & 5 & 180.8 & 10.8 & 58.4 & 12.9 \\\\\n",
       "\t6 & 6 & 8.7 & 48.9 & 75.0 & 7.2 \\\\\n",
       "\t7 & 7 & 57.5 & 32.8 & 23.5 & 11.8 \\\\\n",
       "\t8 & 8 & 120.2 & 19.6 & 11.6 & 13.2 \\\\\n",
       "\t9 & 9 & 8.6 & 2.1 & 1.0 & 4.8 \\\\\n",
       "\t10 & 10 & 199.8 & 2.6 & 21.2 & 10.6 \\\\\n",
       "\t11 & 11 & 66.1 & 5.8 & 24.2 & 8.6 \\\\\n",
       "\t12 & 12 & 214.7 & 24.0 & 4.0 & 17.4 \\\\\n",
       "\t13 & 13 & 23.8 & 35.1 & 65.9 & 9.2 \\\\\n",
       "\t14 & 14 & 97.5 & 7.6 & 7.2 & 9.7 \\\\\n",
       "\t15 & 15 & 204.1 & 32.9 & 46.0 & 19.0 \\\\\n",
       "\t16 & 16 & 195.4 & 47.7 & 52.9 & 22.4 \\\\\n",
       "\t17 & 17 & 67.8 & 36.6 & 114.0 & 12.5 \\\\\n",
       "\t18 & 18 & 281.4 & 39.6 & 55.8 & 24.4 \\\\\n",
       "\t19 & 19 & 69.2 & 20.5 & 18.3 & 11.3 \\\\\n",
       "\t20 & 20 & 147.3 & 23.9 & 19.1 & 14.6 \\\\\n",
       "\t21 & 21 & 218.4 & 27.7 & 53.4 & 18.0 \\\\\n",
       "\t22 & 22 & 237.4 & 5.1 & 23.5 & 12.5 \\\\\n",
       "\t23 & 23 & 13.2 & 15.9 & 49.6 & 5.6 \\\\\n",
       "\t24 & 24 & 228.3 & 16.9 & 26.2 & 15.5 \\\\\n",
       "\t25 & 25 & 62.3 & 12.6 & 18.3 & 9.7 \\\\\n",
       "\t26 & 26 & 262.9 & 3.5 & 19.5 & 12.0 \\\\\n",
       "\t27 & 27 & 142.9 & 29.3 & 12.6 & 15.0 \\\\\n",
       "\t28 & 28 & 240.1 & 16.7 & 22.9 & 15.9 \\\\\n",
       "\t29 & 29 & 248.8 & 27.1 & 22.9 & 18.9 \\\\\n",
       "\t30 & 30 & 70.6 & 16.0 & 40.8 & 10.5 \\\\\n",
       "\t$\\dots$ & $\\dots$ & $\\dots$ & $\\dots$ & $\\dots$ & $\\dots$ \\\\\n",
       "\\end{tabular}\n"
      ],
      "text/plain": [
       "\u001b[1m200×5 DataFrame\u001b[0m\n",
       "\u001b[1m Row \u001b[0m│\u001b[1m Column1 \u001b[0m\u001b[1m TV      \u001b[0m\u001b[1m Radio   \u001b[0m\u001b[1m Newspaper \u001b[0m\u001b[1m Sales   \u001b[0m\n",
       "\u001b[1m     \u001b[0m│\u001b[90m Int64   \u001b[0m\u001b[90m Float64 \u001b[0m\u001b[90m Float64 \u001b[0m\u001b[90m Float64   \u001b[0m\u001b[90m Float64 \u001b[0m\n",
       "─────┼───────────────────────────────────────────────\n",
       "   1 │       1    230.1     37.8       69.2     22.1\n",
       "   2 │       2     44.5     39.3       45.1     10.4\n",
       "   3 │       3     17.2     45.9       69.3      9.3\n",
       "   4 │       4    151.5     41.3       58.5     18.5\n",
       "   5 │       5    180.8     10.8       58.4     12.9\n",
       "   6 │       6      8.7     48.9       75.0      7.2\n",
       "   7 │       7     57.5     32.8       23.5     11.8\n",
       "   8 │       8    120.2     19.6       11.6     13.2\n",
       "   9 │       9      8.6      2.1        1.0      4.8\n",
       "  10 │      10    199.8      2.6       21.2     10.6\n",
       "  11 │      11     66.1      5.8       24.2      8.6\n",
       "  ⋮  │    ⋮        ⋮        ⋮         ⋮         ⋮\n",
       " 191 │     191     39.5     41.1        5.8     10.8\n",
       " 192 │     192     75.5     10.8        6.0      9.9\n",
       " 193 │     193     17.2      4.1       31.6      5.9\n",
       " 194 │     194    166.8     42.0        3.6     19.6\n",
       " 195 │     195    149.7     35.6        6.0     17.3\n",
       " 196 │     196     38.2      3.7       13.8      7.6\n",
       " 197 │     197     94.2      4.9        8.1      9.7\n",
       " 198 │     198    177.0      9.3        6.4     12.8\n",
       " 199 │     199    283.6     42.0       66.2     25.5\n",
       " 200 │     200    232.1      8.6        8.7     13.4\n",
       "\u001b[36m                                     179 rows omitted\u001b[0m"
      ]
     },
     "execution_count": 6,
     "metadata": {},
     "output_type": "execute_result"
    }
   ],
   "source": [
    "df = DataFrame(CSV.File(\"Advertising1.csv\"))"
   ]
  },
  {
   "cell_type": "code",
   "execution_count": 7,
   "id": "5e0bfccc",
   "metadata": {},
   "outputs": [
    {
     "data": {
      "text/plain": [
       "(\u001b[1m100×5 DataFrame\u001b[0m\n",
       "\u001b[1m Row \u001b[0m│\u001b[1m Column1 \u001b[0m\u001b[1m TV      \u001b[0m\u001b[1m Radio   \u001b[0m\u001b[1m Newspaper \u001b[0m\u001b[1m Sales   \u001b[0m\n",
       "\u001b[1m     \u001b[0m│\u001b[90m Int64   \u001b[0m\u001b[90m Float64 \u001b[0m\u001b[90m Float64 \u001b[0m\u001b[90m Float64   \u001b[0m\u001b[90m Float64 \u001b[0m\n",
       "─────┼───────────────────────────────────────────────\n",
       "   1 │     155    187.8     21.1        9.5     15.6\n",
       "   2 │      54    182.6     46.2       58.7     21.2\n",
       "   3 │      41    202.5     22.3       31.6     16.6\n",
       "   4 │     103    280.2     10.1       21.4     14.8\n",
       "   5 │      70    216.8     43.9       27.2     22.3\n",
       "   6 │     176    276.9     48.9       41.8     27.0\n",
       "   7 │     145     96.2     14.8       38.9     11.4\n",
       "   8 │     115     78.2     46.8       34.5     14.6\n",
       "   9 │     186    205.0     45.1       19.6     22.6\n",
       "  10 │      65    131.1     42.8       28.9     18.0\n",
       "  11 │      31    292.9     28.3       43.2     21.4\n",
       "  ⋮  │    ⋮        ⋮        ⋮         ⋮         ⋮\n",
       "  91 │     106    137.9     46.4       59.0     19.2\n",
       "  92 │      60    210.7     29.5        9.3     18.4\n",
       "  93 │     139     43.0     25.9       20.5      9.6\n",
       "  94 │      71    199.1     30.6       38.7     18.3\n",
       "  95 │      45     25.1     25.7       43.3      8.5\n",
       "  96 │      27    142.9     29.3       12.6     15.0\n",
       "  97 │     107     25.0     11.0       29.7      7.2\n",
       "  98 │      18    281.4     39.6       55.8     24.4\n",
       "  99 │      75    213.4     24.6       13.1     17.0\n",
       " 100 │     164    163.5     36.8        7.4     18.0\n",
       "\u001b[36m                                      79 rows omitted\u001b[0m, \u001b[1m100×5 DataFrame\u001b[0m\n",
       "\u001b[1m Row \u001b[0m│\u001b[1m Column1 \u001b[0m\u001b[1m TV      \u001b[0m\u001b[1m Radio   \u001b[0m\u001b[1m Newspaper \u001b[0m\u001b[1m Sales   \u001b[0m\n",
       "\u001b[1m     \u001b[0m│\u001b[90m Int64   \u001b[0m\u001b[90m Float64 \u001b[0m\u001b[90m Float64 \u001b[0m\u001b[90m Float64   \u001b[0m\u001b[90m Float64 \u001b[0m\n",
       "─────┼───────────────────────────────────────────────\n",
       "   1 │     127      7.8     38.9       50.6      6.6\n",
       "   2 │     125    229.5     32.3       74.2     19.7\n",
       "   3 │      21    218.4     27.7       53.4     18.0\n",
       "   4 │     152    121.0      8.4       48.7     11.6\n",
       "   5 │     118     76.4      0.8       14.8      9.4\n",
       "   6 │     163    188.4     18.1       25.6     14.9\n",
       "   7 │      57      7.3     28.1       41.4      5.5\n",
       "   8 │     200    232.1      8.6        8.7     13.4\n",
       "   9 │      95    107.4     14.0       10.9     11.5\n",
       "  10 │     108     90.4      0.3       23.2      8.7\n",
       "  11 │     171     50.0     11.6       18.4      8.4\n",
       "  ⋮  │    ⋮        ⋮        ⋮         ⋮         ⋮\n",
       "  91 │      96    163.3     31.6       52.9     16.9\n",
       "  92 │     151    280.7     13.9       37.0     16.1\n",
       "  93 │      23     13.2     15.9       49.6      5.6\n",
       "  94 │      73     26.8     33.0       19.3      8.8\n",
       "  95 │     181    156.6      2.6        8.3     10.5\n",
       "  96 │     167     17.9     37.6       21.6      8.0\n",
       "  97 │      48    239.9     41.5       18.5     23.2\n",
       "  98 │      17     67.8     36.6      114.0     12.5\n",
       "  99 │     141     73.4     17.0       12.9     10.9\n",
       " 100 │      30     70.6     16.0       40.8     10.5\n",
       "\u001b[36m                                      79 rows omitted\u001b[0m)"
      ]
     },
     "execution_count": 7,
     "metadata": {},
     "output_type": "execute_result"
    }
   ],
   "source": [
    "train,test = partitionTrainTest(df)"
   ]
  },
  {
   "cell_type": "code",
   "execution_count": 8,
   "id": "358e1ca3",
   "metadata": {},
   "outputs": [
    {
     "data": {
      "text/plain": [
       "StatsModels.TableRegressionModel{LinearModel{GLM.LmResp{Vector{Float64}}, GLM.DensePredChol{Float64, LinearAlgebra.CholeskyPivoted{Float64, Matrix{Float64}, Vector{Int64}}}}, Matrix{Float64}}\n",
       "\n",
       "Sales ~ 1 + TV + Radio\n",
       "\n",
       "Coefficients:\n",
       "─────────────────────────────────────────────────────────────────────────\n",
       "                 Coef.  Std. Error      t  Pr(>|t|)  Lower 95%  Upper 95%\n",
       "─────────────────────────────────────────────────────────────────────────\n",
       "(Intercept)  2.68824     0.400429    6.71    <1e-08  1.8935     3.48298\n",
       "TV           0.0454906   0.0017343  26.23    <1e-45  0.0420485  0.0489327\n",
       "Radio        0.195616    0.0109858  17.81    <1e-31  0.173813   0.21742\n",
       "─────────────────────────────────────────────────────────────────────────"
      ]
     },
     "execution_count": 8,
     "metadata": {},
     "output_type": "execute_result"
    }
   ],
   "source": [
    "fm = @formula(Sales ~ TV + Radio)\n",
    "linearRegressor = lm(fm, train)"
   ]
  },
  {
   "cell_type": "code",
   "execution_count": 9,
   "id": "4f52b577",
   "metadata": {},
   "outputs": [
    {
     "data": {
      "text/plain": [
       "100-element Vector{Union{Missing, Float64}}:\n",
       " 10.6525442590995\n",
       " 19.44673512618945\n",
       " 18.04195460368989\n",
       "  9.835777722588563\n",
       "  6.320214132259046\n",
       " 14.799320591575066\n",
       "  8.517142362235731\n",
       " 14.928903033732947\n",
       " 10.312557582846395\n",
       "  6.8592738996254115\n",
       "  7.231919765484033\n",
       " 12.951155669595614\n",
       " 18.424583507015313\n",
       "  ⋮\n",
       " 19.144686054299225\n",
       "  5.149761880659329\n",
       " 16.298328115736275\n",
       " 18.176511281688164\n",
       "  6.39901720257205\n",
       " 10.362728556996938\n",
       " 10.32066707499014\n",
       " 10.857697731066173\n",
       " 21.71950747561467\n",
       " 12.932060692330104\n",
       "  9.352727349724017\n",
       "  9.029737407874048"
      ]
     },
     "execution_count": 9,
     "metadata": {},
     "output_type": "execute_result"
    }
   ],
   "source": [
    "ypredicted_test = predict(linearRegressor, test)"
   ]
  },
  {
   "cell_type": "code",
   "execution_count": 10,
   "id": "368f574f",
   "metadata": {},
   "outputs": [
    {
     "data": {
      "text/plain": [
       "100-element Vector{Union{Missing, Float64}}:\n",
       " 15.358875310331326\n",
       " 20.0322948217895\n",
       " 16.262326275111278\n",
       " 17.410423856312455\n",
       " 21.138154615544984\n",
       " 24.85021948292672\n",
       "  9.959556310181192\n",
       " 15.40044939482505\n",
       " 20.83610554365476\n",
       " 17.024434999144354\n",
       " 21.54837168843467\n",
       " 23.397670408055966\n",
       "  7.746875753958477\n",
       "  ⋮\n",
       " 20.68960241182299\n",
       " 18.491955173636704\n",
       " 18.03798972866167\n",
       " 18.04378667006972\n",
       "  9.710799642430462\n",
       " 17.73127407635683\n",
       "  8.85739521497138\n",
       " 14.920402928276983\n",
       "  5.977285768104297\n",
       " 23.235694952775113\n",
       " 17.208091072066168\n",
       " 17.32463126518314"
      ]
     },
     "execution_count": 10,
     "metadata": {},
     "output_type": "execute_result"
    }
   ],
   "source": [
    "ypredicted_train = predict(linearRegressor, train)"
   ]
  },
  {
   "cell_type": "code",
   "execution_count": 11,
   "id": "1b0c7d83",
   "metadata": {},
   "outputs": [
    {
     "data": {
      "text/plain": [
       "100-element Vector{Float64}:\n",
       " -4.0525442590995\n",
       "  0.25326487381055074\n",
       " -0.041954603689891456\n",
       "  1.7642222774114362\n",
       "  3.079785867740954\n",
       "  0.10067940842493428\n",
       " -3.017142362235731\n",
       " -1.5289030337329468\n",
       "  1.1874424171536049\n",
       "  1.8407261003745878\n",
       "  1.1680802345159673\n",
       " -0.35115566959561484\n",
       "  0.7754164929846858\n",
       "  ⋮\n",
       "  0.2553139457007738\n",
       "  2.4502381193406704\n",
       "  0.6016718842637232\n",
       " -2.0765112816881626\n",
       " -0.7990172025720508\n",
       " -1.5627285569969374\n",
       "  0.17933292500985942\n",
       " -2.857697731066173\n",
       "  1.4804925243853297\n",
       " -0.43206069233010425\n",
       "  1.5472726502759837\n",
       "  1.4702625921259518"
      ]
     },
     "execution_count": 11,
     "metadata": {},
     "output_type": "execute_result"
    }
   ],
   "source": [
    "error_test = test.Sales .- ypredicted_test"
   ]
  },
  {
   "cell_type": "code",
   "execution_count": 12,
   "id": "30b62a9d",
   "metadata": {},
   "outputs": [
    {
     "data": {
      "text/plain": [
       "100-element Vector{Float64}:\n",
       "  0.2411246896686734\n",
       "  1.1677051782105003\n",
       "  0.3376737248887238\n",
       " -2.6104238563124547\n",
       "  1.1618453844550167\n",
       "  2.1497805170732818\n",
       "  1.4404436898188084\n",
       " -0.8004493948250495\n",
       "  1.7638944563452412\n",
       "  0.9755650008556458\n",
       " -0.14837168843467197\n",
       "  2.002329591944033\n",
       "  1.9531242460415221\n",
       "  ⋮\n",
       "  1.9103975881770126\n",
       "  1.1080448263632974\n",
       "  1.1620102713383282\n",
       "  0.3562133299302772\n",
       " -0.1107996424304627\n",
       "  0.5687259236431714\n",
       " -0.3573952149713797\n",
       "  0.07959707172301655\n",
       "  1.2227142318957034\n",
       "  1.164305047224886\n",
       " -0.20809107206616773\n",
       "  0.6753687348168604"
      ]
     },
     "execution_count": 12,
     "metadata": {},
     "output_type": "execute_result"
    }
   ],
   "source": [
    "error_train = train.Sales .- ypredicted_train"
   ]
  },
  {
   "cell_type": "code",
   "execution_count": 13,
   "id": "f6a619dc",
   "metadata": {},
   "outputs": [
    {
     "data": {
      "text/html": [
       "<div class=\"data-frame\"><p>5 rows × 3 columns</p><table class=\"data-frame\"><thead><tr><th></th><th>variable</th><th>min</th><th>max</th></tr><tr><th></th><th title=\"Symbol\">Symbol</th><th title=\"Real\">Real</th><th title=\"Real\">Real</th></tr></thead><tbody><tr><th>1</th><td>Column1</td><td>3</td><td>195</td></tr><tr><th>2</th><td>TV</td><td>4.1</td><td>296.4</td></tr><tr><th>3</th><td>Radio</td><td>1.3</td><td>49.4</td></tr><tr><th>4</th><td>Newspaper</td><td>0.9</td><td>100.9</td></tr><tr><th>5</th><td>Sales</td><td>3.2</td><td>27.0</td></tr></tbody></table></div>"
      ],
      "text/latex": [
       "\\begin{tabular}{r|ccc}\n",
       "\t& variable & min & max\\\\\n",
       "\t\\hline\n",
       "\t& Symbol & Real & Real\\\\\n",
       "\t\\hline\n",
       "\t1 & Column1 & 3 & 195 \\\\\n",
       "\t2 & TV & 4.1 & 296.4 \\\\\n",
       "\t3 & Radio & 1.3 & 49.4 \\\\\n",
       "\t4 & Newspaper & 0.9 & 100.9 \\\\\n",
       "\t5 & Sales & 3.2 & 27.0 \\\\\n",
       "\\end{tabular}\n"
      ],
      "text/plain": [
       "\u001b[1m5×3 DataFrame\u001b[0m\n",
       "\u001b[1m Row \u001b[0m│\u001b[1m variable  \u001b[0m\u001b[1m min  \u001b[0m\u001b[1m max   \u001b[0m\n",
       "\u001b[1m     \u001b[0m│\u001b[90m Symbol    \u001b[0m\u001b[90m Real \u001b[0m\u001b[90m Real  \u001b[0m\n",
       "─────┼────────────────────────\n",
       "   1 │ Column1     3    195\n",
       "   2 │ TV          4.1  296.4\n",
       "   3 │ Radio       1.3   49.4\n",
       "   4 │ Newspaper   0.9  100.9\n",
       "   5 │ Sales       3.2   27.0"
      ]
     },
     "execution_count": 13,
     "metadata": {},
     "output_type": "execute_result"
    }
   ],
   "source": [
    "min_max_table = describe(train, :min, :max)"
   ]
  },
  {
   "cell_type": "code",
   "execution_count": 14,
   "id": "aa43b0ad",
   "metadata": {},
   "outputs": [
    {
     "data": {
      "text/plain": [
       "(4.1, 296.4)"
      ]
     },
     "execution_count": 14,
     "metadata": {},
     "output_type": "execute_result"
    }
   ],
   "source": [
    "L1,U1 = min_max_table[2,2],min_max_table[2,3]"
   ]
  },
  {
   "cell_type": "code",
   "execution_count": 15,
   "id": "41b4635e",
   "metadata": {},
   "outputs": [
    {
     "data": {
      "text/plain": [
       "(1.3, 49.4)"
      ]
     },
     "execution_count": 15,
     "metadata": {},
     "output_type": "execute_result"
    }
   ],
   "source": [
    "L2,U2 = min_max_table[3,2],min_max_table[3,3]"
   ]
  },
  {
   "cell_type": "code",
   "execution_count": 16,
   "id": "bd2d7693",
   "metadata": {},
   "outputs": [
    {
     "data": {
      "text/plain": [
       "(2.688241698799437, 0.04549056742151611, 0.19561635306972333)"
      ]
     },
     "execution_count": 16,
     "metadata": {},
     "output_type": "execute_result"
    }
   ],
   "source": [
    "beta0,beta1,beta2 = GLM.coef(linearRegressor)[1],GLM.coef(linearRegressor)[2],GLM.coef(linearRegressor)[3]"
   ]
  },
  {
   "cell_type": "markdown",
   "id": "919cab6e",
   "metadata": {},
   "source": [
    "#### 1.2 Prescriptive Analytics"
   ]
  },
  {
   "cell_type": "code",
   "execution_count": 35,
   "id": "64a5bbe5",
   "metadata": {},
   "outputs": [],
   "source": [
    "# create CPLEX Model\n",
    "model = Model(CPLEX.Optimizer)\n",
    "set_silent(model)"
   ]
  },
  {
   "cell_type": "code",
   "execution_count": 36,
   "id": "70099a74",
   "metadata": {},
   "outputs": [
    {
     "data": {
      "text/plain": [
       "100"
      ]
     },
     "execution_count": 36,
     "metadata": {},
     "output_type": "execute_result"
    }
   ],
   "source": [
    "N = length(error_train)"
   ]
  },
  {
   "cell_type": "code",
   "execution_count": 37,
   "id": "cd45d10c",
   "metadata": {},
   "outputs": [
    {
     "data": {
      "text/plain": [
       "(X1, X2, VariableRef[Ya[1], Ya[2], Ya[3], Ya[4], Ya[5], Ya[6], Ya[7], Ya[8], Ya[9], Ya[10]  …  Ya[91], Ya[92], Ya[93], Ya[94], Ya[95], Ya[96], Ya[97], Ya[98], Ya[99], Ya[100]], VariableRef[Yb[1], Yb[2], Yb[3], Yb[4], Yb[5], Yb[6], Yb[7], Yb[8], Yb[9], Yb[10]  …  Yb[91], Yb[92], Yb[93], Yb[94], Yb[95], Yb[96], Yb[97], Yb[98], Yb[99], Yb[100]])"
      ]
     },
     "execution_count": 37,
     "metadata": {},
     "output_type": "execute_result"
    }
   ],
   "source": [
    "@variables(model, begin \n",
    "    L1 <= X1 <= U1\n",
    "    L2 <= X2 <= U2\n",
    "    Ya[1:N] >= 0\n",
    "    Yb[1:N] >= 0\n",
    "    end)"
   ]
  },
  {
   "cell_type": "code",
   "execution_count": 38,
   "id": "9f1ccccf",
   "metadata": {},
   "outputs": [],
   "source": [
    "@constraint(model,X1 + X2 <= 200)\n",
    "@constraint(model,X1 - 0.5 * X2 >= 0)\n",
    "for i in 1:N\n",
    "    @constraint(model,Ya[i] <= 8)\n",
    "    @constraint(model,2 * Yb[i] <= 24)\n",
    "    @constraint(model,3 * Ya[i] + 2 * Yb[i] <= 36)\n",
    "    @constraint(model,-beta1*X1 - beta2*X2 + Ya[i] + Yb[i] <= beta0 + error_train[i])\n",
    "end"
   ]
  },
  {
   "cell_type": "code",
   "execution_count": 39,
   "id": "807a3a72",
   "metadata": {},
   "outputs": [
    {
     "data": {
      "text/latex": [
       "$$ -0.1 X1 - 0.5 X2 + 0.03 Ya_{1} + 0.05 Yb_{1} + 0.03 Ya_{2} + 0.05 Yb_{2} + 0.03 Ya_{3} + 0.05 Yb_{3} + 0.03 Ya_{4} + 0.05 Yb_{4} + 0.03 Ya_{5} + 0.05 Yb_{5} + 0.03 Ya_{6} + 0.05 Yb_{6} + 0.03 Ya_{7} + 0.05 Yb_{7} + 0.03 Ya_{8} + 0.05 Yb_{8} + 0.03 Ya_{9} + 0.05 Yb_{9} + 0.03 Ya_{10} + 0.05 Yb_{10} + 0.03 Ya_{11} + 0.05 Yb_{11} + 0.03 Ya_{12} + 0.05 Yb_{12} + 0.03 Ya_{13} + 0.05 Yb_{13} + 0.03 Ya_{14} + 0.05 Yb_{14} + 0.03 Ya_{15} + 0.05 Yb_{15} + 0.03 Ya_{16} + 0.05 Yb_{16} + 0.03 Ya_{17} + 0.05 Yb_{17} + 0.03 Ya_{18} + 0.05 Yb_{18} + 0.03 Ya_{19} + 0.05 Yb_{19} + 0.03 Ya_{20} + 0.05 Yb_{20} + 0.03 Ya_{21} + 0.05 Yb_{21} + 0.03 Ya_{22} + 0.05 Yb_{22} + 0.03 Ya_{23} + 0.05 Yb_{23} + 0.03 Ya_{24} + 0.05 Yb_{24} + 0.03 Ya_{25} + 0.05 Yb_{25} + 0.03 Ya_{26} + 0.05 Yb_{26} + 0.03 Ya_{27} + 0.05 Yb_{27} + 0.03 Ya_{28} + 0.05 Yb_{28} + 0.03 Ya_{29} + 0.05 Yb_{29} + 0.03 Ya_{30} + 0.05 Yb_{30} + 0.03 Ya_{31} + 0.05 Yb_{31} + 0.03 Ya_{32} + 0.05 Yb_{32} + 0.03 Ya_{33} + 0.05 Yb_{33} + 0.03 Ya_{34} + 0.05 Yb_{34} + 0.03 Ya_{35} + 0.05 Yb_{35} + 0.03 Ya_{36} + 0.05 Yb_{36} + 0.03 Ya_{37} + 0.05 Yb_{37} + 0.03 Ya_{38} + 0.05 Yb_{38} + 0.03 Ya_{39} + 0.05 Yb_{39} + 0.03 Ya_{40} + 0.05 Yb_{40} + 0.03 Ya_{41} + 0.05 Yb_{41} + 0.03 Ya_{42} + 0.05 Yb_{42} + 0.03 Ya_{43} + 0.05 Yb_{43} + 0.03 Ya_{44} + 0.05 Yb_{44} + 0.03 Ya_{45} + 0.05 Yb_{45} + 0.03 Ya_{46} + 0.05 Yb_{46} + 0.03 Ya_{47} + 0.05 Yb_{47} + 0.03 Ya_{48} + 0.05 Yb_{48} + 0.03 Ya_{49} + 0.05 Yb_{49} + 0.03 Ya_{50} + 0.05 Yb_{50} + 0.03 Ya_{51} + 0.05 Yb_{51} + 0.03 Ya_{52} + 0.05 Yb_{52} + 0.03 Ya_{53} + 0.05 Yb_{53} + 0.03 Ya_{54} + 0.05 Yb_{54} + 0.03 Ya_{55} + 0.05 Yb_{55} + 0.03 Ya_{56} + 0.05 Yb_{56} + 0.03 Ya_{57} + 0.05 Yb_{57} + 0.03 Ya_{58} + 0.05 Yb_{58} + 0.03 Ya_{59} + 0.05 Yb_{59} + 0.03 Ya_{60} + 0.05 Yb_{60} + 0.03 Ya_{61} + 0.05 Yb_{61} + 0.03 Ya_{62} + 0.05 Yb_{62} + 0.03 Ya_{63} + 0.05 Yb_{63} + 0.03 Ya_{64} + 0.05 Yb_{64} + 0.03 Ya_{65} + 0.05 Yb_{65} + 0.03 Ya_{66} + 0.05 Yb_{66} + 0.03 Ya_{67} + 0.05 Yb_{67} + 0.03 Ya_{68} + 0.05 Yb_{68} + 0.03 Ya_{69} + 0.05 Yb_{69} + 0.03 Ya_{70} + 0.05 Yb_{70} + 0.03 Ya_{71} + 0.05 Yb_{71} + 0.03 Ya_{72} + 0.05 Yb_{72} + 0.03 Ya_{73} + 0.05 Yb_{73} + 0.03 Ya_{74} + 0.05 Yb_{74} + 0.03 Ya_{75} + 0.05 Yb_{75} + 0.03 Ya_{76} + 0.05 Yb_{76} + 0.03 Ya_{77} + 0.05 Yb_{77} + 0.03 Ya_{78} + 0.05 Yb_{78} + 0.03 Ya_{79} + 0.05 Yb_{79} + 0.03 Ya_{80} + 0.05 Yb_{80} + 0.03 Ya_{81} + 0.05 Yb_{81} + 0.03 Ya_{82} + 0.05 Yb_{82} + 0.03 Ya_{83} + 0.05 Yb_{83} + 0.03 Ya_{84} + 0.05 Yb_{84} + 0.03 Ya_{85} + 0.05 Yb_{85} + 0.03 Ya_{86} + 0.05 Yb_{86} + 0.03 Ya_{87} + 0.05 Yb_{87} + 0.03 Ya_{88} + 0.05 Yb_{88} + 0.03 Ya_{89} + 0.05 Yb_{89} + 0.03 Ya_{90} + 0.05 Yb_{90} + 0.03 Ya_{91} + 0.05 Yb_{91} + 0.03 Ya_{92} + 0.05 Yb_{92} + 0.03 Ya_{93} + 0.05 Yb_{93} + 0.03 Ya_{94} + 0.05 Yb_{94} + 0.03 Ya_{95} + 0.05 Yb_{95} + 0.03 Ya_{96} + 0.05 Yb_{96} + 0.03 Ya_{97} + 0.05 Yb_{97} + 0.03 Ya_{98} + 0.05 Yb_{98} + 0.03 Ya_{99} + 0.05 Yb_{99} + 0.03 Ya_{100} + 0.05 Yb_{100} $$"
      ],
      "text/plain": [
       "-0.1 X1 - 0.5 X2 + 0.03 Ya[1] + 0.05 Yb[1] + 0.03 Ya[2] + 0.05 Yb[2] + 0.03 Ya[3] + 0.05 Yb[3] + 0.03 Ya[4] + 0.05 Yb[4] + 0.03 Ya[5] + 0.05 Yb[5] + 0.03 Ya[6] + 0.05 Yb[6] + 0.03 Ya[7] + 0.05 Yb[7] + 0.03 Ya[8] + 0.05 Yb[8] + 0.03 Ya[9] + 0.05 Yb[9] + 0.03 Ya[10] + 0.05 Yb[10] + 0.03 Ya[11] + 0.05 Yb[11] + 0.03 Ya[12] + 0.05 Yb[12] + 0.03 Ya[13] + 0.05 Yb[13] + 0.03 Ya[14] + 0.05 Yb[14] + 0.03 Ya[15] + 0.05 Yb[15] + 0.03 Ya[16] + 0.05 Yb[16] + 0.03 Ya[17] + 0.05 Yb[17] + 0.03 Ya[18] + 0.05 Yb[18] + 0.03 Ya[19] + 0.05 Yb[19] + 0.03 Ya[20] + 0.05 Yb[20] + 0.03 Ya[21] + 0.05 Yb[21] + 0.03 Ya[22] + 0.05 Yb[22] + 0.03 Ya[23] + 0.05 Yb[23] + 0.03 Ya[24] + 0.05 Yb[24] + 0.03 Ya[25] + 0.05 Yb[25] + 0.03 Ya[26] + 0.05 Yb[26] + 0.03 Ya[27] + 0.05 Yb[27] + 0.03 Ya[28] + 0.05 Yb[28] + 0.03 Ya[29] + 0.05 Yb[29] + 0.03 Ya[30] + 0.05 Yb[30] + 0.03 Ya[31] + 0.05 Yb[31] + 0.03 Ya[32] + 0.05 Yb[32] + 0.03 Ya[33] + 0.05 Yb[33] + 0.03 Ya[34] + 0.05 Yb[34] + 0.03 Ya[35] + 0.05 Yb[35] + 0.03 Ya[36] + 0.05 Yb[36] + 0.03 Ya[37] + 0.05 Yb[37] + 0.03 Ya[38] + 0.05 Yb[38] + 0.03 Ya[39] + 0.05 Yb[39] + 0.03 Ya[40] + 0.05 Yb[40] + 0.03 Ya[41] + 0.05 Yb[41] + 0.03 Ya[42] + 0.05 Yb[42] + 0.03 Ya[43] + 0.05 Yb[43] + 0.03 Ya[44] + 0.05 Yb[44] + 0.03 Ya[45] + 0.05 Yb[45] + 0.03 Ya[46] + 0.05 Yb[46] + 0.03 Ya[47] + 0.05 Yb[47] + 0.03 Ya[48] + 0.05 Yb[48] + 0.03 Ya[49] + 0.05 Yb[49] + 0.03 Ya[50] + 0.05 Yb[50] + 0.03 Ya[51] + 0.05 Yb[51] + 0.03 Ya[52] + 0.05 Yb[52] + 0.03 Ya[53] + 0.05 Yb[53] + 0.03 Ya[54] + 0.05 Yb[54] + 0.03 Ya[55] + 0.05 Yb[55] + 0.03 Ya[56] + 0.05 Yb[56] + 0.03 Ya[57] + 0.05 Yb[57] + 0.03 Ya[58] + 0.05 Yb[58] + 0.03 Ya[59] + 0.05 Yb[59] + 0.03 Ya[60] + 0.05 Yb[60] + 0.03 Ya[61] + 0.05 Yb[61] + 0.03 Ya[62] + 0.05 Yb[62] + 0.03 Ya[63] + 0.05 Yb[63] + 0.03 Ya[64] + 0.05 Yb[64] + 0.03 Ya[65] + 0.05 Yb[65] + 0.03 Ya[66] + 0.05 Yb[66] + 0.03 Ya[67] + 0.05 Yb[67] + 0.03 Ya[68] + 0.05 Yb[68] + 0.03 Ya[69] + 0.05 Yb[69] + 0.03 Ya[70] + 0.05 Yb[70] + 0.03 Ya[71] + 0.05 Yb[71] + 0.03 Ya[72] + 0.05 Yb[72] + 0.03 Ya[73] + 0.05 Yb[73] + 0.03 Ya[74] + 0.05 Yb[74] + 0.03 Ya[75] + 0.05 Yb[75] + 0.03 Ya[76] + 0.05 Yb[76] + 0.03 Ya[77] + 0.05 Yb[77] + 0.03 Ya[78] + 0.05 Yb[78] + 0.03 Ya[79] + 0.05 Yb[79] + 0.03 Ya[80] + 0.05 Yb[80] + 0.03 Ya[81] + 0.05 Yb[81] + 0.03 Ya[82] + 0.05 Yb[82] + 0.03 Ya[83] + 0.05 Yb[83] + 0.03 Ya[84] + 0.05 Yb[84] + 0.03 Ya[85] + 0.05 Yb[85] + 0.03 Ya[86] + 0.05 Yb[86] + 0.03 Ya[87] + 0.05 Yb[87] + 0.03 Ya[88] + 0.05 Yb[88] + 0.03 Ya[89] + 0.05 Yb[89] + 0.03 Ya[90] + 0.05 Yb[90] + 0.03 Ya[91] + 0.05 Yb[91] + 0.03 Ya[92] + 0.05 Yb[92] + 0.03 Ya[93] + 0.05 Yb[93] + 0.03 Ya[94] + 0.05 Yb[94] + 0.03 Ya[95] + 0.05 Yb[95] + 0.03 Ya[96] + 0.05 Yb[96] + 0.03 Ya[97] + 0.05 Yb[97] + 0.03 Ya[98] + 0.05 Yb[98] + 0.03 Ya[99] + 0.05 Yb[99] + 0.03 Ya[100] + 0.05 Yb[100]"
      ]
     },
     "execution_count": 39,
     "metadata": {},
     "output_type": "execute_result"
    }
   ],
   "source": [
    "@objective(model, Max, -0.1*X1 - 0.5*X2 + 1/N * sum((3*Ya[i] + 5*Yb[i]) for i in 1:N))"
   ]
  },
  {
   "cell_type": "code",
   "execution_count": 40,
   "id": "9aa743cb",
   "metadata": {},
   "outputs": [],
   "source": [
    "optimize!(model)"
   ]
  },
  {
   "cell_type": "code",
   "execution_count": 41,
   "id": "5b6917da",
   "metadata": {},
   "outputs": [
    {
     "name": "stdout",
     "output_type": "stream",
     "text": [
      "objective_value(model) = 39.91929260976148\n"
     ]
    },
    {
     "data": {
      "text/plain": [
       "39.91929260976148"
      ]
     },
     "execution_count": 41,
     "metadata": {},
     "output_type": "execute_result"
    }
   ],
   "source": [
    "# MPO\n",
    "@show objective_value(model)"
   ]
  },
  {
   "cell_type": "code",
   "execution_count": 42,
   "id": "e345c2ed",
   "metadata": {},
   "outputs": [
    {
     "name": "stdout",
     "output_type": "stream",
     "text": [
      "value(X1) = 181.18865016415307\n"
     ]
    },
    {
     "data": {
      "text/plain": [
       "181.18865016415307"
      ]
     },
     "execution_count": 42,
     "metadata": {},
     "output_type": "execute_result"
    }
   ],
   "source": [
    "@show value(X1)"
   ]
  },
  {
   "cell_type": "code",
   "execution_count": 43,
   "id": "83c74f6d",
   "metadata": {},
   "outputs": [
    {
     "name": "stdout",
     "output_type": "stream",
     "text": [
      "value(X2) = 18.811349835846926\n"
     ]
    },
    {
     "data": {
      "text/plain": [
       "18.811349835846926"
      ]
     },
     "execution_count": 43,
     "metadata": {},
     "output_type": "execute_result"
    }
   ],
   "source": [
    "@show value(X2)"
   ]
  },
  {
   "cell_type": "markdown",
   "id": "c03490cc",
   "metadata": {},
   "source": [
    "#### 1.3 Validation"
   ]
  },
  {
   "cell_type": "code",
   "execution_count": 44,
   "id": "4d7d879b",
   "metadata": {},
   "outputs": [
    {
     "data": {
      "text/plain": [
       "Variance F-test\n",
       "---------------\n",
       "Population details:\n",
       "    parameter of interest:   variance ratio\n",
       "    value under h_0:         1.0\n",
       "    point estimate:          0.6979\n",
       "\n",
       "Test summary:\n",
       "    outcome with 95% confidence: fail to reject h_0\n",
       "    two-sided p-value:           0.0751\n",
       "\n",
       "Details:\n",
       "    number of observations: [100, 100]\n",
       "    F statistic:            0.6978998517479204\n",
       "    degrees of freedom:     [99, 99]\n"
      ]
     },
     "execution_count": 44,
     "metadata": {},
     "output_type": "execute_result"
    }
   ],
   "source": [
    "VarianceFTest(error_train,error_test)\n",
    "# From the result of F-test, these two error variables are not from the same distribution"
   ]
  },
  {
   "cell_type": "code",
   "execution_count": 45,
   "id": "e7439528",
   "metadata": {},
   "outputs": [
    {
     "data": {
      "image/svg+xml": [
       "<?xml version=\"1.0\" encoding=\"utf-8\"?>\n",
       "<svg xmlns=\"http://www.w3.org/2000/svg\" xmlns:xlink=\"http://www.w3.org/1999/xlink\" width=\"600\" height=\"400\" viewBox=\"0 0 2400 1600\">\n",
       "<defs>\n",
       "  <clipPath id=\"clip080\">\n",
       "    <rect x=\"0\" y=\"0\" width=\"2400\" height=\"1600\"/>\n",
       "  </clipPath>\n",
       "</defs>\n",
       "<path clip-path=\"url(#clip080)\" d=\"\n",
       "M0 1600 L2400 1600 L2400 0 L0 0  Z\n",
       "  \" fill=\"#ffffff\" fill-rule=\"evenodd\" fill-opacity=\"1\"/>\n",
       "<defs>\n",
       "  <clipPath id=\"clip081\">\n",
       "    <rect x=\"480\" y=\"0\" width=\"1681\" height=\"1600\"/>\n",
       "  </clipPath>\n",
       "</defs>\n",
       "<path clip-path=\"url(#clip080)\" d=\"\n",
       "M202.227 1423.18 L2352.76 1423.18 L2352.76 123.472 L202.227 123.472  Z\n",
       "  \" fill=\"#ffffff\" fill-rule=\"evenodd\" fill-opacity=\"1\"/>\n",
       "<defs>\n",
       "  <clipPath id=\"clip082\">\n",
       "    <rect x=\"202\" y=\"123\" width=\"2152\" height=\"1301\"/>\n",
       "  </clipPath>\n",
       "</defs>\n",
       "<polyline clip-path=\"url(#clip082)\" style=\"stroke:#000000; stroke-linecap:butt; stroke-linejoin:round; stroke-width:2; stroke-opacity:0.1; fill:none\" points=\"\n",
       "  227.146,1423.18 227.146,123.472 \n",
       "  \"/>\n",
       "<polyline clip-path=\"url(#clip082)\" style=\"stroke:#000000; stroke-linecap:butt; stroke-linejoin:round; stroke-width:2; stroke-opacity:0.1; fill:none\" points=\"\n",
       "  693.966,1423.18 693.966,123.472 \n",
       "  \"/>\n",
       "<polyline clip-path=\"url(#clip082)\" style=\"stroke:#000000; stroke-linecap:butt; stroke-linejoin:round; stroke-width:2; stroke-opacity:0.1; fill:none\" points=\"\n",
       "  1160.79,1423.18 1160.79,123.472 \n",
       "  \"/>\n",
       "<polyline clip-path=\"url(#clip082)\" style=\"stroke:#000000; stroke-linecap:butt; stroke-linejoin:round; stroke-width:2; stroke-opacity:0.1; fill:none\" points=\"\n",
       "  1627.61,1423.18 1627.61,123.472 \n",
       "  \"/>\n",
       "<polyline clip-path=\"url(#clip082)\" style=\"stroke:#000000; stroke-linecap:butt; stroke-linejoin:round; stroke-width:2; stroke-opacity:0.1; fill:none\" points=\"\n",
       "  2094.43,1423.18 2094.43,123.472 \n",
       "  \"/>\n",
       "<polyline clip-path=\"url(#clip080)\" style=\"stroke:#000000; stroke-linecap:butt; stroke-linejoin:round; stroke-width:4; stroke-opacity:1; fill:none\" points=\"\n",
       "  202.227,1423.18 2352.76,1423.18 \n",
       "  \"/>\n",
       "<polyline clip-path=\"url(#clip080)\" style=\"stroke:#000000; stroke-linecap:butt; stroke-linejoin:round; stroke-width:4; stroke-opacity:1; fill:none\" points=\"\n",
       "  227.146,1423.18 227.146,1404.28 \n",
       "  \"/>\n",
       "<polyline clip-path=\"url(#clip080)\" style=\"stroke:#000000; stroke-linecap:butt; stroke-linejoin:round; stroke-width:4; stroke-opacity:1; fill:none\" points=\"\n",
       "  693.966,1423.18 693.966,1404.28 \n",
       "  \"/>\n",
       "<polyline clip-path=\"url(#clip080)\" style=\"stroke:#000000; stroke-linecap:butt; stroke-linejoin:round; stroke-width:4; stroke-opacity:1; fill:none\" points=\"\n",
       "  1160.79,1423.18 1160.79,1404.28 \n",
       "  \"/>\n",
       "<polyline clip-path=\"url(#clip080)\" style=\"stroke:#000000; stroke-linecap:butt; stroke-linejoin:round; stroke-width:4; stroke-opacity:1; fill:none\" points=\"\n",
       "  1627.61,1423.18 1627.61,1404.28 \n",
       "  \"/>\n",
       "<polyline clip-path=\"url(#clip080)\" style=\"stroke:#000000; stroke-linecap:butt; stroke-linejoin:round; stroke-width:4; stroke-opacity:1; fill:none\" points=\"\n",
       "  2094.43,1423.18 2094.43,1404.28 \n",
       "  \"/>\n",
       "<path clip-path=\"url(#clip080)\" d=\"M196.209 1468.75 L225.885 1468.75 L225.885 1472.69 L196.209 1472.69 L196.209 1468.75 Z\" fill=\"#000000\" fill-rule=\"evenodd\" fill-opacity=\"1\" /><path clip-path=\"url(#clip080)\" d=\"M246.556 1466.44 Q243.408 1466.44 241.556 1468.59 Q239.727 1470.74 239.727 1474.49 Q239.727 1478.22 241.556 1480.39 Q243.408 1482.55 246.556 1482.55 Q249.704 1482.55 251.533 1480.39 Q253.385 1478.22 253.385 1474.49 Q253.385 1470.74 251.533 1468.59 Q249.704 1466.44 246.556 1466.44 M255.838 1451.78 L255.838 1456.04 Q254.079 1455.21 252.274 1454.77 Q250.491 1454.33 248.732 1454.33 Q244.102 1454.33 241.649 1457.45 Q239.218 1460.58 238.871 1466.9 Q240.237 1464.89 242.297 1463.82 Q244.357 1462.73 246.834 1462.73 Q252.042 1462.73 255.051 1465.9 Q258.084 1469.05 258.084 1474.49 Q258.084 1479.82 254.936 1483.03 Q251.787 1486.25 246.556 1486.25 Q240.561 1486.25 237.389 1481.67 Q234.218 1477.06 234.218 1468.33 Q234.218 1460.14 238.107 1455.28 Q241.996 1450.39 248.547 1450.39 Q250.306 1450.39 252.088 1450.74 Q253.894 1451.09 255.838 1451.78 Z\" fill=\"#000000\" fill-rule=\"evenodd\" fill-opacity=\"1\" /><path clip-path=\"url(#clip080)\" d=\"M662.867 1468.75 L692.543 1468.75 L692.543 1472.69 L662.867 1472.69 L662.867 1468.75 Z\" fill=\"#000000\" fill-rule=\"evenodd\" fill-opacity=\"1\" /><path clip-path=\"url(#clip080)\" d=\"M715.483 1455.09 L703.677 1473.54 L715.483 1473.54 L715.483 1455.09 M714.256 1451.02 L720.135 1451.02 L720.135 1473.54 L725.066 1473.54 L725.066 1477.43 L720.135 1477.43 L720.135 1485.58 L715.483 1485.58 L715.483 1477.43 L699.881 1477.43 L699.881 1472.92 L714.256 1451.02 Z\" fill=\"#000000\" fill-rule=\"evenodd\" fill-opacity=\"1\" /><path clip-path=\"url(#clip080)\" d=\"M1130.73 1468.75 L1160.4 1468.75 L1160.4 1472.69 L1130.73 1472.69 L1130.73 1468.75 Z\" fill=\"#000000\" fill-rule=\"evenodd\" fill-opacity=\"1\" /><path clip-path=\"url(#clip080)\" d=\"M1174.53 1481.64 L1190.84 1481.64 L1190.84 1485.58 L1168.9 1485.58 L1168.9 1481.64 Q1171.56 1478.89 1176.15 1474.26 Q1180.75 1469.61 1181.93 1468.27 Q1184.18 1465.74 1185.06 1464.01 Q1185.96 1462.25 1185.96 1460.56 Q1185.96 1457.8 1184.02 1456.07 Q1182.09 1454.33 1178.99 1454.33 Q1176.79 1454.33 1174.34 1455.09 Q1171.91 1455.86 1169.13 1457.41 L1169.13 1452.69 Q1171.96 1451.55 1174.41 1450.97 Q1176.86 1450.39 1178.9 1450.39 Q1184.27 1450.39 1187.46 1453.08 Q1190.66 1455.77 1190.66 1460.26 Q1190.66 1462.39 1189.85 1464.31 Q1189.06 1466.2 1186.96 1468.8 Q1186.38 1469.47 1183.27 1472.69 Q1180.17 1475.88 1174.53 1481.64 Z\" fill=\"#000000\" fill-rule=\"evenodd\" fill-opacity=\"1\" /><path clip-path=\"url(#clip080)\" d=\"M1627.61 1454.1 Q1624 1454.1 1622.17 1457.66 Q1620.36 1461.2 1620.36 1468.33 Q1620.36 1475.44 1622.17 1479.01 Q1624 1482.55 1627.61 1482.55 Q1631.24 1482.55 1633.05 1479.01 Q1634.88 1475.44 1634.88 1468.33 Q1634.88 1461.2 1633.05 1457.66 Q1631.24 1454.1 1627.61 1454.1 M1627.61 1450.39 Q1633.42 1450.39 1636.47 1455 Q1639.55 1459.58 1639.55 1468.33 Q1639.55 1477.06 1636.47 1481.67 Q1633.42 1486.25 1627.61 1486.25 Q1621.8 1486.25 1618.72 1481.67 Q1615.66 1477.06 1615.66 1468.33 Q1615.66 1459.58 1618.72 1455 Q1621.8 1450.39 1627.61 1450.39 Z\" fill=\"#000000\" fill-rule=\"evenodd\" fill-opacity=\"1\" /><path clip-path=\"url(#clip080)\" d=\"M2089.08 1481.64 L2105.4 1481.64 L2105.4 1485.58 L2083.45 1485.58 L2083.45 1481.64 Q2086.12 1478.89 2090.7 1474.26 Q2095.31 1469.61 2096.49 1468.27 Q2098.73 1465.74 2099.61 1464.01 Q2100.51 1462.25 2100.51 1460.56 Q2100.51 1457.8 2098.57 1456.07 Q2096.65 1454.33 2093.55 1454.33 Q2091.35 1454.33 2088.89 1455.09 Q2086.46 1455.86 2083.69 1457.41 L2083.69 1452.69 Q2086.51 1451.55 2088.96 1450.97 Q2091.42 1450.39 2093.45 1450.39 Q2098.83 1450.39 2102.02 1453.08 Q2105.21 1455.77 2105.21 1460.26 Q2105.21 1462.39 2104.4 1464.31 Q2103.62 1466.2 2101.51 1468.8 Q2100.93 1469.47 2097.83 1472.69 Q2094.73 1475.88 2089.08 1481.64 Z\" fill=\"#000000\" fill-rule=\"evenodd\" fill-opacity=\"1\" /><path clip-path=\"url(#clip080)\" d=\"M1201.25 1520.52 L1231.29 1520.52 L1231.29 1525.93 L1207.68 1525.93 L1207.68 1540 L1230.31 1540 L1230.31 1545.41 L1207.68 1545.41 L1207.68 1562.63 L1231.87 1562.63 L1231.87 1568.04 L1201.25 1568.04 L1201.25 1520.52 Z\" fill=\"#000000\" fill-rule=\"evenodd\" fill-opacity=\"1\" /><path clip-path=\"url(#clip080)\" d=\"M1262.83 1537.87 Q1261.85 1537.3 1260.67 1537.04 Q1259.52 1536.76 1258.12 1536.76 Q1253.16 1536.76 1250.49 1540 Q1247.84 1543.22 1247.84 1549.27 L1247.84 1568.04 L1241.96 1568.04 L1241.96 1532.4 L1247.84 1532.4 L1247.84 1537.93 Q1249.69 1534.69 1252.65 1533.13 Q1255.61 1531.54 1259.84 1531.54 Q1260.45 1531.54 1261.18 1531.63 Q1261.91 1531.7 1262.8 1531.85 L1262.83 1537.87 Z\" fill=\"#000000\" fill-rule=\"evenodd\" fill-opacity=\"1\" /><path clip-path=\"url(#clip080)\" d=\"M1288.49 1537.87 Q1287.5 1537.3 1286.32 1537.04 Q1285.18 1536.76 1283.78 1536.76 Q1278.81 1536.76 1276.14 1540 Q1273.5 1543.22 1273.5 1549.27 L1273.5 1568.04 L1267.61 1568.04 L1267.61 1532.4 L1273.5 1532.4 L1273.5 1537.93 Q1275.34 1534.69 1278.3 1533.13 Q1281.26 1531.54 1285.5 1531.54 Q1286.1 1531.54 1286.83 1531.63 Q1287.57 1531.7 1288.46 1531.85 L1288.49 1537.87 Z\" fill=\"#000000\" fill-rule=\"evenodd\" fill-opacity=\"1\" /><path clip-path=\"url(#clip080)\" d=\"M1307.01 1536.5 Q1302.3 1536.5 1299.56 1540.19 Q1296.83 1543.85 1296.83 1550.25 Q1296.83 1556.65 1299.53 1560.34 Q1302.27 1564 1307.01 1564 Q1311.69 1564 1314.43 1560.31 Q1317.17 1556.62 1317.17 1550.25 Q1317.17 1543.92 1314.43 1540.23 Q1311.69 1536.5 1307.01 1536.5 M1307.01 1531.54 Q1314.65 1531.54 1319.01 1536.5 Q1323.37 1541.47 1323.37 1550.25 Q1323.37 1559 1319.01 1564 Q1314.65 1568.97 1307.01 1568.97 Q1299.34 1568.97 1294.98 1564 Q1290.65 1559 1290.65 1550.25 Q1290.65 1541.47 1294.98 1536.5 Q1299.34 1531.54 1307.01 1531.54 Z\" fill=\"#000000\" fill-rule=\"evenodd\" fill-opacity=\"1\" /><path clip-path=\"url(#clip080)\" d=\"M1353.74 1537.87 Q1352.75 1537.3 1351.57 1537.04 Q1350.43 1536.76 1349.03 1536.76 Q1344.06 1536.76 1341.39 1540 Q1338.75 1543.22 1338.75 1549.27 L1338.75 1568.04 L1332.86 1568.04 L1332.86 1532.4 L1338.75 1532.4 L1338.75 1537.93 Q1340.59 1534.69 1343.55 1533.13 Q1346.51 1531.54 1350.75 1531.54 Q1351.35 1531.54 1352.08 1531.63 Q1352.81 1531.7 1353.71 1531.85 L1353.74 1537.87 Z\" fill=\"#000000\" fill-rule=\"evenodd\" fill-opacity=\"1\" /><polyline clip-path=\"url(#clip082)\" style=\"stroke:#000000; stroke-linecap:butt; stroke-linejoin:round; stroke-width:2; stroke-opacity:0.1; fill:none\" points=\"\n",
       "  202.227,1386.4 2352.76,1386.4 \n",
       "  \"/>\n",
       "<polyline clip-path=\"url(#clip082)\" style=\"stroke:#000000; stroke-linecap:butt; stroke-linejoin:round; stroke-width:2; stroke-opacity:0.1; fill:none\" points=\"\n",
       "  202.227,977.683 2352.76,977.683 \n",
       "  \"/>\n",
       "<polyline clip-path=\"url(#clip082)\" style=\"stroke:#000000; stroke-linecap:butt; stroke-linejoin:round; stroke-width:2; stroke-opacity:0.1; fill:none\" points=\"\n",
       "  202.227,568.969 2352.76,568.969 \n",
       "  \"/>\n",
       "<polyline clip-path=\"url(#clip082)\" style=\"stroke:#000000; stroke-linecap:butt; stroke-linejoin:round; stroke-width:2; stroke-opacity:0.1; fill:none\" points=\"\n",
       "  202.227,160.256 2352.76,160.256 \n",
       "  \"/>\n",
       "<polyline clip-path=\"url(#clip080)\" style=\"stroke:#000000; stroke-linecap:butt; stroke-linejoin:round; stroke-width:4; stroke-opacity:1; fill:none\" points=\"\n",
       "  202.227,1423.18 202.227,123.472 \n",
       "  \"/>\n",
       "<polyline clip-path=\"url(#clip080)\" style=\"stroke:#000000; stroke-linecap:butt; stroke-linejoin:round; stroke-width:4; stroke-opacity:1; fill:none\" points=\"\n",
       "  202.227,1386.4 221.125,1386.4 \n",
       "  \"/>\n",
       "<polyline clip-path=\"url(#clip080)\" style=\"stroke:#000000; stroke-linecap:butt; stroke-linejoin:round; stroke-width:4; stroke-opacity:1; fill:none\" points=\"\n",
       "  202.227,977.683 221.125,977.683 \n",
       "  \"/>\n",
       "<polyline clip-path=\"url(#clip080)\" style=\"stroke:#000000; stroke-linecap:butt; stroke-linejoin:round; stroke-width:4; stroke-opacity:1; fill:none\" points=\"\n",
       "  202.227,568.969 221.125,568.969 \n",
       "  \"/>\n",
       "<polyline clip-path=\"url(#clip080)\" style=\"stroke:#000000; stroke-linecap:butt; stroke-linejoin:round; stroke-width:4; stroke-opacity:1; fill:none\" points=\"\n",
       "  202.227,160.256 221.125,160.256 \n",
       "  \"/>\n",
       "<path clip-path=\"url(#clip080)\" d=\"M154.283 1372.19 Q150.672 1372.19 148.843 1375.76 Q147.038 1379.3 147.038 1386.43 Q147.038 1393.54 148.843 1397.1 Q150.672 1400.64 154.283 1400.64 Q157.917 1400.64 159.723 1397.1 Q161.552 1393.54 161.552 1386.43 Q161.552 1379.3 159.723 1375.76 Q157.917 1372.19 154.283 1372.19 M154.283 1368.49 Q160.093 1368.49 163.149 1373.1 Q166.227 1377.68 166.227 1386.43 Q166.227 1395.16 163.149 1399.76 Q160.093 1404.35 154.283 1404.35 Q148.473 1404.35 145.394 1399.76 Q142.339 1395.16 142.339 1386.43 Q142.339 1377.68 145.394 1373.1 Q148.473 1368.49 154.283 1368.49 Z\" fill=\"#000000\" fill-rule=\"evenodd\" fill-opacity=\"1\" /><path clip-path=\"url(#clip080)\" d=\"M145.325 960.403 L163.681 960.403 L163.681 964.338 L149.607 964.338 L149.607 972.81 Q150.626 972.463 151.644 972.301 Q152.663 972.115 153.681 972.115 Q159.468 972.115 162.848 975.287 Q166.227 978.458 166.227 983.875 Q166.227 989.453 162.755 992.555 Q159.283 995.634 152.964 995.634 Q150.788 995.634 148.519 995.263 Q146.274 994.893 143.866 994.152 L143.866 989.453 Q145.95 990.588 148.172 991.143 Q150.394 991.699 152.871 991.699 Q156.876 991.699 159.214 989.592 Q161.552 987.486 161.552 983.875 Q161.552 980.264 159.214 978.157 Q156.876 976.051 152.871 976.051 Q150.996 976.051 149.121 976.467 Q147.269 976.884 145.325 977.764 L145.325 960.403 Z\" fill=\"#000000\" fill-rule=\"evenodd\" fill-opacity=\"1\" /><path clip-path=\"url(#clip080)\" d=\"M114.931 582.314 L122.57 582.314 L122.57 555.949 L114.26 557.615 L114.26 553.356 L122.524 551.689 L127.2 551.689 L127.2 582.314 L134.839 582.314 L134.839 586.249 L114.931 586.249 L114.931 582.314 Z\" fill=\"#000000\" fill-rule=\"evenodd\" fill-opacity=\"1\" /><path clip-path=\"url(#clip080)\" d=\"M154.283 554.768 Q150.672 554.768 148.843 558.333 Q147.038 561.875 147.038 569.004 Q147.038 576.111 148.843 579.675 Q150.672 583.217 154.283 583.217 Q157.917 583.217 159.723 579.675 Q161.552 576.111 161.552 569.004 Q161.552 561.875 159.723 558.333 Q157.917 554.768 154.283 554.768 M154.283 551.064 Q160.093 551.064 163.149 555.671 Q166.227 560.254 166.227 569.004 Q166.227 577.731 163.149 582.337 Q160.093 586.921 154.283 586.921 Q148.473 586.921 145.394 582.337 Q142.339 577.731 142.339 569.004 Q142.339 560.254 145.394 555.671 Q148.473 551.064 154.283 551.064 Z\" fill=\"#000000\" fill-rule=\"evenodd\" fill-opacity=\"1\" /><path clip-path=\"url(#clip080)\" d=\"M115.927 173.601 L123.566 173.601 L123.566 147.236 L115.256 148.902 L115.256 144.643 L123.519 142.976 L128.195 142.976 L128.195 173.601 L135.834 173.601 L135.834 177.536 L115.927 177.536 L115.927 173.601 Z\" fill=\"#000000\" fill-rule=\"evenodd\" fill-opacity=\"1\" /><path clip-path=\"url(#clip080)\" d=\"M145.325 142.976 L163.681 142.976 L163.681 146.911 L149.607 146.911 L149.607 155.384 Q150.626 155.036 151.644 154.874 Q152.663 154.689 153.681 154.689 Q159.468 154.689 162.848 157.86 Q166.227 161.032 166.227 166.448 Q166.227 172.027 162.755 175.129 Q159.283 178.208 152.964 178.208 Q150.788 178.208 148.519 177.837 Q146.274 177.467 143.866 176.726 L143.866 172.027 Q145.95 173.161 148.172 173.717 Q150.394 174.272 152.871 174.272 Q156.876 174.272 159.214 172.166 Q161.552 170.059 161.552 166.448 Q161.552 162.837 159.214 160.731 Q156.876 158.624 152.871 158.624 Q150.996 158.624 149.121 159.041 Q147.269 159.458 145.325 160.337 L145.325 142.976 Z\" fill=\"#000000\" fill-rule=\"evenodd\" fill-opacity=\"1\" /><path clip-path=\"url(#clip080)\" d=\"M16.4842 937.529 L16.4842 910.221 L21.895 910.221 L21.895 931.1 L35.8996 931.1 L35.8996 912.258 L41.3104 912.258 L41.3104 931.1 L64.0042 931.1 L64.0042 937.529 L16.4842 937.529 Z\" fill=\"#000000\" fill-rule=\"evenodd\" fill-opacity=\"1\" /><path clip-path=\"url(#clip080)\" d=\"M33.8307 884.376 Q33.2578 885.362 33.0032 886.54 Q32.7167 887.686 32.7167 889.086 Q32.7167 894.052 35.9632 896.725 Q39.1779 899.367 45.2253 899.367 L64.0042 899.367 L64.0042 905.255 L28.3562 905.255 L28.3562 899.367 L33.8944 899.367 Q30.6479 897.521 29.0883 894.561 Q27.4968 891.601 27.4968 887.368 Q27.4968 886.763 27.5923 886.031 Q27.656 885.299 27.8151 884.408 L33.8307 884.376 Z\" fill=\"#000000\" fill-rule=\"evenodd\" fill-opacity=\"1\" /><path clip-path=\"url(#clip080)\" d=\"M44.7161 849.173 L47.5806 849.173 L47.5806 876.1 Q53.6281 875.718 56.8109 872.472 Q59.9619 869.194 59.9619 863.369 Q59.9619 859.995 59.1344 856.844 Q58.3069 853.661 56.6518 850.542 L62.1899 850.542 Q63.5267 853.693 64.227 857.003 Q64.9272 860.313 64.9272 863.719 Q64.9272 872.249 59.9619 877.246 Q54.9967 882.211 46.5303 882.211 Q37.7774 882.211 32.6531 877.501 Q27.4968 872.758 27.4968 864.738 Q27.4968 857.544 32.1438 853.375 Q36.7589 849.173 44.7161 849.173 M42.9973 855.03 Q38.1912 855.093 35.3266 857.735 Q32.4621 860.345 32.4621 864.674 Q32.4621 869.575 35.2312 872.536 Q38.0002 875.464 43.0292 875.909 L42.9973 855.03 Z\" fill=\"#000000\" fill-rule=\"evenodd\" fill-opacity=\"1\" /><path clip-path=\"url(#clip080)\" d=\"M46.212 836.06 Q52.6732 836.06 56.3653 833.418 Q60.0256 830.745 60.0256 826.098 Q60.0256 821.451 56.3653 818.777 Q52.6732 816.104 46.212 816.104 Q39.7508 816.104 36.0905 818.777 Q32.3984 821.451 32.3984 826.098 Q32.3984 830.745 36.0905 833.418 Q39.7508 836.06 46.212 836.06 M58.657 816.104 Q61.8398 817.95 63.3994 820.782 Q64.9272 823.583 64.9272 827.53 Q64.9272 833.991 59.771 838.065 Q54.6147 842.107 46.212 842.107 Q37.8093 842.107 32.6531 838.065 Q27.4968 833.991 27.4968 827.53 Q27.4968 823.583 29.0564 820.782 Q30.5842 817.95 33.7671 816.104 L28.3562 816.104 L28.3562 810.247 L77.5631 810.247 L77.5631 816.104 L58.657 816.104 Z\" fill=\"#000000\" fill-rule=\"evenodd\" fill-opacity=\"1\" /><path clip-path=\"url(#clip080)\" d=\"M49.9359 798.789 L28.3562 798.789 L28.3562 792.932 L49.7131 792.932 Q54.7739 792.932 57.3202 790.959 Q59.8346 788.986 59.8346 785.039 Q59.8346 780.296 56.8109 777.559 Q53.7872 774.79 48.5673 774.79 L28.3562 774.79 L28.3562 768.934 L64.0042 768.934 L64.0042 774.79 L58.5296 774.79 Q61.7762 776.923 63.3676 779.755 Q64.9272 782.556 64.9272 786.28 Q64.9272 792.423 61.1078 795.606 Q57.2883 798.789 49.9359 798.789 M27.4968 784.052 L27.4968 784.052 Z\" fill=\"#000000\" fill-rule=\"evenodd\" fill-opacity=\"1\" /><path clip-path=\"url(#clip080)\" d=\"M44.7161 726.379 L47.5806 726.379 L47.5806 753.306 Q53.6281 752.924 56.8109 749.677 Q59.9619 746.399 59.9619 740.574 Q59.9619 737.201 59.1344 734.05 Q58.3069 730.867 56.6518 727.748 L62.1899 727.748 Q63.5267 730.899 64.227 734.209 Q64.9272 737.519 64.9272 740.925 Q64.9272 749.455 59.9619 754.452 Q54.9967 759.417 46.5303 759.417 Q37.7774 759.417 32.6531 754.706 Q27.4968 749.964 27.4968 741.943 Q27.4968 734.75 32.1438 730.58 Q36.7589 726.379 44.7161 726.379 M42.9973 732.235 Q38.1912 732.299 35.3266 734.941 Q32.4621 737.551 32.4621 741.879 Q32.4621 746.781 35.2312 749.741 Q38.0002 752.669 43.0292 753.115 L42.9973 732.235 Z\" fill=\"#000000\" fill-rule=\"evenodd\" fill-opacity=\"1\" /><path clip-path=\"url(#clip080)\" d=\"M42.4881 687.134 L64.0042 687.134 L64.0042 692.991 L42.679 692.991 Q37.6183 692.991 35.1038 694.964 Q32.5894 696.938 32.5894 700.884 Q32.5894 705.627 35.6131 708.364 Q38.6368 711.101 43.8567 711.101 L64.0042 711.101 L64.0042 716.989 L28.3562 716.989 L28.3562 711.101 L33.8944 711.101 Q30.6797 709.001 29.0883 706.168 Q27.4968 703.303 27.4968 699.579 Q27.4968 693.436 31.3163 690.285 Q35.1038 687.134 42.4881 687.134 Z\" fill=\"#000000\" fill-rule=\"evenodd\" fill-opacity=\"1\" /><path clip-path=\"url(#clip080)\" d=\"M29.7248 649.799 L35.1993 649.799 Q33.8307 652.282 33.1623 654.797 Q32.4621 657.279 32.4621 659.825 Q32.4621 665.523 36.0905 668.674 Q39.6872 671.825 46.212 671.825 Q52.7369 671.825 56.3653 668.674 Q59.9619 665.523 59.9619 659.825 Q59.9619 657.279 59.2935 654.797 Q58.5933 652.282 57.2247 649.799 L62.6355 649.799 Q63.7814 652.25 64.3543 654.892 Q64.9272 657.502 64.9272 660.462 Q64.9272 668.515 59.8664 673.257 Q54.8057 678 46.212 678 Q37.491 678 32.4939 673.225 Q27.4968 668.419 27.4968 660.08 Q27.4968 657.375 28.0697 654.797 Q28.6108 652.218 29.7248 649.799 Z\" fill=\"#000000\" fill-rule=\"evenodd\" fill-opacity=\"1\" /><path clip-path=\"url(#clip080)\" d=\"M67.3143 624.782 Q73.68 627.265 75.6216 629.62 Q77.5631 631.975 77.5631 635.922 L77.5631 640.601 L72.6615 640.601 L72.6615 637.164 Q72.6615 634.745 71.5157 633.408 Q70.3699 632.071 66.1048 630.448 L63.4312 629.397 L28.3562 643.816 L28.3562 637.609 L56.238 626.469 L28.3562 615.329 L28.3562 609.123 L67.3143 624.782 Z\" fill=\"#000000\" fill-rule=\"evenodd\" fill-opacity=\"1\" /><path clip-path=\"url(#clip080)\" d=\"M881.475 12.096 L932.638 12.096 L932.638 18.9825 L911.168 18.9825 L911.168 72.576 L902.945 72.576 L902.945 18.9825 L881.475 18.9825 L881.475 12.096 Z\" fill=\"#000000\" fill-rule=\"evenodd\" fill-opacity=\"1\" /><path clip-path=\"url(#clip080)\" d=\"M954.311 34.1734 Q953.055 33.4443 951.556 33.1202 Q950.098 32.7556 948.315 32.7556 Q941.996 32.7556 938.593 36.8875 Q935.231 40.9789 935.231 48.6757 L935.231 72.576 L927.737 72.576 L927.737 27.2059 L935.231 27.2059 L935.231 34.2544 Q937.58 30.1225 941.348 28.1376 Q945.115 26.1121 950.503 26.1121 Q951.272 26.1121 952.204 26.2337 Q953.136 26.3147 954.27 26.5172 L954.311 34.1734 Z\" fill=\"#000000\" fill-rule=\"evenodd\" fill-opacity=\"1\" /><path clip-path=\"url(#clip080)\" d=\"M982.748 49.7694 Q973.714 49.7694 970.231 51.8354 Q966.747 53.9013 966.747 58.8839 Q966.747 62.8538 969.339 65.2034 Q971.972 67.5124 976.469 67.5124 Q982.667 67.5124 986.394 63.1374 Q990.161 58.7219 990.161 51.4303 L990.161 49.7694 L982.748 49.7694 M997.615 46.6907 L997.615 72.576 L990.161 72.576 L990.161 65.6895 Q987.609 69.8214 983.801 71.8063 Q979.993 73.7508 974.484 73.7508 Q967.516 73.7508 963.385 69.8619 Q959.293 65.9325 959.293 59.3701 Q959.293 51.7138 964.397 47.825 Q969.542 43.9361 979.71 43.9361 L990.161 43.9361 L990.161 43.2069 Q990.161 38.0623 986.758 35.2672 Q983.396 32.4315 977.279 32.4315 Q973.39 32.4315 969.704 33.3632 Q966.018 34.295 962.615 36.1584 L962.615 29.2718 Q966.706 27.692 970.555 26.9223 Q974.403 26.1121 978.049 26.1121 Q987.893 26.1121 992.754 31.2163 Q997.615 36.3204 997.615 46.6907 Z\" fill=\"#000000\" fill-rule=\"evenodd\" fill-opacity=\"1\" /><path clip-path=\"url(#clip080)\" d=\"M1012.97 27.2059 L1020.42 27.2059 L1020.42 72.576 L1012.97 72.576 L1012.97 27.2059 M1012.97 9.54393 L1020.42 9.54393 L1020.42 18.9825 L1012.97 18.9825 L1012.97 9.54393 Z\" fill=\"#000000\" fill-rule=\"evenodd\" fill-opacity=\"1\" /><path clip-path=\"url(#clip080)\" d=\"M1073.73 45.1919 L1073.73 72.576 L1066.28 72.576 L1066.28 45.4349 Q1066.28 38.994 1063.77 35.7938 Q1061.25 32.5936 1056.23 32.5936 Q1050.2 32.5936 1046.71 36.4419 Q1043.23 40.2903 1043.23 46.9338 L1043.23 72.576 L1035.73 72.576 L1035.73 27.2059 L1043.23 27.2059 L1043.23 34.2544 Q1045.9 30.163 1049.51 28.1376 Q1053.15 26.1121 1057.89 26.1121 Q1065.71 26.1121 1069.72 30.9732 Q1073.73 35.7938 1073.73 45.1919 Z\" fill=\"#000000\" fill-rule=\"evenodd\" fill-opacity=\"1\" /><path clip-path=\"url(#clip080)\" d=\"M1115.29 12.096 L1153.53 12.096 L1153.53 18.9825 L1123.48 18.9825 L1123.48 36.8875 L1152.28 36.8875 L1152.28 43.7741 L1123.48 43.7741 L1123.48 65.6895 L1154.26 65.6895 L1154.26 72.576 L1115.29 72.576 L1115.29 12.096 Z\" fill=\"#000000\" fill-rule=\"evenodd\" fill-opacity=\"1\" /><path clip-path=\"url(#clip080)\" d=\"M1193.68 34.1734 Q1192.42 33.4443 1190.92 33.1202 Q1189.47 32.7556 1187.68 32.7556 Q1181.36 32.7556 1177.96 36.8875 Q1174.6 40.9789 1174.6 48.6757 L1174.6 72.576 L1167.1 72.576 L1167.1 27.2059 L1174.6 27.2059 L1174.6 34.2544 Q1176.95 30.1225 1180.72 28.1376 Q1184.48 26.1121 1189.87 26.1121 Q1190.64 26.1121 1191.57 26.2337 Q1192.5 26.3147 1193.64 26.5172 L1193.68 34.1734 Z\" fill=\"#000000\" fill-rule=\"evenodd\" fill-opacity=\"1\" /><path clip-path=\"url(#clip080)\" d=\"M1226.33 34.1734 Q1225.07 33.4443 1223.57 33.1202 Q1222.12 32.7556 1220.33 32.7556 Q1214.01 32.7556 1210.61 36.8875 Q1207.25 40.9789 1207.25 48.6757 L1207.25 72.576 L1199.75 72.576 L1199.75 27.2059 L1207.25 27.2059 L1207.25 34.2544 Q1209.6 30.1225 1213.37 28.1376 Q1217.13 26.1121 1222.52 26.1121 Q1223.29 26.1121 1224.22 26.2337 Q1225.15 26.3147 1226.29 26.5172 L1226.33 34.1734 Z\" fill=\"#000000\" fill-rule=\"evenodd\" fill-opacity=\"1\" /><path clip-path=\"url(#clip080)\" d=\"M1249.91 32.4315 Q1243.91 32.4315 1240.43 37.1306 Q1236.94 41.7891 1236.94 49.9314 Q1236.94 58.0738 1240.39 62.7728 Q1243.87 67.4314 1249.91 67.4314 Q1255.86 67.4314 1259.34 62.7323 Q1262.83 58.0333 1262.83 49.9314 Q1262.83 41.8701 1259.34 37.1711 Q1255.86 32.4315 1249.91 32.4315 M1249.91 26.1121 Q1259.63 26.1121 1265.18 32.4315 Q1270.73 38.7509 1270.73 49.9314 Q1270.73 61.0714 1265.18 67.4314 Q1259.63 73.7508 1249.91 73.7508 Q1240.14 73.7508 1234.59 67.4314 Q1229.08 61.0714 1229.08 49.9314 Q1229.08 38.7509 1234.59 32.4315 Q1240.14 26.1121 1249.91 26.1121 Z\" fill=\"#000000\" fill-rule=\"evenodd\" fill-opacity=\"1\" /><path clip-path=\"url(#clip080)\" d=\"M1309.37 34.1734 Q1308.12 33.4443 1306.62 33.1202 Q1305.16 32.7556 1303.38 32.7556 Q1297.06 32.7556 1293.65 36.8875 Q1290.29 40.9789 1290.29 48.6757 L1290.29 72.576 L1282.8 72.576 L1282.8 27.2059 L1290.29 27.2059 L1290.29 34.2544 Q1292.64 30.1225 1296.41 28.1376 Q1300.18 26.1121 1305.56 26.1121 Q1306.33 26.1121 1307.27 26.2337 Q1308.2 26.3147 1309.33 26.5172 L1309.37 34.1734 Z\" fill=\"#000000\" fill-rule=\"evenodd\" fill-opacity=\"1\" /><path clip-path=\"url(#clip080)\" d=\"M1364.1 20.1573 L1353 50.2555 L1375.24 50.2555 L1364.1 20.1573 M1359.48 12.096 L1368.76 12.096 L1391.81 72.576 L1383.3 72.576 L1377.79 57.061 L1350.53 57.061 L1345.02 72.576 L1336.39 72.576 L1359.48 12.096 Z\" fill=\"#000000\" fill-rule=\"evenodd\" fill-opacity=\"1\" /><path clip-path=\"url(#clip080)\" d=\"M1438.03 45.1919 L1438.03 72.576 L1430.58 72.576 L1430.58 45.4349 Q1430.58 38.994 1428.06 35.7938 Q1425.55 32.5936 1420.53 32.5936 Q1414.49 32.5936 1411.01 36.4419 Q1407.53 40.2903 1407.53 46.9338 L1407.53 72.576 L1400.03 72.576 L1400.03 27.2059 L1407.53 27.2059 L1407.53 34.2544 Q1410.2 30.163 1413.8 28.1376 Q1417.45 26.1121 1422.19 26.1121 Q1430.01 26.1121 1434.02 30.9732 Q1438.03 35.7938 1438.03 45.1919 Z\" fill=\"#000000\" fill-rule=\"evenodd\" fill-opacity=\"1\" /><path clip-path=\"url(#clip080)\" d=\"M1473.51 49.7694 Q1464.48 49.7694 1461 51.8354 Q1457.51 53.9013 1457.51 58.8839 Q1457.51 62.8538 1460.11 65.2034 Q1462.74 67.5124 1467.24 67.5124 Q1473.43 67.5124 1477.16 63.1374 Q1480.93 58.7219 1480.93 51.4303 L1480.93 49.7694 L1473.51 49.7694 M1488.38 46.6907 L1488.38 72.576 L1480.93 72.576 L1480.93 65.6895 Q1478.38 69.8214 1474.57 71.8063 Q1470.76 73.7508 1465.25 73.7508 Q1458.28 73.7508 1454.15 69.8619 Q1450.06 65.9325 1450.06 59.3701 Q1450.06 51.7138 1455.16 47.825 Q1460.31 43.9361 1470.48 43.9361 L1480.93 43.9361 L1480.93 43.2069 Q1480.93 38.0623 1477.53 35.2672 Q1474.16 32.4315 1468.05 32.4315 Q1464.16 32.4315 1460.47 33.3632 Q1456.78 34.295 1453.38 36.1584 L1453.38 29.2718 Q1457.47 27.692 1461.32 26.9223 Q1465.17 26.1121 1468.82 26.1121 Q1478.66 26.1121 1483.52 31.2163 Q1488.38 36.3204 1488.38 46.6907 Z\" fill=\"#000000\" fill-rule=\"evenodd\" fill-opacity=\"1\" /><path clip-path=\"url(#clip080)\" d=\"M1503.73 9.54393 L1511.19 9.54393 L1511.19 72.576 L1503.73 72.576 L1503.73 9.54393 Z\" fill=\"#000000\" fill-rule=\"evenodd\" fill-opacity=\"1\" /><path clip-path=\"url(#clip080)\" d=\"M1545.66 76.7889 Q1542.5 84.8907 1539.5 87.3618 Q1536.51 89.8329 1531.48 89.8329 L1525.53 89.8329 L1525.53 83.5945 L1529.9 83.5945 Q1532.98 83.5945 1534.68 82.1361 Q1536.38 80.6778 1538.45 75.2496 L1539.79 71.8468 L1521.44 27.2059 L1529.34 27.2059 L1543.51 62.6918 L1557.69 27.2059 L1565.59 27.2059 L1545.66 76.7889 Z\" fill=\"#000000\" fill-rule=\"evenodd\" fill-opacity=\"1\" /><path clip-path=\"url(#clip080)\" d=\"M1604.8 28.5427 L1604.8 35.5912 Q1601.65 33.9709 1598.24 33.1607 Q1594.84 32.3505 1591.19 32.3505 Q1585.64 32.3505 1582.85 34.0519 Q1580.09 35.7533 1580.09 39.156 Q1580.09 41.7486 1582.08 43.2475 Q1584.06 44.7058 1590.06 46.0426 L1592.61 46.6097 Q1600.55 48.3111 1603.87 51.4303 Q1607.24 54.509 1607.24 60.0587 Q1607.24 66.3781 1602.21 70.0644 Q1597.23 73.7508 1588.48 73.7508 Q1584.83 73.7508 1580.86 73.0216 Q1576.93 72.3329 1572.56 70.9151 L1572.56 63.2184 Q1576.69 65.3654 1580.7 66.4591 Q1584.71 67.5124 1588.64 67.5124 Q1593.91 67.5124 1596.74 65.73 Q1599.58 63.9071 1599.58 60.6258 Q1599.58 57.5877 1597.51 55.9673 Q1595.49 54.3469 1588.56 52.8481 L1585.97 52.2405 Q1579.04 50.7821 1575.96 47.7845 Q1572.88 44.7463 1572.88 39.4801 Q1572.88 33.0797 1577.42 29.5959 Q1581.96 26.1121 1590.3 26.1121 Q1594.43 26.1121 1598.08 26.7198 Q1601.73 27.3274 1604.8 28.5427 Z\" fill=\"#000000\" fill-rule=\"evenodd\" fill-opacity=\"1\" /><path clip-path=\"url(#clip080)\" d=\"M1619.1 27.2059 L1626.56 27.2059 L1626.56 72.576 L1619.1 72.576 L1619.1 27.2059 M1619.1 9.54393 L1626.56 9.54393 L1626.56 18.9825 L1619.1 18.9825 L1619.1 9.54393 Z\" fill=\"#000000\" fill-rule=\"evenodd\" fill-opacity=\"1\" /><path clip-path=\"url(#clip080)\" d=\"M1671.08 28.5427 L1671.08 35.5912 Q1667.92 33.9709 1664.52 33.1607 Q1661.11 32.3505 1657.47 32.3505 Q1651.92 32.3505 1649.12 34.0519 Q1646.37 35.7533 1646.37 39.156 Q1646.37 41.7486 1648.35 43.2475 Q1650.34 44.7058 1656.33 46.0426 L1658.88 46.6097 Q1666.82 48.3111 1670.15 51.4303 Q1673.51 54.509 1673.51 60.0587 Q1673.51 66.3781 1668.48 70.0644 Q1663.5 73.7508 1654.75 73.7508 Q1651.11 73.7508 1647.14 73.0216 Q1643.21 72.3329 1638.83 70.9151 L1638.83 63.2184 Q1642.96 65.3654 1646.97 66.4591 Q1650.99 67.5124 1654.91 67.5124 Q1660.18 67.5124 1663.02 65.73 Q1665.85 63.9071 1665.85 60.6258 Q1665.85 57.5877 1663.79 55.9673 Q1661.76 54.3469 1654.83 52.8481 L1652.24 52.2405 Q1645.31 50.7821 1642.24 47.7845 Q1639.16 44.7463 1639.16 39.4801 Q1639.16 33.0797 1643.69 29.5959 Q1648.23 26.1121 1656.58 26.1121 Q1660.71 26.1121 1664.35 26.7198 Q1668 27.3274 1671.08 28.5427 Z\" fill=\"#000000\" fill-rule=\"evenodd\" fill-opacity=\"1\" /><path clip-path=\"url(#clip082)\" d=\"\n",
       "M320.51 1304.65 L320.51 1386.4 L367.192 1386.4 L367.192 1304.65 L320.51 1304.65 L320.51 1304.65  Z\n",
       "  \" fill=\"#009af9\" fill-rule=\"evenodd\" fill-opacity=\"1\"/>\n",
       "<polyline clip-path=\"url(#clip082)\" style=\"stroke:#000000; stroke-linecap:butt; stroke-linejoin:round; stroke-width:4; stroke-opacity:1; fill:none\" points=\"\n",
       "  320.51,1304.65 320.51,1386.4 367.192,1386.4 367.192,1304.65 320.51,1304.65 \n",
       "  \"/>\n",
       "<path clip-path=\"url(#clip082)\" d=\"\n",
       "M367.192 1386.4 L367.192 1386.4 L413.874 1386.4 L413.874 1386.4 L367.192 1386.4 L367.192 1386.4  Z\n",
       "  \" fill=\"#009af9\" fill-rule=\"evenodd\" fill-opacity=\"1\"/>\n",
       "<polyline clip-path=\"url(#clip082)\" style=\"stroke:#000000; stroke-linecap:butt; stroke-linejoin:round; stroke-width:4; stroke-opacity:1; fill:none\" points=\"\n",
       "  367.192,1386.4 367.192,1386.4 413.874,1386.4 367.192,1386.4 \n",
       "  \"/>\n",
       "<path clip-path=\"url(#clip082)\" d=\"\n",
       "M413.874 1386.4 L413.874 1386.4 L460.556 1386.4 L460.556 1386.4 L413.874 1386.4 L413.874 1386.4  Z\n",
       "  \" fill=\"#009af9\" fill-rule=\"evenodd\" fill-opacity=\"1\"/>\n",
       "<polyline clip-path=\"url(#clip082)\" style=\"stroke:#000000; stroke-linecap:butt; stroke-linejoin:round; stroke-width:4; stroke-opacity:1; fill:none\" points=\"\n",
       "  413.874,1386.4 413.874,1386.4 460.556,1386.4 413.874,1386.4 \n",
       "  \"/>\n",
       "<path clip-path=\"url(#clip082)\" d=\"\n",
       "M460.556 1386.4 L460.556 1386.4 L507.238 1386.4 L507.238 1386.4 L460.556 1386.4 L460.556 1386.4  Z\n",
       "  \" fill=\"#009af9\" fill-rule=\"evenodd\" fill-opacity=\"1\"/>\n",
       "<polyline clip-path=\"url(#clip082)\" style=\"stroke:#000000; stroke-linecap:butt; stroke-linejoin:round; stroke-width:4; stroke-opacity:1; fill:none\" points=\"\n",
       "  460.556,1386.4 460.556,1386.4 507.238,1386.4 460.556,1386.4 \n",
       "  \"/>\n",
       "<path clip-path=\"url(#clip082)\" d=\"\n",
       "M507.238 1386.4 L507.238 1386.4 L553.92 1386.4 L553.92 1386.4 L507.238 1386.4 L507.238 1386.4  Z\n",
       "  \" fill=\"#009af9\" fill-rule=\"evenodd\" fill-opacity=\"1\"/>\n",
       "<polyline clip-path=\"url(#clip082)\" style=\"stroke:#000000; stroke-linecap:butt; stroke-linejoin:round; stroke-width:4; stroke-opacity:1; fill:none\" points=\"\n",
       "  507.238,1386.4 507.238,1386.4 553.92,1386.4 507.238,1386.4 \n",
       "  \"/>\n",
       "<path clip-path=\"url(#clip082)\" d=\"\n",
       "M553.92 1386.4 L553.92 1386.4 L600.602 1386.4 L600.602 1386.4 L553.92 1386.4 L553.92 1386.4  Z\n",
       "  \" fill=\"#009af9\" fill-rule=\"evenodd\" fill-opacity=\"1\"/>\n",
       "<polyline clip-path=\"url(#clip082)\" style=\"stroke:#000000; stroke-linecap:butt; stroke-linejoin:round; stroke-width:4; stroke-opacity:1; fill:none\" points=\"\n",
       "  553.92,1386.4 553.92,1386.4 600.602,1386.4 553.92,1386.4 \n",
       "  \"/>\n",
       "<path clip-path=\"url(#clip082)\" d=\"\n",
       "M600.602 1386.4 L600.602 1386.4 L647.284 1386.4 L647.284 1386.4 L600.602 1386.4 L600.602 1386.4  Z\n",
       "  \" fill=\"#009af9\" fill-rule=\"evenodd\" fill-opacity=\"1\"/>\n",
       "<polyline clip-path=\"url(#clip082)\" style=\"stroke:#000000; stroke-linecap:butt; stroke-linejoin:round; stroke-width:4; stroke-opacity:1; fill:none\" points=\"\n",
       "  600.602,1386.4 600.602,1386.4 647.284,1386.4 600.602,1386.4 \n",
       "  \"/>\n",
       "<path clip-path=\"url(#clip082)\" d=\"\n",
       "M647.284 1386.4 L647.284 1386.4 L693.966 1386.4 L693.966 1386.4 L647.284 1386.4 L647.284 1386.4  Z\n",
       "  \" fill=\"#009af9\" fill-rule=\"evenodd\" fill-opacity=\"1\"/>\n",
       "<polyline clip-path=\"url(#clip082)\" style=\"stroke:#000000; stroke-linecap:butt; stroke-linejoin:round; stroke-width:4; stroke-opacity:1; fill:none\" points=\"\n",
       "  647.284,1386.4 647.284,1386.4 693.966,1386.4 647.284,1386.4 \n",
       "  \"/>\n",
       "<path clip-path=\"url(#clip082)\" d=\"\n",
       "M693.966 1304.65 L693.966 1386.4 L740.649 1386.4 L740.649 1304.65 L693.966 1304.65 L693.966 1304.65  Z\n",
       "  \" fill=\"#009af9\" fill-rule=\"evenodd\" fill-opacity=\"1\"/>\n",
       "<polyline clip-path=\"url(#clip082)\" style=\"stroke:#000000; stroke-linecap:butt; stroke-linejoin:round; stroke-width:4; stroke-opacity:1; fill:none\" points=\"\n",
       "  693.966,1304.65 693.966,1386.4 740.649,1386.4 740.649,1304.65 693.966,1304.65 \n",
       "  \"/>\n",
       "<path clip-path=\"url(#clip082)\" d=\"\n",
       "M740.649 1386.4 L740.649 1386.4 L787.331 1386.4 L787.331 1386.4 L740.649 1386.4 L740.649 1386.4  Z\n",
       "  \" fill=\"#009af9\" fill-rule=\"evenodd\" fill-opacity=\"1\"/>\n",
       "<polyline clip-path=\"url(#clip082)\" style=\"stroke:#000000; stroke-linecap:butt; stroke-linejoin:round; stroke-width:4; stroke-opacity:1; fill:none\" points=\"\n",
       "  740.649,1386.4 740.649,1386.4 787.331,1386.4 740.649,1386.4 \n",
       "  \"/>\n",
       "<path clip-path=\"url(#clip082)\" d=\"\n",
       "M787.331 1304.65 L787.331 1386.4 L834.013 1386.4 L834.013 1304.65 L787.331 1304.65 L787.331 1304.65  Z\n",
       "  \" fill=\"#009af9\" fill-rule=\"evenodd\" fill-opacity=\"1\"/>\n",
       "<polyline clip-path=\"url(#clip082)\" style=\"stroke:#000000; stroke-linecap:butt; stroke-linejoin:round; stroke-width:4; stroke-opacity:1; fill:none\" points=\"\n",
       "  787.331,1304.65 787.331,1386.4 834.013,1386.4 834.013,1304.65 787.331,1304.65 \n",
       "  \"/>\n",
       "<path clip-path=\"url(#clip082)\" d=\"\n",
       "M834.013 1304.65 L834.013 1386.4 L880.695 1386.4 L880.695 1304.65 L834.013 1304.65 L834.013 1304.65  Z\n",
       "  \" fill=\"#009af9\" fill-rule=\"evenodd\" fill-opacity=\"1\"/>\n",
       "<polyline clip-path=\"url(#clip082)\" style=\"stroke:#000000; stroke-linecap:butt; stroke-linejoin:round; stroke-width:4; stroke-opacity:1; fill:none\" points=\"\n",
       "  834.013,1304.65 834.013,1386.4 880.695,1386.4 880.695,1304.65 834.013,1304.65 \n",
       "  \"/>\n",
       "<path clip-path=\"url(#clip082)\" d=\"\n",
       "M880.695 1222.91 L880.695 1386.4 L927.377 1386.4 L927.377 1222.91 L880.695 1222.91 L880.695 1222.91  Z\n",
       "  \" fill=\"#009af9\" fill-rule=\"evenodd\" fill-opacity=\"1\"/>\n",
       "<polyline clip-path=\"url(#clip082)\" style=\"stroke:#000000; stroke-linecap:butt; stroke-linejoin:round; stroke-width:4; stroke-opacity:1; fill:none\" points=\"\n",
       "  880.695,1222.91 880.695,1386.4 927.377,1386.4 927.377,1222.91 880.695,1222.91 \n",
       "  \"/>\n",
       "<path clip-path=\"url(#clip082)\" d=\"\n",
       "M927.377 1386.4 L927.377 1386.4 L974.059 1386.4 L974.059 1386.4 L927.377 1386.4 L927.377 1386.4  Z\n",
       "  \" fill=\"#009af9\" fill-rule=\"evenodd\" fill-opacity=\"1\"/>\n",
       "<polyline clip-path=\"url(#clip082)\" style=\"stroke:#000000; stroke-linecap:butt; stroke-linejoin:round; stroke-width:4; stroke-opacity:1; fill:none\" points=\"\n",
       "  927.377,1386.4 927.377,1386.4 974.059,1386.4 927.377,1386.4 \n",
       "  \"/>\n",
       "<path clip-path=\"url(#clip082)\" d=\"\n",
       "M974.059 1222.91 L974.059 1386.4 L1020.74 1386.4 L1020.74 1222.91 L974.059 1222.91 L974.059 1222.91  Z\n",
       "  \" fill=\"#009af9\" fill-rule=\"evenodd\" fill-opacity=\"1\"/>\n",
       "<polyline clip-path=\"url(#clip082)\" style=\"stroke:#000000; stroke-linecap:butt; stroke-linejoin:round; stroke-width:4; stroke-opacity:1; fill:none\" points=\"\n",
       "  974.059,1222.91 974.059,1386.4 1020.74,1386.4 1020.74,1222.91 974.059,1222.91 \n",
       "  \"/>\n",
       "<path clip-path=\"url(#clip082)\" d=\"\n",
       "M1020.74 1304.65 L1020.74 1386.4 L1067.42 1386.4 L1067.42 1304.65 L1020.74 1304.65 L1020.74 1304.65  Z\n",
       "  \" fill=\"#009af9\" fill-rule=\"evenodd\" fill-opacity=\"1\"/>\n",
       "<polyline clip-path=\"url(#clip082)\" style=\"stroke:#000000; stroke-linecap:butt; stroke-linejoin:round; stroke-width:4; stroke-opacity:1; fill:none\" points=\"\n",
       "  1020.74,1304.65 1020.74,1386.4 1067.42,1386.4 1067.42,1304.65 1020.74,1304.65 \n",
       "  \"/>\n",
       "<path clip-path=\"url(#clip082)\" d=\"\n",
       "M1067.42 1386.4 L1067.42 1386.4 L1114.1 1386.4 L1114.1 1386.4 L1067.42 1386.4 L1067.42 1386.4  Z\n",
       "  \" fill=\"#009af9\" fill-rule=\"evenodd\" fill-opacity=\"1\"/>\n",
       "<polyline clip-path=\"url(#clip082)\" style=\"stroke:#000000; stroke-linecap:butt; stroke-linejoin:round; stroke-width:4; stroke-opacity:1; fill:none\" points=\"\n",
       "  1067.42,1386.4 1067.42,1386.4 1114.1,1386.4 1067.42,1386.4 \n",
       "  \"/>\n",
       "<path clip-path=\"url(#clip082)\" d=\"\n",
       "M1114.1 1222.91 L1114.1 1386.4 L1160.79 1386.4 L1160.79 1222.91 L1114.1 1222.91 L1114.1 1222.91  Z\n",
       "  \" fill=\"#009af9\" fill-rule=\"evenodd\" fill-opacity=\"1\"/>\n",
       "<polyline clip-path=\"url(#clip082)\" style=\"stroke:#000000; stroke-linecap:butt; stroke-linejoin:round; stroke-width:4; stroke-opacity:1; fill:none\" points=\"\n",
       "  1114.1,1222.91 1114.1,1386.4 1160.79,1386.4 1160.79,1222.91 1114.1,1222.91 \n",
       "  \"/>\n",
       "<path clip-path=\"url(#clip082)\" d=\"\n",
       "M1160.79 1141.17 L1160.79 1386.4 L1207.47 1386.4 L1207.47 1141.17 L1160.79 1141.17 L1160.79 1141.17  Z\n",
       "  \" fill=\"#009af9\" fill-rule=\"evenodd\" fill-opacity=\"1\"/>\n",
       "<polyline clip-path=\"url(#clip082)\" style=\"stroke:#000000; stroke-linecap:butt; stroke-linejoin:round; stroke-width:4; stroke-opacity:1; fill:none\" points=\"\n",
       "  1160.79,1141.17 1160.79,1386.4 1207.47,1386.4 1207.47,1141.17 1160.79,1141.17 \n",
       "  \"/>\n",
       "<path clip-path=\"url(#clip082)\" d=\"\n",
       "M1207.47 1304.65 L1207.47 1386.4 L1254.15 1386.4 L1254.15 1304.65 L1207.47 1304.65 L1207.47 1304.65  Z\n",
       "  \" fill=\"#009af9\" fill-rule=\"evenodd\" fill-opacity=\"1\"/>\n",
       "<polyline clip-path=\"url(#clip082)\" style=\"stroke:#000000; stroke-linecap:butt; stroke-linejoin:round; stroke-width:4; stroke-opacity:1; fill:none\" points=\"\n",
       "  1207.47,1304.65 1207.47,1386.4 1254.15,1386.4 1254.15,1304.65 1207.47,1304.65 \n",
       "  \"/>\n",
       "<path clip-path=\"url(#clip082)\" d=\"\n",
       "M1254.15 1141.17 L1254.15 1386.4 L1300.83 1386.4 L1300.83 1141.17 L1254.15 1141.17 L1254.15 1141.17  Z\n",
       "  \" fill=\"#009af9\" fill-rule=\"evenodd\" fill-opacity=\"1\"/>\n",
       "<polyline clip-path=\"url(#clip082)\" style=\"stroke:#000000; stroke-linecap:butt; stroke-linejoin:round; stroke-width:4; stroke-opacity:1; fill:none\" points=\"\n",
       "  1254.15,1141.17 1254.15,1386.4 1300.83,1386.4 1300.83,1141.17 1254.15,1141.17 \n",
       "  \"/>\n",
       "<path clip-path=\"url(#clip082)\" d=\"\n",
       "M1300.83 1386.4 L1300.83 1386.4 L1347.51 1386.4 L1347.51 1386.4 L1300.83 1386.4 L1300.83 1386.4  Z\n",
       "  \" fill=\"#009af9\" fill-rule=\"evenodd\" fill-opacity=\"1\"/>\n",
       "<polyline clip-path=\"url(#clip082)\" style=\"stroke:#000000; stroke-linecap:butt; stroke-linejoin:round; stroke-width:4; stroke-opacity:1; fill:none\" points=\"\n",
       "  1300.83,1386.4 1300.83,1386.4 1347.51,1386.4 1300.83,1386.4 \n",
       "  \"/>\n",
       "<path clip-path=\"url(#clip082)\" d=\"\n",
       "M1347.51 1222.91 L1347.51 1386.4 L1394.2 1386.4 L1394.2 1222.91 L1347.51 1222.91 L1347.51 1222.91  Z\n",
       "  \" fill=\"#009af9\" fill-rule=\"evenodd\" fill-opacity=\"1\"/>\n",
       "<polyline clip-path=\"url(#clip082)\" style=\"stroke:#000000; stroke-linecap:butt; stroke-linejoin:round; stroke-width:4; stroke-opacity:1; fill:none\" points=\"\n",
       "  1347.51,1222.91 1347.51,1386.4 1394.2,1386.4 1394.2,1222.91 1347.51,1222.91 \n",
       "  \"/>\n",
       "<path clip-path=\"url(#clip082)\" d=\"\n",
       "M1394.2 895.94 L1394.2 1386.4 L1440.88 1386.4 L1440.88 895.94 L1394.2 895.94 L1394.2 895.94  Z\n",
       "  \" fill=\"#009af9\" fill-rule=\"evenodd\" fill-opacity=\"1\"/>\n",
       "<polyline clip-path=\"url(#clip082)\" style=\"stroke:#000000; stroke-linecap:butt; stroke-linejoin:round; stroke-width:4; stroke-opacity:1; fill:none\" points=\"\n",
       "  1394.2,895.94 1394.2,1386.4 1440.88,1386.4 1440.88,895.94 1394.2,895.94 \n",
       "  \"/>\n",
       "<path clip-path=\"url(#clip082)\" d=\"\n",
       "M1440.88 1222.91 L1440.88 1386.4 L1487.56 1386.4 L1487.56 1222.91 L1440.88 1222.91 L1440.88 1222.91  Z\n",
       "  \" fill=\"#009af9\" fill-rule=\"evenodd\" fill-opacity=\"1\"/>\n",
       "<polyline clip-path=\"url(#clip082)\" style=\"stroke:#000000; stroke-linecap:butt; stroke-linejoin:round; stroke-width:4; stroke-opacity:1; fill:none\" points=\"\n",
       "  1440.88,1222.91 1440.88,1386.4 1487.56,1386.4 1487.56,1222.91 1440.88,1222.91 \n",
       "  \"/>\n",
       "<path clip-path=\"url(#clip082)\" d=\"\n",
       "M1487.56 1304.65 L1487.56 1386.4 L1534.24 1386.4 L1534.24 1304.65 L1487.56 1304.65 L1487.56 1304.65  Z\n",
       "  \" fill=\"#009af9\" fill-rule=\"evenodd\" fill-opacity=\"1\"/>\n",
       "<polyline clip-path=\"url(#clip082)\" style=\"stroke:#000000; stroke-linecap:butt; stroke-linejoin:round; stroke-width:4; stroke-opacity:1; fill:none\" points=\"\n",
       "  1487.56,1304.65 1487.56,1386.4 1534.24,1386.4 1534.24,1304.65 1487.56,1304.65 \n",
       "  \"/>\n",
       "<path clip-path=\"url(#clip082)\" d=\"\n",
       "M1534.24 1059.43 L1534.24 1386.4 L1580.92 1386.4 L1580.92 1059.43 L1534.24 1059.43 L1534.24 1059.43  Z\n",
       "  \" fill=\"#009af9\" fill-rule=\"evenodd\" fill-opacity=\"1\"/>\n",
       "<polyline clip-path=\"url(#clip082)\" style=\"stroke:#000000; stroke-linecap:butt; stroke-linejoin:round; stroke-width:4; stroke-opacity:1; fill:none\" points=\"\n",
       "  1534.24,1059.43 1534.24,1386.4 1580.92,1386.4 1580.92,1059.43 1534.24,1059.43 \n",
       "  \"/>\n",
       "<path clip-path=\"url(#clip082)\" d=\"\n",
       "M1580.92 977.683 L1580.92 1386.4 L1627.61 1386.4 L1627.61 977.683 L1580.92 977.683 L1580.92 977.683  Z\n",
       "  \" fill=\"#009af9\" fill-rule=\"evenodd\" fill-opacity=\"1\"/>\n",
       "<polyline clip-path=\"url(#clip082)\" style=\"stroke:#000000; stroke-linecap:butt; stroke-linejoin:round; stroke-width:4; stroke-opacity:1; fill:none\" points=\"\n",
       "  1580.92,977.683 1580.92,1386.4 1627.61,1386.4 1627.61,977.683 1580.92,977.683 \n",
       "  \"/>\n",
       "<path clip-path=\"url(#clip082)\" d=\"\n",
       "M1627.61 977.683 L1627.61 1386.4 L1674.29 1386.4 L1674.29 977.683 L1627.61 977.683 L1627.61 977.683  Z\n",
       "  \" fill=\"#009af9\" fill-rule=\"evenodd\" fill-opacity=\"1\"/>\n",
       "<polyline clip-path=\"url(#clip082)\" style=\"stroke:#000000; stroke-linecap:butt; stroke-linejoin:round; stroke-width:4; stroke-opacity:1; fill:none\" points=\"\n",
       "  1627.61,977.683 1627.61,1386.4 1674.29,1386.4 1674.29,977.683 1627.61,977.683 \n",
       "  \"/>\n",
       "<path clip-path=\"url(#clip082)\" d=\"\n",
       "M1674.29 160.256 L1674.29 1386.4 L1720.97 1386.4 L1720.97 160.256 L1674.29 160.256 L1674.29 160.256  Z\n",
       "  \" fill=\"#009af9\" fill-rule=\"evenodd\" fill-opacity=\"1\"/>\n",
       "<polyline clip-path=\"url(#clip082)\" style=\"stroke:#000000; stroke-linecap:butt; stroke-linejoin:round; stroke-width:4; stroke-opacity:1; fill:none\" points=\"\n",
       "  1674.29,160.256 1674.29,1386.4 1720.97,1386.4 1720.97,160.256 1674.29,160.256 \n",
       "  \"/>\n",
       "<path clip-path=\"url(#clip082)\" d=\"\n",
       "M1720.97 650.712 L1720.97 1386.4 L1767.65 1386.4 L1767.65 650.712 L1720.97 650.712 L1720.97 650.712  Z\n",
       "  \" fill=\"#009af9\" fill-rule=\"evenodd\" fill-opacity=\"1\"/>\n",
       "<polyline clip-path=\"url(#clip082)\" style=\"stroke:#000000; stroke-linecap:butt; stroke-linejoin:round; stroke-width:4; stroke-opacity:1; fill:none\" points=\"\n",
       "  1720.97,650.712 1720.97,1386.4 1767.65,1386.4 1767.65,650.712 1720.97,650.712 \n",
       "  \"/>\n",
       "<path clip-path=\"url(#clip082)\" d=\"\n",
       "M1767.65 1222.91 L1767.65 1386.4 L1814.33 1386.4 L1814.33 1222.91 L1767.65 1222.91 L1767.65 1222.91  Z\n",
       "  \" fill=\"#009af9\" fill-rule=\"evenodd\" fill-opacity=\"1\"/>\n",
       "<polyline clip-path=\"url(#clip082)\" style=\"stroke:#000000; stroke-linecap:butt; stroke-linejoin:round; stroke-width:4; stroke-opacity:1; fill:none\" points=\"\n",
       "  1767.65,1222.91 1767.65,1386.4 1814.33,1386.4 1814.33,1222.91 1767.65,1222.91 \n",
       "  \"/>\n",
       "<path clip-path=\"url(#clip082)\" d=\"\n",
       "M1814.33 1059.43 L1814.33 1386.4 L1861.02 1386.4 L1861.02 1059.43 L1814.33 1059.43 L1814.33 1059.43  Z\n",
       "  \" fill=\"#009af9\" fill-rule=\"evenodd\" fill-opacity=\"1\"/>\n",
       "<polyline clip-path=\"url(#clip082)\" style=\"stroke:#000000; stroke-linecap:butt; stroke-linejoin:round; stroke-width:4; stroke-opacity:1; fill:none\" points=\"\n",
       "  1814.33,1059.43 1814.33,1386.4 1861.02,1386.4 1861.02,1059.43 1814.33,1059.43 \n",
       "  \"/>\n",
       "<path clip-path=\"url(#clip082)\" d=\"\n",
       "M1861.02 814.197 L1861.02 1386.4 L1907.7 1386.4 L1907.7 814.197 L1861.02 814.197 L1861.02 814.197  Z\n",
       "  \" fill=\"#009af9\" fill-rule=\"evenodd\" fill-opacity=\"1\"/>\n",
       "<polyline clip-path=\"url(#clip082)\" style=\"stroke:#000000; stroke-linecap:butt; stroke-linejoin:round; stroke-width:4; stroke-opacity:1; fill:none\" points=\"\n",
       "  1861.02,814.197 1861.02,1386.4 1907.7,1386.4 1907.7,814.197 1861.02,814.197 \n",
       "  \"/>\n",
       "<path clip-path=\"url(#clip082)\" d=\"\n",
       "M1907.7 1059.43 L1907.7 1386.4 L1954.38 1386.4 L1954.38 1059.43 L1907.7 1059.43 L1907.7 1059.43  Z\n",
       "  \" fill=\"#009af9\" fill-rule=\"evenodd\" fill-opacity=\"1\"/>\n",
       "<polyline clip-path=\"url(#clip082)\" style=\"stroke:#000000; stroke-linecap:butt; stroke-linejoin:round; stroke-width:4; stroke-opacity:1; fill:none\" points=\"\n",
       "  1907.7,1059.43 1907.7,1386.4 1954.38,1386.4 1954.38,1059.43 1907.7,1059.43 \n",
       "  \"/>\n",
       "<path clip-path=\"url(#clip082)\" d=\"\n",
       "M1954.38 1304.65 L1954.38 1386.4 L2001.06 1386.4 L2001.06 1304.65 L1954.38 1304.65 L1954.38 1304.65  Z\n",
       "  \" fill=\"#009af9\" fill-rule=\"evenodd\" fill-opacity=\"1\"/>\n",
       "<polyline clip-path=\"url(#clip082)\" style=\"stroke:#000000; stroke-linecap:butt; stroke-linejoin:round; stroke-width:4; stroke-opacity:1; fill:none\" points=\"\n",
       "  1954.38,1304.65 1954.38,1386.4 2001.06,1386.4 2001.06,1304.65 1954.38,1304.65 \n",
       "  \"/>\n",
       "<path clip-path=\"url(#clip082)\" d=\"\n",
       "M2001.06 977.683 L2001.06 1386.4 L2047.74 1386.4 L2047.74 977.683 L2001.06 977.683 L2001.06 977.683  Z\n",
       "  \" fill=\"#009af9\" fill-rule=\"evenodd\" fill-opacity=\"1\"/>\n",
       "<polyline clip-path=\"url(#clip082)\" style=\"stroke:#000000; stroke-linecap:butt; stroke-linejoin:round; stroke-width:4; stroke-opacity:1; fill:none\" points=\"\n",
       "  2001.06,977.683 2001.06,1386.4 2047.74,1386.4 2047.74,977.683 2001.06,977.683 \n",
       "  \"/>\n",
       "<path clip-path=\"url(#clip082)\" d=\"\n",
       "M2047.74 977.683 L2047.74 1386.4 L2094.43 1386.4 L2094.43 977.683 L2047.74 977.683 L2047.74 977.683  Z\n",
       "  \" fill=\"#009af9\" fill-rule=\"evenodd\" fill-opacity=\"1\"/>\n",
       "<polyline clip-path=\"url(#clip082)\" style=\"stroke:#000000; stroke-linecap:butt; stroke-linejoin:round; stroke-width:4; stroke-opacity:1; fill:none\" points=\"\n",
       "  2047.74,977.683 2047.74,1386.4 2094.43,1386.4 2094.43,977.683 2047.74,977.683 \n",
       "  \"/>\n",
       "<path clip-path=\"url(#clip082)\" d=\"\n",
       "M2094.43 1141.17 L2094.43 1386.4 L2141.11 1386.4 L2141.11 1141.17 L2094.43 1141.17 L2094.43 1141.17  Z\n",
       "  \" fill=\"#009af9\" fill-rule=\"evenodd\" fill-opacity=\"1\"/>\n",
       "<polyline clip-path=\"url(#clip082)\" style=\"stroke:#000000; stroke-linecap:butt; stroke-linejoin:round; stroke-width:4; stroke-opacity:1; fill:none\" points=\"\n",
       "  2094.43,1141.17 2094.43,1386.4 2141.11,1386.4 2141.11,1141.17 2094.43,1141.17 \n",
       "  \"/>\n",
       "<path clip-path=\"url(#clip082)\" d=\"\n",
       "M2141.11 1304.65 L2141.11 1386.4 L2187.79 1386.4 L2187.79 1304.65 L2141.11 1304.65 L2141.11 1304.65  Z\n",
       "  \" fill=\"#009af9\" fill-rule=\"evenodd\" fill-opacity=\"1\"/>\n",
       "<polyline clip-path=\"url(#clip082)\" style=\"stroke:#000000; stroke-linecap:butt; stroke-linejoin:round; stroke-width:4; stroke-opacity:1; fill:none\" points=\"\n",
       "  2141.11,1304.65 2141.11,1386.4 2187.79,1386.4 2187.79,1304.65 2141.11,1304.65 \n",
       "  \"/>\n",
       "<path clip-path=\"url(#clip082)\" d=\"\n",
       "M2187.79 1304.65 L2187.79 1386.4 L2234.47 1386.4 L2234.47 1304.65 L2187.79 1304.65 L2187.79 1304.65  Z\n",
       "  \" fill=\"#009af9\" fill-rule=\"evenodd\" fill-opacity=\"1\"/>\n",
       "<polyline clip-path=\"url(#clip082)\" style=\"stroke:#000000; stroke-linecap:butt; stroke-linejoin:round; stroke-width:4; stroke-opacity:1; fill:none\" points=\"\n",
       "  2187.79,1304.65 2187.79,1386.4 2234.47,1386.4 2234.47,1304.65 2187.79,1304.65 \n",
       "  \"/>\n",
       "<circle clip-path=\"url(#clip082)\" style=\"fill:#009af9; stroke:none; fill-opacity:0\" cx=\"343.851\" cy=\"1304.65\" r=\"2\"/>\n",
       "<circle clip-path=\"url(#clip082)\" style=\"fill:#009af9; stroke:none; fill-opacity:0\" cx=\"390.533\" cy=\"1386.4\" r=\"2\"/>\n",
       "<circle clip-path=\"url(#clip082)\" style=\"fill:#009af9; stroke:none; fill-opacity:0\" cx=\"437.215\" cy=\"1386.4\" r=\"2\"/>\n",
       "<circle clip-path=\"url(#clip082)\" style=\"fill:#009af9; stroke:none; fill-opacity:0\" cx=\"483.897\" cy=\"1386.4\" r=\"2\"/>\n",
       "<circle clip-path=\"url(#clip082)\" style=\"fill:#009af9; stroke:none; fill-opacity:0\" cx=\"530.579\" cy=\"1386.4\" r=\"2\"/>\n",
       "<circle clip-path=\"url(#clip082)\" style=\"fill:#009af9; stroke:none; fill-opacity:0\" cx=\"577.261\" cy=\"1386.4\" r=\"2\"/>\n",
       "<circle clip-path=\"url(#clip082)\" style=\"fill:#009af9; stroke:none; fill-opacity:0\" cx=\"623.943\" cy=\"1386.4\" r=\"2\"/>\n",
       "<circle clip-path=\"url(#clip082)\" style=\"fill:#009af9; stroke:none; fill-opacity:0\" cx=\"670.625\" cy=\"1386.4\" r=\"2\"/>\n",
       "<circle clip-path=\"url(#clip082)\" style=\"fill:#009af9; stroke:none; fill-opacity:0\" cx=\"717.307\" cy=\"1304.65\" r=\"2\"/>\n",
       "<circle clip-path=\"url(#clip082)\" style=\"fill:#009af9; stroke:none; fill-opacity:0\" cx=\"763.99\" cy=\"1386.4\" r=\"2\"/>\n",
       "<circle clip-path=\"url(#clip082)\" style=\"fill:#009af9; stroke:none; fill-opacity:0\" cx=\"810.672\" cy=\"1304.65\" r=\"2\"/>\n",
       "<circle clip-path=\"url(#clip082)\" style=\"fill:#009af9; stroke:none; fill-opacity:0\" cx=\"857.354\" cy=\"1304.65\" r=\"2\"/>\n",
       "<circle clip-path=\"url(#clip082)\" style=\"fill:#009af9; stroke:none; fill-opacity:0\" cx=\"904.036\" cy=\"1222.91\" r=\"2\"/>\n",
       "<circle clip-path=\"url(#clip082)\" style=\"fill:#009af9; stroke:none; fill-opacity:0\" cx=\"950.718\" cy=\"1386.4\" r=\"2\"/>\n",
       "<circle clip-path=\"url(#clip082)\" style=\"fill:#009af9; stroke:none; fill-opacity:0\" cx=\"997.4\" cy=\"1222.91\" r=\"2\"/>\n",
       "<circle clip-path=\"url(#clip082)\" style=\"fill:#009af9; stroke:none; fill-opacity:0\" cx=\"1044.08\" cy=\"1304.65\" r=\"2\"/>\n",
       "<circle clip-path=\"url(#clip082)\" style=\"fill:#009af9; stroke:none; fill-opacity:0\" cx=\"1090.76\" cy=\"1386.4\" r=\"2\"/>\n",
       "<circle clip-path=\"url(#clip082)\" style=\"fill:#009af9; stroke:none; fill-opacity:0\" cx=\"1137.45\" cy=\"1222.91\" r=\"2\"/>\n",
       "<circle clip-path=\"url(#clip082)\" style=\"fill:#009af9; stroke:none; fill-opacity:0\" cx=\"1184.13\" cy=\"1141.17\" r=\"2\"/>\n",
       "<circle clip-path=\"url(#clip082)\" style=\"fill:#009af9; stroke:none; fill-opacity:0\" cx=\"1230.81\" cy=\"1304.65\" r=\"2\"/>\n",
       "<circle clip-path=\"url(#clip082)\" style=\"fill:#009af9; stroke:none; fill-opacity:0\" cx=\"1277.49\" cy=\"1141.17\" r=\"2\"/>\n",
       "<circle clip-path=\"url(#clip082)\" style=\"fill:#009af9; stroke:none; fill-opacity:0\" cx=\"1324.17\" cy=\"1386.4\" r=\"2\"/>\n",
       "<circle clip-path=\"url(#clip082)\" style=\"fill:#009af9; stroke:none; fill-opacity:0\" cx=\"1370.86\" cy=\"1222.91\" r=\"2\"/>\n",
       "<circle clip-path=\"url(#clip082)\" style=\"fill:#009af9; stroke:none; fill-opacity:0\" cx=\"1417.54\" cy=\"895.94\" r=\"2\"/>\n",
       "<circle clip-path=\"url(#clip082)\" style=\"fill:#009af9; stroke:none; fill-opacity:0\" cx=\"1464.22\" cy=\"1222.91\" r=\"2\"/>\n",
       "<circle clip-path=\"url(#clip082)\" style=\"fill:#009af9; stroke:none; fill-opacity:0\" cx=\"1510.9\" cy=\"1304.65\" r=\"2\"/>\n",
       "<circle clip-path=\"url(#clip082)\" style=\"fill:#009af9; stroke:none; fill-opacity:0\" cx=\"1557.58\" cy=\"1059.43\" r=\"2\"/>\n",
       "<circle clip-path=\"url(#clip082)\" style=\"fill:#009af9; stroke:none; fill-opacity:0\" cx=\"1604.27\" cy=\"977.683\" r=\"2\"/>\n",
       "<circle clip-path=\"url(#clip082)\" style=\"fill:#009af9; stroke:none; fill-opacity:0\" cx=\"1650.95\" cy=\"977.683\" r=\"2\"/>\n",
       "<circle clip-path=\"url(#clip082)\" style=\"fill:#009af9; stroke:none; fill-opacity:0\" cx=\"1697.63\" cy=\"160.256\" r=\"2\"/>\n",
       "<circle clip-path=\"url(#clip082)\" style=\"fill:#009af9; stroke:none; fill-opacity:0\" cx=\"1744.31\" cy=\"650.712\" r=\"2\"/>\n",
       "<circle clip-path=\"url(#clip082)\" style=\"fill:#009af9; stroke:none; fill-opacity:0\" cx=\"1790.99\" cy=\"1222.91\" r=\"2\"/>\n",
       "<circle clip-path=\"url(#clip082)\" style=\"fill:#009af9; stroke:none; fill-opacity:0\" cx=\"1837.68\" cy=\"1059.43\" r=\"2\"/>\n",
       "<circle clip-path=\"url(#clip082)\" style=\"fill:#009af9; stroke:none; fill-opacity:0\" cx=\"1884.36\" cy=\"814.197\" r=\"2\"/>\n",
       "<circle clip-path=\"url(#clip082)\" style=\"fill:#009af9; stroke:none; fill-opacity:0\" cx=\"1931.04\" cy=\"1059.43\" r=\"2\"/>\n",
       "<circle clip-path=\"url(#clip082)\" style=\"fill:#009af9; stroke:none; fill-opacity:0\" cx=\"1977.72\" cy=\"1304.65\" r=\"2\"/>\n",
       "<circle clip-path=\"url(#clip082)\" style=\"fill:#009af9; stroke:none; fill-opacity:0\" cx=\"2024.4\" cy=\"977.683\" r=\"2\"/>\n",
       "<circle clip-path=\"url(#clip082)\" style=\"fill:#009af9; stroke:none; fill-opacity:0\" cx=\"2071.09\" cy=\"977.683\" r=\"2\"/>\n",
       "<circle clip-path=\"url(#clip082)\" style=\"fill:#009af9; stroke:none; fill-opacity:0\" cx=\"2117.77\" cy=\"1141.17\" r=\"2\"/>\n",
       "<circle clip-path=\"url(#clip082)\" style=\"fill:#009af9; stroke:none; fill-opacity:0\" cx=\"2164.45\" cy=\"1304.65\" r=\"2\"/>\n",
       "<circle clip-path=\"url(#clip082)\" style=\"fill:#009af9; stroke:none; fill-opacity:0\" cx=\"2211.13\" cy=\"1304.65\" r=\"2\"/>\n",
       "</svg>\n"
      ]
     },
     "execution_count": 45,
     "metadata": {},
     "output_type": "execute_result"
    }
   ],
   "source": [
    "histogram(error_train, bins = 50, title = \"Train Error Analysis\", ylabel = \"Frequency\", xlabel = \"Error\",legend = false)\n"
   ]
  },
  {
   "cell_type": "code",
   "execution_count": 46,
   "id": "52a37f47",
   "metadata": {},
   "outputs": [
    {
     "data": {
      "image/svg+xml": [
       "<?xml version=\"1.0\" encoding=\"utf-8\"?>\n",
       "<svg xmlns=\"http://www.w3.org/2000/svg\" xmlns:xlink=\"http://www.w3.org/1999/xlink\" width=\"600\" height=\"400\" viewBox=\"0 0 2400 1600\">\n",
       "<defs>\n",
       "  <clipPath id=\"clip120\">\n",
       "    <rect x=\"0\" y=\"0\" width=\"2400\" height=\"1600\"/>\n",
       "  </clipPath>\n",
       "</defs>\n",
       "<path clip-path=\"url(#clip120)\" d=\"\n",
       "M0 1600 L2400 1600 L2400 0 L0 0  Z\n",
       "  \" fill=\"#ffffff\" fill-rule=\"evenodd\" fill-opacity=\"1\"/>\n",
       "<defs>\n",
       "  <clipPath id=\"clip121\">\n",
       "    <rect x=\"480\" y=\"0\" width=\"1681\" height=\"1600\"/>\n",
       "  </clipPath>\n",
       "</defs>\n",
       "<path clip-path=\"url(#clip120)\" d=\"\n",
       "M247.459 1423.18 L2352.76 1423.18 L2352.76 123.472 L247.459 123.472  Z\n",
       "  \" fill=\"#ffffff\" fill-rule=\"evenodd\" fill-opacity=\"1\"/>\n",
       "<defs>\n",
       "  <clipPath id=\"clip122\">\n",
       "    <rect x=\"247\" y=\"123\" width=\"2106\" height=\"1301\"/>\n",
       "  </clipPath>\n",
       "</defs>\n",
       "<polyline clip-path=\"url(#clip122)\" style=\"stroke:#000000; stroke-linecap:butt; stroke-linejoin:round; stroke-width:2; stroke-opacity:0.1; fill:none\" points=\"\n",
       "  588.099,1423.18 588.099,123.472 \n",
       "  \"/>\n",
       "<polyline clip-path=\"url(#clip122)\" style=\"stroke:#000000; stroke-linecap:butt; stroke-linejoin:round; stroke-width:2; stroke-opacity:0.1; fill:none\" points=\"\n",
       "  962.84,1423.18 962.84,123.472 \n",
       "  \"/>\n",
       "<polyline clip-path=\"url(#clip122)\" style=\"stroke:#000000; stroke-linecap:butt; stroke-linejoin:round; stroke-width:2; stroke-opacity:0.1; fill:none\" points=\"\n",
       "  1337.58,1423.18 1337.58,123.472 \n",
       "  \"/>\n",
       "<polyline clip-path=\"url(#clip122)\" style=\"stroke:#000000; stroke-linecap:butt; stroke-linejoin:round; stroke-width:2; stroke-opacity:0.1; fill:none\" points=\"\n",
       "  1712.32,1423.18 1712.32,123.472 \n",
       "  \"/>\n",
       "<polyline clip-path=\"url(#clip122)\" style=\"stroke:#000000; stroke-linecap:butt; stroke-linejoin:round; stroke-width:2; stroke-opacity:0.1; fill:none\" points=\"\n",
       "  2087.06,1423.18 2087.06,123.472 \n",
       "  \"/>\n",
       "<polyline clip-path=\"url(#clip120)\" style=\"stroke:#000000; stroke-linecap:butt; stroke-linejoin:round; stroke-width:4; stroke-opacity:1; fill:none\" points=\"\n",
       "  247.459,1423.18 2352.76,1423.18 \n",
       "  \"/>\n",
       "<polyline clip-path=\"url(#clip120)\" style=\"stroke:#000000; stroke-linecap:butt; stroke-linejoin:round; stroke-width:4; stroke-opacity:1; fill:none\" points=\"\n",
       "  588.099,1423.18 588.099,1404.28 \n",
       "  \"/>\n",
       "<polyline clip-path=\"url(#clip120)\" style=\"stroke:#000000; stroke-linecap:butt; stroke-linejoin:round; stroke-width:4; stroke-opacity:1; fill:none\" points=\"\n",
       "  962.84,1423.18 962.84,1404.28 \n",
       "  \"/>\n",
       "<polyline clip-path=\"url(#clip120)\" style=\"stroke:#000000; stroke-linecap:butt; stroke-linejoin:round; stroke-width:4; stroke-opacity:1; fill:none\" points=\"\n",
       "  1337.58,1423.18 1337.58,1404.28 \n",
       "  \"/>\n",
       "<polyline clip-path=\"url(#clip120)\" style=\"stroke:#000000; stroke-linecap:butt; stroke-linejoin:round; stroke-width:4; stroke-opacity:1; fill:none\" points=\"\n",
       "  1712.32,1423.18 1712.32,1404.28 \n",
       "  \"/>\n",
       "<polyline clip-path=\"url(#clip120)\" style=\"stroke:#000000; stroke-linecap:butt; stroke-linejoin:round; stroke-width:4; stroke-opacity:1; fill:none\" points=\"\n",
       "  2087.06,1423.18 2087.06,1404.28 \n",
       "  \"/>\n",
       "<path clip-path=\"url(#clip120)\" d=\"M535.124 1468.75 L564.8 1468.75 L564.8 1472.69 L535.124 1472.69 L535.124 1468.75 Z\" fill=\"#000000\" fill-rule=\"evenodd\" fill-opacity=\"1\" /><path clip-path=\"url(#clip120)\" d=\"M573.712 1451.02 L595.934 1451.02 L595.934 1453.01 L583.388 1485.58 L578.504 1485.58 L590.309 1454.96 L573.712 1454.96 L573.712 1451.02 Z\" fill=\"#000000\" fill-rule=\"evenodd\" fill-opacity=\"1\" /><path clip-path=\"url(#clip120)\" d=\"M605.055 1479.7 L609.939 1479.7 L609.939 1485.58 L605.055 1485.58 L605.055 1479.7 Z\" fill=\"#000000\" fill-rule=\"evenodd\" fill-opacity=\"1\" /><path clip-path=\"url(#clip120)\" d=\"M620.17 1451.02 L638.527 1451.02 L638.527 1454.96 L624.453 1454.96 L624.453 1463.43 Q625.471 1463.08 626.49 1462.92 Q627.508 1462.73 628.527 1462.73 Q634.314 1462.73 637.693 1465.9 Q641.073 1469.08 641.073 1474.49 Q641.073 1480.07 637.601 1483.17 Q634.128 1486.25 627.809 1486.25 Q625.633 1486.25 623.365 1485.88 Q621.119 1485.51 618.712 1484.77 L618.712 1480.07 Q620.795 1481.2 623.017 1481.76 Q625.24 1482.32 627.716 1482.32 Q631.721 1482.32 634.059 1480.21 Q636.397 1478.1 636.397 1474.49 Q636.397 1470.88 634.059 1468.77 Q631.721 1466.67 627.716 1466.67 Q625.841 1466.67 623.967 1467.08 Q622.115 1467.5 620.17 1468.38 L620.17 1451.02 Z\" fill=\"#000000\" fill-rule=\"evenodd\" fill-opacity=\"1\" /><path clip-path=\"url(#clip120)\" d=\"M909.368 1468.75 L939.044 1468.75 L939.044 1472.69 L909.368 1472.69 L909.368 1468.75 Z\" fill=\"#000000\" fill-rule=\"evenodd\" fill-opacity=\"1\" /><path clip-path=\"url(#clip120)\" d=\"M949.183 1451.02 L967.539 1451.02 L967.539 1454.96 L953.465 1454.96 L953.465 1463.43 Q954.484 1463.08 955.502 1462.92 Q956.521 1462.73 957.539 1462.73 Q963.326 1462.73 966.706 1465.9 Q970.085 1469.08 970.085 1474.49 Q970.085 1480.07 966.613 1483.17 Q963.141 1486.25 956.822 1486.25 Q954.646 1486.25 952.377 1485.88 Q950.132 1485.51 947.724 1484.77 L947.724 1480.07 Q949.808 1481.2 952.03 1481.76 Q954.252 1482.32 956.729 1482.32 Q960.734 1482.32 963.072 1480.21 Q965.409 1478.1 965.409 1474.49 Q965.409 1470.88 963.072 1468.77 Q960.734 1466.67 956.729 1466.67 Q954.854 1466.67 952.979 1467.08 Q951.127 1467.5 949.183 1468.38 L949.183 1451.02 Z\" fill=\"#000000\" fill-rule=\"evenodd\" fill-opacity=\"1\" /><path clip-path=\"url(#clip120)\" d=\"M979.298 1479.7 L984.183 1479.7 L984.183 1485.58 L979.298 1485.58 L979.298 1479.7 Z\" fill=\"#000000\" fill-rule=\"evenodd\" fill-opacity=\"1\" /><path clip-path=\"url(#clip120)\" d=\"M1004.37 1454.1 Q1000.76 1454.1 998.928 1457.66 Q997.122 1461.2 997.122 1468.33 Q997.122 1475.44 998.928 1479.01 Q1000.76 1482.55 1004.37 1482.55 Q1008 1482.55 1009.81 1479.01 Q1011.64 1475.44 1011.64 1468.33 Q1011.64 1461.2 1009.81 1457.66 Q1008 1454.1 1004.37 1454.1 M1004.37 1450.39 Q1010.18 1450.39 1013.23 1455 Q1016.31 1459.58 1016.31 1468.33 Q1016.31 1477.06 1013.23 1481.67 Q1010.18 1486.25 1004.37 1486.25 Q998.557 1486.25 995.479 1481.67 Q992.423 1477.06 992.423 1468.33 Q992.423 1459.58 995.479 1455 Q998.557 1450.39 1004.37 1450.39 Z\" fill=\"#000000\" fill-rule=\"evenodd\" fill-opacity=\"1\" /><path clip-path=\"url(#clip120)\" d=\"M1284.61 1468.75 L1314.28 1468.75 L1314.28 1472.69 L1284.61 1472.69 L1284.61 1468.75 Z\" fill=\"#000000\" fill-rule=\"evenodd\" fill-opacity=\"1\" /><path clip-path=\"url(#clip120)\" d=\"M1328.4 1481.64 L1344.72 1481.64 L1344.72 1485.58 L1322.78 1485.58 L1322.78 1481.64 Q1325.44 1478.89 1330.02 1474.26 Q1334.63 1469.61 1335.81 1468.27 Q1338.06 1465.74 1338.94 1464.01 Q1339.84 1462.25 1339.84 1460.56 Q1339.84 1457.8 1337.89 1456.07 Q1335.97 1454.33 1332.87 1454.33 Q1330.67 1454.33 1328.22 1455.09 Q1325.79 1455.86 1323.01 1457.41 L1323.01 1452.69 Q1325.83 1451.55 1328.29 1450.97 Q1330.74 1450.39 1332.78 1450.39 Q1338.15 1450.39 1341.34 1453.08 Q1344.54 1455.77 1344.54 1460.26 Q1344.54 1462.39 1343.73 1464.31 Q1342.94 1466.2 1340.83 1468.8 Q1340.26 1469.47 1337.15 1472.69 Q1334.05 1475.88 1328.4 1481.64 Z\" fill=\"#000000\" fill-rule=\"evenodd\" fill-opacity=\"1\" /><path clip-path=\"url(#clip120)\" d=\"M1354.54 1479.7 L1359.42 1479.7 L1359.42 1485.58 L1354.54 1485.58 L1354.54 1479.7 Z\" fill=\"#000000\" fill-rule=\"evenodd\" fill-opacity=\"1\" /><path clip-path=\"url(#clip120)\" d=\"M1369.65 1451.02 L1388.01 1451.02 L1388.01 1454.96 L1373.94 1454.96 L1373.94 1463.43 Q1374.95 1463.08 1375.97 1462.92 Q1376.99 1462.73 1378.01 1462.73 Q1383.8 1462.73 1387.18 1465.9 Q1390.56 1469.08 1390.56 1474.49 Q1390.56 1480.07 1387.08 1483.17 Q1383.61 1486.25 1377.29 1486.25 Q1375.12 1486.25 1372.85 1485.88 Q1370.6 1485.51 1368.19 1484.77 L1368.19 1480.07 Q1370.28 1481.2 1372.5 1481.76 Q1374.72 1482.32 1377.2 1482.32 Q1381.2 1482.32 1383.54 1480.21 Q1385.88 1478.1 1385.88 1474.49 Q1385.88 1470.88 1383.54 1468.77 Q1381.2 1466.67 1377.2 1466.67 Q1375.32 1466.67 1373.45 1467.08 Q1371.6 1467.5 1369.65 1468.38 L1369.65 1451.02 Z\" fill=\"#000000\" fill-rule=\"evenodd\" fill-opacity=\"1\" /><path clip-path=\"url(#clip120)\" d=\"M1689.71 1454.1 Q1686.1 1454.1 1684.27 1457.66 Q1682.46 1461.2 1682.46 1468.33 Q1682.46 1475.44 1684.27 1479.01 Q1686.1 1482.55 1689.71 1482.55 Q1693.34 1482.55 1695.15 1479.01 Q1696.98 1475.44 1696.98 1468.33 Q1696.98 1461.2 1695.15 1457.66 Q1693.34 1454.1 1689.71 1454.1 M1689.71 1450.39 Q1695.52 1450.39 1698.57 1455 Q1701.65 1459.58 1701.65 1468.33 Q1701.65 1477.06 1698.57 1481.67 Q1695.52 1486.25 1689.71 1486.25 Q1683.9 1486.25 1680.82 1481.67 Q1677.76 1477.06 1677.76 1468.33 Q1677.76 1459.58 1680.82 1455 Q1683.9 1450.39 1689.71 1450.39 Z\" fill=\"#000000\" fill-rule=\"evenodd\" fill-opacity=\"1\" /><path clip-path=\"url(#clip120)\" d=\"M1709.87 1479.7 L1714.75 1479.7 L1714.75 1485.58 L1709.87 1485.58 L1709.87 1479.7 Z\" fill=\"#000000\" fill-rule=\"evenodd\" fill-opacity=\"1\" /><path clip-path=\"url(#clip120)\" d=\"M1734.94 1454.1 Q1731.33 1454.1 1729.5 1457.66 Q1727.69 1461.2 1727.69 1468.33 Q1727.69 1475.44 1729.5 1479.01 Q1731.33 1482.55 1734.94 1482.55 Q1738.57 1482.55 1740.38 1479.01 Q1742.21 1475.44 1742.21 1468.33 Q1742.21 1461.2 1740.38 1457.66 Q1738.57 1454.1 1734.94 1454.1 M1734.94 1450.39 Q1740.75 1450.39 1743.8 1455 Q1746.88 1459.58 1746.88 1468.33 Q1746.88 1477.06 1743.8 1481.67 Q1740.75 1486.25 1734.94 1486.25 Q1729.13 1486.25 1726.05 1481.67 Q1722.99 1477.06 1722.99 1468.33 Q1722.99 1459.58 1726.05 1455 Q1729.13 1450.39 1734.94 1450.39 Z\" fill=\"#000000\" fill-rule=\"evenodd\" fill-opacity=\"1\" /><path clip-path=\"url(#clip120)\" d=\"M2058.8 1481.64 L2075.12 1481.64 L2075.12 1485.58 L2053.18 1485.58 L2053.18 1481.64 Q2055.84 1478.89 2060.42 1474.26 Q2065.03 1469.61 2066.21 1468.27 Q2068.45 1465.74 2069.33 1464.01 Q2070.24 1462.25 2070.24 1460.56 Q2070.24 1457.8 2068.29 1456.07 Q2066.37 1454.33 2063.27 1454.33 Q2061.07 1454.33 2058.62 1455.09 Q2056.18 1455.86 2053.41 1457.41 L2053.41 1452.69 Q2056.23 1451.55 2058.68 1450.97 Q2061.14 1450.39 2063.18 1450.39 Q2068.55 1450.39 2071.74 1453.08 Q2074.93 1455.77 2074.93 1460.26 Q2074.93 1462.39 2074.12 1464.31 Q2073.34 1466.2 2071.23 1468.8 Q2070.65 1469.47 2067.55 1472.69 Q2064.45 1475.88 2058.8 1481.64 Z\" fill=\"#000000\" fill-rule=\"evenodd\" fill-opacity=\"1\" /><path clip-path=\"url(#clip120)\" d=\"M2084.93 1479.7 L2089.82 1479.7 L2089.82 1485.58 L2084.93 1485.58 L2084.93 1479.7 Z\" fill=\"#000000\" fill-rule=\"evenodd\" fill-opacity=\"1\" /><path clip-path=\"url(#clip120)\" d=\"M2100.05 1451.02 L2118.41 1451.02 L2118.41 1454.96 L2104.33 1454.96 L2104.33 1463.43 Q2105.35 1463.08 2106.37 1462.92 Q2107.39 1462.73 2108.41 1462.73 Q2114.19 1462.73 2117.57 1465.9 Q2120.95 1469.08 2120.95 1474.49 Q2120.95 1480.07 2117.48 1483.17 Q2114.01 1486.25 2107.69 1486.25 Q2105.51 1486.25 2103.24 1485.88 Q2101 1485.51 2098.59 1484.77 L2098.59 1480.07 Q2100.68 1481.2 2102.9 1481.76 Q2105.12 1482.32 2107.6 1482.32 Q2111.6 1482.32 2113.94 1480.21 Q2116.28 1478.1 2116.28 1474.49 Q2116.28 1470.88 2113.94 1468.77 Q2111.6 1466.67 2107.6 1466.67 Q2105.72 1466.67 2103.85 1467.08 Q2101.99 1467.5 2100.05 1468.38 L2100.05 1451.02 Z\" fill=\"#000000\" fill-rule=\"evenodd\" fill-opacity=\"1\" /><path clip-path=\"url(#clip120)\" d=\"M1223.86 1520.52 L1253.91 1520.52 L1253.91 1525.93 L1230.29 1525.93 L1230.29 1540 L1252.92 1540 L1252.92 1545.41 L1230.29 1545.41 L1230.29 1562.63 L1254.48 1562.63 L1254.48 1568.04 L1223.86 1568.04 L1223.86 1520.52 Z\" fill=\"#000000\" fill-rule=\"evenodd\" fill-opacity=\"1\" /><path clip-path=\"url(#clip120)\" d=\"M1285.45 1537.87 Q1284.46 1537.3 1283.29 1537.04 Q1282.14 1536.76 1280.74 1536.76 Q1275.77 1536.76 1273.1 1540 Q1270.46 1543.22 1270.46 1549.27 L1270.46 1568.04 L1264.57 1568.04 L1264.57 1532.4 L1270.46 1532.4 L1270.46 1537.93 Q1272.31 1534.69 1275.27 1533.13 Q1278.23 1531.54 1282.46 1531.54 Q1283.06 1531.54 1283.8 1531.63 Q1284.53 1531.7 1285.42 1531.85 L1285.45 1537.87 Z\" fill=\"#000000\" fill-rule=\"evenodd\" fill-opacity=\"1\" /><path clip-path=\"url(#clip120)\" d=\"M1311.1 1537.87 Q1310.12 1537.3 1308.94 1537.04 Q1307.79 1536.76 1306.39 1536.76 Q1301.43 1536.76 1298.75 1540 Q1296.11 1543.22 1296.11 1549.27 L1296.11 1568.04 L1290.22 1568.04 L1290.22 1532.4 L1296.11 1532.4 L1296.11 1537.93 Q1297.96 1534.69 1300.92 1533.13 Q1303.88 1531.54 1308.11 1531.54 Q1308.72 1531.54 1309.45 1531.63 Q1310.18 1531.7 1311.07 1531.85 L1311.1 1537.87 Z\" fill=\"#000000\" fill-rule=\"evenodd\" fill-opacity=\"1\" /><path clip-path=\"url(#clip120)\" d=\"M1329.63 1536.5 Q1324.92 1536.5 1322.18 1540.19 Q1319.44 1543.85 1319.44 1550.25 Q1319.44 1556.65 1322.15 1560.34 Q1324.89 1564 1329.63 1564 Q1334.31 1564 1337.04 1560.31 Q1339.78 1556.62 1339.78 1550.25 Q1339.78 1543.92 1337.04 1540.23 Q1334.31 1536.5 1329.63 1536.5 M1329.63 1531.54 Q1337.27 1531.54 1341.63 1536.5 Q1345.99 1541.47 1345.99 1550.25 Q1345.99 1559 1341.63 1564 Q1337.27 1568.97 1329.63 1568.97 Q1321.96 1568.97 1317.6 1564 Q1313.27 1559 1313.27 1550.25 Q1313.27 1541.47 1317.6 1536.5 Q1321.96 1531.54 1329.63 1531.54 Z\" fill=\"#000000\" fill-rule=\"evenodd\" fill-opacity=\"1\" /><path clip-path=\"url(#clip120)\" d=\"M1376.35 1537.87 Q1375.37 1537.3 1374.19 1537.04 Q1373.04 1536.76 1371.64 1536.76 Q1366.68 1536.76 1364 1540 Q1361.36 1543.22 1361.36 1549.27 L1361.36 1568.04 L1355.47 1568.04 L1355.47 1532.4 L1361.36 1532.4 L1361.36 1537.93 Q1363.21 1534.69 1366.17 1533.13 Q1369.13 1531.54 1373.36 1531.54 Q1373.97 1531.54 1374.7 1531.63 Q1375.43 1531.7 1376.32 1531.85 L1376.35 1537.87 Z\" fill=\"#000000\" fill-rule=\"evenodd\" fill-opacity=\"1\" /><polyline clip-path=\"url(#clip122)\" style=\"stroke:#000000; stroke-linecap:butt; stroke-linejoin:round; stroke-width:2; stroke-opacity:0.1; fill:none\" points=\"\n",
       "  247.459,1386.4 2352.76,1386.4 \n",
       "  \"/>\n",
       "<polyline clip-path=\"url(#clip122)\" style=\"stroke:#000000; stroke-linecap:butt; stroke-linejoin:round; stroke-width:2; stroke-opacity:0.1; fill:none\" points=\"\n",
       "  247.459,1167.44 2352.76,1167.44 \n",
       "  \"/>\n",
       "<polyline clip-path=\"url(#clip122)\" style=\"stroke:#000000; stroke-linecap:butt; stroke-linejoin:round; stroke-width:2; stroke-opacity:0.1; fill:none\" points=\"\n",
       "  247.459,948.489 2352.76,948.489 \n",
       "  \"/>\n",
       "<polyline clip-path=\"url(#clip122)\" style=\"stroke:#000000; stroke-linecap:butt; stroke-linejoin:round; stroke-width:2; stroke-opacity:0.1; fill:none\" points=\"\n",
       "  247.459,729.535 2352.76,729.535 \n",
       "  \"/>\n",
       "<polyline clip-path=\"url(#clip122)\" style=\"stroke:#000000; stroke-linecap:butt; stroke-linejoin:round; stroke-width:2; stroke-opacity:0.1; fill:none\" points=\"\n",
       "  247.459,510.582 2352.76,510.582 \n",
       "  \"/>\n",
       "<polyline clip-path=\"url(#clip122)\" style=\"stroke:#000000; stroke-linecap:butt; stroke-linejoin:round; stroke-width:2; stroke-opacity:0.1; fill:none\" points=\"\n",
       "  247.459,291.628 2352.76,291.628 \n",
       "  \"/>\n",
       "<polyline clip-path=\"url(#clip120)\" style=\"stroke:#000000; stroke-linecap:butt; stroke-linejoin:round; stroke-width:4; stroke-opacity:1; fill:none\" points=\"\n",
       "  247.459,1423.18 247.459,123.472 \n",
       "  \"/>\n",
       "<polyline clip-path=\"url(#clip120)\" style=\"stroke:#000000; stroke-linecap:butt; stroke-linejoin:round; stroke-width:4; stroke-opacity:1; fill:none\" points=\"\n",
       "  247.459,1386.4 266.356,1386.4 \n",
       "  \"/>\n",
       "<polyline clip-path=\"url(#clip120)\" style=\"stroke:#000000; stroke-linecap:butt; stroke-linejoin:round; stroke-width:4; stroke-opacity:1; fill:none\" points=\"\n",
       "  247.459,1167.44 266.356,1167.44 \n",
       "  \"/>\n",
       "<polyline clip-path=\"url(#clip120)\" style=\"stroke:#000000; stroke-linecap:butt; stroke-linejoin:round; stroke-width:4; stroke-opacity:1; fill:none\" points=\"\n",
       "  247.459,948.489 266.356,948.489 \n",
       "  \"/>\n",
       "<polyline clip-path=\"url(#clip120)\" style=\"stroke:#000000; stroke-linecap:butt; stroke-linejoin:round; stroke-width:4; stroke-opacity:1; fill:none\" points=\"\n",
       "  247.459,729.535 266.356,729.535 \n",
       "  \"/>\n",
       "<polyline clip-path=\"url(#clip120)\" style=\"stroke:#000000; stroke-linecap:butt; stroke-linejoin:round; stroke-width:4; stroke-opacity:1; fill:none\" points=\"\n",
       "  247.459,510.582 266.356,510.582 \n",
       "  \"/>\n",
       "<polyline clip-path=\"url(#clip120)\" style=\"stroke:#000000; stroke-linecap:butt; stroke-linejoin:round; stroke-width:4; stroke-opacity:1; fill:none\" points=\"\n",
       "  247.459,291.628 266.356,291.628 \n",
       "  \"/>\n",
       "<path clip-path=\"url(#clip120)\" d=\"M154.283 1372.19 Q150.672 1372.19 148.843 1375.76 Q147.038 1379.3 147.038 1386.43 Q147.038 1393.54 148.843 1397.1 Q150.672 1400.64 154.283 1400.64 Q157.917 1400.64 159.723 1397.1 Q161.552 1393.54 161.552 1386.43 Q161.552 1379.3 159.723 1375.76 Q157.917 1372.19 154.283 1372.19 M154.283 1368.49 Q160.093 1368.49 163.149 1373.1 Q166.227 1377.68 166.227 1386.43 Q166.227 1395.16 163.149 1399.76 Q160.093 1404.35 154.283 1404.35 Q148.473 1404.35 145.394 1399.76 Q142.339 1395.16 142.339 1386.43 Q142.339 1377.68 145.394 1373.1 Q148.473 1368.49 154.283 1368.49 Z\" fill=\"#000000\" fill-rule=\"evenodd\" fill-opacity=\"1\" /><path clip-path=\"url(#clip120)\" d=\"M174.445 1397.8 L179.329 1397.8 L179.329 1403.68 L174.445 1403.68 L174.445 1397.8 Z\" fill=\"#000000\" fill-rule=\"evenodd\" fill-opacity=\"1\" /><path clip-path=\"url(#clip120)\" d=\"M199.514 1372.19 Q195.903 1372.19 194.075 1375.76 Q192.269 1379.3 192.269 1386.43 Q192.269 1393.54 194.075 1397.1 Q195.903 1400.64 199.514 1400.64 Q203.149 1400.64 204.954 1397.1 Q206.783 1393.54 206.783 1386.43 Q206.783 1379.3 204.954 1375.76 Q203.149 1372.19 199.514 1372.19 M199.514 1368.49 Q205.324 1368.49 208.38 1373.1 Q211.459 1377.68 211.459 1386.43 Q211.459 1395.16 208.38 1399.76 Q205.324 1404.35 199.514 1404.35 Q193.704 1404.35 190.625 1399.76 Q187.57 1395.16 187.57 1386.43 Q187.57 1377.68 190.625 1373.1 Q193.704 1368.49 199.514 1368.49 Z\" fill=\"#000000\" fill-rule=\"evenodd\" fill-opacity=\"1\" /><path clip-path=\"url(#clip120)\" d=\"M149.306 1180.79 L165.626 1180.79 L165.626 1184.72 L143.681 1184.72 L143.681 1180.79 Q146.343 1178.03 150.927 1173.4 Q155.533 1168.75 156.714 1167.41 Q158.959 1164.88 159.839 1163.15 Q160.741 1161.39 160.741 1159.7 Q160.741 1156.94 158.797 1155.21 Q156.876 1153.47 153.774 1153.47 Q151.575 1153.47 149.121 1154.24 Q146.691 1155 143.913 1156.55 L143.913 1151.83 Q146.737 1150.69 149.191 1150.12 Q151.644 1149.54 153.681 1149.54 Q159.052 1149.54 162.246 1152.22 Q165.44 1154.91 165.44 1159.4 Q165.44 1161.53 164.63 1163.45 Q163.843 1165.35 161.737 1167.94 Q161.158 1168.61 158.056 1171.83 Q154.954 1175.02 149.306 1180.79 Z\" fill=\"#000000\" fill-rule=\"evenodd\" fill-opacity=\"1\" /><path clip-path=\"url(#clip120)\" d=\"M175.44 1178.84 L180.325 1178.84 L180.325 1184.72 L175.44 1184.72 L175.44 1178.84 Z\" fill=\"#000000\" fill-rule=\"evenodd\" fill-opacity=\"1\" /><path clip-path=\"url(#clip120)\" d=\"M190.556 1150.16 L208.912 1150.16 L208.912 1154.1 L194.838 1154.1 L194.838 1162.57 Q195.857 1162.22 196.875 1162.06 Q197.894 1161.88 198.912 1161.88 Q204.699 1161.88 208.079 1165.05 Q211.459 1168.22 211.459 1173.63 Q211.459 1179.21 207.987 1182.31 Q204.514 1185.39 198.195 1185.39 Q196.019 1185.39 193.75 1185.02 Q191.505 1184.65 189.098 1183.91 L189.098 1179.21 Q191.181 1180.35 193.403 1180.9 Q195.625 1181.46 198.102 1181.46 Q202.107 1181.46 204.445 1179.35 Q206.783 1177.25 206.783 1173.63 Q206.783 1170.02 204.445 1167.92 Q202.107 1165.81 198.102 1165.81 Q196.227 1165.81 194.352 1166.23 Q192.5 1166.64 190.556 1167.52 L190.556 1150.16 Z\" fill=\"#000000\" fill-rule=\"evenodd\" fill-opacity=\"1\" /><path clip-path=\"url(#clip120)\" d=\"M144.329 931.209 L162.686 931.209 L162.686 935.144 L148.612 935.144 L148.612 943.616 Q149.63 943.269 150.649 943.107 Q151.667 942.922 152.686 942.922 Q158.473 942.922 161.852 946.093 Q165.232 949.264 165.232 954.681 Q165.232 960.26 161.76 963.361 Q158.288 966.44 151.968 966.44 Q149.792 966.44 147.524 966.07 Q145.279 965.699 142.871 964.959 L142.871 960.26 Q144.954 961.394 147.177 961.949 Q149.399 962.505 151.876 962.505 Q155.88 962.505 158.218 960.398 Q160.556 958.292 160.556 954.681 Q160.556 951.07 158.218 948.963 Q155.88 946.857 151.876 946.857 Q150.001 946.857 148.126 947.273 Q146.274 947.69 144.329 948.57 L144.329 931.209 Z\" fill=\"#000000\" fill-rule=\"evenodd\" fill-opacity=\"1\" /><path clip-path=\"url(#clip120)\" d=\"M174.445 959.889 L179.329 959.889 L179.329 965.769 L174.445 965.769 L174.445 959.889 Z\" fill=\"#000000\" fill-rule=\"evenodd\" fill-opacity=\"1\" /><path clip-path=\"url(#clip120)\" d=\"M199.514 934.287 Q195.903 934.287 194.075 937.852 Q192.269 941.394 192.269 948.523 Q192.269 955.63 194.075 959.195 Q195.903 962.736 199.514 962.736 Q203.149 962.736 204.954 959.195 Q206.783 955.63 206.783 948.523 Q206.783 941.394 204.954 937.852 Q203.149 934.287 199.514 934.287 M199.514 930.584 Q205.324 930.584 208.38 935.19 Q211.459 939.774 211.459 948.523 Q211.459 957.25 208.38 961.857 Q205.324 966.44 199.514 966.44 Q193.704 966.44 190.625 961.857 Q187.57 957.25 187.57 948.523 Q187.57 939.774 190.625 935.19 Q193.704 930.584 199.514 930.584 Z\" fill=\"#000000\" fill-rule=\"evenodd\" fill-opacity=\"1\" /><path clip-path=\"url(#clip120)\" d=\"M144.098 712.255 L166.32 712.255 L166.32 714.246 L153.774 746.815 L148.89 746.815 L160.695 716.19 L144.098 716.19 L144.098 712.255 Z\" fill=\"#000000\" fill-rule=\"evenodd\" fill-opacity=\"1\" /><path clip-path=\"url(#clip120)\" d=\"M175.44 740.936 L180.325 740.936 L180.325 746.815 L175.44 746.815 L175.44 740.936 Z\" fill=\"#000000\" fill-rule=\"evenodd\" fill-opacity=\"1\" /><path clip-path=\"url(#clip120)\" d=\"M190.556 712.255 L208.912 712.255 L208.912 716.19 L194.838 716.19 L194.838 724.663 Q195.857 724.315 196.875 724.153 Q197.894 723.968 198.912 723.968 Q204.699 723.968 208.079 727.139 Q211.459 730.311 211.459 735.727 Q211.459 741.306 207.987 744.408 Q204.514 747.487 198.195 747.487 Q196.019 747.487 193.75 747.116 Q191.505 746.746 189.098 746.005 L189.098 741.306 Q191.181 742.44 193.403 742.996 Q195.625 743.551 198.102 743.551 Q202.107 743.551 204.445 741.445 Q206.783 739.338 206.783 735.727 Q206.783 732.116 204.445 730.01 Q202.107 727.903 198.102 727.903 Q196.227 727.903 194.352 728.32 Q192.5 728.737 190.556 729.616 L190.556 712.255 Z\" fill=\"#000000\" fill-rule=\"evenodd\" fill-opacity=\"1\" /><path clip-path=\"url(#clip120)\" d=\"M114.931 523.927 L122.57 523.927 L122.57 497.561 L114.26 499.228 L114.26 494.968 L122.524 493.302 L127.2 493.302 L127.2 523.927 L134.839 523.927 L134.839 527.862 L114.931 527.862 L114.931 523.927 Z\" fill=\"#000000\" fill-rule=\"evenodd\" fill-opacity=\"1\" /><path clip-path=\"url(#clip120)\" d=\"M154.283 496.381 Q150.672 496.381 148.843 499.945 Q147.038 503.487 147.038 510.617 Q147.038 517.723 148.843 521.288 Q150.672 524.829 154.283 524.829 Q157.917 524.829 159.723 521.288 Q161.552 517.723 161.552 510.617 Q161.552 503.487 159.723 499.945 Q157.917 496.381 154.283 496.381 M154.283 492.677 Q160.093 492.677 163.149 497.283 Q166.227 501.867 166.227 510.617 Q166.227 519.343 163.149 523.95 Q160.093 528.533 154.283 528.533 Q148.473 528.533 145.394 523.95 Q142.339 519.343 142.339 510.617 Q142.339 501.867 145.394 497.283 Q148.473 492.677 154.283 492.677 Z\" fill=\"#000000\" fill-rule=\"evenodd\" fill-opacity=\"1\" /><path clip-path=\"url(#clip120)\" d=\"M174.445 521.982 L179.329 521.982 L179.329 527.862 L174.445 527.862 L174.445 521.982 Z\" fill=\"#000000\" fill-rule=\"evenodd\" fill-opacity=\"1\" /><path clip-path=\"url(#clip120)\" d=\"M199.514 496.381 Q195.903 496.381 194.075 499.945 Q192.269 503.487 192.269 510.617 Q192.269 517.723 194.075 521.288 Q195.903 524.829 199.514 524.829 Q203.149 524.829 204.954 521.288 Q206.783 517.723 206.783 510.617 Q206.783 503.487 204.954 499.945 Q203.149 496.381 199.514 496.381 M199.514 492.677 Q205.324 492.677 208.38 497.283 Q211.459 501.867 211.459 510.617 Q211.459 519.343 208.38 523.95 Q205.324 528.533 199.514 528.533 Q193.704 528.533 190.625 523.95 Q187.57 519.343 187.57 510.617 Q187.57 501.867 190.625 497.283 Q193.704 492.677 199.514 492.677 Z\" fill=\"#000000\" fill-rule=\"evenodd\" fill-opacity=\"1\" /><path clip-path=\"url(#clip120)\" d=\"M115.927 304.973 L123.566 304.973 L123.566 278.608 L115.256 280.274 L115.256 276.015 L123.519 274.348 L128.195 274.348 L128.195 304.973 L135.834 304.973 L135.834 308.908 L115.927 308.908 L115.927 304.973 Z\" fill=\"#000000\" fill-rule=\"evenodd\" fill-opacity=\"1\" /><path clip-path=\"url(#clip120)\" d=\"M149.306 304.973 L165.626 304.973 L165.626 308.908 L143.681 308.908 L143.681 304.973 Q146.343 302.219 150.927 297.589 Q155.533 292.936 156.714 291.594 Q158.959 289.071 159.839 287.334 Q160.741 285.575 160.741 283.885 Q160.741 281.131 158.797 279.395 Q156.876 277.659 153.774 277.659 Q151.575 277.659 149.121 278.422 Q146.691 279.186 143.913 280.737 L143.913 276.015 Q146.737 274.881 149.191 274.302 Q151.644 273.723 153.681 273.723 Q159.052 273.723 162.246 276.409 Q165.44 279.094 165.44 283.584 Q165.44 285.714 164.63 287.635 Q163.843 289.533 161.737 292.126 Q161.158 292.797 158.056 296.015 Q154.954 299.209 149.306 304.973 Z\" fill=\"#000000\" fill-rule=\"evenodd\" fill-opacity=\"1\" /><path clip-path=\"url(#clip120)\" d=\"M175.44 303.029 L180.325 303.029 L180.325 308.908 L175.44 308.908 L175.44 303.029 Z\" fill=\"#000000\" fill-rule=\"evenodd\" fill-opacity=\"1\" /><path clip-path=\"url(#clip120)\" d=\"M190.556 274.348 L208.912 274.348 L208.912 278.284 L194.838 278.284 L194.838 286.756 Q195.857 286.409 196.875 286.246 Q197.894 286.061 198.912 286.061 Q204.699 286.061 208.079 289.233 Q211.459 292.404 211.459 297.82 Q211.459 303.399 207.987 306.501 Q204.514 309.58 198.195 309.58 Q196.019 309.58 193.75 309.209 Q191.505 308.839 189.098 308.098 L189.098 303.399 Q191.181 304.533 193.403 305.089 Q195.625 305.645 198.102 305.645 Q202.107 305.645 204.445 303.538 Q206.783 301.432 206.783 297.82 Q206.783 294.209 204.445 292.103 Q202.107 289.996 198.102 289.996 Q196.227 289.996 194.352 290.413 Q192.5 290.83 190.556 291.709 L190.556 274.348 Z\" fill=\"#000000\" fill-rule=\"evenodd\" fill-opacity=\"1\" /><path clip-path=\"url(#clip120)\" d=\"M16.4842 937.529 L16.4842 910.221 L21.895 910.221 L21.895 931.1 L35.8996 931.1 L35.8996 912.258 L41.3104 912.258 L41.3104 931.1 L64.0042 931.1 L64.0042 937.529 L16.4842 937.529 Z\" fill=\"#000000\" fill-rule=\"evenodd\" fill-opacity=\"1\" /><path clip-path=\"url(#clip120)\" d=\"M33.8307 884.376 Q33.2578 885.362 33.0032 886.54 Q32.7167 887.686 32.7167 889.086 Q32.7167 894.052 35.9632 896.725 Q39.1779 899.367 45.2253 899.367 L64.0042 899.367 L64.0042 905.255 L28.3562 905.255 L28.3562 899.367 L33.8944 899.367 Q30.6479 897.521 29.0883 894.561 Q27.4968 891.601 27.4968 887.368 Q27.4968 886.763 27.5923 886.031 Q27.656 885.299 27.8151 884.408 L33.8307 884.376 Z\" fill=\"#000000\" fill-rule=\"evenodd\" fill-opacity=\"1\" /><path clip-path=\"url(#clip120)\" d=\"M44.7161 849.173 L47.5806 849.173 L47.5806 876.1 Q53.6281 875.718 56.8109 872.472 Q59.9619 869.194 59.9619 863.369 Q59.9619 859.995 59.1344 856.844 Q58.3069 853.661 56.6518 850.542 L62.1899 850.542 Q63.5267 853.693 64.227 857.003 Q64.9272 860.313 64.9272 863.719 Q64.9272 872.249 59.9619 877.246 Q54.9967 882.211 46.5303 882.211 Q37.7774 882.211 32.6531 877.501 Q27.4968 872.758 27.4968 864.738 Q27.4968 857.544 32.1438 853.375 Q36.7589 849.173 44.7161 849.173 M42.9973 855.03 Q38.1912 855.093 35.3266 857.735 Q32.4621 860.345 32.4621 864.674 Q32.4621 869.575 35.2312 872.536 Q38.0002 875.464 43.0292 875.909 L42.9973 855.03 Z\" fill=\"#000000\" fill-rule=\"evenodd\" fill-opacity=\"1\" /><path clip-path=\"url(#clip120)\" d=\"M46.212 836.06 Q52.6732 836.06 56.3653 833.418 Q60.0256 830.745 60.0256 826.098 Q60.0256 821.451 56.3653 818.777 Q52.6732 816.104 46.212 816.104 Q39.7508 816.104 36.0905 818.777 Q32.3984 821.451 32.3984 826.098 Q32.3984 830.745 36.0905 833.418 Q39.7508 836.06 46.212 836.06 M58.657 816.104 Q61.8398 817.95 63.3994 820.782 Q64.9272 823.583 64.9272 827.53 Q64.9272 833.991 59.771 838.065 Q54.6147 842.107 46.212 842.107 Q37.8093 842.107 32.6531 838.065 Q27.4968 833.991 27.4968 827.53 Q27.4968 823.583 29.0564 820.782 Q30.5842 817.95 33.7671 816.104 L28.3562 816.104 L28.3562 810.247 L77.5631 810.247 L77.5631 816.104 L58.657 816.104 Z\" fill=\"#000000\" fill-rule=\"evenodd\" fill-opacity=\"1\" /><path clip-path=\"url(#clip120)\" d=\"M49.9359 798.789 L28.3562 798.789 L28.3562 792.932 L49.7131 792.932 Q54.7739 792.932 57.3202 790.959 Q59.8346 788.986 59.8346 785.039 Q59.8346 780.296 56.8109 777.559 Q53.7872 774.79 48.5673 774.79 L28.3562 774.79 L28.3562 768.934 L64.0042 768.934 L64.0042 774.79 L58.5296 774.79 Q61.7762 776.923 63.3676 779.755 Q64.9272 782.556 64.9272 786.28 Q64.9272 792.423 61.1078 795.606 Q57.2883 798.789 49.9359 798.789 M27.4968 784.052 L27.4968 784.052 Z\" fill=\"#000000\" fill-rule=\"evenodd\" fill-opacity=\"1\" /><path clip-path=\"url(#clip120)\" d=\"M44.7161 726.379 L47.5806 726.379 L47.5806 753.306 Q53.6281 752.924 56.8109 749.677 Q59.9619 746.399 59.9619 740.574 Q59.9619 737.201 59.1344 734.05 Q58.3069 730.867 56.6518 727.748 L62.1899 727.748 Q63.5267 730.899 64.227 734.209 Q64.9272 737.519 64.9272 740.925 Q64.9272 749.455 59.9619 754.452 Q54.9967 759.417 46.5303 759.417 Q37.7774 759.417 32.6531 754.706 Q27.4968 749.964 27.4968 741.943 Q27.4968 734.75 32.1438 730.58 Q36.7589 726.379 44.7161 726.379 M42.9973 732.235 Q38.1912 732.299 35.3266 734.941 Q32.4621 737.551 32.4621 741.879 Q32.4621 746.781 35.2312 749.741 Q38.0002 752.669 43.0292 753.115 L42.9973 732.235 Z\" fill=\"#000000\" fill-rule=\"evenodd\" fill-opacity=\"1\" /><path clip-path=\"url(#clip120)\" d=\"M42.4881 687.134 L64.0042 687.134 L64.0042 692.991 L42.679 692.991 Q37.6183 692.991 35.1038 694.964 Q32.5894 696.938 32.5894 700.884 Q32.5894 705.627 35.6131 708.364 Q38.6368 711.101 43.8567 711.101 L64.0042 711.101 L64.0042 716.989 L28.3562 716.989 L28.3562 711.101 L33.8944 711.101 Q30.6797 709.001 29.0883 706.168 Q27.4968 703.303 27.4968 699.579 Q27.4968 693.436 31.3163 690.285 Q35.1038 687.134 42.4881 687.134 Z\" fill=\"#000000\" fill-rule=\"evenodd\" fill-opacity=\"1\" /><path clip-path=\"url(#clip120)\" d=\"M29.7248 649.799 L35.1993 649.799 Q33.8307 652.282 33.1623 654.797 Q32.4621 657.279 32.4621 659.825 Q32.4621 665.523 36.0905 668.674 Q39.6872 671.825 46.212 671.825 Q52.7369 671.825 56.3653 668.674 Q59.9619 665.523 59.9619 659.825 Q59.9619 657.279 59.2935 654.797 Q58.5933 652.282 57.2247 649.799 L62.6355 649.799 Q63.7814 652.25 64.3543 654.892 Q64.9272 657.502 64.9272 660.462 Q64.9272 668.515 59.8664 673.257 Q54.8057 678 46.212 678 Q37.491 678 32.4939 673.225 Q27.4968 668.419 27.4968 660.08 Q27.4968 657.375 28.0697 654.797 Q28.6108 652.218 29.7248 649.799 Z\" fill=\"#000000\" fill-rule=\"evenodd\" fill-opacity=\"1\" /><path clip-path=\"url(#clip120)\" d=\"M67.3143 624.782 Q73.68 627.265 75.6216 629.62 Q77.5631 631.975 77.5631 635.922 L77.5631 640.601 L72.6615 640.601 L72.6615 637.164 Q72.6615 634.745 71.5157 633.408 Q70.3699 632.071 66.1048 630.448 L63.4312 629.397 L28.3562 643.816 L28.3562 637.609 L56.238 626.469 L28.3562 615.329 L28.3562 609.123 L67.3143 624.782 Z\" fill=\"#000000\" fill-rule=\"evenodd\" fill-opacity=\"1\" /><path clip-path=\"url(#clip120)\" d=\"M921.935 12.096 L973.098 12.096 L973.098 18.9825 L951.628 18.9825 L951.628 72.576 L943.405 72.576 L943.405 18.9825 L921.935 18.9825 L921.935 12.096 Z\" fill=\"#000000\" fill-rule=\"evenodd\" fill-opacity=\"1\" /><path clip-path=\"url(#clip120)\" d=\"M1005.38 48.0275 L1005.38 51.6733 L971.113 51.6733 Q971.599 59.3701 975.731 63.421 Q979.904 67.4314 987.317 67.4314 Q991.611 67.4314 995.621 66.3781 Q999.672 65.3249 1003.64 63.2184 L1003.64 70.267 Q999.631 71.9684 995.419 72.8596 Q991.206 73.7508 986.871 73.7508 Q976.015 73.7508 969.655 67.4314 Q963.335 61.1119 963.335 50.3365 Q963.335 39.1965 969.331 32.6746 Q975.367 26.1121 985.575 26.1121 Q994.73 26.1121 1000.04 32.0264 Q1005.38 37.9003 1005.38 48.0275 M997.93 45.84 Q997.849 39.7232 994.487 36.0774 Q991.165 32.4315 985.656 32.4315 Q979.417 32.4315 975.65 35.9558 Q971.923 39.4801 971.356 45.8805 L997.93 45.84 Z\" fill=\"#000000\" fill-rule=\"evenodd\" fill-opacity=\"1\" /><path clip-path=\"url(#clip120)\" d=\"M1046.54 28.5427 L1046.54 35.5912 Q1043.38 33.9709 1039.98 33.1607 Q1036.58 32.3505 1032.93 32.3505 Q1027.38 32.3505 1024.59 34.0519 Q1021.83 35.7533 1021.83 39.156 Q1021.83 41.7486 1023.82 43.2475 Q1025.8 44.7058 1031.8 46.0426 L1034.35 46.6097 Q1042.29 48.3111 1045.61 51.4303 Q1048.97 54.509 1048.97 60.0587 Q1048.97 66.3781 1043.95 70.0644 Q1038.97 73.7508 1030.22 73.7508 Q1026.57 73.7508 1022.6 73.0216 Q1018.67 72.3329 1014.3 70.9151 L1014.3 63.2184 Q1018.43 65.3654 1022.44 66.4591 Q1026.45 67.5124 1030.38 67.5124 Q1035.64 67.5124 1038.48 65.73 Q1041.32 63.9071 1041.32 60.6258 Q1041.32 57.5877 1039.25 55.9673 Q1037.22 54.3469 1030.3 52.8481 L1027.7 52.2405 Q1020.78 50.7821 1017.7 47.7845 Q1014.62 44.7463 1014.62 39.4801 Q1014.62 33.0797 1019.16 29.5959 Q1023.69 26.1121 1032.04 26.1121 Q1036.17 26.1121 1039.82 26.7198 Q1043.46 27.3274 1046.54 28.5427 Z\" fill=\"#000000\" fill-rule=\"evenodd\" fill-opacity=\"1\" /><path clip-path=\"url(#clip120)\" d=\"M1068.21 14.324 L1068.21 27.2059 L1083.57 27.2059 L1083.57 32.9987 L1068.21 32.9987 L1068.21 57.6282 Q1068.21 63.1779 1069.71 64.7578 Q1071.25 66.3376 1075.91 66.3376 L1083.57 66.3376 L1083.57 72.576 L1075.91 72.576 Q1067.28 72.576 1064 69.3758 Q1060.72 66.1351 1060.72 57.6282 L1060.72 32.9987 L1055.25 32.9987 L1055.25 27.2059 L1060.72 27.2059 L1060.72 14.324 L1068.21 14.324 Z\" fill=\"#000000\" fill-rule=\"evenodd\" fill-opacity=\"1\" /><path clip-path=\"url(#clip120)\" d=\"M1120.06 12.096 L1158.31 12.096 L1158.31 18.9825 L1128.25 18.9825 L1128.25 36.8875 L1157.05 36.8875 L1157.05 43.7741 L1128.25 43.7741 L1128.25 65.6895 L1159.03 65.6895 L1159.03 72.576 L1120.06 72.576 L1120.06 12.096 Z\" fill=\"#000000\" fill-rule=\"evenodd\" fill-opacity=\"1\" /><path clip-path=\"url(#clip120)\" d=\"M1198.45 34.1734 Q1197.19 33.4443 1195.7 33.1202 Q1194.24 32.7556 1192.45 32.7556 Q1186.14 32.7556 1182.73 36.8875 Q1179.37 40.9789 1179.37 48.6757 L1179.37 72.576 L1171.88 72.576 L1171.88 27.2059 L1179.37 27.2059 L1179.37 34.2544 Q1181.72 30.1225 1185.49 28.1376 Q1189.25 26.1121 1194.64 26.1121 Q1195.41 26.1121 1196.34 26.2337 Q1197.28 26.3147 1198.41 26.5172 L1198.45 34.1734 Z\" fill=\"#000000\" fill-rule=\"evenodd\" fill-opacity=\"1\" /><path clip-path=\"url(#clip120)\" d=\"M1231.1 34.1734 Q1229.84 33.4443 1228.35 33.1202 Q1226.89 32.7556 1225.1 32.7556 Q1218.79 32.7556 1215.38 36.8875 Q1212.02 40.9789 1212.02 48.6757 L1212.02 72.576 L1204.53 72.576 L1204.53 27.2059 L1212.02 27.2059 L1212.02 34.2544 Q1214.37 30.1225 1218.14 28.1376 Q1221.9 26.1121 1227.29 26.1121 Q1228.06 26.1121 1228.99 26.2337 Q1229.93 26.3147 1231.06 26.5172 L1231.1 34.1734 Z\" fill=\"#000000\" fill-rule=\"evenodd\" fill-opacity=\"1\" /><path clip-path=\"url(#clip120)\" d=\"M1254.68 32.4315 Q1248.68 32.4315 1245.2 37.1306 Q1241.71 41.7891 1241.71 49.9314 Q1241.71 58.0738 1245.16 62.7728 Q1248.64 67.4314 1254.68 67.4314 Q1260.63 67.4314 1264.12 62.7323 Q1267.6 58.0333 1267.6 49.9314 Q1267.6 41.8701 1264.12 37.1711 Q1260.63 32.4315 1254.68 32.4315 M1254.68 26.1121 Q1264.4 26.1121 1269.95 32.4315 Q1275.5 38.7509 1275.5 49.9314 Q1275.5 61.0714 1269.95 67.4314 Q1264.4 73.7508 1254.68 73.7508 Q1244.91 73.7508 1239.36 67.4314 Q1233.85 61.0714 1233.85 49.9314 Q1233.85 38.7509 1239.36 32.4315 Q1244.91 26.1121 1254.68 26.1121 Z\" fill=\"#000000\" fill-rule=\"evenodd\" fill-opacity=\"1\" /><path clip-path=\"url(#clip120)\" d=\"M1314.14 34.1734 Q1312.89 33.4443 1311.39 33.1202 Q1309.93 32.7556 1308.15 32.7556 Q1301.83 32.7556 1298.43 36.8875 Q1295.06 40.9789 1295.06 48.6757 L1295.06 72.576 L1287.57 72.576 L1287.57 27.2059 L1295.06 27.2059 L1295.06 34.2544 Q1297.41 30.1225 1301.18 28.1376 Q1304.95 26.1121 1310.34 26.1121 Q1311.11 26.1121 1312.04 26.2337 Q1312.97 26.3147 1314.1 26.5172 L1314.14 34.1734 Z\" fill=\"#000000\" fill-rule=\"evenodd\" fill-opacity=\"1\" /><path clip-path=\"url(#clip120)\" d=\"M1368.87 20.1573 L1357.77 50.2555 L1380.01 50.2555 L1368.87 20.1573 M1364.25 12.096 L1373.53 12.096 L1396.58 72.576 L1388.07 72.576 L1382.56 57.061 L1355.3 57.061 L1349.79 72.576 L1341.16 72.576 L1364.25 12.096 Z\" fill=\"#000000\" fill-rule=\"evenodd\" fill-opacity=\"1\" /><path clip-path=\"url(#clip120)\" d=\"M1442.8 45.1919 L1442.8 72.576 L1435.35 72.576 L1435.35 45.4349 Q1435.35 38.994 1432.84 35.7938 Q1430.32 32.5936 1425.3 32.5936 Q1419.26 32.5936 1415.78 36.4419 Q1412.3 40.2903 1412.3 46.9338 L1412.3 72.576 L1404.8 72.576 L1404.8 27.2059 L1412.3 27.2059 L1412.3 34.2544 Q1414.97 30.163 1418.58 28.1376 Q1422.22 26.1121 1426.96 26.1121 Q1434.78 26.1121 1438.79 30.9732 Q1442.8 35.7938 1442.8 45.1919 Z\" fill=\"#000000\" fill-rule=\"evenodd\" fill-opacity=\"1\" /><path clip-path=\"url(#clip120)\" d=\"M1478.29 49.7694 Q1469.25 49.7694 1465.77 51.8354 Q1462.29 53.9013 1462.29 58.8839 Q1462.29 62.8538 1464.88 65.2034 Q1467.51 67.5124 1472.01 67.5124 Q1478.21 67.5124 1481.93 63.1374 Q1485.7 58.7219 1485.7 51.4303 L1485.7 49.7694 L1478.29 49.7694 M1493.15 46.6907 L1493.15 72.576 L1485.7 72.576 L1485.7 65.6895 Q1483.15 69.8214 1479.34 71.8063 Q1475.53 73.7508 1470.02 73.7508 Q1463.05 73.7508 1458.92 69.8619 Q1454.83 65.9325 1454.83 59.3701 Q1454.83 51.7138 1459.94 47.825 Q1465.08 43.9361 1475.25 43.9361 L1485.7 43.9361 L1485.7 43.2069 Q1485.7 38.0623 1482.3 35.2672 Q1478.93 32.4315 1472.82 32.4315 Q1468.93 32.4315 1465.24 33.3632 Q1461.56 34.295 1458.15 36.1584 L1458.15 29.2718 Q1462.24 27.692 1466.09 26.9223 Q1469.94 26.1121 1473.59 26.1121 Q1483.43 26.1121 1488.29 31.2163 Q1493.15 36.3204 1493.15 46.6907 Z\" fill=\"#000000\" fill-rule=\"evenodd\" fill-opacity=\"1\" /><path clip-path=\"url(#clip120)\" d=\"M1508.51 9.54393 L1515.96 9.54393 L1515.96 72.576 L1508.51 72.576 L1508.51 9.54393 Z\" fill=\"#000000\" fill-rule=\"evenodd\" fill-opacity=\"1\" /><path clip-path=\"url(#clip120)\" d=\"M1550.43 76.7889 Q1547.27 84.8907 1544.28 87.3618 Q1541.28 89.8329 1536.25 89.8329 L1530.3 89.8329 L1530.3 83.5945 L1534.67 83.5945 Q1537.75 83.5945 1539.45 82.1361 Q1541.16 80.6778 1543.22 75.2496 L1544.56 71.8468 L1526.21 27.2059 L1534.11 27.2059 L1548.29 62.6918 L1562.46 27.2059 L1570.36 27.2059 L1550.43 76.7889 Z\" fill=\"#000000\" fill-rule=\"evenodd\" fill-opacity=\"1\" /><path clip-path=\"url(#clip120)\" d=\"M1609.58 28.5427 L1609.58 35.5912 Q1606.42 33.9709 1603.01 33.1607 Q1599.61 32.3505 1595.97 32.3505 Q1590.42 32.3505 1587.62 34.0519 Q1584.87 35.7533 1584.87 39.156 Q1584.87 41.7486 1586.85 43.2475 Q1588.84 44.7058 1594.83 46.0426 L1597.38 46.6097 Q1605.32 48.3111 1608.64 51.4303 Q1612.01 54.509 1612.01 60.0587 Q1612.01 66.3781 1606.98 70.0644 Q1602 73.7508 1593.25 73.7508 Q1589.61 73.7508 1585.64 73.0216 Q1581.71 72.3329 1577.33 70.9151 L1577.33 63.2184 Q1581.46 65.3654 1585.47 66.4591 Q1589.48 67.5124 1593.41 67.5124 Q1598.68 67.5124 1601.51 65.73 Q1604.35 63.9071 1604.35 60.6258 Q1604.35 57.5877 1602.28 55.9673 Q1600.26 54.3469 1593.33 52.8481 L1590.74 52.2405 Q1583.81 50.7821 1580.73 47.7845 Q1577.66 44.7463 1577.66 39.4801 Q1577.66 33.0797 1582.19 29.5959 Q1586.73 26.1121 1595.07 26.1121 Q1599.21 26.1121 1602.85 26.7198 Q1606.5 27.3274 1609.58 28.5427 Z\" fill=\"#000000\" fill-rule=\"evenodd\" fill-opacity=\"1\" /><path clip-path=\"url(#clip120)\" d=\"M1623.88 27.2059 L1631.33 27.2059 L1631.33 72.576 L1623.88 72.576 L1623.88 27.2059 M1623.88 9.54393 L1631.33 9.54393 L1631.33 18.9825 L1623.88 18.9825 L1623.88 9.54393 Z\" fill=\"#000000\" fill-rule=\"evenodd\" fill-opacity=\"1\" /><path clip-path=\"url(#clip120)\" d=\"M1675.85 28.5427 L1675.85 35.5912 Q1672.69 33.9709 1669.29 33.1607 Q1665.88 32.3505 1662.24 32.3505 Q1656.69 32.3505 1653.89 34.0519 Q1651.14 35.7533 1651.14 39.156 Q1651.14 41.7486 1653.12 43.2475 Q1655.11 44.7058 1661.1 46.0426 L1663.66 46.6097 Q1671.6 48.3111 1674.92 51.4303 Q1678.28 54.509 1678.28 60.0587 Q1678.28 66.3781 1673.26 70.0644 Q1668.27 73.7508 1659.52 73.7508 Q1655.88 73.7508 1651.91 73.0216 Q1647.98 72.3329 1643.6 70.9151 L1643.6 63.2184 Q1647.74 65.3654 1651.75 66.4591 Q1655.76 67.5124 1659.69 67.5124 Q1664.95 67.5124 1667.79 65.73 Q1670.62 63.9071 1670.62 60.6258 Q1670.62 57.5877 1668.56 55.9673 Q1666.53 54.3469 1659.6 52.8481 L1657.01 52.2405 Q1650.09 50.7821 1647.01 47.7845 Q1643.93 44.7463 1643.93 39.4801 Q1643.93 33.0797 1648.46 29.5959 Q1653 26.1121 1661.35 26.1121 Q1665.48 26.1121 1669.12 26.7198 Q1672.77 27.3274 1675.85 28.5427 Z\" fill=\"#000000\" fill-rule=\"evenodd\" fill-opacity=\"1\" /><path clip-path=\"url(#clip122)\" d=\"\n",
       "M363.254 1298.81 L363.254 1386.4 L438.202 1386.4 L438.202 1298.81 L363.254 1298.81 L363.254 1298.81  Z\n",
       "  \" fill=\"#009af9\" fill-rule=\"evenodd\" fill-opacity=\"1\"/>\n",
       "<polyline clip-path=\"url(#clip122)\" style=\"stroke:#000000; stroke-linecap:butt; stroke-linejoin:round; stroke-width:4; stroke-opacity:1; fill:none\" points=\"\n",
       "  363.254,1298.81 363.254,1386.4 438.202,1386.4 438.202,1298.81 363.254,1298.81 \n",
       "  \"/>\n",
       "<path clip-path=\"url(#clip122)\" d=\"\n",
       "M438.202 1386.4 L438.202 1386.4 L513.15 1386.4 L513.15 1386.4 L438.202 1386.4 L438.202 1386.4  Z\n",
       "  \" fill=\"#009af9\" fill-rule=\"evenodd\" fill-opacity=\"1\"/>\n",
       "<polyline clip-path=\"url(#clip122)\" style=\"stroke:#000000; stroke-linecap:butt; stroke-linejoin:round; stroke-width:4; stroke-opacity:1; fill:none\" points=\"\n",
       "  438.202,1386.4 438.202,1386.4 513.15,1386.4 438.202,1386.4 \n",
       "  \"/>\n",
       "<path clip-path=\"url(#clip122)\" d=\"\n",
       "M513.15 1386.4 L513.15 1386.4 L588.099 1386.4 L588.099 1386.4 L513.15 1386.4 L513.15 1386.4  Z\n",
       "  \" fill=\"#009af9\" fill-rule=\"evenodd\" fill-opacity=\"1\"/>\n",
       "<polyline clip-path=\"url(#clip122)\" style=\"stroke:#000000; stroke-linecap:butt; stroke-linejoin:round; stroke-width:4; stroke-opacity:1; fill:none\" points=\"\n",
       "  513.15,1386.4 513.15,1386.4 588.099,1386.4 513.15,1386.4 \n",
       "  \"/>\n",
       "<path clip-path=\"url(#clip122)\" d=\"\n",
       "M588.099 1386.4 L588.099 1386.4 L663.047 1386.4 L663.047 1386.4 L588.099 1386.4 L588.099 1386.4  Z\n",
       "  \" fill=\"#009af9\" fill-rule=\"evenodd\" fill-opacity=\"1\"/>\n",
       "<polyline clip-path=\"url(#clip122)\" style=\"stroke:#000000; stroke-linecap:butt; stroke-linejoin:round; stroke-width:4; stroke-opacity:1; fill:none\" points=\"\n",
       "  588.099,1386.4 588.099,1386.4 663.047,1386.4 588.099,1386.4 \n",
       "  \"/>\n",
       "<path clip-path=\"url(#clip122)\" d=\"\n",
       "M663.047 1386.4 L663.047 1386.4 L737.995 1386.4 L737.995 1386.4 L663.047 1386.4 L663.047 1386.4  Z\n",
       "  \" fill=\"#009af9\" fill-rule=\"evenodd\" fill-opacity=\"1\"/>\n",
       "<polyline clip-path=\"url(#clip122)\" style=\"stroke:#000000; stroke-linecap:butt; stroke-linejoin:round; stroke-width:4; stroke-opacity:1; fill:none\" points=\"\n",
       "  663.047,1386.4 663.047,1386.4 737.995,1386.4 663.047,1386.4 \n",
       "  \"/>\n",
       "<path clip-path=\"url(#clip122)\" d=\"\n",
       "M737.995 1386.4 L737.995 1386.4 L812.943 1386.4 L812.943 1386.4 L737.995 1386.4 L737.995 1386.4  Z\n",
       "  \" fill=\"#009af9\" fill-rule=\"evenodd\" fill-opacity=\"1\"/>\n",
       "<polyline clip-path=\"url(#clip122)\" style=\"stroke:#000000; stroke-linecap:butt; stroke-linejoin:round; stroke-width:4; stroke-opacity:1; fill:none\" points=\"\n",
       "  737.995,1386.4 737.995,1386.4 812.943,1386.4 737.995,1386.4 \n",
       "  \"/>\n",
       "<path clip-path=\"url(#clip122)\" d=\"\n",
       "M812.943 1386.4 L812.943 1386.4 L887.892 1386.4 L887.892 1386.4 L812.943 1386.4 L812.943 1386.4  Z\n",
       "  \" fill=\"#009af9\" fill-rule=\"evenodd\" fill-opacity=\"1\"/>\n",
       "<polyline clip-path=\"url(#clip122)\" style=\"stroke:#000000; stroke-linecap:butt; stroke-linejoin:round; stroke-width:4; stroke-opacity:1; fill:none\" points=\"\n",
       "  812.943,1386.4 812.943,1386.4 887.892,1386.4 812.943,1386.4 \n",
       "  \"/>\n",
       "<path clip-path=\"url(#clip122)\" d=\"\n",
       "M887.892 1386.4 L887.892 1386.4 L962.84 1386.4 L962.84 1386.4 L887.892 1386.4 L887.892 1386.4  Z\n",
       "  \" fill=\"#009af9\" fill-rule=\"evenodd\" fill-opacity=\"1\"/>\n",
       "<polyline clip-path=\"url(#clip122)\" style=\"stroke:#000000; stroke-linecap:butt; stroke-linejoin:round; stroke-width:4; stroke-opacity:1; fill:none\" points=\"\n",
       "  887.892,1386.4 887.892,1386.4 962.84,1386.4 887.892,1386.4 \n",
       "  \"/>\n",
       "<path clip-path=\"url(#clip122)\" d=\"\n",
       "M962.84 1386.4 L962.84 1386.4 L1037.79 1386.4 L1037.79 1386.4 L962.84 1386.4 L962.84 1386.4  Z\n",
       "  \" fill=\"#009af9\" fill-rule=\"evenodd\" fill-opacity=\"1\"/>\n",
       "<polyline clip-path=\"url(#clip122)\" style=\"stroke:#000000; stroke-linecap:butt; stroke-linejoin:round; stroke-width:4; stroke-opacity:1; fill:none\" points=\"\n",
       "  962.84,1386.4 962.84,1386.4 1037.79,1386.4 962.84,1386.4 \n",
       "  \"/>\n",
       "<path clip-path=\"url(#clip122)\" d=\"\n",
       "M1037.79 1298.81 L1037.79 1386.4 L1112.74 1386.4 L1112.74 1298.81 L1037.79 1298.81 L1037.79 1298.81  Z\n",
       "  \" fill=\"#009af9\" fill-rule=\"evenodd\" fill-opacity=\"1\"/>\n",
       "<polyline clip-path=\"url(#clip122)\" style=\"stroke:#000000; stroke-linecap:butt; stroke-linejoin:round; stroke-width:4; stroke-opacity:1; fill:none\" points=\"\n",
       "  1037.79,1298.81 1037.79,1386.4 1112.74,1386.4 1112.74,1298.81 1037.79,1298.81 \n",
       "  \"/>\n",
       "<path clip-path=\"url(#clip122)\" d=\"\n",
       "M1112.74 1298.81 L1112.74 1386.4 L1187.68 1386.4 L1187.68 1298.81 L1112.74 1298.81 L1112.74 1298.81  Z\n",
       "  \" fill=\"#009af9\" fill-rule=\"evenodd\" fill-opacity=\"1\"/>\n",
       "<polyline clip-path=\"url(#clip122)\" style=\"stroke:#000000; stroke-linecap:butt; stroke-linejoin:round; stroke-width:4; stroke-opacity:1; fill:none\" points=\"\n",
       "  1112.74,1298.81 1112.74,1386.4 1187.68,1386.4 1187.68,1298.81 1112.74,1298.81 \n",
       "  \"/>\n",
       "<path clip-path=\"url(#clip122)\" d=\"\n",
       "M1187.68 1211.23 L1187.68 1386.4 L1262.63 1386.4 L1262.63 1211.23 L1187.68 1211.23 L1187.68 1211.23  Z\n",
       "  \" fill=\"#009af9\" fill-rule=\"evenodd\" fill-opacity=\"1\"/>\n",
       "<polyline clip-path=\"url(#clip122)\" style=\"stroke:#000000; stroke-linecap:butt; stroke-linejoin:round; stroke-width:4; stroke-opacity:1; fill:none\" points=\"\n",
       "  1187.68,1211.23 1187.68,1386.4 1262.63,1386.4 1262.63,1211.23 1187.68,1211.23 \n",
       "  \"/>\n",
       "<path clip-path=\"url(#clip122)\" d=\"\n",
       "M1262.63 1123.65 L1262.63 1386.4 L1337.58 1386.4 L1337.58 1123.65 L1262.63 1123.65 L1262.63 1123.65  Z\n",
       "  \" fill=\"#009af9\" fill-rule=\"evenodd\" fill-opacity=\"1\"/>\n",
       "<polyline clip-path=\"url(#clip122)\" style=\"stroke:#000000; stroke-linecap:butt; stroke-linejoin:round; stroke-width:4; stroke-opacity:1; fill:none\" points=\"\n",
       "  1262.63,1123.65 1262.63,1386.4 1337.58,1386.4 1337.58,1123.65 1262.63,1123.65 \n",
       "  \"/>\n",
       "<path clip-path=\"url(#clip122)\" d=\"\n",
       "M1337.58 1123.65 L1337.58 1386.4 L1412.53 1386.4 L1412.53 1123.65 L1337.58 1123.65 L1337.58 1123.65  Z\n",
       "  \" fill=\"#009af9\" fill-rule=\"evenodd\" fill-opacity=\"1\"/>\n",
       "<polyline clip-path=\"url(#clip122)\" style=\"stroke:#000000; stroke-linecap:butt; stroke-linejoin:round; stroke-width:4; stroke-opacity:1; fill:none\" points=\"\n",
       "  1337.58,1123.65 1337.58,1386.4 1412.53,1386.4 1412.53,1123.65 1337.58,1123.65 \n",
       "  \"/>\n",
       "<path clip-path=\"url(#clip122)\" d=\"\n",
       "M1412.53 773.326 L1412.53 1386.4 L1487.48 1386.4 L1487.48 773.326 L1412.53 773.326 L1412.53 773.326  Z\n",
       "  \" fill=\"#009af9\" fill-rule=\"evenodd\" fill-opacity=\"1\"/>\n",
       "<polyline clip-path=\"url(#clip122)\" style=\"stroke:#000000; stroke-linecap:butt; stroke-linejoin:round; stroke-width:4; stroke-opacity:1; fill:none\" points=\"\n",
       "  1412.53,773.326 1412.53,1386.4 1487.48,1386.4 1487.48,773.326 1412.53,773.326 \n",
       "  \"/>\n",
       "<path clip-path=\"url(#clip122)\" d=\"\n",
       "M1487.48 1123.65 L1487.48 1386.4 L1562.43 1386.4 L1562.43 1123.65 L1487.48 1123.65 L1487.48 1123.65  Z\n",
       "  \" fill=\"#009af9\" fill-rule=\"evenodd\" fill-opacity=\"1\"/>\n",
       "<polyline clip-path=\"url(#clip122)\" style=\"stroke:#000000; stroke-linecap:butt; stroke-linejoin:round; stroke-width:4; stroke-opacity:1; fill:none\" points=\"\n",
       "  1487.48,1123.65 1487.48,1386.4 1562.43,1386.4 1562.43,1123.65 1487.48,1123.65 \n",
       "  \"/>\n",
       "<path clip-path=\"url(#clip122)\" d=\"\n",
       "M1562.43 948.489 L1562.43 1386.4 L1637.37 1386.4 L1637.37 948.489 L1562.43 948.489 L1562.43 948.489  Z\n",
       "  \" fill=\"#009af9\" fill-rule=\"evenodd\" fill-opacity=\"1\"/>\n",
       "<polyline clip-path=\"url(#clip122)\" style=\"stroke:#000000; stroke-linecap:butt; stroke-linejoin:round; stroke-width:4; stroke-opacity:1; fill:none\" points=\"\n",
       "  1562.43,948.489 1562.43,1386.4 1637.37,1386.4 1637.37,948.489 1562.43,948.489 \n",
       "  \"/>\n",
       "<path clip-path=\"url(#clip122)\" d=\"\n",
       "M1637.37 510.582 L1637.37 1386.4 L1712.32 1386.4 L1712.32 510.582 L1637.37 510.582 L1637.37 510.582  Z\n",
       "  \" fill=\"#009af9\" fill-rule=\"evenodd\" fill-opacity=\"1\"/>\n",
       "<polyline clip-path=\"url(#clip122)\" style=\"stroke:#000000; stroke-linecap:butt; stroke-linejoin:round; stroke-width:4; stroke-opacity:1; fill:none\" points=\"\n",
       "  1637.37,510.582 1637.37,1386.4 1712.32,1386.4 1712.32,510.582 1637.37,510.582 \n",
       "  \"/>\n",
       "<path clip-path=\"url(#clip122)\" d=\"\n",
       "M1712.32 247.838 L1712.32 1386.4 L1787.27 1386.4 L1787.27 247.838 L1712.32 247.838 L1712.32 247.838  Z\n",
       "  \" fill=\"#009af9\" fill-rule=\"evenodd\" fill-opacity=\"1\"/>\n",
       "<polyline clip-path=\"url(#clip122)\" style=\"stroke:#000000; stroke-linecap:butt; stroke-linejoin:round; stroke-width:4; stroke-opacity:1; fill:none\" points=\"\n",
       "  1712.32,247.838 1712.32,1386.4 1787.27,1386.4 1787.27,247.838 1712.32,247.838 \n",
       "  \"/>\n",
       "<path clip-path=\"url(#clip122)\" d=\"\n",
       "M1787.27 247.838 L1787.27 1386.4 L1862.22 1386.4 L1862.22 247.838 L1787.27 247.838 L1787.27 247.838  Z\n",
       "  \" fill=\"#009af9\" fill-rule=\"evenodd\" fill-opacity=\"1\"/>\n",
       "<polyline clip-path=\"url(#clip122)\" style=\"stroke:#000000; stroke-linecap:butt; stroke-linejoin:round; stroke-width:4; stroke-opacity:1; fill:none\" points=\"\n",
       "  1787.27,247.838 1787.27,1386.4 1862.22,1386.4 1862.22,247.838 1787.27,247.838 \n",
       "  \"/>\n",
       "<path clip-path=\"url(#clip122)\" d=\"\n",
       "M1862.22 160.256 L1862.22 1386.4 L1937.17 1386.4 L1937.17 160.256 L1862.22 160.256 L1862.22 160.256  Z\n",
       "  \" fill=\"#009af9\" fill-rule=\"evenodd\" fill-opacity=\"1\"/>\n",
       "<polyline clip-path=\"url(#clip122)\" style=\"stroke:#000000; stroke-linecap:butt; stroke-linejoin:round; stroke-width:4; stroke-opacity:1; fill:none\" points=\"\n",
       "  1862.22,160.256 1862.22,1386.4 1937.17,1386.4 1937.17,160.256 1862.22,160.256 \n",
       "  \"/>\n",
       "<path clip-path=\"url(#clip122)\" d=\"\n",
       "M1937.17 160.256 L1937.17 1386.4 L2012.12 1386.4 L2012.12 160.256 L1937.17 160.256 L1937.17 160.256  Z\n",
       "  \" fill=\"#009af9\" fill-rule=\"evenodd\" fill-opacity=\"1\"/>\n",
       "<polyline clip-path=\"url(#clip122)\" style=\"stroke:#000000; stroke-linecap:butt; stroke-linejoin:round; stroke-width:4; stroke-opacity:1; fill:none\" points=\"\n",
       "  1937.17,160.256 1937.17,1386.4 2012.12,1386.4 2012.12,160.256 1937.17,160.256 \n",
       "  \"/>\n",
       "<path clip-path=\"url(#clip122)\" d=\"\n",
       "M2012.12 773.326 L2012.12 1386.4 L2087.06 1386.4 L2087.06 773.326 L2012.12 773.326 L2012.12 773.326  Z\n",
       "  \" fill=\"#009af9\" fill-rule=\"evenodd\" fill-opacity=\"1\"/>\n",
       "<polyline clip-path=\"url(#clip122)\" style=\"stroke:#000000; stroke-linecap:butt; stroke-linejoin:round; stroke-width:4; stroke-opacity:1; fill:none\" points=\"\n",
       "  2012.12,773.326 2012.12,1386.4 2087.06,1386.4 2087.06,773.326 2012.12,773.326 \n",
       "  \"/>\n",
       "<path clip-path=\"url(#clip122)\" d=\"\n",
       "M2087.06 1298.81 L2087.06 1386.4 L2162.01 1386.4 L2162.01 1298.81 L2087.06 1298.81 L2087.06 1298.81  Z\n",
       "  \" fill=\"#009af9\" fill-rule=\"evenodd\" fill-opacity=\"1\"/>\n",
       "<polyline clip-path=\"url(#clip122)\" style=\"stroke:#000000; stroke-linecap:butt; stroke-linejoin:round; stroke-width:4; stroke-opacity:1; fill:none\" points=\"\n",
       "  2087.06,1298.81 2087.06,1386.4 2162.01,1386.4 2162.01,1298.81 2087.06,1298.81 \n",
       "  \"/>\n",
       "<path clip-path=\"url(#clip122)\" d=\"\n",
       "M2162.01 1211.23 L2162.01 1386.4 L2236.96 1386.4 L2236.96 1211.23 L2162.01 1211.23 L2162.01 1211.23  Z\n",
       "  \" fill=\"#009af9\" fill-rule=\"evenodd\" fill-opacity=\"1\"/>\n",
       "<polyline clip-path=\"url(#clip122)\" style=\"stroke:#000000; stroke-linecap:butt; stroke-linejoin:round; stroke-width:4; stroke-opacity:1; fill:none\" points=\"\n",
       "  2162.01,1211.23 2162.01,1386.4 2236.96,1386.4 2236.96,1211.23 2162.01,1211.23 \n",
       "  \"/>\n",
       "<circle clip-path=\"url(#clip122)\" style=\"fill:#009af9; stroke:none; fill-opacity:0\" cx=\"400.728\" cy=\"1298.81\" r=\"2\"/>\n",
       "<circle clip-path=\"url(#clip122)\" style=\"fill:#009af9; stroke:none; fill-opacity:0\" cx=\"475.676\" cy=\"1386.4\" r=\"2\"/>\n",
       "<circle clip-path=\"url(#clip122)\" style=\"fill:#009af9; stroke:none; fill-opacity:0\" cx=\"550.625\" cy=\"1386.4\" r=\"2\"/>\n",
       "<circle clip-path=\"url(#clip122)\" style=\"fill:#009af9; stroke:none; fill-opacity:0\" cx=\"625.573\" cy=\"1386.4\" r=\"2\"/>\n",
       "<circle clip-path=\"url(#clip122)\" style=\"fill:#009af9; stroke:none; fill-opacity:0\" cx=\"700.521\" cy=\"1386.4\" r=\"2\"/>\n",
       "<circle clip-path=\"url(#clip122)\" style=\"fill:#009af9; stroke:none; fill-opacity:0\" cx=\"775.469\" cy=\"1386.4\" r=\"2\"/>\n",
       "<circle clip-path=\"url(#clip122)\" style=\"fill:#009af9; stroke:none; fill-opacity:0\" cx=\"850.418\" cy=\"1386.4\" r=\"2\"/>\n",
       "<circle clip-path=\"url(#clip122)\" style=\"fill:#009af9; stroke:none; fill-opacity:0\" cx=\"925.366\" cy=\"1386.4\" r=\"2\"/>\n",
       "<circle clip-path=\"url(#clip122)\" style=\"fill:#009af9; stroke:none; fill-opacity:0\" cx=\"1000.31\" cy=\"1386.4\" r=\"2\"/>\n",
       "<circle clip-path=\"url(#clip122)\" style=\"fill:#009af9; stroke:none; fill-opacity:0\" cx=\"1075.26\" cy=\"1298.81\" r=\"2\"/>\n",
       "<circle clip-path=\"url(#clip122)\" style=\"fill:#009af9; stroke:none; fill-opacity:0\" cx=\"1150.21\" cy=\"1298.81\" r=\"2\"/>\n",
       "<circle clip-path=\"url(#clip122)\" style=\"fill:#009af9; stroke:none; fill-opacity:0\" cx=\"1225.16\" cy=\"1211.23\" r=\"2\"/>\n",
       "<circle clip-path=\"url(#clip122)\" style=\"fill:#009af9; stroke:none; fill-opacity:0\" cx=\"1300.11\" cy=\"1123.65\" r=\"2\"/>\n",
       "<circle clip-path=\"url(#clip122)\" style=\"fill:#009af9; stroke:none; fill-opacity:0\" cx=\"1375.06\" cy=\"1123.65\" r=\"2\"/>\n",
       "<circle clip-path=\"url(#clip122)\" style=\"fill:#009af9; stroke:none; fill-opacity:0\" cx=\"1450\" cy=\"773.326\" r=\"2\"/>\n",
       "<circle clip-path=\"url(#clip122)\" style=\"fill:#009af9; stroke:none; fill-opacity:0\" cx=\"1524.95\" cy=\"1123.65\" r=\"2\"/>\n",
       "<circle clip-path=\"url(#clip122)\" style=\"fill:#009af9; stroke:none; fill-opacity:0\" cx=\"1599.9\" cy=\"948.489\" r=\"2\"/>\n",
       "<circle clip-path=\"url(#clip122)\" style=\"fill:#009af9; stroke:none; fill-opacity:0\" cx=\"1674.85\" cy=\"510.582\" r=\"2\"/>\n",
       "<circle clip-path=\"url(#clip122)\" style=\"fill:#009af9; stroke:none; fill-opacity:0\" cx=\"1749.8\" cy=\"247.838\" r=\"2\"/>\n",
       "<circle clip-path=\"url(#clip122)\" style=\"fill:#009af9; stroke:none; fill-opacity:0\" cx=\"1824.75\" cy=\"247.838\" r=\"2\"/>\n",
       "<circle clip-path=\"url(#clip122)\" style=\"fill:#009af9; stroke:none; fill-opacity:0\" cx=\"1899.69\" cy=\"160.256\" r=\"2\"/>\n",
       "<circle clip-path=\"url(#clip122)\" style=\"fill:#009af9; stroke:none; fill-opacity:0\" cx=\"1974.64\" cy=\"160.256\" r=\"2\"/>\n",
       "<circle clip-path=\"url(#clip122)\" style=\"fill:#009af9; stroke:none; fill-opacity:0\" cx=\"2049.59\" cy=\"773.326\" r=\"2\"/>\n",
       "<circle clip-path=\"url(#clip122)\" style=\"fill:#009af9; stroke:none; fill-opacity:0\" cx=\"2124.54\" cy=\"1298.81\" r=\"2\"/>\n",
       "<circle clip-path=\"url(#clip122)\" style=\"fill:#009af9; stroke:none; fill-opacity:0\" cx=\"2199.49\" cy=\"1211.23\" r=\"2\"/>\n",
       "</svg>\n"
      ]
     },
     "execution_count": 46,
     "metadata": {},
     "output_type": "execute_result"
    }
   ],
   "source": [
    "histogram(error_test, bins = 50, title = \"Test Error Analysis\", ylabel = \"Frequency\", xlabel = \"Error\",legend = false)\n"
   ]
  },
  {
   "cell_type": "code",
   "execution_count": 47,
   "id": "a6631fe1",
   "metadata": {},
   "outputs": [
    {
     "data": {
      "image/svg+xml": [
       "<?xml version=\"1.0\" encoding=\"utf-8\"?>\n",
       "<svg xmlns=\"http://www.w3.org/2000/svg\" xmlns:xlink=\"http://www.w3.org/1999/xlink\" width=\"600\" height=\"400\" viewBox=\"0 0 2400 1600\">\n",
       "<defs>\n",
       "  <clipPath id=\"clip160\">\n",
       "    <rect x=\"0\" y=\"0\" width=\"2400\" height=\"1600\"/>\n",
       "  </clipPath>\n",
       "</defs>\n",
       "<path clip-path=\"url(#clip160)\" d=\"\n",
       "M0 1600 L2400 1600 L2400 0 L0 0  Z\n",
       "  \" fill=\"#ffffff\" fill-rule=\"evenodd\" fill-opacity=\"1\"/>\n",
       "<defs>\n",
       "  <clipPath id=\"clip161\">\n",
       "    <rect x=\"480\" y=\"0\" width=\"1681\" height=\"1600\"/>\n",
       "  </clipPath>\n",
       "</defs>\n",
       "<path clip-path=\"url(#clip160)\" d=\"\n",
       "M149.191 1486.45 L2352.76 1486.45 L2352.76 47.2441 L149.191 47.2441  Z\n",
       "  \" fill=\"#ffffff\" fill-rule=\"evenodd\" fill-opacity=\"1\"/>\n",
       "<defs>\n",
       "  <clipPath id=\"clip162\">\n",
       "    <rect x=\"149\" y=\"47\" width=\"2205\" height=\"1440\"/>\n",
       "  </clipPath>\n",
       "</defs>\n",
       "<polyline clip-path=\"url(#clip162)\" style=\"stroke:#000000; stroke-linecap:butt; stroke-linejoin:round; stroke-width:2; stroke-opacity:0.1; fill:none\" points=\"\n",
       "  364.246,1486.45 364.246,47.2441 \n",
       "  \"/>\n",
       "<polyline clip-path=\"url(#clip162)\" style=\"stroke:#000000; stroke-linecap:butt; stroke-linejoin:round; stroke-width:2; stroke-opacity:0.1; fill:none\" points=\"\n",
       "  659.822,1486.45 659.822,47.2441 \n",
       "  \"/>\n",
       "<polyline clip-path=\"url(#clip162)\" style=\"stroke:#000000; stroke-linecap:butt; stroke-linejoin:round; stroke-width:2; stroke-opacity:0.1; fill:none\" points=\"\n",
       "  955.397,1486.45 955.397,47.2441 \n",
       "  \"/>\n",
       "<polyline clip-path=\"url(#clip162)\" style=\"stroke:#000000; stroke-linecap:butt; stroke-linejoin:round; stroke-width:2; stroke-opacity:0.1; fill:none\" points=\"\n",
       "  1250.97,1486.45 1250.97,47.2441 \n",
       "  \"/>\n",
       "<polyline clip-path=\"url(#clip162)\" style=\"stroke:#000000; stroke-linecap:butt; stroke-linejoin:round; stroke-width:2; stroke-opacity:0.1; fill:none\" points=\"\n",
       "  1546.55,1486.45 1546.55,47.2441 \n",
       "  \"/>\n",
       "<polyline clip-path=\"url(#clip162)\" style=\"stroke:#000000; stroke-linecap:butt; stroke-linejoin:round; stroke-width:2; stroke-opacity:0.1; fill:none\" points=\"\n",
       "  1842.13,1486.45 1842.13,47.2441 \n",
       "  \"/>\n",
       "<polyline clip-path=\"url(#clip162)\" style=\"stroke:#000000; stroke-linecap:butt; stroke-linejoin:round; stroke-width:2; stroke-opacity:0.1; fill:none\" points=\"\n",
       "  2137.7,1486.45 2137.7,47.2441 \n",
       "  \"/>\n",
       "<polyline clip-path=\"url(#clip160)\" style=\"stroke:#000000; stroke-linecap:butt; stroke-linejoin:round; stroke-width:4; stroke-opacity:1; fill:none\" points=\"\n",
       "  149.191,1486.45 2352.76,1486.45 \n",
       "  \"/>\n",
       "<polyline clip-path=\"url(#clip160)\" style=\"stroke:#000000; stroke-linecap:butt; stroke-linejoin:round; stroke-width:4; stroke-opacity:1; fill:none\" points=\"\n",
       "  364.246,1486.45 364.246,1467.55 \n",
       "  \"/>\n",
       "<polyline clip-path=\"url(#clip160)\" style=\"stroke:#000000; stroke-linecap:butt; stroke-linejoin:round; stroke-width:4; stroke-opacity:1; fill:none\" points=\"\n",
       "  659.822,1486.45 659.822,1467.55 \n",
       "  \"/>\n",
       "<polyline clip-path=\"url(#clip160)\" style=\"stroke:#000000; stroke-linecap:butt; stroke-linejoin:round; stroke-width:4; stroke-opacity:1; fill:none\" points=\"\n",
       "  955.397,1486.45 955.397,1467.55 \n",
       "  \"/>\n",
       "<polyline clip-path=\"url(#clip160)\" style=\"stroke:#000000; stroke-linecap:butt; stroke-linejoin:round; stroke-width:4; stroke-opacity:1; fill:none\" points=\"\n",
       "  1250.97,1486.45 1250.97,1467.55 \n",
       "  \"/>\n",
       "<polyline clip-path=\"url(#clip160)\" style=\"stroke:#000000; stroke-linecap:butt; stroke-linejoin:round; stroke-width:4; stroke-opacity:1; fill:none\" points=\"\n",
       "  1546.55,1486.45 1546.55,1467.55 \n",
       "  \"/>\n",
       "<polyline clip-path=\"url(#clip160)\" style=\"stroke:#000000; stroke-linecap:butt; stroke-linejoin:round; stroke-width:4; stroke-opacity:1; fill:none\" points=\"\n",
       "  1842.13,1486.45 1842.13,1467.55 \n",
       "  \"/>\n",
       "<polyline clip-path=\"url(#clip160)\" style=\"stroke:#000000; stroke-linecap:butt; stroke-linejoin:round; stroke-width:4; stroke-opacity:1; fill:none\" points=\"\n",
       "  2137.7,1486.45 2137.7,1467.55 \n",
       "  \"/>\n",
       "<path clip-path=\"url(#clip160)\" d=\"M333.713 1532.02 L363.389 1532.02 L363.389 1535.95 L333.713 1535.95 L333.713 1532.02 Z\" fill=\"#000000\" fill-rule=\"evenodd\" fill-opacity=\"1\" /><path clip-path=\"url(#clip160)\" d=\"M387.648 1530.21 Q391.005 1530.93 392.88 1533.2 Q394.778 1535.47 394.778 1538.8 Q394.778 1543.92 391.259 1546.72 Q387.741 1549.52 381.259 1549.52 Q379.083 1549.52 376.769 1549.08 Q374.477 1548.66 372.023 1547.81 L372.023 1543.29 Q373.968 1544.43 376.283 1545.01 Q378.597 1545.58 381.12 1545.58 Q385.519 1545.58 387.81 1543.85 Q390.125 1542.11 390.125 1538.8 Q390.125 1535.75 387.972 1534.03 Q385.843 1532.3 382.023 1532.3 L377.996 1532.3 L377.996 1528.45 L382.208 1528.45 Q385.658 1528.45 387.486 1527.09 Q389.315 1525.7 389.315 1523.11 Q389.315 1520.45 387.417 1519.03 Q385.542 1517.6 382.023 1517.6 Q380.102 1517.6 377.903 1518.01 Q375.704 1518.43 373.065 1519.31 L373.065 1515.14 Q375.727 1514.4 378.042 1514.03 Q380.38 1513.66 382.44 1513.66 Q387.764 1513.66 390.866 1516.09 Q393.968 1518.5 393.968 1522.62 Q393.968 1525.49 392.324 1527.48 Q390.681 1529.45 387.648 1530.21 Z\" fill=\"#000000\" fill-rule=\"evenodd\" fill-opacity=\"1\" /><path clip-path=\"url(#clip160)\" d=\"M629.764 1532.02 L659.44 1532.02 L659.44 1535.95 L629.764 1535.95 L629.764 1532.02 Z\" fill=\"#000000\" fill-rule=\"evenodd\" fill-opacity=\"1\" /><path clip-path=\"url(#clip160)\" d=\"M673.56 1544.91 L689.879 1544.91 L689.879 1548.85 L667.935 1548.85 L667.935 1544.91 Q670.597 1542.16 675.18 1537.53 Q679.787 1532.88 680.967 1531.53 Q683.213 1529.01 684.092 1527.27 Q684.995 1525.51 684.995 1523.82 Q684.995 1521.07 683.051 1519.33 Q681.129 1517.6 678.027 1517.6 Q675.828 1517.6 673.375 1518.36 Q670.944 1519.13 668.166 1520.68 L668.166 1515.95 Q670.99 1514.82 673.444 1514.24 Q675.898 1513.66 677.935 1513.66 Q683.305 1513.66 686.5 1516.35 Q689.694 1519.03 689.694 1523.52 Q689.694 1525.65 688.884 1527.57 Q688.097 1529.47 685.99 1532.07 Q685.412 1532.74 682.31 1535.95 Q679.208 1539.15 673.56 1544.91 Z\" fill=\"#000000\" fill-rule=\"evenodd\" fill-opacity=\"1\" /><path clip-path=\"url(#clip160)\" d=\"M925.155 1532.02 L954.83 1532.02 L954.83 1535.95 L925.155 1535.95 L925.155 1532.02 Z\" fill=\"#000000\" fill-rule=\"evenodd\" fill-opacity=\"1\" /><path clip-path=\"url(#clip160)\" d=\"M965.733 1544.91 L973.372 1544.91 L973.372 1518.55 L965.062 1520.21 L965.062 1515.95 L973.326 1514.29 L978.001 1514.29 L978.001 1544.91 L985.64 1544.91 L985.64 1548.85 L965.733 1548.85 L965.733 1544.91 Z\" fill=\"#000000\" fill-rule=\"evenodd\" fill-opacity=\"1\" /><path clip-path=\"url(#clip160)\" d=\"M1250.97 1517.37 Q1247.36 1517.37 1245.53 1520.93 Q1243.73 1524.47 1243.73 1531.6 Q1243.73 1538.71 1245.53 1542.27 Q1247.36 1545.82 1250.97 1545.82 Q1254.61 1545.82 1256.41 1542.27 Q1258.24 1538.71 1258.24 1531.6 Q1258.24 1524.47 1256.41 1520.93 Q1254.61 1517.37 1250.97 1517.37 M1250.97 1513.66 Q1256.78 1513.66 1259.84 1518.27 Q1262.92 1522.85 1262.92 1531.6 Q1262.92 1540.33 1259.84 1544.94 Q1256.78 1549.52 1250.97 1549.52 Q1245.16 1549.52 1242.08 1544.94 Q1239.03 1540.33 1239.03 1531.6 Q1239.03 1522.85 1242.08 1518.27 Q1245.16 1513.66 1250.97 1513.66 Z\" fill=\"#000000\" fill-rule=\"evenodd\" fill-opacity=\"1\" /><path clip-path=\"url(#clip160)\" d=\"M1536.93 1544.91 L1544.57 1544.91 L1544.57 1518.55 L1536.26 1520.21 L1536.26 1515.95 L1544.52 1514.29 L1549.2 1514.29 L1549.2 1544.91 L1556.84 1544.91 L1556.84 1548.85 L1536.93 1548.85 L1536.93 1544.91 Z\" fill=\"#000000\" fill-rule=\"evenodd\" fill-opacity=\"1\" /><path clip-path=\"url(#clip160)\" d=\"M1836.78 1544.91 L1853.1 1544.91 L1853.1 1548.85 L1831.15 1548.85 L1831.15 1544.91 Q1833.82 1542.16 1838.4 1537.53 Q1843 1532.88 1844.19 1531.53 Q1846.43 1529.01 1847.31 1527.27 Q1848.21 1525.51 1848.21 1523.82 Q1848.21 1521.07 1846.27 1519.33 Q1844.35 1517.6 1841.25 1517.6 Q1839.05 1517.6 1836.59 1518.36 Q1834.16 1519.13 1831.38 1520.68 L1831.38 1515.95 Q1834.21 1514.82 1836.66 1514.24 Q1839.12 1513.66 1841.15 1513.66 Q1846.52 1513.66 1849.72 1516.35 Q1852.91 1519.03 1852.91 1523.52 Q1852.91 1525.65 1852.1 1527.57 Q1851.32 1529.47 1849.21 1532.07 Q1848.63 1532.74 1845.53 1535.95 Q1842.43 1539.15 1836.78 1544.91 Z\" fill=\"#000000\" fill-rule=\"evenodd\" fill-opacity=\"1\" /><path clip-path=\"url(#clip160)\" d=\"M2141.95 1530.21 Q2145.31 1530.93 2147.18 1533.2 Q2149.08 1535.47 2149.08 1538.8 Q2149.08 1543.92 2145.56 1546.72 Q2142.04 1549.52 2135.56 1549.52 Q2133.38 1549.52 2131.07 1549.08 Q2128.78 1548.66 2126.32 1547.81 L2126.32 1543.29 Q2128.27 1544.43 2130.58 1545.01 Q2132.9 1545.58 2135.42 1545.58 Q2139.82 1545.58 2142.11 1543.85 Q2144.43 1542.11 2144.43 1538.8 Q2144.43 1535.75 2142.27 1534.03 Q2140.14 1532.3 2136.32 1532.3 L2132.3 1532.3 L2132.3 1528.45 L2136.51 1528.45 Q2139.96 1528.45 2141.79 1527.09 Q2143.62 1525.7 2143.62 1523.11 Q2143.62 1520.45 2141.72 1519.03 Q2139.84 1517.6 2136.32 1517.6 Q2134.4 1517.6 2132.2 1518.01 Q2130 1518.43 2127.37 1519.31 L2127.37 1515.14 Q2130.03 1514.4 2132.34 1514.03 Q2134.68 1513.66 2136.74 1513.66 Q2142.06 1513.66 2145.17 1516.09 Q2148.27 1518.5 2148.27 1522.62 Q2148.27 1525.49 2146.62 1527.48 Q2144.98 1529.45 2141.95 1530.21 Z\" fill=\"#000000\" fill-rule=\"evenodd\" fill-opacity=\"1\" /><polyline clip-path=\"url(#clip162)\" style=\"stroke:#000000; stroke-linecap:butt; stroke-linejoin:round; stroke-width:2; stroke-opacity:0.1; fill:none\" points=\"\n",
       "  149.191,1459.33 2352.76,1459.33 \n",
       "  \"/>\n",
       "<polyline clip-path=\"url(#clip162)\" style=\"stroke:#000000; stroke-linecap:butt; stroke-linejoin:round; stroke-width:2; stroke-opacity:0.1; fill:none\" points=\"\n",
       "  149.191,1094.44 2352.76,1094.44 \n",
       "  \"/>\n",
       "<polyline clip-path=\"url(#clip162)\" style=\"stroke:#000000; stroke-linecap:butt; stroke-linejoin:round; stroke-width:2; stroke-opacity:0.1; fill:none\" points=\"\n",
       "  149.191,729.553 2352.76,729.553 \n",
       "  \"/>\n",
       "<polyline clip-path=\"url(#clip162)\" style=\"stroke:#000000; stroke-linecap:butt; stroke-linejoin:round; stroke-width:2; stroke-opacity:0.1; fill:none\" points=\"\n",
       "  149.191,364.667 2352.76,364.667 \n",
       "  \"/>\n",
       "<polyline clip-path=\"url(#clip160)\" style=\"stroke:#000000; stroke-linecap:butt; stroke-linejoin:round; stroke-width:4; stroke-opacity:1; fill:none\" points=\"\n",
       "  149.191,1486.45 149.191,47.2441 \n",
       "  \"/>\n",
       "<polyline clip-path=\"url(#clip160)\" style=\"stroke:#000000; stroke-linecap:butt; stroke-linejoin:round; stroke-width:4; stroke-opacity:1; fill:none\" points=\"\n",
       "  149.191,1459.33 168.089,1459.33 \n",
       "  \"/>\n",
       "<polyline clip-path=\"url(#clip160)\" style=\"stroke:#000000; stroke-linecap:butt; stroke-linejoin:round; stroke-width:4; stroke-opacity:1; fill:none\" points=\"\n",
       "  149.191,1094.44 168.089,1094.44 \n",
       "  \"/>\n",
       "<polyline clip-path=\"url(#clip160)\" style=\"stroke:#000000; stroke-linecap:butt; stroke-linejoin:round; stroke-width:4; stroke-opacity:1; fill:none\" points=\"\n",
       "  149.191,729.553 168.089,729.553 \n",
       "  \"/>\n",
       "<polyline clip-path=\"url(#clip160)\" style=\"stroke:#000000; stroke-linecap:butt; stroke-linejoin:round; stroke-width:4; stroke-opacity:1; fill:none\" points=\"\n",
       "  149.191,364.667 168.089,364.667 \n",
       "  \"/>\n",
       "<path clip-path=\"url(#clip160)\" d=\"M50.9921 1459.78 L80.6679 1459.78 L80.6679 1463.71 L50.9921 1463.71 L50.9921 1459.78 Z\" fill=\"#000000\" fill-rule=\"evenodd\" fill-opacity=\"1\" /><path clip-path=\"url(#clip160)\" d=\"M103.608 1446.12 L91.8021 1464.57 L103.608 1464.57 L103.608 1446.12 M102.381 1442.05 L108.26 1442.05 L108.26 1464.57 L113.191 1464.57 L113.191 1468.46 L108.26 1468.46 L108.26 1476.61 L103.608 1476.61 L103.608 1468.46 L88.0058 1468.46 L88.0058 1463.94 L102.381 1442.05 Z\" fill=\"#000000\" fill-rule=\"evenodd\" fill-opacity=\"1\" /><path clip-path=\"url(#clip160)\" d=\"M53.0754 1094.89 L82.7512 1094.89 L82.7512 1098.83 L53.0754 1098.83 L53.0754 1094.89 Z\" fill=\"#000000\" fill-rule=\"evenodd\" fill-opacity=\"1\" /><path clip-path=\"url(#clip160)\" d=\"M96.8715 1107.78 L113.191 1107.78 L113.191 1111.72 L91.2465 1111.72 L91.2465 1107.78 Q93.9086 1105.03 98.4919 1100.4 Q103.098 1095.75 104.279 1094.4 Q106.524 1091.88 107.404 1090.15 Q108.307 1088.39 108.307 1086.7 Q108.307 1083.94 106.362 1082.21 Q104.441 1080.47 101.339 1080.47 Q99.14 1080.47 96.6863 1081.23 Q94.2558 1082 91.478 1083.55 L91.478 1078.83 Q94.3021 1077.69 96.7558 1077.11 Q99.2095 1076.53 101.246 1076.53 Q106.617 1076.53 109.811 1079.22 Q113.006 1081.9 113.006 1086.4 Q113.006 1088.53 112.196 1090.45 Q111.408 1092.34 109.302 1094.94 Q108.723 1095.61 105.621 1098.83 Q102.52 1102.02 96.8715 1107.78 Z\" fill=\"#000000\" fill-rule=\"evenodd\" fill-opacity=\"1\" /><path clip-path=\"url(#clip160)\" d=\"M101.246 715.352 Q97.6354 715.352 95.8067 718.917 Q94.0012 722.458 94.0012 729.588 Q94.0012 736.694 95.8067 740.259 Q97.6354 743.801 101.246 743.801 Q104.881 743.801 106.686 740.259 Q108.515 736.694 108.515 729.588 Q108.515 722.458 106.686 718.917 Q104.881 715.352 101.246 715.352 M101.246 711.648 Q107.057 711.648 110.112 716.255 Q113.191 720.838 113.191 729.588 Q113.191 738.315 110.112 742.921 Q107.057 747.504 101.246 747.504 Q95.4363 747.504 92.3576 742.921 Q89.3021 738.315 89.3021 729.588 Q89.3021 720.838 92.3576 716.255 Q95.4363 711.648 101.246 711.648 Z\" fill=\"#000000\" fill-rule=\"evenodd\" fill-opacity=\"1\" /><path clip-path=\"url(#clip160)\" d=\"M96.8715 378.012 L113.191 378.012 L113.191 381.947 L91.2465 381.947 L91.2465 378.012 Q93.9086 375.257 98.4919 370.627 Q103.098 365.975 104.279 364.632 Q106.524 362.109 107.404 360.373 Q108.307 358.613 108.307 356.924 Q108.307 354.169 106.362 352.433 Q104.441 350.697 101.339 350.697 Q99.14 350.697 96.6863 351.461 Q94.2558 352.225 91.478 353.776 L91.478 349.053 Q94.3021 347.919 96.7558 347.34 Q99.2095 346.762 101.246 346.762 Q106.617 346.762 109.811 349.447 Q113.006 352.132 113.006 356.623 Q113.006 358.752 112.196 360.674 Q111.408 362.572 109.302 365.164 Q108.723 365.836 105.621 369.053 Q102.52 372.248 96.8715 378.012 Z\" fill=\"#000000\" fill-rule=\"evenodd\" fill-opacity=\"1\" /><polyline clip-path=\"url(#clip162)\" style=\"stroke:#6b9e32; stroke-linecap:butt; stroke-linejoin:round; stroke-width:4; stroke-opacity:1; fill:none\" points=\"\n",
       "  211.556,1371.13 2290.39,87.9763 \n",
       "  \"/>\n",
       "<circle clip-path=\"url(#clip162)\" cx=\"211.556\" cy=\"1445.72\" r=\"14.4\" fill=\"#009af9\" fill-rule=\"evenodd\" fill-opacity=\"1\" stroke=\"#000000\" stroke-opacity=\"1\" stroke-width=\"3.2\"/>\n",
       "<circle clip-path=\"url(#clip162)\" cx=\"333.722\" cy=\"1364.97\" r=\"14.4\" fill=\"#009af9\" fill-rule=\"evenodd\" fill-opacity=\"1\" stroke=\"#000000\" stroke-opacity=\"1\" stroke-width=\"3.2\"/>\n",
       "<circle clip-path=\"url(#clip162)\" cx=\"411.25\" cy=\"1337.52\" r=\"14.4\" fill=\"#009af9\" fill-rule=\"evenodd\" fill-opacity=\"1\" stroke=\"#000000\" stroke-opacity=\"1\" stroke-width=\"3.2\"/>\n",
       "<circle clip-path=\"url(#clip162)\" cx=\"469.582\" cy=\"1304.15\" r=\"14.4\" fill=\"#009af9\" fill-rule=\"evenodd\" fill-opacity=\"1\" stroke=\"#000000\" stroke-opacity=\"1\" stroke-width=\"3.2\"/>\n",
       "<circle clip-path=\"url(#clip162)\" cx=\"517.038\" cy=\"1302.19\" r=\"14.4\" fill=\"#009af9\" fill-rule=\"evenodd\" fill-opacity=\"1\" stroke=\"#000000\" stroke-opacity=\"1\" stroke-width=\"3.2\"/>\n",
       "<circle clip-path=\"url(#clip162)\" cx=\"557.436\" cy=\"1221.19\" r=\"14.4\" fill=\"#009af9\" fill-rule=\"evenodd\" fill-opacity=\"1\" stroke=\"#000000\" stroke-opacity=\"1\" stroke-width=\"3.2\"/>\n",
       "<circle clip-path=\"url(#clip162)\" cx=\"592.863\" cy=\"1205.81\" r=\"14.4\" fill=\"#009af9\" fill-rule=\"evenodd\" fill-opacity=\"1\" stroke=\"#000000\" stroke-opacity=\"1\" stroke-width=\"3.2\"/>\n",
       "<circle clip-path=\"url(#clip162)\" cx=\"624.588\" cy=\"1188.87\" r=\"14.4\" fill=\"#009af9\" fill-rule=\"evenodd\" fill-opacity=\"1\" stroke=\"#000000\" stroke-opacity=\"1\" stroke-width=\"3.2\"/>\n",
       "<circle clip-path=\"url(#clip162)\" cx=\"653.444\" cy=\"1116.49\" r=\"14.4\" fill=\"#009af9\" fill-rule=\"evenodd\" fill-opacity=\"1\" stroke=\"#000000\" stroke-opacity=\"1\" stroke-width=\"3.2\"/>\n",
       "<circle clip-path=\"url(#clip162)\" cx=\"680.009\" cy=\"1112.48\" r=\"14.4\" fill=\"#009af9\" fill-rule=\"evenodd\" fill-opacity=\"1\" stroke=\"#000000\" stroke-opacity=\"1\" stroke-width=\"3.2\"/>\n",
       "<circle clip-path=\"url(#clip162)\" cx=\"704.702\" cy=\"1091.13\" r=\"14.4\" fill=\"#009af9\" fill-rule=\"evenodd\" fill-opacity=\"1\" stroke=\"#000000\" stroke-opacity=\"1\" stroke-width=\"3.2\"/>\n",
       "<circle clip-path=\"url(#clip162)\" cx=\"727.836\" cy=\"1084.68\" r=\"14.4\" fill=\"#009af9\" fill-rule=\"evenodd\" fill-opacity=\"1\" stroke=\"#000000\" stroke-opacity=\"1\" stroke-width=\"3.2\"/>\n",
       "<circle clip-path=\"url(#clip162)\" cx=\"749.65\" cy=\"1084.21\" r=\"14.4\" fill=\"#009af9\" fill-rule=\"evenodd\" fill-opacity=\"1\" stroke=\"#000000\" stroke-opacity=\"1\" stroke-width=\"3.2\"/>\n",
       "<circle clip-path=\"url(#clip162)\" cx=\"770.334\" cy=\"1044.26\" r=\"14.4\" fill=\"#009af9\" fill-rule=\"evenodd\" fill-opacity=\"1\" stroke=\"#000000\" stroke-opacity=\"1\" stroke-width=\"3.2\"/>\n",
       "<circle clip-path=\"url(#clip162)\" cx=\"790.039\" cy=\"1000.35\" r=\"14.4\" fill=\"#009af9\" fill-rule=\"evenodd\" fill-opacity=\"1\" stroke=\"#000000\" stroke-opacity=\"1\" stroke-width=\"3.2\"/>\n",
       "<circle clip-path=\"url(#clip162)\" cx=\"808.888\" cy=\"991.733\" r=\"14.4\" fill=\"#009af9\" fill-rule=\"evenodd\" fill-opacity=\"1\" stroke=\"#000000\" stroke-opacity=\"1\" stroke-width=\"3.2\"/>\n",
       "<circle clip-path=\"url(#clip162)\" cx=\"826.985\" cy=\"985.014\" r=\"14.4\" fill=\"#009af9\" fill-rule=\"evenodd\" fill-opacity=\"1\" stroke=\"#000000\" stroke-opacity=\"1\" stroke-width=\"3.2\"/>\n",
       "<circle clip-path=\"url(#clip162)\" cx=\"844.413\" cy=\"933.458\" r=\"14.4\" fill=\"#009af9\" fill-rule=\"evenodd\" fill-opacity=\"1\" stroke=\"#000000\" stroke-opacity=\"1\" stroke-width=\"3.2\"/>\n",
       "<circle clip-path=\"url(#clip162)\" cx=\"861.245\" cy=\"921.088\" r=\"14.4\" fill=\"#009af9\" fill-rule=\"evenodd\" fill-opacity=\"1\" stroke=\"#000000\" stroke-opacity=\"1\" stroke-width=\"3.2\"/>\n",
       "<circle clip-path=\"url(#clip162)\" cx=\"877.544\" cy=\"907.859\" r=\"14.4\" fill=\"#009af9\" fill-rule=\"evenodd\" fill-opacity=\"1\" stroke=\"#000000\" stroke-opacity=\"1\" stroke-width=\"3.2\"/>\n",
       "<circle clip-path=\"url(#clip162)\" cx=\"893.361\" cy=\"894.881\" r=\"14.4\" fill=\"#009af9\" fill-rule=\"evenodd\" fill-opacity=\"1\" stroke=\"#000000\" stroke-opacity=\"1\" stroke-width=\"3.2\"/>\n",
       "<circle clip-path=\"url(#clip162)\" cx=\"908.744\" cy=\"894.614\" r=\"14.4\" fill=\"#009af9\" fill-rule=\"evenodd\" fill-opacity=\"1\" stroke=\"#000000\" stroke-opacity=\"1\" stroke-width=\"3.2\"/>\n",
       "<circle clip-path=\"url(#clip162)\" cx=\"923.733\" cy=\"890.04\" r=\"14.4\" fill=\"#009af9\" fill-rule=\"evenodd\" fill-opacity=\"1\" stroke=\"#000000\" stroke-opacity=\"1\" stroke-width=\"3.2\"/>\n",
       "<circle clip-path=\"url(#clip162)\" cx=\"938.363\" cy=\"883.429\" r=\"14.4\" fill=\"#009af9\" fill-rule=\"evenodd\" fill-opacity=\"1\" stroke=\"#000000\" stroke-opacity=\"1\" stroke-width=\"3.2\"/>\n",
       "<circle clip-path=\"url(#clip162)\" cx=\"952.667\" cy=\"875.59\" r=\"14.4\" fill=\"#009af9\" fill-rule=\"evenodd\" fill-opacity=\"1\" stroke=\"#000000\" stroke-opacity=\"1\" stroke-width=\"3.2\"/>\n",
       "<circle clip-path=\"url(#clip162)\" cx=\"966.672\" cy=\"873.38\" r=\"14.4\" fill=\"#009af9\" fill-rule=\"evenodd\" fill-opacity=\"1\" stroke=\"#000000\" stroke-opacity=\"1\" stroke-width=\"3.2\"/>\n",
       "<circle clip-path=\"url(#clip162)\" cx=\"980.404\" cy=\"850.3\" r=\"14.4\" fill=\"#009af9\" fill-rule=\"evenodd\" fill-opacity=\"1\" stroke=\"#000000\" stroke-opacity=\"1\" stroke-width=\"3.2\"/>\n",
       "<circle clip-path=\"url(#clip162)\" cx=\"993.886\" cy=\"803.898\" r=\"14.4\" fill=\"#009af9\" fill-rule=\"evenodd\" fill-opacity=\"1\" stroke=\"#000000\" stroke-opacity=\"1\" stroke-width=\"3.2\"/>\n",
       "<circle clip-path=\"url(#clip162)\" cx=\"1007.14\" cy=\"794.757\" r=\"14.4\" fill=\"#009af9\" fill-rule=\"evenodd\" fill-opacity=\"1\" stroke=\"#000000\" stroke-opacity=\"1\" stroke-width=\"3.2\"/>\n",
       "<circle clip-path=\"url(#clip162)\" cx=\"1020.18\" cy=\"793.912\" r=\"14.4\" fill=\"#009af9\" fill-rule=\"evenodd\" fill-opacity=\"1\" stroke=\"#000000\" stroke-opacity=\"1\" stroke-width=\"3.2\"/>\n",
       "<circle clip-path=\"url(#clip162)\" cx=\"1033.03\" cy=\"776.358\" r=\"14.4\" fill=\"#009af9\" fill-rule=\"evenodd\" fill-opacity=\"1\" stroke=\"#000000\" stroke-opacity=\"1\" stroke-width=\"3.2\"/>\n",
       "<circle clip-path=\"url(#clip162)\" cx=\"1045.7\" cy=\"767.518\" r=\"14.4\" fill=\"#009af9\" fill-rule=\"evenodd\" fill-opacity=\"1\" stroke=\"#000000\" stroke-opacity=\"1\" stroke-width=\"3.2\"/>\n",
       "<circle clip-path=\"url(#clip162)\" cx=\"1058.21\" cy=\"761.236\" r=\"14.4\" fill=\"#009af9\" fill-rule=\"evenodd\" fill-opacity=\"1\" stroke=\"#000000\" stroke-opacity=\"1\" stroke-width=\"3.2\"/>\n",
       "<circle clip-path=\"url(#clip162)\" cx=\"1070.57\" cy=\"756.623\" r=\"14.4\" fill=\"#009af9\" fill-rule=\"evenodd\" fill-opacity=\"1\" stroke=\"#000000\" stroke-opacity=\"1\" stroke-width=\"3.2\"/>\n",
       "<circle clip-path=\"url(#clip162)\" cx=\"1082.8\" cy=\"749.768\" r=\"14.4\" fill=\"#009af9\" fill-rule=\"evenodd\" fill-opacity=\"1\" stroke=\"#000000\" stroke-opacity=\"1\" stroke-width=\"3.2\"/>\n",
       "<circle clip-path=\"url(#clip162)\" cx=\"1094.9\" cy=\"747.911\" r=\"14.4\" fill=\"#009af9\" fill-rule=\"evenodd\" fill-opacity=\"1\" stroke=\"#000000\" stroke-opacity=\"1\" stroke-width=\"3.2\"/>\n",
       "<circle clip-path=\"url(#clip162)\" cx=\"1106.88\" cy=\"742.756\" r=\"14.4\" fill=\"#009af9\" fill-rule=\"evenodd\" fill-opacity=\"1\" stroke=\"#000000\" stroke-opacity=\"1\" stroke-width=\"3.2\"/>\n",
       "<circle clip-path=\"url(#clip162)\" cx=\"1118.77\" cy=\"728.152\" r=\"14.4\" fill=\"#009af9\" fill-rule=\"evenodd\" fill-opacity=\"1\" stroke=\"#000000\" stroke-opacity=\"1\" stroke-width=\"3.2\"/>\n",
       "<circle clip-path=\"url(#clip162)\" cx=\"1130.56\" cy=\"723.56\" r=\"14.4\" fill=\"#009af9\" fill-rule=\"evenodd\" fill-opacity=\"1\" stroke=\"#000000\" stroke-opacity=\"1\" stroke-width=\"3.2\"/>\n",
       "<circle clip-path=\"url(#clip162)\" cx=\"1142.27\" cy=\"715.031\" r=\"14.4\" fill=\"#009af9\" fill-rule=\"evenodd\" fill-opacity=\"1\" stroke=\"#000000\" stroke-opacity=\"1\" stroke-width=\"3.2\"/>\n",
       "<circle clip-path=\"url(#clip162)\" cx=\"1153.9\" cy=\"713.452\" r=\"14.4\" fill=\"#009af9\" fill-rule=\"evenodd\" fill-opacity=\"1\" stroke=\"#000000\" stroke-opacity=\"1\" stroke-width=\"3.2\"/>\n",
       "<circle clip-path=\"url(#clip162)\" cx=\"1165.47\" cy=\"711.404\" r=\"14.4\" fill=\"#009af9\" fill-rule=\"evenodd\" fill-opacity=\"1\" stroke=\"#000000\" stroke-opacity=\"1\" stroke-width=\"3.2\"/>\n",
       "<circle clip-path=\"url(#clip162)\" cx=\"1176.99\" cy=\"692.292\" r=\"14.4\" fill=\"#009af9\" fill-rule=\"evenodd\" fill-opacity=\"1\" stroke=\"#000000\" stroke-opacity=\"1\" stroke-width=\"3.2\"/>\n",
       "<circle clip-path=\"url(#clip162)\" cx=\"1188.45\" cy=\"687.927\" r=\"14.4\" fill=\"#009af9\" fill-rule=\"evenodd\" fill-opacity=\"1\" stroke=\"#000000\" stroke-opacity=\"1\" stroke-width=\"3.2\"/>\n",
       "<circle clip-path=\"url(#clip162)\" cx=\"1199.87\" cy=\"687.338\" r=\"14.4\" fill=\"#009af9\" fill-rule=\"evenodd\" fill-opacity=\"1\" stroke=\"#000000\" stroke-opacity=\"1\" stroke-width=\"3.2\"/>\n",
       "<circle clip-path=\"url(#clip162)\" cx=\"1211.26\" cy=\"685.734\" r=\"14.4\" fill=\"#009af9\" fill-rule=\"evenodd\" fill-opacity=\"1\" stroke=\"#000000\" stroke-opacity=\"1\" stroke-width=\"3.2\"/>\n",
       "<circle clip-path=\"url(#clip162)\" cx=\"1222.63\" cy=\"685.562\" r=\"14.4\" fill=\"#009af9\" fill-rule=\"evenodd\" fill-opacity=\"1\" stroke=\"#000000\" stroke-opacity=\"1\" stroke-width=\"3.2\"/>\n",
       "<circle clip-path=\"url(#clip162)\" cx=\"1233.97\" cy=\"676.169\" r=\"14.4\" fill=\"#009af9\" fill-rule=\"evenodd\" fill-opacity=\"1\" stroke=\"#000000\" stroke-opacity=\"1\" stroke-width=\"3.2\"/>\n",
       "<circle clip-path=\"url(#clip162)\" cx=\"1245.31\" cy=\"674.038\" r=\"14.4\" fill=\"#009af9\" fill-rule=\"evenodd\" fill-opacity=\"1\" stroke=\"#000000\" stroke-opacity=\"1\" stroke-width=\"3.2\"/>\n",
       "<circle clip-path=\"url(#clip162)\" cx=\"1256.64\" cy=\"674.032\" r=\"14.4\" fill=\"#009af9\" fill-rule=\"evenodd\" fill-opacity=\"1\" stroke=\"#000000\" stroke-opacity=\"1\" stroke-width=\"3.2\"/>\n",
       "<circle clip-path=\"url(#clip162)\" cx=\"1267.97\" cy=\"670.445\" r=\"14.4\" fill=\"#009af9\" fill-rule=\"evenodd\" fill-opacity=\"1\" stroke=\"#000000\" stroke-opacity=\"1\" stroke-width=\"3.2\"/>\n",
       "<circle clip-path=\"url(#clip162)\" cx=\"1279.32\" cy=\"669.086\" r=\"14.4\" fill=\"#009af9\" fill-rule=\"evenodd\" fill-opacity=\"1\" stroke=\"#000000\" stroke-opacity=\"1\" stroke-width=\"3.2\"/>\n",
       "<circle clip-path=\"url(#clip162)\" cx=\"1290.68\" cy=\"667.947\" r=\"14.4\" fill=\"#009af9\" fill-rule=\"evenodd\" fill-opacity=\"1\" stroke=\"#000000\" stroke-opacity=\"1\" stroke-width=\"3.2\"/>\n",
       "<circle clip-path=\"url(#clip162)\" cx=\"1302.07\" cy=\"666.981\" r=\"14.4\" fill=\"#009af9\" fill-rule=\"evenodd\" fill-opacity=\"1\" stroke=\"#000000\" stroke-opacity=\"1\" stroke-width=\"3.2\"/>\n",
       "<circle clip-path=\"url(#clip162)\" cx=\"1313.5\" cy=\"664.564\" r=\"14.4\" fill=\"#009af9\" fill-rule=\"evenodd\" fill-opacity=\"1\" stroke=\"#000000\" stroke-opacity=\"1\" stroke-width=\"3.2\"/>\n",
       "<circle clip-path=\"url(#clip162)\" cx=\"1324.96\" cy=\"662.968\" r=\"14.4\" fill=\"#009af9\" fill-rule=\"evenodd\" fill-opacity=\"1\" stroke=\"#000000\" stroke-opacity=\"1\" stroke-width=\"3.2\"/>\n",
       "<circle clip-path=\"url(#clip162)\" cx=\"1336.47\" cy=\"659.831\" r=\"14.4\" fill=\"#009af9\" fill-rule=\"evenodd\" fill-opacity=\"1\" stroke=\"#000000\" stroke-opacity=\"1\" stroke-width=\"3.2\"/>\n",
       "<circle clip-path=\"url(#clip162)\" cx=\"1348.04\" cy=\"655.377\" r=\"14.4\" fill=\"#009af9\" fill-rule=\"evenodd\" fill-opacity=\"1\" stroke=\"#000000\" stroke-opacity=\"1\" stroke-width=\"3.2\"/>\n",
       "<circle clip-path=\"url(#clip162)\" cx=\"1359.68\" cy=\"652.497\" r=\"14.4\" fill=\"#009af9\" fill-rule=\"evenodd\" fill-opacity=\"1\" stroke=\"#000000\" stroke-opacity=\"1\" stroke-width=\"3.2\"/>\n",
       "<circle clip-path=\"url(#clip162)\" cx=\"1371.39\" cy=\"646.527\" r=\"14.4\" fill=\"#009af9\" fill-rule=\"evenodd\" fill-opacity=\"1\" stroke=\"#000000\" stroke-opacity=\"1\" stroke-width=\"3.2\"/>\n",
       "<circle clip-path=\"url(#clip162)\" cx=\"1383.18\" cy=\"645.378\" r=\"14.4\" fill=\"#009af9\" fill-rule=\"evenodd\" fill-opacity=\"1\" stroke=\"#000000\" stroke-opacity=\"1\" stroke-width=\"3.2\"/>\n",
       "<circle clip-path=\"url(#clip162)\" cx=\"1395.06\" cy=\"644.486\" r=\"14.4\" fill=\"#009af9\" fill-rule=\"evenodd\" fill-opacity=\"1\" stroke=\"#000000\" stroke-opacity=\"1\" stroke-width=\"3.2\"/>\n",
       "<circle clip-path=\"url(#clip162)\" cx=\"1407.05\" cy=\"633.318\" r=\"14.4\" fill=\"#009af9\" fill-rule=\"evenodd\" fill-opacity=\"1\" stroke=\"#000000\" stroke-opacity=\"1\" stroke-width=\"3.2\"/>\n",
       "<circle clip-path=\"url(#clip162)\" cx=\"1419.15\" cy=\"626.173\" r=\"14.4\" fill=\"#009af9\" fill-rule=\"evenodd\" fill-opacity=\"1\" stroke=\"#000000\" stroke-opacity=\"1\" stroke-width=\"3.2\"/>\n",
       "<circle clip-path=\"url(#clip162)\" cx=\"1431.38\" cy=\"625.793\" r=\"14.4\" fill=\"#009af9\" fill-rule=\"evenodd\" fill-opacity=\"1\" stroke=\"#000000\" stroke-opacity=\"1\" stroke-width=\"3.2\"/>\n",
       "<circle clip-path=\"url(#clip162)\" cx=\"1443.74\" cy=\"621.664\" r=\"14.4\" fill=\"#009af9\" fill-rule=\"evenodd\" fill-opacity=\"1\" stroke=\"#000000\" stroke-opacity=\"1\" stroke-width=\"3.2\"/>\n",
       "<circle clip-path=\"url(#clip162)\" cx=\"1456.25\" cy=\"616.199\" r=\"14.4\" fill=\"#009af9\" fill-rule=\"evenodd\" fill-opacity=\"1\" stroke=\"#000000\" stroke-opacity=\"1\" stroke-width=\"3.2\"/>\n",
       "<circle clip-path=\"url(#clip162)\" cx=\"1468.92\" cy=\"606.337\" r=\"14.4\" fill=\"#009af9\" fill-rule=\"evenodd\" fill-opacity=\"1\" stroke=\"#000000\" stroke-opacity=\"1\" stroke-width=\"3.2\"/>\n",
       "<circle clip-path=\"url(#clip162)\" cx=\"1481.77\" cy=\"576.688\" r=\"14.4\" fill=\"#009af9\" fill-rule=\"evenodd\" fill-opacity=\"1\" stroke=\"#000000\" stroke-opacity=\"1\" stroke-width=\"3.2\"/>\n",
       "<circle clip-path=\"url(#clip162)\" cx=\"1494.81\" cy=\"576.122\" r=\"14.4\" fill=\"#009af9\" fill-rule=\"evenodd\" fill-opacity=\"1\" stroke=\"#000000\" stroke-opacity=\"1\" stroke-width=\"3.2\"/>\n",
       "<circle clip-path=\"url(#clip162)\" cx=\"1508.06\" cy=\"573.559\" r=\"14.4\" fill=\"#009af9\" fill-rule=\"evenodd\" fill-opacity=\"1\" stroke=\"#000000\" stroke-opacity=\"1\" stroke-width=\"3.2\"/>\n",
       "<circle clip-path=\"url(#clip162)\" cx=\"1521.54\" cy=\"551.568\" r=\"14.4\" fill=\"#009af9\" fill-rule=\"evenodd\" fill-opacity=\"1\" stroke=\"#000000\" stroke-opacity=\"1\" stroke-width=\"3.2\"/>\n",
       "<circle clip-path=\"url(#clip162)\" cx=\"1535.27\" cy=\"530.737\" r=\"14.4\" fill=\"#009af9\" fill-rule=\"evenodd\" fill-opacity=\"1\" stroke=\"#000000\" stroke-opacity=\"1\" stroke-width=\"3.2\"/>\n",
       "<circle clip-path=\"url(#clip162)\" cx=\"1549.28\" cy=\"527.398\" r=\"14.4\" fill=\"#009af9\" fill-rule=\"evenodd\" fill-opacity=\"1\" stroke=\"#000000\" stroke-opacity=\"1\" stroke-width=\"3.2\"/>\n",
       "<circle clip-path=\"url(#clip162)\" cx=\"1563.58\" cy=\"521.308\" r=\"14.4\" fill=\"#009af9\" fill-rule=\"evenodd\" fill-opacity=\"1\" stroke=\"#000000\" stroke-opacity=\"1\" stroke-width=\"3.2\"/>\n",
       "<circle clip-path=\"url(#clip162)\" cx=\"1578.21\" cy=\"517.582\" r=\"14.4\" fill=\"#009af9\" fill-rule=\"evenodd\" fill-opacity=\"1\" stroke=\"#000000\" stroke-opacity=\"1\" stroke-width=\"3.2\"/>\n",
       "<circle clip-path=\"url(#clip162)\" cx=\"1593.2\" cy=\"517.552\" r=\"14.4\" fill=\"#009af9\" fill-rule=\"evenodd\" fill-opacity=\"1\" stroke=\"#000000\" stroke-opacity=\"1\" stroke-width=\"3.2\"/>\n",
       "<circle clip-path=\"url(#clip162)\" cx=\"1608.59\" cy=\"517.134\" r=\"14.4\" fill=\"#009af9\" fill-rule=\"evenodd\" fill-opacity=\"1\" stroke=\"#000000\" stroke-opacity=\"1\" stroke-width=\"3.2\"/>\n",
       "<circle clip-path=\"url(#clip162)\" cx=\"1624.4\" cy=\"516.513\" r=\"14.4\" fill=\"#009af9\" fill-rule=\"evenodd\" fill-opacity=\"1\" stroke=\"#000000\" stroke-opacity=\"1\" stroke-width=\"3.2\"/>\n",
       "<circle clip-path=\"url(#clip162)\" cx=\"1640.7\" cy=\"509.394\" r=\"14.4\" fill=\"#009af9\" fill-rule=\"evenodd\" fill-opacity=\"1\" stroke=\"#000000\" stroke-opacity=\"1\" stroke-width=\"3.2\"/>\n",
       "<circle clip-path=\"url(#clip162)\" cx=\"1657.53\" cy=\"508.849\" r=\"14.4\" fill=\"#009af9\" fill-rule=\"evenodd\" fill-opacity=\"1\" stroke=\"#000000\" stroke-opacity=\"1\" stroke-width=\"3.2\"/>\n",
       "<circle clip-path=\"url(#clip162)\" cx=\"1674.96\" cy=\"506.477\" r=\"14.4\" fill=\"#009af9\" fill-rule=\"evenodd\" fill-opacity=\"1\" stroke=\"#000000\" stroke-opacity=\"1\" stroke-width=\"3.2\"/>\n",
       "<circle clip-path=\"url(#clip162)\" cx=\"1693.06\" cy=\"490.599\" r=\"14.4\" fill=\"#009af9\" fill-rule=\"evenodd\" fill-opacity=\"1\" stroke=\"#000000\" stroke-opacity=\"1\" stroke-width=\"3.2\"/>\n",
       "<circle clip-path=\"url(#clip162)\" cx=\"1711.91\" cy=\"466.754\" r=\"14.4\" fill=\"#009af9\" fill-rule=\"evenodd\" fill-opacity=\"1\" stroke=\"#000000\" stroke-opacity=\"1\" stroke-width=\"3.2\"/>\n",
       "<circle clip-path=\"url(#clip162)\" cx=\"1731.61\" cy=\"432.664\" r=\"14.4\" fill=\"#009af9\" fill-rule=\"evenodd\" fill-opacity=\"1\" stroke=\"#000000\" stroke-opacity=\"1\" stroke-width=\"3.2\"/>\n",
       "<circle clip-path=\"url(#clip162)\" cx=\"1752.3\" cy=\"427.851\" r=\"14.4\" fill=\"#009af9\" fill-rule=\"evenodd\" fill-opacity=\"1\" stroke=\"#000000\" stroke-opacity=\"1\" stroke-width=\"3.2\"/>\n",
       "<circle clip-path=\"url(#clip162)\" cx=\"1774.11\" cy=\"423.098\" r=\"14.4\" fill=\"#009af9\" fill-rule=\"evenodd\" fill-opacity=\"1\" stroke=\"#000000\" stroke-opacity=\"1\" stroke-width=\"3.2\"/>\n",
       "<circle clip-path=\"url(#clip162)\" cx=\"1797.24\" cy=\"407.743\" r=\"14.4\" fill=\"#009af9\" fill-rule=\"evenodd\" fill-opacity=\"1\" stroke=\"#000000\" stroke-opacity=\"1\" stroke-width=\"3.2\"/>\n",
       "<circle clip-path=\"url(#clip162)\" cx=\"1821.94\" cy=\"406.582\" r=\"14.4\" fill=\"#009af9\" fill-rule=\"evenodd\" fill-opacity=\"1\" stroke=\"#000000\" stroke-opacity=\"1\" stroke-width=\"3.2\"/>\n",
       "<circle clip-path=\"url(#clip162)\" cx=\"1848.5\" cy=\"394.144\" r=\"14.4\" fill=\"#009af9\" fill-rule=\"evenodd\" fill-opacity=\"1\" stroke=\"#000000\" stroke-opacity=\"1\" stroke-width=\"3.2\"/>\n",
       "<circle clip-path=\"url(#clip162)\" cx=\"1877.36\" cy=\"383.887\" r=\"14.4\" fill=\"#009af9\" fill-rule=\"evenodd\" fill-opacity=\"1\" stroke=\"#000000\" stroke-opacity=\"1\" stroke-width=\"3.2\"/>\n",
       "<circle clip-path=\"url(#clip162)\" cx=\"1909.08\" cy=\"381.014\" r=\"14.4\" fill=\"#009af9\" fill-rule=\"evenodd\" fill-opacity=\"1\" stroke=\"#000000\" stroke-opacity=\"1\" stroke-width=\"3.2\"/>\n",
       "<circle clip-path=\"url(#clip162)\" cx=\"1944.51\" cy=\"379.339\" r=\"14.4\" fill=\"#009af9\" fill-rule=\"evenodd\" fill-opacity=\"1\" stroke=\"#000000\" stroke-opacity=\"1\" stroke-width=\"3.2\"/>\n",
       "<circle clip-path=\"url(#clip162)\" cx=\"1984.91\" cy=\"373.219\" r=\"14.4\" fill=\"#009af9\" fill-rule=\"evenodd\" fill-opacity=\"1\" stroke=\"#000000\" stroke-opacity=\"1\" stroke-width=\"3.2\"/>\n",
       "<circle clip-path=\"url(#clip162)\" cx=\"2032.36\" cy=\"364.242\" r=\"14.4\" fill=\"#009af9\" fill-rule=\"evenodd\" fill-opacity=\"1\" stroke=\"#000000\" stroke-opacity=\"1\" stroke-width=\"3.2\"/>\n",
       "<circle clip-path=\"url(#clip162)\" cx=\"2090.7\" cy=\"361.535\" r=\"14.4\" fill=\"#009af9\" fill-rule=\"evenodd\" fill-opacity=\"1\" stroke=\"#000000\" stroke-opacity=\"1\" stroke-width=\"3.2\"/>\n",
       "<circle clip-path=\"url(#clip162)\" cx=\"2168.22\" cy=\"337.34\" r=\"14.4\" fill=\"#009af9\" fill-rule=\"evenodd\" fill-opacity=\"1\" stroke=\"#000000\" stroke-opacity=\"1\" stroke-width=\"3.2\"/>\n",
       "<circle clip-path=\"url(#clip162)\" cx=\"2290.39\" cy=\"302.604\" r=\"14.4\" fill=\"#009af9\" fill-rule=\"evenodd\" fill-opacity=\"1\" stroke=\"#000000\" stroke-opacity=\"1\" stroke-width=\"3.2\"/>\n",
       "</svg>\n"
      ]
     },
     "execution_count": 47,
     "metadata": {},
     "output_type": "execute_result"
    }
   ],
   "source": [
    "qqnorm(error_train)"
   ]
  },
  {
   "cell_type": "code",
   "execution_count": 48,
   "id": "3a98f836",
   "metadata": {},
   "outputs": [
    {
     "data": {
      "image/svg+xml": [
       "<?xml version=\"1.0\" encoding=\"utf-8\"?>\n",
       "<svg xmlns=\"http://www.w3.org/2000/svg\" xmlns:xlink=\"http://www.w3.org/1999/xlink\" width=\"600\" height=\"400\" viewBox=\"0 0 2400 1600\">\n",
       "<defs>\n",
       "  <clipPath id=\"clip200\">\n",
       "    <rect x=\"0\" y=\"0\" width=\"2400\" height=\"1600\"/>\n",
       "  </clipPath>\n",
       "</defs>\n",
       "<path clip-path=\"url(#clip200)\" d=\"\n",
       "M0 1600 L2400 1600 L2400 0 L0 0  Z\n",
       "  \" fill=\"#ffffff\" fill-rule=\"evenodd\" fill-opacity=\"1\"/>\n",
       "<defs>\n",
       "  <clipPath id=\"clip201\">\n",
       "    <rect x=\"480\" y=\"0\" width=\"1681\" height=\"1600\"/>\n",
       "  </clipPath>\n",
       "</defs>\n",
       "<path clip-path=\"url(#clip200)\" d=\"\n",
       "M149.191 1486.45 L2352.76 1486.45 L2352.76 47.2441 L149.191 47.2441  Z\n",
       "  \" fill=\"#ffffff\" fill-rule=\"evenodd\" fill-opacity=\"1\"/>\n",
       "<defs>\n",
       "  <clipPath id=\"clip202\">\n",
       "    <rect x=\"149\" y=\"47\" width=\"2205\" height=\"1440\"/>\n",
       "  </clipPath>\n",
       "</defs>\n",
       "<polyline clip-path=\"url(#clip202)\" style=\"stroke:#000000; stroke-linecap:butt; stroke-linejoin:round; stroke-width:2; stroke-opacity:0.1; fill:none\" points=\"\n",
       "  216.656,1486.45 216.656,47.2441 \n",
       "  \"/>\n",
       "<polyline clip-path=\"url(#clip202)\" style=\"stroke:#000000; stroke-linecap:butt; stroke-linejoin:round; stroke-width:2; stroke-opacity:0.1; fill:none\" points=\"\n",
       "  710.507,1486.45 710.507,47.2441 \n",
       "  \"/>\n",
       "<polyline clip-path=\"url(#clip202)\" style=\"stroke:#000000; stroke-linecap:butt; stroke-linejoin:round; stroke-width:2; stroke-opacity:0.1; fill:none\" points=\"\n",
       "  1204.36,1486.45 1204.36,47.2441 \n",
       "  \"/>\n",
       "<polyline clip-path=\"url(#clip202)\" style=\"stroke:#000000; stroke-linecap:butt; stroke-linejoin:round; stroke-width:2; stroke-opacity:0.1; fill:none\" points=\"\n",
       "  1698.21,1486.45 1698.21,47.2441 \n",
       "  \"/>\n",
       "<polyline clip-path=\"url(#clip202)\" style=\"stroke:#000000; stroke-linecap:butt; stroke-linejoin:round; stroke-width:2; stroke-opacity:0.1; fill:none\" points=\"\n",
       "  2192.06,1486.45 2192.06,47.2441 \n",
       "  \"/>\n",
       "<polyline clip-path=\"url(#clip200)\" style=\"stroke:#000000; stroke-linecap:butt; stroke-linejoin:round; stroke-width:4; stroke-opacity:1; fill:none\" points=\"\n",
       "  149.191,1486.45 2352.76,1486.45 \n",
       "  \"/>\n",
       "<polyline clip-path=\"url(#clip200)\" style=\"stroke:#000000; stroke-linecap:butt; stroke-linejoin:round; stroke-width:4; stroke-opacity:1; fill:none\" points=\"\n",
       "  216.656,1486.45 216.656,1467.55 \n",
       "  \"/>\n",
       "<polyline clip-path=\"url(#clip200)\" style=\"stroke:#000000; stroke-linecap:butt; stroke-linejoin:round; stroke-width:4; stroke-opacity:1; fill:none\" points=\"\n",
       "  710.507,1486.45 710.507,1467.55 \n",
       "  \"/>\n",
       "<polyline clip-path=\"url(#clip200)\" style=\"stroke:#000000; stroke-linecap:butt; stroke-linejoin:round; stroke-width:4; stroke-opacity:1; fill:none\" points=\"\n",
       "  1204.36,1486.45 1204.36,1467.55 \n",
       "  \"/>\n",
       "<polyline clip-path=\"url(#clip200)\" style=\"stroke:#000000; stroke-linecap:butt; stroke-linejoin:round; stroke-width:4; stroke-opacity:1; fill:none\" points=\"\n",
       "  1698.21,1486.45 1698.21,1467.55 \n",
       "  \"/>\n",
       "<polyline clip-path=\"url(#clip200)\" style=\"stroke:#000000; stroke-linecap:butt; stroke-linejoin:round; stroke-width:4; stroke-opacity:1; fill:none\" points=\"\n",
       "  2192.06,1486.45 2192.06,1467.55 \n",
       "  \"/>\n",
       "<path clip-path=\"url(#clip200)\" d=\"M185.557 1532.02 L215.233 1532.02 L215.233 1535.95 L185.557 1535.95 L185.557 1532.02 Z\" fill=\"#000000\" fill-rule=\"evenodd\" fill-opacity=\"1\" /><path clip-path=\"url(#clip200)\" d=\"M238.172 1518.36 L226.367 1536.81 L238.172 1536.81 L238.172 1518.36 M236.945 1514.29 L242.825 1514.29 L242.825 1536.81 L247.756 1536.81 L247.756 1540.7 L242.825 1540.7 L242.825 1548.85 L238.172 1548.85 L238.172 1540.7 L222.571 1540.7 L222.571 1536.19 L236.945 1514.29 Z\" fill=\"#000000\" fill-rule=\"evenodd\" fill-opacity=\"1\" /><path clip-path=\"url(#clip200)\" d=\"M680.449 1532.02 L710.125 1532.02 L710.125 1535.95 L680.449 1535.95 L680.449 1532.02 Z\" fill=\"#000000\" fill-rule=\"evenodd\" fill-opacity=\"1\" /><path clip-path=\"url(#clip200)\" d=\"M724.245 1544.91 L740.565 1544.91 L740.565 1548.85 L718.62 1548.85 L718.62 1544.91 Q721.282 1542.16 725.866 1537.53 Q730.472 1532.88 731.653 1531.53 Q733.898 1529.01 734.778 1527.27 Q735.68 1525.51 735.68 1523.82 Q735.68 1521.07 733.736 1519.33 Q731.815 1517.6 728.713 1517.6 Q726.514 1517.6 724.06 1518.36 Q721.629 1519.13 718.852 1520.68 L718.852 1515.95 Q721.676 1514.82 724.129 1514.24 Q726.583 1513.66 728.62 1513.66 Q733.991 1513.66 737.185 1516.35 Q740.379 1519.03 740.379 1523.52 Q740.379 1525.65 739.569 1527.57 Q738.782 1529.47 736.676 1532.07 Q736.097 1532.74 732.995 1535.95 Q729.893 1539.15 724.245 1544.91 Z\" fill=\"#000000\" fill-rule=\"evenodd\" fill-opacity=\"1\" /><path clip-path=\"url(#clip200)\" d=\"M1204.36 1517.37 Q1200.75 1517.37 1198.92 1520.93 Q1197.11 1524.47 1197.11 1531.6 Q1197.11 1538.71 1198.92 1542.27 Q1200.75 1545.82 1204.36 1545.82 Q1207.99 1545.82 1209.8 1542.27 Q1211.63 1538.71 1211.63 1531.6 Q1211.63 1524.47 1209.8 1520.93 Q1207.99 1517.37 1204.36 1517.37 M1204.36 1513.66 Q1210.17 1513.66 1213.22 1518.27 Q1216.3 1522.85 1216.3 1531.6 Q1216.3 1540.33 1213.22 1544.94 Q1210.17 1549.52 1204.36 1549.52 Q1198.55 1549.52 1195.47 1544.94 Q1192.41 1540.33 1192.41 1531.6 Q1192.41 1522.85 1195.47 1518.27 Q1198.55 1513.66 1204.36 1513.66 Z\" fill=\"#000000\" fill-rule=\"evenodd\" fill-opacity=\"1\" /><path clip-path=\"url(#clip200)\" d=\"M1692.86 1544.91 L1709.18 1544.91 L1709.18 1548.85 L1687.24 1548.85 L1687.24 1544.91 Q1689.9 1542.16 1694.48 1537.53 Q1699.09 1532.88 1700.27 1531.53 Q1702.51 1529.01 1703.39 1527.27 Q1704.3 1525.51 1704.3 1523.82 Q1704.3 1521.07 1702.35 1519.33 Q1700.43 1517.6 1697.33 1517.6 Q1695.13 1517.6 1692.68 1518.36 Q1690.25 1519.13 1687.47 1520.68 L1687.47 1515.95 Q1690.29 1514.82 1692.75 1514.24 Q1695.2 1513.66 1697.24 1513.66 Q1702.61 1513.66 1705.8 1516.35 Q1709 1519.03 1709 1523.52 Q1709 1525.65 1708.18 1527.57 Q1707.4 1529.47 1705.29 1532.07 Q1704.71 1532.74 1701.61 1535.95 Q1698.51 1539.15 1692.86 1544.91 Z\" fill=\"#000000\" fill-rule=\"evenodd\" fill-opacity=\"1\" /><path clip-path=\"url(#clip200)\" d=\"M2195.07 1518.36 L2183.26 1536.81 L2195.07 1536.81 L2195.07 1518.36 M2193.84 1514.29 L2199.72 1514.29 L2199.72 1536.81 L2204.65 1536.81 L2204.65 1540.7 L2199.72 1540.7 L2199.72 1548.85 L2195.07 1548.85 L2195.07 1540.7 L2179.47 1540.7 L2179.47 1536.19 L2193.84 1514.29 Z\" fill=\"#000000\" fill-rule=\"evenodd\" fill-opacity=\"1\" /><polyline clip-path=\"url(#clip202)\" style=\"stroke:#000000; stroke-linecap:butt; stroke-linejoin:round; stroke-width:2; stroke-opacity:0.1; fill:none\" points=\"\n",
       "  149.191,1437.27 2352.76,1437.27 \n",
       "  \"/>\n",
       "<polyline clip-path=\"url(#clip202)\" style=\"stroke:#000000; stroke-linecap:butt; stroke-linejoin:round; stroke-width:2; stroke-opacity:0.1; fill:none\" points=\"\n",
       "  149.191,1115.94 2352.76,1115.94 \n",
       "  \"/>\n",
       "<polyline clip-path=\"url(#clip202)\" style=\"stroke:#000000; stroke-linecap:butt; stroke-linejoin:round; stroke-width:2; stroke-opacity:0.1; fill:none\" points=\"\n",
       "  149.191,794.615 2352.76,794.615 \n",
       "  \"/>\n",
       "<polyline clip-path=\"url(#clip202)\" style=\"stroke:#000000; stroke-linecap:butt; stroke-linejoin:round; stroke-width:2; stroke-opacity:0.1; fill:none\" points=\"\n",
       "  149.191,473.286 2352.76,473.286 \n",
       "  \"/>\n",
       "<polyline clip-path=\"url(#clip202)\" style=\"stroke:#000000; stroke-linecap:butt; stroke-linejoin:round; stroke-width:2; stroke-opacity:0.1; fill:none\" points=\"\n",
       "  149.191,151.957 2352.76,151.957 \n",
       "  \"/>\n",
       "<polyline clip-path=\"url(#clip200)\" style=\"stroke:#000000; stroke-linecap:butt; stroke-linejoin:round; stroke-width:4; stroke-opacity:1; fill:none\" points=\"\n",
       "  149.191,1486.45 149.191,47.2441 \n",
       "  \"/>\n",
       "<polyline clip-path=\"url(#clip200)\" style=\"stroke:#000000; stroke-linecap:butt; stroke-linejoin:round; stroke-width:4; stroke-opacity:1; fill:none\" points=\"\n",
       "  149.191,1437.27 168.089,1437.27 \n",
       "  \"/>\n",
       "<polyline clip-path=\"url(#clip200)\" style=\"stroke:#000000; stroke-linecap:butt; stroke-linejoin:round; stroke-width:4; stroke-opacity:1; fill:none\" points=\"\n",
       "  149.191,1115.94 168.089,1115.94 \n",
       "  \"/>\n",
       "<polyline clip-path=\"url(#clip200)\" style=\"stroke:#000000; stroke-linecap:butt; stroke-linejoin:round; stroke-width:4; stroke-opacity:1; fill:none\" points=\"\n",
       "  149.191,794.615 168.089,794.615 \n",
       "  \"/>\n",
       "<polyline clip-path=\"url(#clip200)\" style=\"stroke:#000000; stroke-linecap:butt; stroke-linejoin:round; stroke-width:4; stroke-opacity:1; fill:none\" points=\"\n",
       "  149.191,473.286 168.089,473.286 \n",
       "  \"/>\n",
       "<polyline clip-path=\"url(#clip200)\" style=\"stroke:#000000; stroke-linecap:butt; stroke-linejoin:round; stroke-width:4; stroke-opacity:1; fill:none\" points=\"\n",
       "  149.191,151.957 168.089,151.957 \n",
       "  \"/>\n",
       "<path clip-path=\"url(#clip200)\" d=\"M50.9921 1437.73 L80.6679 1437.73 L80.6679 1441.66 L50.9921 1441.66 L50.9921 1437.73 Z\" fill=\"#000000\" fill-rule=\"evenodd\" fill-opacity=\"1\" /><path clip-path=\"url(#clip200)\" d=\"M103.608 1424.07 L91.8021 1442.52 L103.608 1442.52 L103.608 1424.07 M102.381 1419.99 L108.26 1419.99 L108.26 1442.52 L113.191 1442.52 L113.191 1446.41 L108.26 1446.41 L108.26 1454.55 L103.608 1454.55 L103.608 1446.41 L88.0058 1446.41 L88.0058 1441.89 L102.381 1419.99 Z\" fill=\"#000000\" fill-rule=\"evenodd\" fill-opacity=\"1\" /><path clip-path=\"url(#clip200)\" d=\"M53.0754 1116.4 L82.7512 1116.4 L82.7512 1120.33 L53.0754 1120.33 L53.0754 1116.4 Z\" fill=\"#000000\" fill-rule=\"evenodd\" fill-opacity=\"1\" /><path clip-path=\"url(#clip200)\" d=\"M96.8715 1129.29 L113.191 1129.29 L113.191 1133.22 L91.2465 1133.22 L91.2465 1129.29 Q93.9086 1126.53 98.4919 1121.91 Q103.098 1117.25 104.279 1115.91 Q106.524 1113.39 107.404 1111.65 Q108.307 1109.89 108.307 1108.2 Q108.307 1105.45 106.362 1103.71 Q104.441 1101.97 101.339 1101.97 Q99.14 1101.97 96.6863 1102.74 Q94.2558 1103.5 91.478 1105.05 L91.478 1100.33 Q94.3021 1099.2 96.7558 1098.62 Q99.2095 1098.04 101.246 1098.04 Q106.617 1098.04 109.811 1100.72 Q113.006 1103.41 113.006 1107.9 Q113.006 1110.03 112.196 1111.95 Q111.408 1113.85 109.302 1116.44 Q108.723 1117.11 105.621 1120.33 Q102.52 1123.53 96.8715 1129.29 Z\" fill=\"#000000\" fill-rule=\"evenodd\" fill-opacity=\"1\" /><path clip-path=\"url(#clip200)\" d=\"M101.246 780.414 Q97.6354 780.414 95.8067 783.979 Q94.0012 787.521 94.0012 794.65 Q94.0012 801.757 95.8067 805.321 Q97.6354 808.863 101.246 808.863 Q104.881 808.863 106.686 805.321 Q108.515 801.757 108.515 794.65 Q108.515 787.521 106.686 783.979 Q104.881 780.414 101.246 780.414 M101.246 776.71 Q107.057 776.71 110.112 781.317 Q113.191 785.9 113.191 794.65 Q113.191 803.377 110.112 807.983 Q107.057 812.567 101.246 812.567 Q95.4363 812.567 92.3576 807.983 Q89.3021 803.377 89.3021 794.65 Q89.3021 785.9 92.3576 781.317 Q95.4363 776.71 101.246 776.71 Z\" fill=\"#000000\" fill-rule=\"evenodd\" fill-opacity=\"1\" /><path clip-path=\"url(#clip200)\" d=\"M96.8715 486.631 L113.191 486.631 L113.191 490.566 L91.2465 490.566 L91.2465 486.631 Q93.9086 483.876 98.4919 479.247 Q103.098 474.594 104.279 473.252 Q106.524 470.728 107.404 468.992 Q108.307 467.233 108.307 465.543 Q108.307 462.789 106.362 461.053 Q104.441 459.316 101.339 459.316 Q99.14 459.316 96.6863 460.08 Q94.2558 460.844 91.478 462.395 L91.478 457.673 Q94.3021 456.539 96.7558 455.96 Q99.2095 455.381 101.246 455.381 Q106.617 455.381 109.811 458.066 Q113.006 460.752 113.006 465.242 Q113.006 467.372 112.196 469.293 Q111.408 471.191 109.302 473.784 Q108.723 474.455 105.621 477.673 Q102.52 480.867 96.8715 486.631 Z\" fill=\"#000000\" fill-rule=\"evenodd\" fill-opacity=\"1\" /><path clip-path=\"url(#clip200)\" d=\"M103.608 138.751 L91.8021 157.2 L103.608 157.2 L103.608 138.751 M102.381 134.677 L108.26 134.677 L108.26 157.2 L113.191 157.2 L113.191 161.089 L108.26 161.089 L108.26 169.237 L103.608 169.237 L103.608 161.089 L88.0058 161.089 L88.0058 156.575 L102.381 134.677 Z\" fill=\"#000000\" fill-rule=\"evenodd\" fill-opacity=\"1\" /><polyline clip-path=\"url(#clip202)\" style=\"stroke:#6b9e32; stroke-linecap:butt; stroke-linejoin:round; stroke-width:4; stroke-opacity:1; fill:none\" points=\"\n",
       "  211.556,1440.59 2290.39,87.9763 \n",
       "  \"/>\n",
       "<circle clip-path=\"url(#clip202)\" cx=\"211.556\" cy=\"1445.72\" r=\"14.4\" fill=\"#009af9\" fill-rule=\"evenodd\" fill-opacity=\"1\" stroke=\"#000000\" stroke-opacity=\"1\" stroke-width=\"3.2\"/>\n",
       "<circle clip-path=\"url(#clip202)\" cx=\"333.722\" cy=\"1423.52\" r=\"14.4\" fill=\"#009af9\" fill-rule=\"evenodd\" fill-opacity=\"1\" stroke=\"#000000\" stroke-opacity=\"1\" stroke-width=\"3.2\"/>\n",
       "<circle clip-path=\"url(#clip202)\" cx=\"411.25\" cy=\"1325.69\" r=\"14.4\" fill=\"#009af9\" fill-rule=\"evenodd\" fill-opacity=\"1\" stroke=\"#000000\" stroke-opacity=\"1\" stroke-width=\"3.2\"/>\n",
       "<circle clip-path=\"url(#clip202)\" cx=\"469.582\" cy=\"1279.36\" r=\"14.4\" fill=\"#009af9\" fill-rule=\"evenodd\" fill-opacity=\"1\" stroke=\"#000000\" stroke-opacity=\"1\" stroke-width=\"3.2\"/>\n",
       "<circle clip-path=\"url(#clip202)\" cx=\"517.038\" cy=\"1253.75\" r=\"14.4\" fill=\"#009af9\" fill-rule=\"evenodd\" fill-opacity=\"1\" stroke=\"#000000\" stroke-opacity=\"1\" stroke-width=\"3.2\"/>\n",
       "<circle clip-path=\"url(#clip202)\" cx=\"557.436\" cy=\"1226.98\" r=\"14.4\" fill=\"#009af9\" fill-rule=\"evenodd\" fill-opacity=\"1\" stroke=\"#000000\" stroke-opacity=\"1\" stroke-width=\"3.2\"/>\n",
       "<circle clip-path=\"url(#clip202)\" cx=\"592.863\" cy=\"1215.5\" r=\"14.4\" fill=\"#009af9\" fill-rule=\"evenodd\" fill-opacity=\"1\" stroke=\"#000000\" stroke-opacity=\"1\" stroke-width=\"3.2\"/>\n",
       "<circle clip-path=\"url(#clip202)\" cx=\"624.588\" cy=\"1192.97\" r=\"14.4\" fill=\"#009af9\" fill-rule=\"evenodd\" fill-opacity=\"1\" stroke=\"#000000\" stroke-opacity=\"1\" stroke-width=\"3.2\"/>\n",
       "<circle clip-path=\"url(#clip202)\" cx=\"653.444\" cy=\"1128.24\" r=\"14.4\" fill=\"#009af9\" fill-rule=\"evenodd\" fill-opacity=\"1\" stroke=\"#000000\" stroke-opacity=\"1\" stroke-width=\"3.2\"/>\n",
       "<circle clip-path=\"url(#clip202)\" cx=\"680.009\" cy=\"1115.99\" r=\"14.4\" fill=\"#009af9\" fill-rule=\"evenodd\" fill-opacity=\"1\" stroke=\"#000000\" stroke-opacity=\"1\" stroke-width=\"3.2\"/>\n",
       "<circle clip-path=\"url(#clip202)\" cx=\"704.702\" cy=\"1113.59\" r=\"14.4\" fill=\"#009af9\" fill-rule=\"evenodd\" fill-opacity=\"1\" stroke=\"#000000\" stroke-opacity=\"1\" stroke-width=\"3.2\"/>\n",
       "<circle clip-path=\"url(#clip202)\" cx=\"727.836\" cy=\"1111.2\" r=\"14.4\" fill=\"#009af9\" fill-rule=\"evenodd\" fill-opacity=\"1\" stroke=\"#000000\" stroke-opacity=\"1\" stroke-width=\"3.2\"/>\n",
       "<circle clip-path=\"url(#clip202)\" cx=\"749.65\" cy=\"1090\" r=\"14.4\" fill=\"#009af9\" fill-rule=\"evenodd\" fill-opacity=\"1\" stroke=\"#000000\" stroke-opacity=\"1\" stroke-width=\"3.2\"/>\n",
       "<circle clip-path=\"url(#clip202)\" cx=\"770.334\" cy=\"1075.39\" r=\"14.4\" fill=\"#009af9\" fill-rule=\"evenodd\" fill-opacity=\"1\" stroke=\"#000000\" stroke-opacity=\"1\" stroke-width=\"3.2\"/>\n",
       "<circle clip-path=\"url(#clip202)\" cx=\"790.039\" cy=\"1065.47\" r=\"14.4\" fill=\"#009af9\" fill-rule=\"evenodd\" fill-opacity=\"1\" stroke=\"#000000\" stroke-opacity=\"1\" stroke-width=\"3.2\"/>\n",
       "<circle clip-path=\"url(#clip202)\" cx=\"808.888\" cy=\"1045.69\" r=\"14.4\" fill=\"#009af9\" fill-rule=\"evenodd\" fill-opacity=\"1\" stroke=\"#000000\" stroke-opacity=\"1\" stroke-width=\"3.2\"/>\n",
       "<circle clip-path=\"url(#clip202)\" cx=\"826.985\" cy=\"1040.26\" r=\"14.4\" fill=\"#009af9\" fill-rule=\"evenodd\" fill-opacity=\"1\" stroke=\"#000000\" stroke-opacity=\"1\" stroke-width=\"3.2\"/>\n",
       "<circle clip-path=\"url(#clip202)\" cx=\"844.413\" cy=\"1005.8\" r=\"14.4\" fill=\"#009af9\" fill-rule=\"evenodd\" fill-opacity=\"1\" stroke=\"#000000\" stroke-opacity=\"1\" stroke-width=\"3.2\"/>\n",
       "<circle clip-path=\"url(#clip202)\" cx=\"861.245\" cy=\"1000.73\" r=\"14.4\" fill=\"#009af9\" fill-rule=\"evenodd\" fill-opacity=\"1\" stroke=\"#000000\" stroke-opacity=\"1\" stroke-width=\"3.2\"/>\n",
       "<circle clip-path=\"url(#clip202)\" cx=\"877.544\" cy=\"981.64\" r=\"14.4\" fill=\"#009af9\" fill-rule=\"evenodd\" fill-opacity=\"1\" stroke=\"#000000\" stroke-opacity=\"1\" stroke-width=\"3.2\"/>\n",
       "<circle clip-path=\"url(#clip202)\" cx=\"893.361\" cy=\"952.656\" r=\"14.4\" fill=\"#009af9\" fill-rule=\"evenodd\" fill-opacity=\"1\" stroke=\"#000000\" stroke-opacity=\"1\" stroke-width=\"3.2\"/>\n",
       "<circle clip-path=\"url(#clip202)\" cx=\"908.744\" cy=\"941.285\" r=\"14.4\" fill=\"#009af9\" fill-rule=\"evenodd\" fill-opacity=\"1\" stroke=\"#000000\" stroke-opacity=\"1\" stroke-width=\"3.2\"/>\n",
       "<circle clip-path=\"url(#clip202)\" cx=\"923.733\" cy=\"923.207\" r=\"14.4\" fill=\"#009af9\" fill-rule=\"evenodd\" fill-opacity=\"1\" stroke=\"#000000\" stroke-opacity=\"1\" stroke-width=\"3.2\"/>\n",
       "<circle clip-path=\"url(#clip202)\" cx=\"938.363\" cy=\"922.989\" r=\"14.4\" fill=\"#009af9\" fill-rule=\"evenodd\" fill-opacity=\"1\" stroke=\"#000000\" stroke-opacity=\"1\" stroke-width=\"3.2\"/>\n",
       "<circle clip-path=\"url(#clip202)\" cx=\"952.667\" cy=\"917.178\" r=\"14.4\" fill=\"#009af9\" fill-rule=\"evenodd\" fill-opacity=\"1\" stroke=\"#000000\" stroke-opacity=\"1\" stroke-width=\"3.2\"/>\n",
       "<circle clip-path=\"url(#clip202)\" cx=\"966.672\" cy=\"864.032\" r=\"14.4\" fill=\"#009af9\" fill-rule=\"evenodd\" fill-opacity=\"1\" stroke=\"#000000\" stroke-opacity=\"1\" stroke-width=\"3.2\"/>\n",
       "<circle clip-path=\"url(#clip202)\" cx=\"980.404\" cy=\"851.034\" r=\"14.4\" fill=\"#009af9\" fill-rule=\"evenodd\" fill-opacity=\"1\" stroke=\"#000000\" stroke-opacity=\"1\" stroke-width=\"3.2\"/>\n",
       "<circle clip-path=\"url(#clip202)\" cx=\"993.886\" cy=\"848.208\" r=\"14.4\" fill=\"#009af9\" fill-rule=\"evenodd\" fill-opacity=\"1\" stroke=\"#000000\" stroke-opacity=\"1\" stroke-width=\"3.2\"/>\n",
       "<circle clip-path=\"url(#clip202)\" cx=\"1007.14\" cy=\"841.184\" r=\"14.4\" fill=\"#009af9\" fill-rule=\"evenodd\" fill-opacity=\"1\" stroke=\"#000000\" stroke-opacity=\"1\" stroke-width=\"3.2\"/>\n",
       "<circle clip-path=\"url(#clip202)\" cx=\"1020.18\" cy=\"821.787\" r=\"14.4\" fill=\"#009af9\" fill-rule=\"evenodd\" fill-opacity=\"1\" stroke=\"#000000\" stroke-opacity=\"1\" stroke-width=\"3.2\"/>\n",
       "<circle clip-path=\"url(#clip202)\" cx=\"1033.03\" cy=\"819.52\" r=\"14.4\" fill=\"#009af9\" fill-rule=\"evenodd\" fill-opacity=\"1\" stroke=\"#000000\" stroke-opacity=\"1\" stroke-width=\"3.2\"/>\n",
       "<circle clip-path=\"url(#clip202)\" cx=\"1045.7\" cy=\"814.794\" r=\"14.4\" fill=\"#009af9\" fill-rule=\"evenodd\" fill-opacity=\"1\" stroke=\"#000000\" stroke-opacity=\"1\" stroke-width=\"3.2\"/>\n",
       "<circle clip-path=\"url(#clip202)\" cx=\"1058.21\" cy=\"801.356\" r=\"14.4\" fill=\"#009af9\" fill-rule=\"evenodd\" fill-opacity=\"1\" stroke=\"#000000\" stroke-opacity=\"1\" stroke-width=\"3.2\"/>\n",
       "<circle clip-path=\"url(#clip202)\" cx=\"1070.57\" cy=\"800.677\" r=\"14.4\" fill=\"#009af9\" fill-rule=\"evenodd\" fill-opacity=\"1\" stroke=\"#000000\" stroke-opacity=\"1\" stroke-width=\"3.2\"/>\n",
       "<circle clip-path=\"url(#clip202)\" cx=\"1082.8\" cy=\"795.171\" r=\"14.4\" fill=\"#009af9\" fill-rule=\"evenodd\" fill-opacity=\"1\" stroke=\"#000000\" stroke-opacity=\"1\" stroke-width=\"3.2\"/>\n",
       "<circle clip-path=\"url(#clip202)\" cx=\"1094.9\" cy=\"781.789\" r=\"14.4\" fill=\"#009af9\" fill-rule=\"evenodd\" fill-opacity=\"1\" stroke=\"#000000\" stroke-opacity=\"1\" stroke-width=\"3.2\"/>\n",
       "<circle clip-path=\"url(#clip202)\" cx=\"1106.88\" cy=\"778.44\" r=\"14.4\" fill=\"#009af9\" fill-rule=\"evenodd\" fill-opacity=\"1\" stroke=\"#000000\" stroke-opacity=\"1\" stroke-width=\"3.2\"/>\n",
       "<circle clip-path=\"url(#clip202)\" cx=\"1118.77\" cy=\"774.751\" r=\"14.4\" fill=\"#009af9\" fill-rule=\"evenodd\" fill-opacity=\"1\" stroke=\"#000000\" stroke-opacity=\"1\" stroke-width=\"3.2\"/>\n",
       "<circle clip-path=\"url(#clip202)\" cx=\"1130.56\" cy=\"771.553\" r=\"14.4\" fill=\"#009af9\" fill-rule=\"evenodd\" fill-opacity=\"1\" stroke=\"#000000\" stroke-opacity=\"1\" stroke-width=\"3.2\"/>\n",
       "<circle clip-path=\"url(#clip202)\" cx=\"1142.27\" cy=\"765.803\" r=\"14.4\" fill=\"#009af9\" fill-rule=\"evenodd\" fill-opacity=\"1\" stroke=\"#000000\" stroke-opacity=\"1\" stroke-width=\"3.2\"/>\n",
       "<circle clip-path=\"url(#clip202)\" cx=\"1153.9\" cy=\"755.944\" r=\"14.4\" fill=\"#009af9\" fill-rule=\"evenodd\" fill-opacity=\"1\" stroke=\"#000000\" stroke-opacity=\"1\" stroke-width=\"3.2\"/>\n",
       "<circle clip-path=\"url(#clip202)\" cx=\"1165.47\" cy=\"754.427\" r=\"14.4\" fill=\"#009af9\" fill-rule=\"evenodd\" fill-opacity=\"1\" stroke=\"#000000\" stroke-opacity=\"1\" stroke-width=\"3.2\"/>\n",
       "<circle clip-path=\"url(#clip202)\" cx=\"1176.99\" cy=\"753.925\" r=\"14.4\" fill=\"#009af9\" fill-rule=\"evenodd\" fill-opacity=\"1\" stroke=\"#000000\" stroke-opacity=\"1\" stroke-width=\"3.2\"/>\n",
       "<circle clip-path=\"url(#clip202)\" cx=\"1188.45\" cy=\"753.595\" r=\"14.4\" fill=\"#009af9\" fill-rule=\"evenodd\" fill-opacity=\"1\" stroke=\"#000000\" stroke-opacity=\"1\" stroke-width=\"3.2\"/>\n",
       "<circle clip-path=\"url(#clip202)\" cx=\"1199.87\" cy=\"750.376\" r=\"14.4\" fill=\"#009af9\" fill-rule=\"evenodd\" fill-opacity=\"1\" stroke=\"#000000\" stroke-opacity=\"1\" stroke-width=\"3.2\"/>\n",
       "<circle clip-path=\"url(#clip202)\" cx=\"1211.26\" cy=\"740.965\" r=\"14.4\" fill=\"#009af9\" fill-rule=\"evenodd\" fill-opacity=\"1\" stroke=\"#000000\" stroke-opacity=\"1\" stroke-width=\"3.2\"/>\n",
       "<circle clip-path=\"url(#clip202)\" cx=\"1222.63\" cy=\"736.811\" r=\"14.4\" fill=\"#009af9\" fill-rule=\"evenodd\" fill-opacity=\"1\" stroke=\"#000000\" stroke-opacity=\"1\" stroke-width=\"3.2\"/>\n",
       "<circle clip-path=\"url(#clip202)\" cx=\"1233.97\" cy=\"728.209\" r=\"14.4\" fill=\"#009af9\" fill-rule=\"evenodd\" fill-opacity=\"1\" stroke=\"#000000\" stroke-opacity=\"1\" stroke-width=\"3.2\"/>\n",
       "<circle clip-path=\"url(#clip202)\" cx=\"1245.31\" cy=\"708.537\" r=\"14.4\" fill=\"#009af9\" fill-rule=\"evenodd\" fill-opacity=\"1\" stroke=\"#000000\" stroke-opacity=\"1\" stroke-width=\"3.2\"/>\n",
       "<circle clip-path=\"url(#clip202)\" cx=\"1256.64\" cy=\"704.626\" r=\"14.4\" fill=\"#009af9\" fill-rule=\"evenodd\" fill-opacity=\"1\" stroke=\"#000000\" stroke-opacity=\"1\" stroke-width=\"3.2\"/>\n",
       "<circle clip-path=\"url(#clip202)\" cx=\"1267.97\" cy=\"697.948\" r=\"14.4\" fill=\"#009af9\" fill-rule=\"evenodd\" fill-opacity=\"1\" stroke=\"#000000\" stroke-opacity=\"1\" stroke-width=\"3.2\"/>\n",
       "<circle clip-path=\"url(#clip202)\" cx=\"1279.32\" cy=\"686.625\" r=\"14.4\" fill=\"#009af9\" fill-rule=\"evenodd\" fill-opacity=\"1\" stroke=\"#000000\" stroke-opacity=\"1\" stroke-width=\"3.2\"/>\n",
       "<circle clip-path=\"url(#clip202)\" cx=\"1290.68\" cy=\"684.839\" r=\"14.4\" fill=\"#009af9\" fill-rule=\"evenodd\" fill-opacity=\"1\" stroke=\"#000000\" stroke-opacity=\"1\" stroke-width=\"3.2\"/>\n",
       "<circle clip-path=\"url(#clip202)\" cx=\"1302.07\" cy=\"673.594\" r=\"14.4\" fill=\"#009af9\" fill-rule=\"evenodd\" fill-opacity=\"1\" stroke=\"#000000\" stroke-opacity=\"1\" stroke-width=\"3.2\"/>\n",
       "<circle clip-path=\"url(#clip202)\" cx=\"1313.5\" cy=\"670.033\" r=\"14.4\" fill=\"#009af9\" fill-rule=\"evenodd\" fill-opacity=\"1\" stroke=\"#000000\" stroke-opacity=\"1\" stroke-width=\"3.2\"/>\n",
       "<circle clip-path=\"url(#clip202)\" cx=\"1324.96\" cy=\"667.027\" r=\"14.4\" fill=\"#009af9\" fill-rule=\"evenodd\" fill-opacity=\"1\" stroke=\"#000000\" stroke-opacity=\"1\" stroke-width=\"3.2\"/>\n",
       "<circle clip-path=\"url(#clip202)\" cx=\"1336.47\" cy=\"658.109\" r=\"14.4\" fill=\"#009af9\" fill-rule=\"evenodd\" fill-opacity=\"1\" stroke=\"#000000\" stroke-opacity=\"1\" stroke-width=\"3.2\"/>\n",
       "<circle clip-path=\"url(#clip202)\" cx=\"1348.04\" cy=\"656.804\" r=\"14.4\" fill=\"#009af9\" fill-rule=\"evenodd\" fill-opacity=\"1\" stroke=\"#000000\" stroke-opacity=\"1\" stroke-width=\"3.2\"/>\n",
       "<circle clip-path=\"url(#clip202)\" cx=\"1359.68\" cy=\"652.166\" r=\"14.4\" fill=\"#009af9\" fill-rule=\"evenodd\" fill-opacity=\"1\" stroke=\"#000000\" stroke-opacity=\"1\" stroke-width=\"3.2\"/>\n",
       "<circle clip-path=\"url(#clip202)\" cx=\"1371.39\" cy=\"651.942\" r=\"14.4\" fill=\"#009af9\" fill-rule=\"evenodd\" fill-opacity=\"1\" stroke=\"#000000\" stroke-opacity=\"1\" stroke-width=\"3.2\"/>\n",
       "<circle clip-path=\"url(#clip202)\" cx=\"1383.18\" cy=\"640.67\" r=\"14.4\" fill=\"#009af9\" fill-rule=\"evenodd\" fill-opacity=\"1\" stroke=\"#000000\" stroke-opacity=\"1\" stroke-width=\"3.2\"/>\n",
       "<circle clip-path=\"url(#clip202)\" cx=\"1395.06\" cy=\"633.195\" r=\"14.4\" fill=\"#009af9\" fill-rule=\"evenodd\" fill-opacity=\"1\" stroke=\"#000000\" stroke-opacity=\"1\" stroke-width=\"3.2\"/>\n",
       "<circle clip-path=\"url(#clip202)\" cx=\"1407.05\" cy=\"631.863\" r=\"14.4\" fill=\"#009af9\" fill-rule=\"evenodd\" fill-opacity=\"1\" stroke=\"#000000\" stroke-opacity=\"1\" stroke-width=\"3.2\"/>\n",
       "<circle clip-path=\"url(#clip202)\" cx=\"1419.15\" cy=\"623.48\" r=\"14.4\" fill=\"#009af9\" fill-rule=\"evenodd\" fill-opacity=\"1\" stroke=\"#000000\" stroke-opacity=\"1\" stroke-width=\"3.2\"/>\n",
       "<circle clip-path=\"url(#clip202)\" cx=\"1431.38\" cy=\"606.946\" r=\"14.4\" fill=\"#009af9\" fill-rule=\"evenodd\" fill-opacity=\"1\" stroke=\"#000000\" stroke-opacity=\"1\" stroke-width=\"3.2\"/>\n",
       "<circle clip-path=\"url(#clip202)\" cx=\"1443.74\" cy=\"603.835\" r=\"14.4\" fill=\"#009af9\" fill-rule=\"evenodd\" fill-opacity=\"1\" stroke=\"#000000\" stroke-opacity=\"1\" stroke-width=\"3.2\"/>\n",
       "<circle clip-path=\"url(#clip202)\" cx=\"1456.25\" cy=\"599.359\" r=\"14.4\" fill=\"#009af9\" fill-rule=\"evenodd\" fill-opacity=\"1\" stroke=\"#000000\" stroke-opacity=\"1\" stroke-width=\"3.2\"/>\n",
       "<circle clip-path=\"url(#clip202)\" cx=\"1468.92\" cy=\"592.408\" r=\"14.4\" fill=\"#009af9\" fill-rule=\"evenodd\" fill-opacity=\"1\" stroke=\"#000000\" stroke-opacity=\"1\" stroke-width=\"3.2\"/>\n",
       "<circle clip-path=\"url(#clip202)\" cx=\"1481.77\" cy=\"590.209\" r=\"14.4\" fill=\"#009af9\" fill-rule=\"evenodd\" fill-opacity=\"1\" stroke=\"#000000\" stroke-opacity=\"1\" stroke-width=\"3.2\"/>\n",
       "<circle clip-path=\"url(#clip202)\" cx=\"1494.81\" cy=\"584.102\" r=\"14.4\" fill=\"#009af9\" fill-rule=\"evenodd\" fill-opacity=\"1\" stroke=\"#000000\" stroke-opacity=\"1\" stroke-width=\"3.2\"/>\n",
       "<circle clip-path=\"url(#clip202)\" cx=\"1508.06\" cy=\"562.639\" r=\"14.4\" fill=\"#009af9\" fill-rule=\"evenodd\" fill-opacity=\"1\" stroke=\"#000000\" stroke-opacity=\"1\" stroke-width=\"3.2\"/>\n",
       "<circle clip-path=\"url(#clip202)\" cx=\"1521.54\" cy=\"561.061\" r=\"14.4\" fill=\"#009af9\" fill-rule=\"evenodd\" fill-opacity=\"1\" stroke=\"#000000\" stroke-opacity=\"1\" stroke-width=\"3.2\"/>\n",
       "<circle clip-path=\"url(#clip202)\" cx=\"1535.27\" cy=\"558.396\" r=\"14.4\" fill=\"#009af9\" fill-rule=\"evenodd\" fill-opacity=\"1\" stroke=\"#000000\" stroke-opacity=\"1\" stroke-width=\"3.2\"/>\n",
       "<circle clip-path=\"url(#clip202)\" cx=\"1549.28\" cy=\"556.753\" r=\"14.4\" fill=\"#009af9\" fill-rule=\"evenodd\" fill-opacity=\"1\" stroke=\"#000000\" stroke-opacity=\"1\" stroke-width=\"3.2\"/>\n",
       "<circle clip-path=\"url(#clip202)\" cx=\"1563.58\" cy=\"554.904\" r=\"14.4\" fill=\"#009af9\" fill-rule=\"evenodd\" fill-opacity=\"1\" stroke=\"#000000\" stroke-opacity=\"1\" stroke-width=\"3.2\"/>\n",
       "<circle clip-path=\"url(#clip202)\" cx=\"1578.21\" cy=\"549.022\" r=\"14.4\" fill=\"#009af9\" fill-rule=\"evenodd\" fill-opacity=\"1\" stroke=\"#000000\" stroke-opacity=\"1\" stroke-width=\"3.2\"/>\n",
       "<circle clip-path=\"url(#clip202)\" cx=\"1593.2\" cy=\"547.435\" r=\"14.4\" fill=\"#009af9\" fill-rule=\"evenodd\" fill-opacity=\"1\" stroke=\"#000000\" stroke-opacity=\"1\" stroke-width=\"3.2\"/>\n",
       "<circle clip-path=\"url(#clip202)\" cx=\"1608.59\" cy=\"546.023\" r=\"14.4\" fill=\"#009af9\" fill-rule=\"evenodd\" fill-opacity=\"1\" stroke=\"#000000\" stroke-opacity=\"1\" stroke-width=\"3.2\"/>\n",
       "<circle clip-path=\"url(#clip202)\" cx=\"1624.4\" cy=\"545.572\" r=\"14.4\" fill=\"#009af9\" fill-rule=\"evenodd\" fill-opacity=\"1\" stroke=\"#000000\" stroke-opacity=\"1\" stroke-width=\"3.2\"/>\n",
       "<circle clip-path=\"url(#clip202)\" cx=\"1640.7\" cy=\"542.92\" r=\"14.4\" fill=\"#009af9\" fill-rule=\"evenodd\" fill-opacity=\"1\" stroke=\"#000000\" stroke-opacity=\"1\" stroke-width=\"3.2\"/>\n",
       "<circle clip-path=\"url(#clip202)\" cx=\"1657.53\" cy=\"531.654\" r=\"14.4\" fill=\"#009af9\" fill-rule=\"evenodd\" fill-opacity=\"1\" stroke=\"#000000\" stroke-opacity=\"1\" stroke-width=\"3.2\"/>\n",
       "<circle clip-path=\"url(#clip202)\" cx=\"1674.96\" cy=\"527.179\" r=\"14.4\" fill=\"#009af9\" fill-rule=\"evenodd\" fill-opacity=\"1\" stroke=\"#000000\" stroke-opacity=\"1\" stroke-width=\"3.2\"/>\n",
       "<circle clip-path=\"url(#clip202)\" cx=\"1693.06\" cy=\"522.33\" r=\"14.4\" fill=\"#009af9\" fill-rule=\"evenodd\" fill-opacity=\"1\" stroke=\"#000000\" stroke-opacity=\"1\" stroke-width=\"3.2\"/>\n",
       "<circle clip-path=\"url(#clip202)\" cx=\"1711.91\" cy=\"519.408\" r=\"14.4\" fill=\"#009af9\" fill-rule=\"evenodd\" fill-opacity=\"1\" stroke=\"#000000\" stroke-opacity=\"1\" stroke-width=\"3.2\"/>\n",
       "<circle clip-path=\"url(#clip202)\" cx=\"1731.61\" cy=\"511.167\" r=\"14.4\" fill=\"#009af9\" fill-rule=\"evenodd\" fill-opacity=\"1\" stroke=\"#000000\" stroke-opacity=\"1\" stroke-width=\"3.2\"/>\n",
       "<circle clip-path=\"url(#clip202)\" cx=\"1752.3\" cy=\"510.556\" r=\"14.4\" fill=\"#009af9\" fill-rule=\"evenodd\" fill-opacity=\"1\" stroke=\"#000000\" stroke-opacity=\"1\" stroke-width=\"3.2\"/>\n",
       "<circle clip-path=\"url(#clip202)\" cx=\"1774.11\" cy=\"502.242\" r=\"14.4\" fill=\"#009af9\" fill-rule=\"evenodd\" fill-opacity=\"1\" stroke=\"#000000\" stroke-opacity=\"1\" stroke-width=\"3.2\"/>\n",
       "<circle clip-path=\"url(#clip202)\" cx=\"1797.24\" cy=\"498.876\" r=\"14.4\" fill=\"#009af9\" fill-rule=\"evenodd\" fill-opacity=\"1\" stroke=\"#000000\" stroke-opacity=\"1\" stroke-width=\"3.2\"/>\n",
       "<circle clip-path=\"url(#clip202)\" cx=\"1821.94\" cy=\"483.314\" r=\"14.4\" fill=\"#009af9\" fill-rule=\"evenodd\" fill-opacity=\"1\" stroke=\"#000000\" stroke-opacity=\"1\" stroke-width=\"3.2\"/>\n",
       "<circle clip-path=\"url(#clip202)\" cx=\"1848.5\" cy=\"463.124\" r=\"14.4\" fill=\"#009af9\" fill-rule=\"evenodd\" fill-opacity=\"1\" stroke=\"#000000\" stroke-opacity=\"1\" stroke-width=\"3.2\"/>\n",
       "<circle clip-path=\"url(#clip202)\" cx=\"1877.36\" cy=\"443.652\" r=\"14.4\" fill=\"#009af9\" fill-rule=\"evenodd\" fill-opacity=\"1\" stroke=\"#000000\" stroke-opacity=\"1\" stroke-width=\"3.2\"/>\n",
       "<circle clip-path=\"url(#clip202)\" cx=\"1909.08\" cy=\"441.691\" r=\"14.4\" fill=\"#009af9\" fill-rule=\"evenodd\" fill-opacity=\"1\" stroke=\"#000000\" stroke-opacity=\"1\" stroke-width=\"3.2\"/>\n",
       "<circle clip-path=\"url(#clip202)\" cx=\"1944.51\" cy=\"425.049\" r=\"14.4\" fill=\"#009af9\" fill-rule=\"evenodd\" fill-opacity=\"1\" stroke=\"#000000\" stroke-opacity=\"1\" stroke-width=\"3.2\"/>\n",
       "<circle clip-path=\"url(#clip202)\" cx=\"1984.91\" cy=\"408.22\" r=\"14.4\" fill=\"#009af9\" fill-rule=\"evenodd\" fill-opacity=\"1\" stroke=\"#000000\" stroke-opacity=\"1\" stroke-width=\"3.2\"/>\n",
       "<circle clip-path=\"url(#clip202)\" cx=\"2032.36\" cy=\"400.949\" r=\"14.4\" fill=\"#009af9\" fill-rule=\"evenodd\" fill-opacity=\"1\" stroke=\"#000000\" stroke-opacity=\"1\" stroke-width=\"3.2\"/>\n",
       "<circle clip-path=\"url(#clip202)\" cx=\"2090.7\" cy=\"398.832\" r=\"14.4\" fill=\"#009af9\" fill-rule=\"evenodd\" fill-opacity=\"1\" stroke=\"#000000\" stroke-opacity=\"1\" stroke-width=\"3.2\"/>\n",
       "<circle clip-path=\"url(#clip202)\" cx=\"2168.22\" cy=\"369.211\" r=\"14.4\" fill=\"#009af9\" fill-rule=\"evenodd\" fill-opacity=\"1\" stroke=\"#000000\" stroke-opacity=\"1\" stroke-width=\"3.2\"/>\n",
       "<circle clip-path=\"url(#clip202)\" cx=\"2290.39\" cy=\"309.842\" r=\"14.4\" fill=\"#009af9\" fill-rule=\"evenodd\" fill-opacity=\"1\" stroke=\"#000000\" stroke-opacity=\"1\" stroke-width=\"3.2\"/>\n",
       "</svg>\n"
      ]
     },
     "execution_count": 48,
     "metadata": {},
     "output_type": "execute_result"
    }
   ],
   "source": [
    "qqnorm(error_test)"
   ]
  },
  {
   "cell_type": "code",
   "execution_count": 49,
   "id": "22e00fad",
   "metadata": {},
   "outputs": [
    {
     "data": {
      "text/plain": [
       "100-element Vector{Float64}:\n",
       " 10.557879597212954\n",
       " 14.863688730123005\n",
       " 14.568469252622563\n",
       " 16.374646133723893\n",
       " 17.69020972405341\n",
       " 14.711103264737389\n",
       " 11.593281494076724\n",
       " 13.081520822579508\n",
       " 15.79786627346606\n",
       " 16.451149956687043\n",
       " 15.778504090828422\n",
       " 14.25926818671684\n",
       " 15.38584034929714\n",
       "  ⋮\n",
       " 14.865737802013228\n",
       " 17.060661975653126\n",
       " 15.212095740576178\n",
       " 12.533912574624292\n",
       " 13.811406653740404\n",
       " 13.047695299315517\n",
       " 14.789756781322314\n",
       " 11.752726125246282\n",
       " 16.090916380697784\n",
       " 14.17836316398235\n",
       " 16.157696506588437\n",
       " 16.080686448438406"
      ]
     },
     "execution_count": 49,
     "metadata": {},
     "output_type": "execute_result"
    }
   ],
   "source": [
    "X1_hat = value(X1)\n",
    "X2_hat = value(X2)\n",
    "W = beta0 .+ beta1*X1_hat .+ beta2*X2_hat .+ error_test"
   ]
  },
  {
   "cell_type": "code",
   "execution_count": 50,
   "id": "02330f10",
   "metadata": {},
   "outputs": [
    {
     "data": {
      "text/plain": [
       "profit (generic function with 1 method)"
      ]
     },
     "execution_count": 50,
     "metadata": {},
     "output_type": "execute_result"
    }
   ],
   "source": [
    "function profit(w)\n",
    "    model = Model(CPLEX.Optimizer)\n",
    "    set_silent(model)\n",
    "    @variables(model, begin \n",
    "    Ya >= 0\n",
    "    Yb >= 0\n",
    "    end)\n",
    "    @constraint(model,Ya <= 8)\n",
    "    @constraint(model,2 * Yb <= 24)\n",
    "    @constraint(model,3 * Ya + 2 * Yb <= 36)\n",
    "    @constraint(model,Ya + Yb <= w)\n",
    "    @objective(model, Max, 3*Ya + 5*Yb)\n",
    "    optimize!(model)\n",
    "    return objective_value(model)\n",
    "end"
   ]
  },
  {
   "cell_type": "code",
   "execution_count": 51,
   "id": "8100680d",
   "metadata": {},
   "outputs": [],
   "source": [
    "profits = zeros(100)\n",
    "for i in 1:100\n",
    "    profits[i] = profit(W[i])\n",
    "end"
   ]
  },
  {
   "cell_type": "code",
   "execution_count": 52,
   "id": "1d4c04b9",
   "metadata": {},
   "outputs": [
    {
     "data": {
      "text/plain": [
       "40.201636409439686"
      ]
     },
     "execution_count": 52,
     "metadata": {},
     "output_type": "execute_result"
    }
   ],
   "source": [
    "MVSAE_avg = -0.1*X1_hat - 0.5*X2_hat + mean(profits)"
   ]
  },
  {
   "cell_type": "code",
   "execution_count": 53,
   "id": "cc3d7494",
   "metadata": {},
   "outputs": [
    {
     "data": {
      "text/plain": [
       "CI (generic function with 2 methods)"
      ]
     },
     "execution_count": 53,
     "metadata": {},
     "output_type": "execute_result"
    }
   ],
   "source": [
    "function CI(x, conf_level=0.95)\n",
    "    alpha = (1 - conf_level)\n",
    "    tstar = quantile(TDist(length(x)-1), 1 - alpha/2)\n",
    "    SE = std(x)/sqrt(length(x))\n",
    "\n",
    "    lo, hi = mean(x) .+ [-1, 1] * tstar * SE\n",
    "    return lo,hi\n",
    "end"
   ]
  },
  {
   "cell_type": "code",
   "execution_count": 54,
   "id": "19e61e01",
   "metadata": {},
   "outputs": [
    {
     "data": {
      "text/plain": [
       "(39.02235761489088, 41.38091520398849)"
      ]
     },
     "execution_count": 54,
     "metadata": {},
     "output_type": "execute_result"
    }
   ],
   "source": [
    "lo = -0.1*X1_hat - 0.5*X2_hat + CI(profits)[1]\n",
    "hi = -0.1*X1_hat - 0.5*X2_hat + CI(profits)[2]\n",
    "(lo,hi)"
   ]
  },
  {
   "cell_type": "markdown",
   "id": "30a977b4",
   "metadata": {},
   "source": [
    "# 2. SD"
   ]
  },
  {
   "cell_type": "markdown",
   "id": "b5a7787b",
   "metadata": {},
   "source": [
    "#### 2.1 Descriptive Analytics"
   ]
  },
  {
   "cell_type": "markdown",
   "id": "c6659004",
   "metadata": {},
   "source": [
    "#### #The same as SAA"
   ]
  },
  {
   "cell_type": "markdown",
   "id": "c2e518b7",
   "metadata": {},
   "source": [
    "#### 2.2 Prescriptive Analytics"
   ]
  },
  {
   "cell_type": "code",
   "execution_count": 18,
   "id": "233adf9b",
   "metadata": {},
   "outputs": [
    {
     "data": {
      "text/plain": [
       "A JuMP Model\n",
       "Feasibility problem with:\n",
       "Variables: 0\n",
       "Model mode: DIRECT\n",
       "Solver name: CPLEX"
      ]
     },
     "execution_count": 18,
     "metadata": {},
     "output_type": "execute_result"
    }
   ],
   "source": [
    "model = direct_model(optimizer_with_attributes(\n",
    "    CPLEX.Optimizer, CPLEX.PassNames() => true\n",
    "))"
   ]
  },
  {
   "cell_type": "code",
   "execution_count": 19,
   "id": "b79d6a93",
   "metadata": {},
   "outputs": [
    {
     "data": {
      "text/plain": [
       "(X1, X2)"
      ]
     },
     "execution_count": 19,
     "metadata": {},
     "output_type": "execute_result"
    }
   ],
   "source": [
    "# Stage 1\n",
    "@variables(model, begin \n",
    "    L1 <= X1 <= U1\n",
    "    L2 <= X2 <= U2\n",
    "    end)"
   ]
  },
  {
   "cell_type": "code",
   "execution_count": 20,
   "id": "2ca659d5",
   "metadata": {},
   "outputs": [
    {
     "data": {
      "text/latex": [
       "c2 : $ X1 - 0.5 X2 \\geq 0.0 $"
      ],
      "text/plain": [
       "c2 : X1 - 0.5 X2 ≥ 0.0"
      ]
     },
     "execution_count": 20,
     "metadata": {},
     "output_type": "execute_result"
    }
   ],
   "source": [
    "@constraint(model,c1,X1 + X2 <= 200)\n",
    "@constraint(model,c2,X1 - 0.5 * X2 >= 0)"
   ]
  },
  {
   "cell_type": "code",
   "execution_count": 21,
   "id": "a2d16fc7",
   "metadata": {},
   "outputs": [
    {
     "data": {
      "text/plain": [
       "(Ya, Yb)"
      ]
     },
     "execution_count": 21,
     "metadata": {},
     "output_type": "execute_result"
    }
   ],
   "source": [
    "# Stage 2\n",
    "@variables(model, begin \n",
    "    Ya >= 0\n",
    "    Yb >= 0\n",
    "    end)"
   ]
  },
  {
   "cell_type": "code",
   "execution_count": 22,
   "id": "c5f651f6",
   "metadata": {},
   "outputs": [
    {
     "data": {
      "text/latex": [
       "c6 : $ -0.04549056742151611 X1 - 0.19561635306972333 X2 + Ya + Yb \\leq 2.688241698799437 $"
      ],
      "text/plain": [
       "c6 : -0.04549056742151611 X1 - 0.19561635306972333 X2 + Ya + Yb ≤ 2.688241698799437"
      ]
     },
     "execution_count": 22,
     "metadata": {},
     "output_type": "execute_result"
    }
   ],
   "source": [
    "@constraint(model,c3,Ya <= 8)\n",
    "@constraint(model,c4,2 * Yb <= 24)\n",
    "@constraint(model,c5,3 * Ya + 2 * Yb <= 36)\n",
    "@constraint(model,c6,-beta1*X1 - beta2*X2 + Ya + Yb <= beta0)"
   ]
  },
  {
   "cell_type": "code",
   "execution_count": 23,
   "id": "b3a37c24",
   "metadata": {},
   "outputs": [
    {
     "data": {
      "text/latex": [
       "$$ 0.1 X1 + 0.5 X2 - 3 Ya - 5 Yb $$"
      ],
      "text/plain": [
       "0.1 X1 + 0.5 X2 - 3 Ya - 5 Yb"
      ]
     },
     "execution_count": 23,
     "metadata": {},
     "output_type": "execute_result"
    }
   ],
   "source": [
    "@objective(model, Min, 0.1*X1 + 0.5*X2 - 3*Ya - 5*Yb)"
   ]
  },
  {
   "cell_type": "code",
   "execution_count": 24,
   "id": "5321889e",
   "metadata": {},
   "outputs": [
    {
     "data": {
      "text/plain": [
       "Position(c3 : Ya ≤ 8.0, Ya)"
      ]
     },
     "execution_count": 24,
     "metadata": {},
     "output_type": "execute_result"
    }
   ],
   "source": [
    "split_position = Position(c3, Ya)"
   ]
  },
  {
   "cell_type": "code",
   "execution_count": 25,
   "id": "34f1d2a8",
   "metadata": {},
   "outputs": [
    {
     "data": {
      "text/plain": [
       "MersenneTwister(123456789)"
      ]
     },
     "execution_count": 25,
     "metadata": {},
     "output_type": "execute_result"
    }
   ],
   "source": [
    "rng = Random.MersenneTwister(123456789)"
   ]
  },
  {
   "cell_type": "code",
   "execution_count": 26,
   "id": "6e3e0716",
   "metadata": {},
   "outputs": [
    {
     "data": {
      "text/plain": [
       "-2.6104238563124547"
      ]
     },
     "execution_count": 26,
     "metadata": {},
     "output_type": "execute_result"
    }
   ],
   "source": [
    "rand(rng,error_train)"
   ]
  },
  {
   "cell_type": "code",
   "execution_count": 27,
   "id": "af027668",
   "metadata": {},
   "outputs": [
    {
     "data": {
      "text/plain": [
       "mystoc (generic function with 1 method)"
      ]
     },
     "execution_count": 27,
     "metadata": {},
     "output_type": "execute_result"
    }
   ],
   "source": [
    "function mystoc()::OneRealization\n",
    "    error = rand(rng,error_train)\n",
    "    return OneRealization([Position(c6, \"RHS\") => beta0 + error])\n",
    "end"
   ]
  },
  {
   "cell_type": "code",
   "execution_count": 28,
   "id": "dbb82c55",
   "metadata": {},
   "outputs": [
    {
     "data": {
      "text/plain": [
       "1-element Vector{Float64}:\n",
       " 2.688241698799437"
      ]
     },
     "execution_count": 28,
     "metadata": {},
     "output_type": "execute_result"
    }
   ],
   "source": [
    "user_mean = [beta0]"
   ]
  },
  {
   "cell_type": "code",
   "execution_count": 29,
   "id": "a7cad871",
   "metadata": {},
   "outputs": [
    {
     "name": "stdout",
     "output_type": "stream",
     "text": [
      "=== dumpCore ===\n",
      "lp = 0xe67de60\n",
      "type = 0\n",
      "objsen = 1\n",
      "rows\trname\tsenx\trhsx\tmar=6\n",
      "0\tc1\tL\t200\n",
      "1\tc2\tG\t0\n",
      "2\tc3\tL\t8\n",
      "3\tc4\tL\t24\n",
      "4\tc5\tL\t36\n",
      "5\tc6\tL\t2.68824\n",
      "cols\tcname\tctype\tbdl\tbdu\tmac=4\n",
      "0\tX1\tC\t4.1\t296.4\n",
      "1\tX2\tC\t1.3\t49.4\n",
      "2\tYa\tC\t0\t1e+20\n",
      "3\tYb\tC\t0\t1e+20\n",
      "=== dumpTime ===\n",
      "nr = 2\n",
      "nc = 2\n",
      "stgNames = TIME1 TIME2\n",
      "row = 0 2\n",
      "col = 0 2\n",
      "=== dumpStoc ===\n",
      "type = EXT_GENERATOR\n",
      "sim = 1\n",
      "numOmega = 1\n",
      "numGroups = 1\n",
      "groupBeg = 0\n",
      "row\tcol\tmean = ..\n",
      "5\t-1\t2.688242\n",
      "\n",
      "Optimal objective function value for (relaxed) mean value problem = -40.773028\n",
      "Lower bounds computed = -80.533\t\n",
      "Starting two-stage stochastic decomposition.\n",
      "====================================================================================================================================\n",
      "Stage optimization problem for given input s_t = (x_t, omega_t) is in the following form : \n",
      "\n",
      "\t\t\t\t h_t(s_t) = c_t*x_t + min d_t*u_t\n",
      "\t\t\t\t                      s.t. D_t u_t = b_t - C_t x_t,\n",
      "\n",
      "with the following linear dynamics: x_{t+} = a_{t+} + A_{t+}x_t + B_{t+}u_t.\n",
      "\n",
      "------------------------------------------------------------------------------------------------------------------------------------\n",
      "\n",
      "====================================================================================================================================\n",
      "-------------------------------------------------------- Problem Information -------------------------------------------------------\n",
      "====================================================================================================================================\n",
      "Problem                            : JuliaExportProblem\n",
      "Number of stages                   : 2\n",
      "------------------------------------------------------------------------------------------------------------------------------------\n",
      "Stage 0\n",
      "Number of decision variables (u_t) = 2\t\t(Continuous = 2\tInteger = 0\tBinary = 0)\n",
      "Number of constraints              = 2\n",
      "Number of random variables (omega) = 0\n",
      "------------------------------------------------------------------------------------------------------------------------------------\n",
      "Stage 1\n",
      "Number of decision variables (u_t) = 2\t\t(Continuous = 2\tInteger = 0\tBinary = 0)\n",
      "Number of constraints              = 4\n",
      "Number of random variables (omega) = 1\t\t(a_t = 0; b_t = 1; c_t = 0; d_t = 0; A_t = 0; B_t = 0; C_t = 0; D_t = 0)\n",
      "====================================================================================================================================\n",
      "\n",
      "=================\n",
      "Replication-1\n",
      "\n",
      "Iteration-   1: ++++++++++++++++\n",
      "Iteration- 101: +++>>>>>>>>>>>>>>+>>>>>>>+>>>>>>>>>>>>>>>>>>>>>>>>>>>>>>>>>+>>>>>+>>>>>>>>>>\n",
      "Iteration- 201: >>>>>>>>>>>>>>>>>>>>>>>>>>>>>+>>>>>>>>>>>>>>>>>>>>>>>>>>>>>>>>>>>>>>>>>>>>>>>>>>>>>>>>>>>>>>>>>>>>>>\n",
      "--------------------------------------- Problem Information ----------------------------------------\n",
      "\n",
      "Problem                                : TIME1\n",
      "First Stage Rows                       : 2\n",
      "First Stage Columns                    : 2\n",
      "\n",
      "\n",
      "Optimization: \n",
      "Number of iterations                   : 299\n",
      "Lower bound estimate                   : -40.645951\n",
      "\n",
      "=================\n",
      "Replication-2\n",
      "\n",
      "Iteration-   1: +++++++++++++++\n",
      "Iteration- 101: +++>>>>>>>>>>+>>>>>+>>>>>>>+>>>>>+>+>+>+>+>+>>>>>>>>>>>+>>>>>>>>>>>>>>>>>>>>>>>>+>>\n",
      "Iteration- 201: >>>>>>>+>>>>>>+>>>>+>>>>>+>>>>>>>>>>+>>>>>>+>>+>>>>>>+>>>>>>>>>>>>>>>+>+>>>>>>>>>>>>>>+>+>>>>>+>>>>>>>>>+>>>+>+>>>>>\n",
      "Iteration- 301: >>+>+>>>>>>>>>>+>>>>+>>>+>>>>>>+>>>>>>>>>>>>>>>>>>+>>>>>>>>>>>>>>>>>>>>>>>>>>>>>>>>>>>>>>>>>>>>>>>>>>>>>>>>\n",
      "Iteration- 401: >>>>>>>>>>>>>>>>>>>>>+>>>>>>>>>>>>>>>>>>>>>>>>>>>>>>+>+>+>+>+>+>>+>+>+>>>+>>>+>+>+>+>+>+>+>+>+>+>+>+>+>+>+>+>+>+>+>+>+>>+>>+>+>+>+>+>>+>>+>+>+\n",
      "Iteration- 501: >+>+>+>+>+>+>+>+>+>+>+>+>+>+>+>+>>>>>>>>>+>>>>>>>>>>>>>>>>>>>>>>>>+>+>+>>>+>+>+>+>+>>>>+>+>+>+>+>+>+>+>+>+>+>+>+>+>+>+>+>+>+>+>+>+>+>+>+>+>+>+>+>+>+>+>>+>>>+>>+\n",
      "Iteration- 601: >+>+>+>+>+>+>+>+>+>+>+>+>+>+>+>+>+>+>+>+>+>+>+>+>+>+>>>>>>>>>>>\n",
      "\n",
      "Optimization: \n",
      "Number of iterations                   : 637\n",
      "Lower bound estimate                   : -39.828063\n",
      "\n",
      "=================\n",
      "Replication-3\n",
      "\n",
      "Iteration-   1: ++++\n",
      "Iteration- 101: +++++++>>>+>>>+>>>>>>>>>>>>>>>>>>>>>>>>>>>>>>>>>>>>>>>>>>>>>>>>>>>>>>>>>>>>>+>+>+\n",
      "Iteration- 201: >>>>+>>+>+>>>>>>>>>+>+>>+>+>>+>>>>>>>>>>>>>>>>>>>>>>>>>>+>>+>+>+>+>+>+>+>+>+>+>+>+>+>+>+>+>+>+>+>+>+>+>+>+>+>+>+>+>+>+>+>+>+>+>+>+>+>+>+>+>+>+>+>+>+>+>+>+>+>+>+\n",
      "Iteration- 301: >+>+>+>+>+>+>+>+>+>+>+>+>+>+>+>+>+>+>+>+>+>+>+>+>+>+>+>+>+>+>+>+>+>+>+>+>+>+>+>+>+>+>+>+>+>+>+>+>+>+>+>+>+>+>+>+>+>+>+>+>+>+>+>+>+>+>+>+>+>+>+>+>+>+>+>+>+>+>+>+>+>+>+>+>+>+>+>+>+>+>+>+>+>+>+>+>+>+>+>+\n",
      "Iteration- 401: >+>+>+>+>+>+>+>+>+>+>+>+>+>+>+>+>+>+>+>+>+>+>+>+>+>+>+>+>+>+>+>+>+>+>+>+>+>+>+>+>+>+>+>+>+>+>+>+>+>+>+>+>+>+>+>+>+>+>+>+>+>+>+>+>+>+>+>+>+>+>+>+>+>+>+>+>+>+>+>+>+>+>+>+>+>+>+>+>+>+>+>+>+>+>+>+>+>+>+>+\n",
      "Iteration- 501: >+>+>+>+>+>+>+>+>+>+>+>+>+>+>+>+>+>+>+>+>+>+>+>+>+>+>+>+>+>+>+>+>+>+>+>+>+>+>+>+>+>+>+>+>+>+>+>+>+>+>+>+>+>+>+>+>+>+>+>+>+>+>+>+>+>+>+>+>+>+>+>+>+>+>+>+>+>+>+>+>+>+>+>+>+>+>+>+>+>+>+>+>+>+>+>+>+>+>+>\n",
      "Iteration- 601: >+>>>>>>>+>>>>>>>>>>>>>>>>>>>>>>>>>>>>>>>>>>>>>>>>>>>>>>>>>\n",
      "\n",
      "Optimization: \n",
      "Number of iterations                   : 657\n",
      "Lower bound estimate                   : -40.223705\n",
      "\n",
      "=================\n",
      "Replication-4\n",
      "\n",
      "Iteration-   1: +++\n",
      "Iteration- 101: >>>>>>>>>>>>>>>>>>>>+>>>>>>>>>>>+>>>>>>>>>>>>>>>>>+>>+>>>>>>>>+>+>>>+>>>>>+>>\n",
      "Iteration- 201: >>>>>+>+>>>>>>>>>>>>>>>>>>>>>>>>>>>>>>>>>>>>>>>>>>>>>>>>>>>>>>>>>>>>>>>>>>>>>>+>>+>>+>>>>>>>+>>>>>>>>>>>>>\n",
      "Iteration- 301: >>>>>>>>>>>>>>>>>>>>>>>>>>>>>>>>>>>>>+>>+>>>>>>>>>>>>>>>>>>>>+>>+>+>+>+>>+>>+>+>>>>>>>>>>>+>>>>>>>>>\n",
      "\n",
      "Optimization: \n",
      "Number of iterations                   : 389\n",
      "Lower bound estimate                   : -40.129125\n",
      "\n",
      "=================\n",
      "Replication-5\n",
      "\n",
      "Iteration-   1: ++++\n",
      "Iteration- 101: +++++>+>+>>>>>>>>>>>>>>>>>>+>>>>>>>>>>>>>>>>>>>>>>>+>>>+>+>>>>>>>>>+>>>>>>>>>+>+>>>\n",
      "Iteration- 201: >>>>>>>>>>>>>>>>>>>>>>>>>>>>>>>>+>>+>+>+>>+>>>+>>>>>>>>>>>>>>>>>>+>>>>>>>\n",
      "\n",
      "Optimization: \n",
      "Number of iterations                   : 266\n",
      "Lower bound estimate                   : -39.944298\n",
      "\n",
      "=================\n",
      "Replication-6\n",
      "\n",
      "Iteration-   1: +++++++\n",
      "Iteration- 101: ++++>>>>>>>>>>>>>>>>+>>>+>>>>+>>>>>>>>>>>>>>>>>>>>>>>>>>>+>>>>>+>>>>>+>>>+>>>>>\n",
      "Iteration- 201: >>>>>>>>>>>>>>>>>>>>>>>>>+>+>+>+>+>+>+>+>+>+>>>>>>>>>>>>>>>+>>>>>>>>>>>>>>>>>>>>>>>>>>>>>>>+>+>>>>>>>>>>>>>>>>>>>\n",
      "Iteration- 301: >>>>>+>>>>+>>+>>+>+>+>+>+>+>+>+>+>+>+>+>+>+>+>+>+>+>+>+>+>+>+>+>+>+>+>+>+>+>+>+>+>+>+>+>+>+>+>+>+>+>+>+>+>+>+>+>+>+>+>+>+>+>+>+>+>+>+>+>+>+>+>+>+>+>+>+>+>+>+>+>+>+>+>+>+>+>+>+>+>+>+>+>+>+>+>+\n",
      "Iteration- 401: >+>+>+>+>+>+>+>+>+>+>+>+>+>+>+>+>+>+>+>+>+>+>+>+>+>+>+>+>+>+>+>+>+>+>+>+>+>+>+>+>+>+>+>+>+>>+>+>+>>+>+>+>+>+>+>>+>>+>>+>+>+>+>+>+>+>+>+>+>+>+>+>+>+>+>+>+>+>+>+>+>+>+>+>+>+>+>+>+>+>+>+>+>+>+>+>+>+\n",
      "Iteration- 501: >+>+>+>+>+>+>+>+>+>+>+>+>+>+>+>+>+>+>+>+>+>+>+>+>+>+>+>+>+>+>+>>+>+>+>+>+>+>+>+>+>+>+>+>+>+>+>+>>+>+>+>+>+>>+>>>+>+>+>+>+>+>+>+>+>+>+>+>+>+>+>>>>+>+>+>+>+>+>+>+>+>+>+>+>+>+>+>+>+>+>+>+>+>+>+>+\n",
      "Iteration- 601: >+>+>+>+>+>+>+>+>+>+>+>+>+>+>+>+>+>+>+>+>+>+>+>+>+>+>+>+>+>+>+>+>+>+>+>+>+>+>+>+>+>+>+>+>>+>+>+>+>+>+>+>+>+>+>+>+>+>+>+>+>+>+>+>+>+>+>+>+>+>>+>+>>+>+>+>+>>+>+>+>>+>>+>+>+>+>+>+>+>+>+>+>+>+>+>+>+\n",
      "Iteration- 701: >+>+>+>+>+>+>+>+>+>+>+>>>+>+>+>+>+>+>+>+>+>+>+>+>+>+>+>+>+>+>+>+>+>+>+>+>+>+>+>+>+>+>+>+>+>+>+>+>+>+>+>+>+>+>+>+>+>+>+>+>+>+>+>+>+>+>+>+>+>+>+>+>+>+>+>+>+>+>+>+>+>+>+>+>+>+>+>+>+>+>+>+>+>+>+>+>+>+>+\n",
      "Iteration- 801: >+>+>+>+>+>+>+>+>+>+>+>+>+>+>+>+>+>+>+>+>+>+>+>+>+>+>+>+>+>+>+>+>+>+>+>+>+>+>+>+>+>+>+>+>+>+>+>+>+>+>+>+>+>+>+>+>+>+>+>+>+>+>+>+>+>+>+>+>+>+>+>+>+>+>+>+>+>+>+>+>+>+>+>+>+>+>+>+>+>+>+>+>+>+>+>+>+>+>+>+\n",
      "Iteration- 901: >+>+>+>+>+>+>+>+>+>+>+>+>+>+>+>+>+>+>+>+>+>+>+>+>+>+>+>+>+>+>+>+>+>+>+>+>+>+>+>+>+>+>+>+>+>+>+>+>+>+>+>+>+>+>+>+>+>+>+>+>+>+>+>+>+>+>+>+>+>+>+>+>+>+>+>+>+>+>+>+>+>+>+>+>+>+>+>+>+>+>+>+>+>+>+>+>+>+>+>+\n",
      "Iteration-1001: >+>+>+>+>+>+>+>+>+>+>+>+>+>+>+>+>+>+>+>+>+>+>+>+>+>+>+>+>+>+>+>+>>>>>>>>>>>>>>>>>>>>>>>+>>>>>>>>>>>>>>>>>>>>>>>>>>>>\n",
      "\n",
      "Optimization: \n",
      "Number of iterations                   : 1083\n",
      "Lower bound estimate                   : -39.855052\n",
      "\n",
      "=================\n",
      "Replication-7\n",
      "\n",
      "Iteration-   1: ++++++++++\n",
      "Iteration- 101: +++++++++++>>>+>>+>>+>+>>>>>>>>>>>>>>>>+>+>>>>>>>>>>+>>>>>>>>>>>>>>>>>>>>>>>>>>>>>>>>>>\n",
      "Iteration- 201: >>>>>>>>>>>>>>>>>+>>>>>>>>>>>>>>>>>>>>>>>>>>>>>>>>>>>>>>>>>>>>>>>>>>>>>>>>>>>>>+>>>>>>>>>>>>>>>>>>>+>>>\n",
      "Iteration- 301: >>>>>>>>+>+>+>+>+>+>+>+>+>+>+>+>+>+>+>+>+>+>+>+>+>+>+>+>+>+>+>+>+>+>+>+>+>+>+>+>+>+>+>+>+>+>>>+>+>+>+>+>+>+>+>+>>+>+>+>+>+>+>+>+>+>+>+>+>+>+>+>+>+>+>+>+>+>+>+>+>+>+>+>+>+>+>+>+>+>+>+>+>+>+>+\n",
      "Iteration- 401: >+>+>+>+>+>+>+>+>+>+>+>+>+>+>+>+>+>+>+>+>+>+>+>+>+>+>+>+>+>+>+>+>+>+>+>+>+>+>+>+>+>+>+>+>+>+>+>+>+>+>+>+>+>+>+>+>+>+>+>+>+>+>+>+>+>+>+>+>+>+>+>+>+>+>+>+>+>+>+>+>+>+>+>+>+>+>+>+>+>+>+>+>+>+>+>+>+>+>+>+\n",
      "Iteration- 501: >+>+>+>+>+>+>+>+>+>+>+>+>+>+>+>+>+>+>+>+>+>+>+>+>+>+>+>+>+>+>+>>>>>>>>>>>>>>>>>+>>+>>+>>\n",
      "\n",
      "Optimization: \n",
      "Number of iterations                   : 554\n",
      "Lower bound estimate                   : -40.080083\n",
      "\n",
      "=================\n",
      "Replication-8\n",
      "\n",
      "Iteration-   1: +++++++++\n",
      "Iteration- 101: +++++>>>+>>>>>>>>>>>>>>>>>>>+>+>+>>>>+>>+>>>>>>+>>>+>>>>>>>>>>>>>>>>>>>>>>>>>>>+>>>\n",
      "Iteration- 201: >>>>>>>>>>>>>>>>>>>>>>>>>>+>>>>>>>>>>>>>>>>>>>>>>>>>>>>>>>>>>>+>>>>>>>>>+>+>>>>>>>>>>>>>>+>>>>>>>>>>+>>>>>\n",
      "Iteration- 301: >>>>>>>>>>>>>>>>>>>>+>>>>>>+>+>>>>>>>>>>>>>>>>>>>>>+>>>>>+>>>>>>>>>>>>>>>>>>>>>>>>>>>>>>>>>>>>>>>>>>>>>>>\n",
      "Iteration- 401: >>>>>>>>>>>>>>>>>>>>>>>>>>>>>>>>>>>>>>>>>>>>>>>>>>>>>>+>+>+>>+>+>>+>+>>\n",
      "\n",
      "Optimization: \n",
      "Number of iterations                   : 464\n",
      "Lower bound estimate                   : -39.859621\n",
      "\n",
      "=================\n",
      "Replication-9\n",
      "\n",
      "Iteration-   1: +++++++++++++\n",
      "Iteration- 101: >>>>>+>>>>>>+>>>>>+>>>>>>>+>>>>+>+>>>>>>>>>>>>>>>>>>>>>>+>+>>>>>>>>+>>>>>>>>>>>\n",
      "Iteration- 201: >+>+>>>>>+>+>>+>>>>>>>>>>+>>>>>>>>>>>>>+>>>>>>>+>>>>+>>>>>>>>>>>>>>>>>>>>>>>>>>>>>>>>>>>>>>>>>>>>>>>>+>>>+>>>>>\n",
      "Iteration- 301: >>>>>>>>>>>>>>>>>>>>>>>>>>>>>>>>>>>>+>>>>>+>+>+>+>>>>>>>>>>>>>>>>>>>>>>>>>>>+>>>>>>>>>+>+>>+>+>>>>>>>>>>>>>>>>\n",
      "Iteration- 401: >>>+>>>>>>>>>>>>>>>>>>>+>>>>>>>>>>>>>>>>>>>>>>>>>+>>>>>>>>>>>>>>>>>>>>>>>>>>>>>>>>>>+>+>>>>>>+>>>>>>>>>>>>\n",
      "Iteration- 501: >>>>>>>>>>>>>>>>>>>>>>>>>>>+>>>+>>>+>>+>+>+>+>+>+>+>>>+>>+>>>>>>>>>>>>>>>>>>>>>>>>>>>>>>>>>+>+>>>>>>>>>>>>>>>>>>>>\n",
      "Iteration- 601: >>>>>>>>>>>+>>>>>>>>>+>>>>>>>>>>>>>>>>>>>>>>>>>+>+>>+>+>+>+>+>+>+>+>+>+>+>+>+>+>+>+>+>+>>+>+>+>+>+>+>+>+>+>+>+>+>+>+>+>+>+>+>+>+>+>+>+>+>+>+>+>+>+>+>+>+>+>+\n",
      "Iteration- 701: >>+>>+>+>+>+>+>+>+>+>+>+>+>+>+>+>+>+>+>+>+>+>+>+>+>+>>+>+>+>+>+>+>>+>+>+>>>+>+>+>>+>+>>>+>+>+>+>+>+>+>+>>+>+>>+>>+>+>+>>+>+>+>+>+>+>+>+>+>+>+>+>+>+>+>+>+>+>+>>>>>>>>>>>>>>>\n",
      "Iteration- 801: >>>>>>>>>>>>>>>>>>>>>>>>+>>>>>>>>>>>>>>>>>>>>>>>>>>>>>>>>>>>+>>>>>>>>>\n",
      "\n",
      "Optimization: \n",
      "Number of iterations                   : 868\n",
      "Lower bound estimate                   : -39.871734\n",
      "\n",
      "=================\n",
      "Replication-10\n",
      "\n",
      "Iteration-   1: +++++++++++++\n",
      "Iteration- 101: +++++++>>+>>>>>>>>>>>>>>>>>>>>>>>>>>>>>>>>>>>>>>>>>>+>>>>>>>>+>>+>>+>>>>>>>>+>+>>>>\n",
      "Iteration- 201: >>>>>>>>>>>>>>>>>>>>>>>>>>>>>>>>>>>>>>>>+>+>>>>>>>>>>>+>+>+>>>>>>+>+>>>>>>>>>>>>>>>+>>>+>>>>>>>>>>>>>>>>>>>>>\n",
      "Iteration- 301: >>+>+>+>+>+>+>>>>>>>>>>>>>>>+>>>>>>>>>>>>>>>>>>>>>>>>>+>>>>>>+>>>>>>>>>>>>>>>>>>>>>>>>>>>>+>>+>+>+>+>+>+>+>+>+>+>+>+>+>+>+>+>+>+\n",
      "Iteration- 401: >+>+>+>+>+>+>+>+>+>+>+>+>+>+>+>+>+>+>+>+>+>+>+>+>+>+>+>+>+>+>+>+>+>+>+>+>+>+>+>+>+>+>+>+>+>+>+>+>+>+>+>+>+>+>+>+>+>+>+>+>+>+>+>+>+>+>+>+>+>+>+>+>+>+>+>+>+>+>+>+>+>+>+>+>+>+>+>+>+>+>+>+>+>+>+>+>+>+>+>+\n",
      "Iteration- 501: >+>+>+>+>+>+>+>+>+>+>+>+>+>+>+>+>+>+>+>+>+>+>+>+>+>+>+>+>+>+>>+>>>+>+>+>+>+>+>+>+>+>+>+>+>>+>>>+>+>+>+>+>+>+>+>+>+>+>+>+>+>+>+>+>+>+>+>+>+>+>+>+>+>+>+>+>+>+>+>+>+>+>+>+>+>+>+>+>+>+>+>+>+>+>+>+>+\n",
      "Iteration- 601: >+>+>+>+>+>+>+>+>+>+>+>+>+>+>+>+>+>+>+>+>+>+>+>+>+>+>+>+>+>+>+>+>+>+>+>+>+>+>+>+>+>+>+>+>+>+>+>+>+>+>+>+>+>+>+>+>+>+>+>+>+>+>+>+>+>+>+>+>+>+>+>+>+>+>+>+>+>+>+>+>+>+>+>+>+>+>+>+>+>+>+>+>+>+>+>+>+>+>+>+\n",
      "Iteration- 701: >+>+>+>+>+>+>+>+>+>+>+>+>+>+>+>+>+>+>+>+>+>+>+>+>+>+>+>+>+>+>+>+>+>+>+>+>+>+>+>+>+>+>+>+>+>+>+>+>+>+>+>+>+>+>+>+>+>+>+>+>+>+>+>+>+>+>+>+>+>+>+>+>+>+>+>+>+>+>+>+>+>+>+>+>+>+>+>+>+>+>+>+>+>+>+>+>+>+>+>+\n",
      "Iteration- 801: >+>+>+>+>+>+>+>+>+>+>+>+>+>+>+>+>+>+>+>+>+>+>+>+>+>+>+>+>+>+>+>+>+>+>+>+>+>+>+>+>+>+>+>+>+>+>+>+>+>+>+>+>+>+>+>+>+>+>+>+>+>+>+>+>+>+>+>+>+>+>+>+>+>+>+>+>+>+>+>+>+>+>+>+>+>+>+>+>+>+>+>+>+>+>+>+>+>+>+>+\n",
      "Iteration- 901: >+>+>+>+>+>+>+>+>+>+>+>+>+>+>+>+>+>+>+>+>+>+>>>>>>>>>>>>>>>>>>>>+>>+>>>>>>>>>>>>+>>>>>>+>>+>>+>>>>>>>>>>>>>\n",
      "\n",
      "Optimization: \n",
      "Number of iterations                   : 979\n",
      "Lower bound estimate                   : -39.576948\n",
      "\n",
      "=================\n",
      "Replication-11\n",
      "\n",
      "Iteration-   1: +++++++++\n",
      "Iteration- 101: +++++>>>>>>+>+>>>+>>>>>>>+>+>>>>>>>>>>>>>>>>>>+>>>>>>>>>>>>>>>>>>>>>>>>>>>>>+>>>+>\n",
      "Iteration- 201: >>+>>>>>+>>>>>>>+>>>>>>>>>>>>>>>>>>>>>>>>>>>>>>>+>>>>>+>>>+>+>+>>>>>>>>>+>+>>>>>>>>>>>>>>>>>>>>>>>>>>>>>>>>>>>\n",
      "Iteration- 301: >>>>>>>>>>>>>>>>>>>>>>>>>>>>>>>>>>>>>>+>>>>>>>>>>>>>>>>>>>>>>>>>>>>>>>>>>>>>>>+>>>>>>>>>>>>>>>>>>>>>>>\n",
      "Iteration- 401: >>>>>>>>>>>>>>>>>>>>>>>>>>>>\n",
      "\n",
      "Optimization: \n",
      "Number of iterations                   : 428\n",
      "Lower bound estimate                   : -39.983107\n",
      "\n",
      "=================\n",
      "Replication-12\n",
      "\n",
      "Iteration-   1: ++++++++++++++++\n",
      "Iteration- 101: ++>>>>>+>>+>>>+>>>>>>>>>>>>>>>>>>>>>>>>>>>>>>>>>>>>>>>>>>>>>+>>>>>>>>>>+>>+>>+\n",
      "Iteration- 201: >+>+>+>+>+>+>+>+>>+>+>+>+>+>+>+>>>+>>>>>+>>>>>>>>>>>>>>>>>>>>>>>>>>>>>>>>>>>>>>>>>>>>>>>>>>>>>>>+>>>>>>>>>>>>>>>>>>>>>\n",
      "Iteration- 301: >>+>>>>>>>>>>>>>>>>>>\n",
      "\n",
      "Optimization: \n",
      "Number of iterations                   : 320\n",
      "Lower bound estimate                   : -40.272954\n",
      "\n",
      "=================\n",
      "Replication-13\n",
      "\n",
      "Iteration-   1: ++++++++++\n",
      "Iteration- 101: ++>>>>>>>>>>>>>>>>>>>>>>>>>>>>>>>>>>>>>>>>>>>>>+>>>>>>>>>>>>>>>>>>>>>>>>>>+\n",
      "Iteration- 201: >+>>>>>>>>>>>>>>>>>>>>>>>>>>>>>>+>+>>>>>>>>+>>>>>>>>>>>>>>>>>>>>>+>>>+>>>>>>>>>+>>>>>>>>>>>>>>>>>>>>>>>>>>>\n",
      "Iteration- 301: >>>>>>>>>>>>>>+>>>>>>>>>>>>>>>>>>>>>>>>>>>>>>>>>>>>>>>+>>+>+>+>+>+>+>>+>>+>+>+>+>+>+>>+>+>+>+>+>>>>>>+>+>>>>>>>>>>>>>>>+>>>\n",
      "Iteration- 401: >>>>>>>>>>>>>>>>>>>+>>+>+>+>>+>>>>>>>>>>>>>>>>>>>>>>>>>+>>>>+>+>+>>>>>>>>>>>>+>>>>>>>>>>>>>>>>>>>>>+>>>>>>>>>>>\n",
      "Iteration- 501: >>>>>>>>>>>>>>>>>>>>>>>>>>+>>>+>+>+>>+>+>>+>+>>>>>>>>>>>>>>>>+>>>>>>>>>>>>>+>+>+>>>+>+>+>>>>>>>+>>>>>>>>>>>+>+>>>+>+>+>+>+>+\n",
      "Iteration- 601: >+>+>+>+>+>+>+>+>+>+>+>>+>+>+>+>+>>+>>+>+>+>+>+>+>+>+>+>+>+>+>>+>>+>>+>+>+>+>+>+>+>+>+>+>+>+>+>>>>+>+>+>>>>+>>>+>>>+>+>>>>>>>>>>>+>+>+>+>+>+>+>+>+>+>+>+>+>+>+>+>+>+>+>+>+>+>+\n",
      "Iteration- 701: >+>+>+>+>+>+>+>+>+>+>+>+>+>>>>>>>>>>>>>>>>>+>>>>>>>>>>>>>>>>>>>>>>>>>>>>>>>+>>>>>>>>>>\n",
      "\n",
      "Optimization: \n",
      "Number of iterations                   : 771\n",
      "Lower bound estimate                   : -39.864635\n",
      "\n",
      "=================\n",
      "Replication-14\n",
      "\n",
      "Iteration-   1: ++++++++++\n",
      "Iteration- 101: +>>>>>>>>>>>>>>>>>>>>>>>>>>>>>>>>>>>>>>>>>+>>>>>>>>+>>>>>>+>>+>>+>>+>>+>+>>>>>\n",
      "Iteration- 201: >>>>>>>>>>>>>>+>>>>>>>>>>>>>>>>>>>>>>>>>>>>>>>>>>>>>>>>>>>>>>>>>+>>>>>>>>>>>>>>>>>>>>+>>+>+>>+>>>+>+>+>+>>>>>>\n",
      "Iteration- 301: >>>>>>>>>>>>>>>>>>>>>>>>>>>>>>>+>>>>>>>>>>>>>>>>>>>>>>>>>>>>>>>>>+>>\n",
      "\n",
      "Optimization: \n",
      "Number of iterations                   : 366\n",
      "Lower bound estimate                   : -39.584540\n",
      "\n",
      "=================\n",
      "Replication-15\n",
      "\n",
      "Iteration-   1: ++++++++++++++++\n",
      "Iteration- 101: +++>>>>>>>>>>>>>>>>>>>>>>>>>>+>>>>>+>>>>>>>>>+>>+>>>>+>+>+>+>+>+>>>>>>>>>>>>>>>>>>\n",
      "Iteration- 201: >>>>>>>>>>>>>>>>>>>>>>>>>>+>>+>+>>+>>>>>+>>>>>>>>+>>>+>>>>>>>>>>>>>>>>>>>>>>>+>>>>>+>>>>+>+>+>>>>+>+>+>>>>>>>>>>>+>>\n",
      "Iteration- 301: >>>>>>>>>>>>>>>>>>>>>>>>>>>>>>>>>>>+>>>>>>>>>>>>>>>>>>>>>>>>>>>>>>>>>>>>>>>>>>>>>>>>>>>>>>>+>>>>>>>>>>\n",
      "Iteration- 401: >>>>>>>>>>>>>>>>>>>>>>>>>>>>>>>>>>>>>>>>>>>>>>>+>>>>>>>>>>>>>>>>>>>>>>>\n",
      "\n",
      "Optimization: \n",
      "Number of iterations                   : 470\n",
      "Lower bound estimate                   : -40.070563\n",
      "\n",
      "=================\n",
      "Replication-16\n",
      "\n",
      "Iteration-   1: ++++++++++++++\n",
      "Iteration- 101: +++>>>>>>>>>>>>>>>>>>>>>>>+>>+>+>>>+>>>>>>>>>>>>>>>>>>>>>>>>>>>>>>>+>>>+>>>>>>\n",
      "Iteration- 201: >>>>>>>+>+>>+>+>>>>>+>>>>>>>>>>>>>>>>>>>>>>>>>+>>>>>>>+>>>>>>>>>>>+>>>>>>>>>>+>+>>>+>+>>>>>>>>>>>>>>>>>>>>>>>>>>+\n",
      "Iteration- 301: >>+>>+>>>>>>>>+>+>+>+>+>+>+>+>+>+>+>+>+>+>+>+>>>>>+>>>>>>>>>+>>>+>+>+>+>+>+>+>+>+>>+>>+>+>+>+>+>+>+>+>+>+>+>+>+>+>+>+>+>+>+>+>+>+>+>+>+>+>+>>>+>+>>>>>>>+>>+>+>+>+>+>+\n",
      "Iteration- 401: >+>+>+>+>+>+>+>+>+>+>+>+>+>+>+>+>+>+>+>+>+>+>+>+>+>+>+>+>+>+>+>+>+>>+>>+>+>+>+>>>+>>>+>+>+>+>+>+>+>+>+>+>>>>>>>>>>>>>>>>>>>>>>>>>>>>>>>>>>>>>>>>>>>>>\n",
      "Iteration- 501: >>>>>>>>>>>>>\n",
      "\n",
      "Optimization: \n",
      "Number of iterations                   : 513\n",
      "Lower bound estimate                   : -40.112159\n",
      "\n",
      "=================\n",
      "Replication-17\n",
      "\n",
      "Iteration-   1: ++++++\n",
      "Iteration- 101: ++>>>>>>>>>>>>>>>+>>>+>>+>>>+>>>>>>>>>>>>>+>>>>>>+>+>>>>>+>+>>>>>>>+>>>>>>>>>>>>>>\n",
      "Iteration- 201: >>>>>>>>>>>>>>>>>>>>>>>>>>>>>>>>>>>>>>>>>>>>>>>>>>>>>+>>>>>>>>>>>>>>>+>+>+>+>+>+>>>>>>>>+>>>>>>+>+>+>+>+>+>+>+>+>+>>+>+>+\n",
      "Iteration- 301: >+>+>+>+>+>>>+>+>+>+>+>+>+>+>+>+>+>+>+>+>+>+>+>+>+>+>+>+>+>+>+>+>+>+>+>+>+>+>+>>>>>>>>>>>>>>>>>+>>>>>>>>>>>>>>>>>>>>>>>>>>>>>+>>>>>>>+>>>+>+>>+>\n",
      "Iteration- 401: >>>>>>>+>+>+>+>+>+>+>>>+>+>+>+>+>+>+>+>+>+>+>+>+>+>+>+>+>+>+>+>+>+>>+>+>>+>+>+>+>+>+>+>+>>+>>+>+>+>+>+>+>>+>+>+>+>+>+>+>+>+>+>+>+>+>+>+>+>+>+>+>+>+>+>+>+>+>+>+>+>+>+>+>+>+>+>+>+>+>+>+>+>+\n",
      "Iteration- 501: >+>+>+>+>+>+>+>+>+>+>+>+>+>+>+>+>+>+>+>+>+>+>+>+>+>+>+>+>+>+>+>+>+>+>+>+>+>+>+>+>+>+>+>+>+>+>+>+>+>>+>+>+>+>+>+>+>+>+>+>+>+>+>+>+>+>>+>+>+>>+>+>+>>>+>+>+>+>+>+>+>+>+>+>+>+>+>+>+>+>+>+>+>+>+>+>+>+\n",
      "Iteration- 601: >+>+>+>+>+>+>+>+>+>+>+>+>+>+>+>+>+>+>+>+>+>+>+>+>+>+>+>+>+>+>+>+>+>+>+>+>+>+>+>+>+>+>+>+>+>+>+>+>+>+>+>+>+>+>+>+>+>+>+>+>+>+>+>+>+>+>+>+>+>+>+>+>+>+>+>+>+>+>+>+>+>+>+>+>+>+>+>+>+>+>+>>+>+>+>+>+>+>+>+\n",
      "Iteration- 701: >+>>+>+>+>+>>+>+>>+>+>+>+>+>+>+>>>+>+>+>+>+>+>+>+>+>+>+>+>+>+>+>+>+>+>+>+>+>+>+>+>+>+>+>+>+>+>+>+>+>+>+>+>+>+>+>+>+>+>+>+>+>+>+>+>+>+>+>+>+>+>+>+>+>+>+>+>+>+>+>+>+>+>+>+>+>+>+>+>+>+>+>+>+>+>+>+>+\n",
      "Iteration- 801: >+>+>+>+>+>+>+>+>+>+>+>+>+>+>+>+>+>+>+>+>+>+>+>+>+>+>+>+>>+>+>+>+>+>+>+>+>+>+>+>+>+>+>+>+>+>+>+>+>+>+>+>+>+>+>+>+>+>+>+>+>+>+>>>+>+>>+>+>+>+>+>+>+>>>+>+>>+>+>+>+>>>>+>+>+>+>+>+>>>+>>+>+>+\n",
      "Iteration- 901: >+>+>+>+>+>+>+>+>+>+>+>+>+>+>+>+>+>+>+>+>+>+>+>+>+>+>+>+>+>+>+>+>+>+>+>+>+>+>+>+>+>+>+>+>+>+>+>+>+>+>+>+>+>+>+>+>+>+>+>+>+>+>+>+>+>+>+>+>+>+>+>+>+>+>+>+>+>+>+>+>+>+>+>+>+>+>+>+>+>+>+>+>+>+>+>+>+>+>+>+\n",
      "Iteration-1001: >+>+>+>+>+>+>+>+>+>+>+>+>+>+>+>+>+>+>+>+>+>+>+>+>+>+>+>+>+>+>+>+>+>+>+>+>+>+>+>+>+>+>+>+>+>+>+>+>+>+>+>+>+>+>+>+>+>+>+>+>+>+>+>+>+>+>+>+>+>+>+>+>+>+>+>+>+>+>+>+>+>+>+>+>+>+>+>+>+>+>+>+>+>+>+>+>+>+>+>+\n",
      "Iteration-1101: >+>+>+>+>+>+>+>+>+>+>+>+>+>+>+>+>+>+>+>+>+>+>+>+>+>+>+>+>+>+>+>+>+>+>+>+>+>+>+>+>+>+>+>+>+>+>+>+>+>+>+>+>+>+>+>+>+>+>+>+>+>+>+>+>+>+>+>+>+>+>+>+>+>+>+>+>+>+>+>+>+>+>+>+>+>+>+>+>+>+>+>+>+>+>+>+>+>+>+>+\n",
      "Iteration-1201: >+>+>+>+>+>+>+>+>+>+>+>+>+>+>+>+>+>+>+>+>+>+>+>+>+>+>+>+>+>+>+>+>+>+>+>+>+>+>+>+>+>+>+>+>+>+>+>+>+>+>+>+>+>+>+>+>+>+>+>+>+>+>+>+>+>+>+>+>+>+>+>+>+>+>+>+>+>+>+>+>+>+>+>+>+>+>+>+>+>+>+>+>+>+>+>+>+>+>+>+\n",
      "Iteration-1301: >+>+>+>+>+>+>+>+>+>+>+>+>+>+>+>+>+>+>+>+>+>+>+>+>+>+>+>+>+>+>+>+>+>+>+>+>+>+>+>+>+>+>+>+>+>+>+>+>+>+>+>+>>+>+>+>+>+>+>+>+>+>+>+>+>+>+>+>+>+>+>+>+>+>+>>>+>>+>+>+>+>+>+>+>+>+>+>+>+>+>+>+>>+>+>+>+>+\n",
      "Iteration-1401: >+>+>>>+>+>>+>+>+>+>+>>+>+>+>+>+>+>+>+>+>+>+>+>+>+>+>+>>>+>+>+>+>+>>+>+>+>+>+>+>+>+>+>+>+>+>+>+>+>+>+>+>+>+>+>+>+>+>+>+>+>+>+>+>+>+>+>+>+>+>+>+>+>+>+>+>+>+>+>+>+>+>+>+>+>+>+>+>+>+>+>+>+>+>+>+>+\n",
      "Iteration-1501: >+>+>+>+>+>+>+>+>+>+>+>+>+>+>+>+>+>+>+>+>+>+>+>+>+>+>+>+>+>+>+>+>+>+>+>+>+>+>+>+>+>+>+>+>+>+>+>+>+>+>+>+>+>+>+>+>+>+>+>+>+>+>+>+>+>+>+>+>+>+>+>+>+>+>+>+>+>+>+>+>+>+>+>+>+>+>+>+>+>+>+>+>+>+>+>+>+>+>+>+\n",
      "Iteration-1601: >+>+>+>+>+>+>+>+>+>+>+>+>+>+>+>+>+>+>+>+>+>+>+>+>+>+>+>+>+>+>+>+>+>+>+>+>+>+>+>+>+>+>+>+>+>+>+>+>+>+>+>+>+>+>+>+>+>+>+>+>+>+>+>+>+>+>+>+>+>+>+>+>+>+>+>+>+>+>+>+>+>+>+>+>+>+>+>+>+>+>+>+>+>+>+>+>+>+>+>+\n",
      "Iteration-1701: >+>+>+>+>+>+>+>+>+>+>+>+>+>+>+>+>+>+>+>+>+>+>+>+>+>+>+>+>+>+>+>+>+>+>+>+>+>+>+>+>+>+>+>+>+>+>+>+>+>+>+>+>+>+>+>+>+>+>+>+>+>+>+>+>+>+>+>+>+>+>+>+>+>+>+>+>+>+>+>+>+>+>+>+>+>+>+>+>+>+>+>+>+>+>+>+>+>+>+>+\n",
      "Iteration-1801: >+>+>+>+>+>+>+>+>+>+>+>+>+>+>+>+>+>+>+>+>+>+>+>+>+>+>+>+>+>+>+>+>+>+>+>+>+>+>+>+>+>+>+>+>+>+>+>+>+>+>+>+>+>+>+>+>+>+>+>+>+>+>+>+>+>+>+>+>+>+>+>+>+>+>+>+>+>+>+>+>+>+>+>+>+>+>+>+>+>+>+>+>+>+>+>+>+>+>+>+\n",
      "Iteration-1901: >+>+>+>+>+>+>+>+>+>+>+>+>+>+>+>+>+>+>+>+>+>+>+>+>+>+>+>+>+>+>+>+>+>+>+>+>+>+>+>+>+>+>+>+>+>+>+>+>+>+>+>+>+>+>+>+>>>+>+>>+>+>+>+>+>+>+>+>+>+>+>+>+>+>+>+>+>+>+>+>+>+>+>+>+>+>+>+>+>+>+>+>+>>+>>>+>+\n",
      "Iteration-2001: >+>+>+>+>+>+>+>+>+>+>+>+>+>+>+>+>+>+>+>+>+>+>+>+>+>+>+>+>+>+>+>+>+>>+>+>+>+>+>+>+>+>+>+>+>+>+>+>+>+>>+>+>+>+>+>+>+>>>>>>>>+>+>+>+>>+>+>+>+>+>+>>>+>+>>>+>+>+>+>+>+>+>+>+>+>+>+>+>+>+>+>+>+\n",
      "Iteration-2101: >+>+>+>+>+>+>+>+>+>+>+>+>+>+>+>+>+>+>+>+>+>+>+>+>+>+>+>+>+>+>+>+>+>+>+>+>+>+>+>+>+>+>+>+>+>+>+>+>+>+>+>+>+>+>+>+>+>+>+>+>+>+>+>+>+>+>+>+>+>+>+>+>+>+>+>+>+>+>+>+>+>+>+>+>+>+>+>+>+>+>+>+>+>+>+>+>+>+>+>+\n",
      "Iteration-2201: >+>+>+>+>+>+>+>+>+>+>+>+>+>+>+>+>+>+>+>+>+>+>+>+>+>+>+>+>+>+>+>+>+>+>+>+>+>+>+>+>+>+>+>+>+>+>+>+>+>+>+>+>+>+>+>+>+>+>+>+>+>+>+>+>+>+>+>+>+>+>+>+>+>+>+>+>+>+>+>+>+>+>+>+>+>+>+>+>+>+>+>+>+>+>+>+>+>+>+>+\n",
      "Iteration-2301: >+>+>+>+>+>+>+>+>+>+>+>+>+>+>+>+>+>+>+>+>+>+>+>+>+>+>+>+>+>+>+>+>+>+>+>+>+>+>+>+>+>+>+>+>+>+>+>+>+>+>+>+>+>+>+>+>+>+>+>+>+>+>+>+>+>+>+>+>+>+>+>+>+>+>+>+>+>+>+>+>+>+>+>+>+>+>+>+>+>+>+>+>+>+>+>+>+>+>+>+\n",
      "Iteration-2401: >+>+>+>+>+>+>+>+>+>+>+>+>+>+>+>+>+>+>+>+>+>+>+>+>+>+>+>+>+>+>+>+>+>+>+>+>+>+>+>+>+>+>+>+>+>+>+>+>+>+>+>+>+>+>+>+>+>+>+>+>+>+>+>+>+>+>+>+>+>+>+>+>+>+>+>+>+>+>+>+>+>+>+>+>+>+>+>+>+>+>+>+>+>+>+>+>+>+>+>+\n",
      "Iteration-2501: >+>+>+>+>+>+>+>+>+>+>+>+>+>+>+>+>+>+>+>+>+>+>+>+>+>+>+>+>+>+>+>+>+>+>+>+>+>+>+>+>+>+>+>+>+>+>+>+>+>+>+>+>+>+>+>+>+>+>+>+>+>+>+>+>>>+>+>+>>+>+>>+>+>+>+>+>+>+>+>+>+>+>+>+>+>+>+>+>+>+>+>+>+>+>+>+>+>+\n",
      "Iteration-2601: >+>+>+>+>+>+>+>+>+>+>+>+>+>+>+>+>+>+>+>+>+>+>+>+>+>+>+>+>+>+>+>+>+>+>+>+>+>+>+>+>+>+>+>+>+>+>+>+>+>+>+>+>+>+>+>+>+>+>+>+>+>+>+>+>+>+>+>+>+>+>+>+>+>+>+>+>+>+>+>+>+>+>+>+>+>+>+>+>+>+>+>+>+>+>+>+>+>+>+>+\n",
      "Iteration-2701: >+>+>+>+>+>+>+>+>+>+>+>+>+>+>+>+>+>+>+>+>+>+>+>+>+>+>+>+>+>+>+>+>+>+>+>+>+>+>+>+>+>+>+>+>+>+>+>+>+>+>+>+>+>+>+>+>+>+>+>+>+>+>+>+>+>+>+>+>+>+>+>+>+>+>+>+>+>+>+>+>+>+>+>+>+>+>+>+>+>+>+>+>+>+>+>+>+>+>+>+\n",
      "Iteration-2801: >+>+>+>+>+>+>+>+>+>+>+>+>+>+>+>+>+>+>+>+>+>+>+>+>+>+>+>+>+>+>+>+>+>+>+>+>+>+>+>+>+>+>+>+>+>+>+>+>+>+>+>+>+>+>+>+>+>+>+>+>+>+>+>+>+>+>+>+>+>+>+>+>+>+>+>+>+>+>+>+>+>+>+>+>+>+>+>+>+>+>+>+>+>+>+>+>+>+>+>+\n",
      "Iteration-2901: >+>+>+>+>+>+>+>+>+>+>+>+>+>+>+>+>+>+>+>+>+>+>+>+>+>+>+>+>+>+>+>+>+>+>+>+>+>+>+>+>+>+>+>+>+>+>+>+>+>+>+>+>+>+>+>+>+>+>+>+>+>+>+>+>+>+>+>+>+>+>+>+>+>+>+>+>+>+>+>+>+>+>+>+>+>+>+>+>+>+>+>+>+>+>+>+>+>+>+>+\n",
      "Iteration-3001: >+>+>+>+>+>+>+>+>+>+>+>+>+>+>+>+>+>+>+>+>+>+>+>+>+>+>+>+>+>+>+>+>+>+>+>+>+>+>+>+>+>+>+>+>+>+>+>+>+>+>+>+>+>+>+>+>+>+>+>+>+>+>+>+>+>+>+>+>+>+>+>+>+>+>+>+>+>+>+>+>+>+>+>+>+>+>+>+>+>+>+>+>+>+>+>+>+>+>+>+\n",
      "Iteration-3101: >+>+>+>+>+>+>+>+>+>+>+>+>+>+>+>+>+>+>+>+>+>+>+>+>+>+>+>+>+>+>+>+>+>+>+>+>+>+>+>+>+>+>+>+>+>+>+>+>+>+>+>+>+>+>+>+>+>+>+>+>+>+>+>+>+>+>+>+>+>+>+>+>+>+>+>+>+>+>+>+>+>+>+>+>+>+>+>+>+>+>+>+>+>+>+>+>+>+>+>+\n",
      "Iteration-3201: >+>+>+>+>+>+>+>+>+>+>+>+>+>+>+>+>+>+>+>+>+>+>+>+>+>+>+>+>+>+>+>+>+>+>+>+>+>+>+>+>+>+>+>+>+>+>+>+>+>+>+>+>+>+>+>+>+>+>+>+>+>+>+>+>+>+>+>+>+>+>+>+>+>+>+>+>+>+>+>+>+>+>+>+>+>+>+>+>+>+>+>+>+>+>+>+>+>+>+>+\n",
      "Iteration-3301: >+>+>+>+>+>+>+>+>+>+>+>+>+>+>+>+>+>+>+>+>+>+>+>+>+>+>+>+>+>+>+>+>+>+>+>+>+>+>+>+>+>+>+>+>+>+>+>+>+>+>+>+>+>+>+>+>+>+>+>+>+>+>+>+>+>+>+>+>+>+>+>+>+>+>+>+>+>+>+>+>+>+>+>+>+>+>+>+>+>+>+>+>+>+>+>+>+>+>+>+\n",
      "Iteration-3401: >+>+>+>+>+>+>+>+>+>+>+>+>+>+>+>+>+>+>+>+>+>+>+>+>+>+>+>+>+>+>+>+>+>+>+>+>+>+>+>+>+>+>+>+>+>+>+>+>+>+>+>+>+>+>+>+>+>+>+>+>+>+>+>+>+>+>+>+>+>+>+>+>+>+>+>+>+>+>+>+>+>+>+>+>+>+>+>+>+>+>+>+>+>+>+>+>+>+>+>+\n",
      "Iteration-3501: >+>+>+>+>+>+>+>+>+>+>+>+>+>+>+>+>+>+>+>+>+>+>+>+>+>+>+>+>+>+>+>+>+>+>+>+>+>+>+>+>+>+>+>+>+>+>+>+>+>+>+>+>+>+>+>+>+>+>+>+>+>+>+>+>+>+>+>+>+>+>+>+>+>+>+>+>+>+>+>+>+>+>+>+>+>+>+>+>+>+>+>+>+>+>+>+>+>+>+>+\n",
      "Iteration-3601: >+>+>+>+>+>+>+>+>+>+>+>+>+>+>+>+>+>+>+>+>+>+>+>+>+>+>+>+>+>+>+>+>+>+>+>+>+>+>+>+>+>+>+>+>+>+>+>+>+>+>+>+>+>+>+>+>+>+>+>+>+>+>+>+>+>+>+>+>+>+>+>+>+>+>+>+>+>+>+>+>+>+>+>+>+>+>+>+>+>+>+>+>+>+>+>+>+>+>+>+\n",
      "Iteration-3701: >+>+>+>+>+>+>+>+>+>+>+>+>+>+>+>+>+>+>+>+>+>+>+>+>+>+>+>+>+>+>+>+>+>+>+>+>+>+>+>+>+>+>+>+>+>+>+>+>+>+>+>+>+>+>+>+>+>+>+>+>+>+>+>+>+>+>+>+>+>+>+>+>+>+>+>+>+>+>+>+>+>+>+>+>+>+>+>+>+>+>+>+>+>+>+>+>+>+>+>+\n",
      "Iteration-3801: >+>+>+>+>+>+>+>+>+>+>+>+>+>+>+>+>+>+>+>+>+>+>+>+>+>+>+>+>+>+>+>+>+>+>+>+>+>+>+>+>+>+>+>+>+>+>+>+>+>+>+>+>+>+>+>+>+>+>+>+>+>+>+>+>+>+>+>+>+>+>+>+>+>+>+>+>+>+>+>+>+>+>+>+>+>+>+>+>+>+>+>+>+>+>+>+>+>+>+>+\n",
      "Iteration-3901: >+>+>+>+>+>+>+>+>+>+>+>+>+>+>+>+>+>+>+>+>+>+>+>+>+>+>+>+>+>+>+>+>+>+>+>+>+>+>+>+>+>+>+>+>+>+>+>+>+>+>+>+>+>+>+>+>+>+>+>+>+>+>+>+>+>+>+>+>+>+>+>+>+>+>+>+>+>+>+>+>+>+>+>+>+>+>+>+>+>+>+>+>+>+>+>+>+>+>+>+\n",
      "Iteration-4001: >+>+>+>+>+>+>+>+>+>+>+>+>+>+>+>+>+>+>+>+>+>+>+>+>+>+>+>+>+>+>+>+>+>+>+>+>+>+>+>+>+>+>+>+>+>+>+>+>+>+>+>+>+>+>+>+>+>+>+>+>+>+>+>+>+>+>+>+>+>+>+>+>+>+>+>+>+>+>+>+>+>+>+>+>+>+>+>+>+>+>+>+>+>+>+>+>+>+>+>+\n",
      "Iteration-4101: >+>+>+>+>+>+>+>+>+>+>+>+>+>+>+>+>+>+>+>+>+>+>+>+>+>+>+>+>+>+>+>+>+>+>+>+>+>+>+>+>+>+>+>+>+>+>+>+>+>+>+>+>+>+>+>+>+>+>+>+>+>+>+>+>+>+>+>+>+>+>+>+>+>+>+>+>+>+>+>+>+>+>+>+>+>+>+>+>+>+>+>+>+>+>+>+>+>+>+>+\n",
      "Iteration-4201: >+>+>+>+>+>+>+>+>+>+>+>+>+>+>+>+>+>+>+>+>+>+>+>+>+>+>+>+>+>+>+>+>+>+>+>+>+>+>+>+>+>+>+>+>+>+>+>+>+>+>+>+>+>+>+>+>+>+>+>+>+>+>+>+>+>+>+>+>+>+>+>+>+>+>+>+>+>+>+>+>+>+>+>+>+>+>+>+>+>+>+>+>+>+>+>+>+>+>+>+\n",
      "Iteration-4301: >+>+>+>+>+>+>+>+>+>+>+>+>+>+>+>+>+>+>+>+>+>+>+>+>+>+>+>+>+>+>+>+>+>+>+>+>+>+>+>+>+>+>+>+>+>+>+>+>+>+>+>+>+>+>+>+>+>+>+>+>+>+>+>+>+>+>+>+>+>+>+>+>+>+>+>+>+>+>+>+>+>+>+>+>+>+>+>+>+>>>+>+>+>+>+>+>+>+>+\n",
      "Iteration-4401: >+>+>+>+>+>+>>+>+>+>+>+>+>+>+>+>+>+>+>+>+>+>+>+>+>+>+>+>+>+>+>+>+>+>+>+>+>+>+>+>+>+>+>+>+>+>+>+>+>+>+>+>+>+>+>+>+>+>+>+>+>+>+>+>+>+>+>+>+>+>+>+>+>+>+>+>+>+>+>+>+>+>+>+>+>+>+>+>+>+>+>+>+>+>+>+>+>+>+>+\n",
      "Iteration-4501: >+>+>+>+>+>+>+>+>+>+>+>+>+>+>+>+>+>+>+>+>+>+>+>+>+>+>+>+>+>+>+>+>+>+>+>+>+>+>+>+>+>+>+>+>+>+>+>+>+>+>+>+>+>+>+>+>+>+>+>+>+>+>+>+>+>+>+>+>+>+>+>+>+>+>+>+>+>+>+>+>+>+>+>+>+>+>+>+>+>+>+>+>+>+>+>+>+>+>+>+\n",
      "Iteration-4601: >+>+>+>+>+>+>+>+>+>+>+>+>+>+>+>+>+>+>+>+>+>>>+>+>+>+>+>+>>>+>+>>+>+>+>+>+>+>+>+>+>+>+>+>+>+>+>+>+>+>+>+>+>+>+>+>+>+>+>+>+>+>+>+>+>+>+>+>+>+>+>+>+>+>+>+>+>+>+>+>+>+>+>+>+>+>+>+>+>+>+>+>+>+>+>+>+>+\n",
      "Iteration-4701: >+>+>+>+>+>+>+>+>+>+>+>+>+>+>+>+>+>+>+>+>+>+>+>+>+>+>+>+>+>+>+>+>+>+>+>+>+>+>+>+>+>+>+>+>+>+>+>+>+>+>+>+>+>+>+>+>+>+>+>+>+>+>+>+>+>+>+>+>+>+>+>+>+>+>+>+>+>+>+>+>+>+>+>+>+>+>+>+>+>+>+>+>+>+>+>+>+>+>+>+\n",
      "Iteration-4801: >+>+>+>+>+>+>+>+>+>+>+>+>+>+>+>+>+>+>+>+>+>+>+>+>+>+>+>+>+>+>+>+>+>+>+>+>+>+>+>+>+>+>+>+>+>+>+>+>+>+>+>+>+>+>+>+>+>+>+>+>+>+>+>+>+>+>+>+>+>+>+>+>+>+>+>+>+>+>+>+>+>+>+>+>+>+>+>+>+>+>+>+>+>+>+>+>+>+>+>+\n",
      "Iteration-4901: >+>+>+>+>+>+>+>+>+>+>+>+>+>+>+>+>+>+>+>+>+>+>+>+>+>+>+>+>+>+>+>+>+>+>+>+>+>+>+>+>+>+>+>+>+>+>+>+>+>+>+>+>+>+>+>+>+>+>+>+>+>+>+>+>+>+>+>+>+>+>+>+>+>+>+>+>+>+>+>+>+>+>+>+>+>+>+>+>+>+>+>+>+>+>+>+>+>+>+>+\n",
      "\n",
      "Optimization: \n",
      "Number of iterations                   : 5000\n",
      "Lower bound estimate                   : -39.924473\n",
      "\n",
      "=================\n",
      "Replication-18\n",
      "\n",
      "Iteration-   1: +++++++++++++++++\n",
      "Iteration- 101: ++++>>>>>>>>>>>>>>>>>>>>>>>>>>>>>>>+>>>>>>>>>>>>>>>>>+>>>>>>>+>>>>>+>>>>>>>+>+>\n",
      "Iteration- 201: >>+>>>+>>>+>>>+>+>>>>>>+>>+>+>>>>>>+>>>+>>>>>>+>>>+>>>>>>>>>>>>>>>>+>+>>>>>>>>>>>+>>>>>>>>>>>>>>>>>>+>+>>>>>>>>+>>>+>>>\n",
      "Iteration- 301: >>>>>>>>>>+>>>>>>>>>>>>>+>+>>>+>+>>>>>>>+>>>+>>>+>+>>>+>+>>>>>>>+>+>>>>>>>+>>>>+>+>+>>>>>+>>+>+>+>>>>>>>+>+>+>>>>>+>>>+>+>>>>>>\n",
      "Iteration- 401: >>>>>>>>>>>>>>>>>>>>>>>>>>>>>+>>>>>>>>>>>>>>>>>+>>>>>>>>>>>>>>>>>>>>>>>>>>>>>>>>>>>>>>>>>>>>>>>>>>>>>>\n",
      "Iteration- 501: >>>>>>>>>>>>>>>>>>>>>>>>>>>>>>>>>>>+>+>>+>>+>+>+>+>+>+>>>+>+>+>+>+>+>+>+>+>+>+>+>+>+>+>+>+>+>+>+>+>+>+>+>+>+>+>+>+>+>+>+>+>+>+>+>+>+>+>+>+>+>+>+>+>+>+>+>+>+>+>+>+\n",
      "Iteration- 601: >+>+>+>+>+>+>+>+>+>+>+>+>+>+>+>+>+>+>>>>+>+>+>+>+>>+>+>+>+>+>+>+>+>+>+>+>+>+>+>+>+>+>+>+>+>+>+>+>+>+>+>+>+>+>+>+>+>+>+>+>+>+>+>+>+>+>+>+>+>+>+>+>+>+>+>+>>>>>>>>>>>>>+>>>>>>>>>\n",
      "Iteration- 701: >>>>>>>>>>+>>>>>>>>>>>>>>>>>>>>>>>>>>>>>>>>>>>>>>>>+>>>>+>>+>+>+>+>+>>+>>+>+>+>+>+>+>+>+>+>+>+>+>+>+>+>+>+>+>+>+>+>+>+>+>+>+>+>+>+>+>+>+>+>+>+>+>+\n",
      "Iteration- 801: >+>+>+>+>+>+>+>+>+>+>+>+>+>+>+>+>+>+>+>+>+>+>+>+>+>>+>+>+>+>+>+>+>+>+>+>+>+>+>+>>+>>+>+>+>+>+>+>>+>+>+>+>+>+>+>+>+>+>+>+>+>+>+>+>+>+>+>+>+>+>+>+>+>+>+>+>+>+>+>+>+>+>+>+>+>+>+>+>+>+>+>+>+>+>+>+>+>+\n",
      "Iteration- 901: >+>+>+>+>+>+>+>+>+>+>+>+>+>+>+>+>+>+>+>+>+>+>+>+>+>+>+>+>+>+>+>+>+>+>+>+>+>+>+>+>+>+>+>+>+>+>+>+>+>+>+>+>+>+>+>+>+>+>+>+>+>+>+>+>+>+>+>+>+>+>+>+>+>+>+>+>+>+>+>+>+>+>+>+>+>+>+>+>+>+>+>+>+>+>+>+>+>+>+>+\n",
      "Iteration-1001: >+>+>+>+>+>+>+>+>+>+>+>+>+>+>+>+>+>+>+>+>+>+>+>+>+>+>+>+>+>+>+>+>+>+>+>+>+>+>+>+>+>+>+>+>+>+>+>+>+>+>+>+>+>+>+>+>+>+>+>+>+>+>+>+>+>+>+>+>+>+>+>+>+>+>+>+>+>+>+>+>+>+>+>+>+>+>+>+>+>+>+>+>+>+>+>+>+>>+>+\n",
      "Iteration-1101: >+>>+>+>>>+>>+>+>+>+>+>+>+>+>+>+>+>+>+>+>+>>+>+>+>+>+>>+>+>+>+>+>+>+>+>+>+>+>+>+>+>+>+>+>+>+>+>+>+>+>+>+>+>+>+>+>+>+>+>+>+>+>+>+>+>+>+>+>+>+>+>+>+>+>+>+>+>+>+>+>+>>>>+>+>+>+>+>+>+>>+>+>+>>+\n",
      "Iteration-1201: >+>+>+>+>+>+>>>>>+>+>+>+>+>+>+>+>+>+>+>+>+>+>+>+>+>+>+>+>+>+>+>+>+>+>+>+>+>+>+>+>+>+>+>+>+>+>+>+>+>+>+>+>+>+>+>+>+>+>+>+>+>+>+>+>+>+>+>+>+>+>+>+>+>+>+>+>+>+>+>+>+>+>+>+>+>+>+>+>+>+>+>+>+>+>+>+>+>+\n",
      "Iteration-1301: >+>+>+>+>+>+>+>+>+>+>+>+>+>+>+>+>+>+>+>+>+>+>+>+>+>+>+>+>+>+>+>+>+>+>+>+>+>+>+>+>+>+>+>+>+>+>+>+>+>+>+>+>+>+>+>+>+>+>+>+>+>+>+>+>+>+>+>+>+>+>+>+>+>+>+>+>+>+>+>+>+>+>+>+>+>+>+>+>+>+>+>+>+>+>+>+>+>+>+>+\n",
      "Iteration-1401: >+>+>+>+>+>+>+>+>+>+>+>+>+>+>+>+>+>+>+>+>+>+>+>+>+>+>+>+>+>+>+>+>+>+>+>+>+>+>+>+>+>+>+>+>+>+>+>+>+>+>+>+>+>+>+>+>+>+>+>+>+>+>+>+>+>+>+>+>+>+>+>+>+>+>+>+>+>+>+>+>+>+>+>+>+>+>+>+>+>+>+>+>+>+>+>+>+>+>+>+\n",
      "Iteration-1501: >+>+>+>+>+>+>+>+>+>+>+>+>+>+>+>+>+>+>+>+>+>+>+>+>+>+>+>+>+>+>+>+>+>+>+>+>+>+>+>+>+>+>+>+>+>+>+>+>+>+>+>+>+>+>+>+>+>+>+>+>+>+>+>+>+>+>+>+>+>+>+>+>+>+>+>+>+>+>+>+>+>+>+>+>+>+>+>+>+>+>+>+>+>+>+>+>+>+>+>+\n",
      "Iteration-1601: >+>+>+>+>+>+>+>+>+>+>+>+>+>+>+>+>+>+>+>+>+>+>+>+>+>+>+>+>+>+>+>+>+>+>+>+>+>+>+>+>+>+>+>+>+>+>+>+>+>+>+>+>+>+>+>+>+>+>+>+>+>+>+>+>+>+>+>+>+>+>+>+>+>+>+>+>+>+>+>+>+>+>+>+>+>+>+>+>+>+>+>+>+>+>+>+>+>+>+>+\n",
      "Iteration-1701: >+>+>+>+>+>+>+>+>+>+>+>+>+>+>+>+>+>+>+>+>+>+>+>+>+>+>+>+>+>+>+>+>+>+>+>+>+>+>+>+>+>+>+>+>+>+>+>+>+>+>+>+>+>+>+>+>+>+>+>+>+>+>+>+>+>+>+>+>+>+>+>+>+>+>+>+>+>+>+>+>+>+>+>+>+>+>+>+>+>+>+>+>+>+>+>+>+>+>+>+\n",
      "Iteration-1801: >+>+>+>+>+>+>+>+>+>+>+>+>+>+>+>+>+>+>+>+>+>+>+>+>+>+>+>+>+>+>+>+>+>+>+>+>+>+>+>+>+>+>+>+>+>+>+>+>+>+>+>+>+>+>+>+>+>+>+>+>+>+>+>+>+>+>+>+>+>+>+>+>+>+>+>+>+>+>+>+>+>+>+>+>+>+>+>+>+>+>+>+>+>+>+>+>+>+>+>+\n",
      "Iteration-1901: >+>+>+>+>+>+>+>+>+>+>+>+>+>+>+>+>+>+>+>+>+>+>+>+>+>+>+>+>+>+>+>+>+>+>+>+>+>+>+>+>+>+>+>+>+>+>+>+>+>+>+>+>+>+>+>+>+>+>+>+>+>+>+>+>+>+>+>+>+>+>+>+>+>+>+>+>+>+>+>+>+>+>+>+>+>+>+>+>+>+>+>+>+>+>+>+>+>+>+>+\n",
      "Iteration-2001: >+>+>+>+>+>+>+>+>+>+>+>+>+>+>+>+>+>+>+>+>+>+>+>+>+>+>+>+>+>+>+>+>+>+>+>+>+>+>+>+>+>+>+>+>+>+>+>+>+>+>+>+>+>+>+>+>+>+>+>+>+>+>+>+>+>+>+>+>+>+>+>+>+>+>+>+>+>+>+>+>+>+>+>+>+>+>+>+>+>+>+>+>+>+>+>+>+>+>+>+\n",
      "Iteration-2101: >+>+>+>+>+>+>+>+>+>+>+>+>+>+>+>+>+>+>+>+>+>+>+>+>+>+>+>+>+>+>+>+>+>+>+>+>+>+>+>+>+>+>+>+>+>+>+>+>+>+>+>+>+>+>+>+>+>+>+>+>+>+>+>+>+>+>+>+>+>+>+>+>+>+>+>+>+>+>+>+>+>+>+>+>+>+>+>+>+>+>+>+>+>+>+>+>+>+>+>+\n",
      "Iteration-2201: >+>+>+>+>+>+>+>+>+>+>+>+>+>+>+>+>+>+>+>+>+>+>+>+>+>+>+>+>+>+>+>+>+>+>+>+>+>+>+>+>+>+>+>+>+>+>+>+>+>+>+>+>+>+>+>+>+>+>+>+>+>+>+>+>+>+>+>+>+>+>+>+>+>+>+>+>+>+>+>+>+>+>+>+>+>+>+>+>+>+>+>+>+>+>+>+>+>+>+>+\n",
      "Iteration-2301: >+>+>+>+>+>+>+>+>+>+>+>+>+>+>+>+>+>+>+>+>+>+>+>+>+>+>+>+>+>+>+>+>+>+>+>+>+>+>+>+>+>+>+>+>+>+>+>+>+>+>+>+>+>+>+>+>+>+>+>+>+>+>+>+>+>+>+>+>+>+>+>+>+>+>+>+>+>+>+>+>+>+>+>+>+>+>+>+>+>+>+>+>+>+>+>+>+>+>+>+\n",
      "Iteration-2401: >+>+>+>+>+>+>+>+>+>+>+>+>+>+>+>+>+>+>+>+>+>+>+>+>+>+>+>+>+>+>+>+>+>+>+>+>+>+>+>+>+>+>+>+>+>+>+>+>+>+>+>+>+>+>+>+>+>+>+>+>+>+>+>+>+>+>+>+>+>+>+>+>+>+>+>+>+>+>+>+>+>+>+>+>+>+>+>+>+>+>+>+>+>+>+>+>+>+>+>+\n",
      "Iteration-2501: >+>+>+>+>+>+>+>+>+>+>+>+>+>+>+>+>+>+>+>+>+>+>+>+>+>+>+>+>+>+>+>+>+>+>+>+>+>+>+>+>+>+>+>+>+>+>+>+>+>+>+>+>+>+>+>+>+>+>+>+>+>+>+>+>+>+>+>+>+>+>+>+>+>+>+>+>+>+>+>+>+>+>+>+>+>+>+>+>+>+>+>+>+>+>+>+>+>+>+>+\n",
      "Iteration-2601: >+>+>+>+>+>+>+>+>+>+>+>+>+>+>+>+>+>+>+>+>+>+>+>+>+>+>+>+>+>+>+>+>+>+>+>+>+>+>+>+>+>+>+>+>+>+>+>+>+>+>+>+>+>+>+>+>+>+>+>+>+>+>+>+>+>+>+>+>+>+>+>+>+>+>+>+>+>+>+>+>+>+>+>+>+>+>+>+>+>+>+>+>+>+>+>+>+>+>+>+\n",
      "Iteration-2701: >+>+>+>+>+>+>+>+>+>+>+>+>+>+>+>+>+>+>+>+>+>+>+>+>+>+>+>+>+>+>+>+>+>+>+>+>+>+>+>+>+>+>+>+>+>+>+>+>+>+>+>+>+>+>+>+>+>+>+>+>+>+>+>+>+>+>+>+>+>+>+>+>+>+>+>+>+>+>+>+>+>+>+>+>+>+>+>+>+>+>+>+>+>+>+>+>+>+>+>+\n",
      "Iteration-2801: >+>+>+>+>+>+>+>+>+>+>+>+>+>+>+>+>+>+>+>+>+>+>+>+>+>+>+>+>+>+>+>+>+>+>+>+>+>+>+>+>+>+>+>+>+>+>+>+>+>+>+>+>+>+>+>+>+>+>+>+>+>+>+>+>+>+>+>+>+>+>+>+>+>+>+>+>+>+>+>+>+>+>+>+>+>+>+>+>+>+>+>+>+>+>+>+>+>+>+>+\n",
      "Iteration-2901: >+>+>+>+>+>+>+>+>+>+>+>+>+>+>+>+>+>+>+>+>+>+>+>+>+>+>+>+>+>+>+>+>+>+>+>+>+>+>+>+>+>+>+>+>+>+>+>+>+>+>+>+>+>+>+>+>+>+>+>+>+>+>+>+>+>+>+>+>+>+>+>+>+>+>+>+>+>+>+>+>+>+>+>+>+>+>+>+>+>+>+>+>+>+>+>+>+>+>+>+\n",
      "Iteration-3001: >+>+>+>+>+>+>+>+>+>+>+>+>+>+>+>+>+>+>+>+>+>+>+>+>+>+>+>+>+>+>+>+>+>+>+>+>+>+>+>+>+>+>+>+>+>+>+>+>+>+>+>+>+>+>+>+>+>+>+>+>+>+>+>+>+>+>+>+>+>+>+>+>+>+>+>+>+>+>+>+>+>+>+>+>+>+>+>+>+>+>+>+>+>+>+>+>+>+>+>+\n",
      "Iteration-3101: >+>+>+>+>+>+>+>+>+>+>+>+>+>+>+>+>+>+>+>+>+>+>+>+>+>+>+>+>+>+>+>+>+>+>+>+>+>+>+>+>+>+>+>+>+>+>+>+>+>+>+>+>+>+>+>+>+>+>+>+>+>+>+>+>+>+>+>+>+>+>+>+>+>+>+>+>+>+>+>+>+>+>+>+>+>+>+>+>+>+>+>+>+>+>+>+>+>+>+>+\n",
      "Iteration-3201: >+>+>+>+>+>+>+>+>+>+>+>+>+>+>+>+>+>+>+>+>+>+>+>+>+>+>+>+>+>+>+>+>+>+>+>+>+>+>+>+>+>+>+>+>+>+>+>+>+>+>+>+>+>+>+>+>+>+>+>+>+>+>+>+>+>+>+>+>+>+>+>+>+>+>+>+>+>+>+>+>+>+>+>+>+>+>+>+>+>+>+>+>+>+>+>+>+>+>+>+\n",
      "Iteration-3301: >+>+>+>+>+>+>+>+>+>+>+>+>+>+>+>+>+>+>+>+>+>+>+>+>+>+>+>+>+>+>+>+>+>+>+>+>+>+>+>+>+>+>+>+>+>+>+>+>+>+>+>+>+>+>+>+>+>+>+>+>+>+>+>+>+>+>+>+>+>+>+>+>+>+>+>+>+>+>+>+>+>+>+>+>+>+>+>+>+>+>+>+>+>+>+>+>+>+>+>+\n",
      "Iteration-3401: >+>+>+>+>+>+>+>+>+>+>+>+>+>+>+>+>+>+>+>+>+>+>+>+>+>+>+>+>+>+>+>+>+>+>+>+>+>+>+>+>+>+>+>+>+>+>+>+>+>+>+>+>+>+>+>+>+>+>+>+>+>+>+>+>+>+>+>+>+>+>+>+>+>+>+>+>+>+>+>+>+>+>+>+>+>+>+>+>+>+>+>+>+>+>+>+>+>+>+>+\n",
      "Iteration-3501: >+>+>+>+>+>+>+>+>+>+>+>+>+>+>+>+>+>+>+>+>+>+>+>+>+>+>+>+>+>+>+>+>+>+>+>+>+>+>+>+>+>+>+>+>+>+>+>+>+>+>+>+>+>+>+>+>+>+>+>+>+>+>+>+>+>+>+>+>+>+>+>+>+>+>+>+>+>+>+>+>+>+>+>+>+>+>+>+>+>+>+>+>+>+>+>+>+>+>+>+\n",
      "Iteration-3601: >+>+>+>+>+>+>+>+>+>+>+>+>+>+>+>+>+>+>+>+>+>+>+>+>+>+>+>+>+>+>+>+>+>+>+>+>+>+>+>+>+>+>+>+>+>+>+>+>+>+>+>+>+>+>+>+>+>+>+>+>+>+>+>+>+>+>+>+>+>+>+>+>+>+>+>+>+>+>+>+>+>+>+>+>+>+>+>+>+>+>+>+>+>+>+>+>+>+>+>+\n",
      "Iteration-3701: >+>+>+>+>+>+>+>+>+>+>+>+>+>+>+>+>+>+>+>+>+>+>+>+>+>+>+>+>+>+>+>+>+>+>+>+>+>+>+>+>+>+>+>+>+>+>+>+>+>+>+>+>+>+>+>+>+>+>+>+>+>+>+>+>+>+>+>+>+>+>+>+>+>+>+>+>+>+>+>+>+>+>+>+>+>+>+>+>+>+>+>+>+>+>+>+>+>+>+>+\n",
      "Iteration-3801: >+>+>+>+>+>+>+>+>+>+>+>+>+>+>+>+>+>+>+>+>+>+>+>+>+>+>+>+>+>+>+>+>+>+>+>+>+>+>+>+>+>+>+>+>+>+>+>+>+>+>+>+>+>+>+>+>+>+>+>+>+>+>+>+>+>+>+>+>+>+>+>+>+>+>+>+>+>+>+>+>+>+>+>+>+>+>+>+>+>+>+>+>+>+>+>+>+>+>+>+\n",
      "Iteration-3901: >+>+>+>+>+>+>+>+>+>+>+>+>+>+>+>+>+>+>+>+>+>+>+>+>+>+>+>+>+>+>+>+>+>+>+>+>+>+>+>+>+>+>+>+>+>+>+>+>+>+>+>+>+>+>+>+>+>+>+>+>+>+>+>+>+>+>+>+>+>+>+>+>+>+>+>+>+>+>+>+>+>+>+>+>+>+>+>+>+>+>+>+>+>+>+>+>+>+>+>+\n",
      "Iteration-4001: >+>+>+>+>+>+>+>+>+>+>+>+>+>+>+>+>+>+>+>+>+>+>+>+>+>+>+>+>+>+>+>+>+>+>+>+>+>+>+>+>+>+>+>+>+>+>+>+>+>+>+>+>+>+>+>+>+>+>+>+>+>+>+>+>+>+>+>+>+>+>+>+>+>+>+>+>+>+>+>+>+>+>+>+>+>+>+>+>+>+>+>+>+>+>+>+>+>+>+>+\n",
      "Iteration-4101: >+>+>+>+>+>+>+>+>+>+>+>+>+>+>+>+>+>+>+>+>+>+>+>+>+>+>+>+>+>+>+>+>+>+>+>+>+>+>+>+>+>+>+>+>+>+>+>+>+>+>+>+>+>+>+>+>+>+>+>+>+>+>+>+>+>+>+>+>+>+>+>+>+>+>+>+>+>+>+>+>+>+>+>+>+>+>+>+>+>+>+>+>+>+>+>+>+>+>+>+\n",
      "Iteration-4201: >+>+>+>+>+>+>+>+>+>+>+>+>+>+>+>+>+>+>+>+>+>+>+>+>+>+>+>+>+>+>+>+>+>+>+>+>+>+>+>+>+>+>+>+>+>+>+>+>+>+>+>+>+>+>+>+>+>+>+>+>+>+>+>+>+>+>+>+>+>+>+>+>+>+>+>+>+>+>+>+>+>+>+>+>+>+>+>+>+>+>+>+>+>+>+>+>+>+>+>+\n",
      "Iteration-4301: >+>+>+>+>+>+>+>+>+>+>+>+>+>+>+>+>+>+>+>+>+>+>+>+>+>+>+>+>+>+>+>+>+>+>+>+>+>+>+>+>+>+>+>+>+>+>+>+>+>+>+>+>+>+>+>+>+>+>+>+>+>+>+>+>+>+>+>+>+>+>+>+>+>+>+>+>+>+>+>+>+>+>+>+>+>+>+>+>+>+>+>+>+>+>+>+>+>+>+>+\n",
      "Iteration-4401: >+>+>+>+>+>+>+>+>+>+>+>+>+>+>+>+>+>+>+>+>+>+>+>+>+>+>+>+>+>+>+>+>+>+>+>+>+>+>+>+>+>+>+>+>+>+>+>+>+>+>+>+>+>+>+>+>+>+>+>+>+>+>+>+>+>+>+>+>+>+>+>+>+>+>+>+>+>+>+>+>+>+>+>+>+>+>+>+>+>+>+>+>+>+>+>+>+>+>+>+\n",
      "Iteration-4501: >+>+>+>+>+>+>+>+>+>+>+>+>+>+>+>+>+>+>+>+>+>+>+>+>+>+>+>+>+>+>+>+>+>+>+>+>+>+>+>+>+>+>+>+>+>+>+>+>+>+>+>+>+>+>+>+>+>+>+>+>+>+>+>+>+>+>+>+>+>+>+>+>+>+>+>+>+>+>+>+>+>+>+>+>+>+>+>+>+>+>+>+>+>+>+>+>+>+>+>+\n",
      "Iteration-4601: >+>+>+>+>+>+>+>+>+>+>+>+>+>+>+>+>+>+>+>+>+>+>+>+>+>+>+>+>+>+>+>+>+>+>+>+>+>+>+>+>+>+>+>+>+>+>+>+>+>+>+>+>+>+>+>+>+>+>+>+>+>+>+>+>+>+>+>+>+>+>+>+>+>+>+>+>+>+>+>+>+>+>+>+>+>+>+>+>+>+>+>+>+>+>+>+>+>+>+>+\n",
      "Iteration-4701: >+>+>+>+>+>+>+>+>+>+>+>+>+>+>+>+>+>+>+>+>+>+>+>+>+>+>+>+>+>+>+>+>+>+>+>+>+>+>+>+>+>+>+>+>+>+>+>+>+>+>+>+>+>+>+>+>+>+>+>+>+>+>+>+>+>+>+>+>+>+>+>+>+>+>+>+>+>+>+>+>+>+>+>+>+>+>+>+>+>+>+>+>+>+>+>+>+>+>+>+\n",
      "Iteration-4801: >+>+>+>+>+>+>+>+>+>+>+>+>+>+>+>+>+>+>+>+>+>+>+>+>+>+>+>+>+>+>+>+>+>+>+>+>+>+>+>+>+>+>+>+>+>+>+>+>+>+>+>+>+>+>+>+>+>+>+>+>+>+>+>+>+>+>+>+>+>+>+>+>+>+>+>+>+>+>+>+>+>+>+>+>+>+>+>+>+>+>+>+>+>+>+>+>+>+>+>+\n",
      "Iteration-4901: >+>+>+>+>+>+>+>+>+>+>+>+>+>+>+>+>+>+>+>+>+>+>+>+>+>+>+>+>+>+>+>+>+>+>+>+>+>+>+>+>+>+>+>+>+>+>+>+>+>+>+>+>+>+>+>+>+>+>+>+>+>+>+>+>+>+>+>+>+>+>+>+>+>+>+>+>+>+>+>+>+>+>+>+>+>+>+>+>+>+>+>+>+>+>+>+>+>+>+>+\n",
      "\n",
      "Optimization: \n",
      "Number of iterations                   : 5000\n",
      "Lower bound estimate                   : -39.972619\n",
      "\n",
      "=================\n",
      "Replication-19\n",
      "\n",
      "Iteration-   1: ++++++++++++++++++\n",
      "Iteration- 101: ++>+>>>>+>>>>>>>>>+>>>>>>>>>>>>+>>>>>>>>>>>>>>>>>>>>>>>>>>>>>>>>>>>>>>>+>>>>\n",
      "Iteration- 201: >>>>>>>>>>>>>>>>>>>>>>>>>>>>>>>>>>>>>>>+>>>>>>>>>>>>>>>>>>>>>>>>>>>>>>>+>>>+>+>>>>>>>>>+>>>>>>>>>+>>>>>+>+>>\n",
      "Iteration- 301: >>>>>>>+>>>>>>>>>>>>>>>>>>>>>>>>>>>>>>>>>>>>>>>>>>>>>+>>>>>>>>>>>>>>>>>>>>>>>>>>>>>>>>>>>>>>>>>>>>>>>>\n",
      "Iteration- 401: >>+>>+>+>>>>>>>>>+>>>>>+>>>+>>>>+>+>>>>>>>+>>>>>>>+>>>>>>>>>>>+>>>>+>+>>>>>>>+>+>>>+>+>+>>>>>>>>>>>>>>>>>>>>>>>>>>>>+>>+\n",
      "Iteration- 501: >>>>+>>+>+>>>>>>>+>>>+>>>>>>>>>>>>>>>>>>>>>>>>>+>+>+>>>>>>>>>>>+>>>>>>>>>>>>>>>>>>>>>>>>>>>>>>>>>>>>>>>>>>>>>+\n",
      "Iteration- 601: >>>>>>>>>>>>>>>>>>>>>>>>>>>>>>>>>>>>>>>>>>>>>>>>>>>>>>>>>>>>>>>>>>>>>>>>>+>+>>>>>>>>>>>>>>>>>>>>>>>>>>\n",
      "Iteration- 701: >>>>>>>>>>>>>>>>>>>>>>>>>>>>>>>>\n",
      "\n",
      "Optimization: \n",
      "Number of iterations                   : 732\n",
      "Lower bound estimate                   : -39.963267\n",
      "\n",
      "=================\n",
      "Replication-20\n",
      "\n",
      "Iteration-   1: ++++++\n",
      "Iteration- 101: +++>>>>>>>>>>>>>>>>>>>>>>>>>>>>>>>>>>>>>>>>>>>>>>>>>>>+>>>>+>+>>>>>>>>>>>>>\n",
      "Iteration- 201: >>>>>>>>>>>>>>>>>>>>>>>>>>>>>>>>>>>>>>>>>>>>>>>>>>>>>>>>>+>+>>>>>>>>>+>>>>>>>>>>>>+>+>>>>>>>>>>>>>>>+>>>>>\n",
      "Iteration- 301: >>>>>>>>>>>>>>>>>>>>>>>>>>>>>>>>>>+>>>>>>>>>>>>>>>>>>>>>>>>>>>>>>>>>>>>>>>>>>>>>>>>>>>>>>>>>>>>>>>>>>\n",
      "Iteration- 401: >>>>>>>>>>>>>>>>>>>>>>>>>>+>>+>>+>>>>>>+>>+>>>+>+>+>+>+>+>+>+>+>+>+>+>+>+>+>+>+>+>+>+>+>>+>+>+>+>>+>>+>+>+>+>>+>+>+>+>+>+>+>+>+>+>+>>>>>>>>>>>>+>>+>\n",
      "Iteration- 501: >+>+>+>+>+>+>+>>+>>+>+>+>>+>>+>+>+>+>+>+>+>+>>>>>>>>>>>>>\n",
      "\n",
      "Optimization: \n",
      "Number of iterations                   : 537\n",
      "Lower bound estimate                   : -39.676248\n",
      "\n",
      "=================\n",
      "Replication-21\n",
      "\n",
      "Iteration-   1: +++++++++\n",
      "Iteration- 101: ++++++++++++++++++++>+>+>>>+>+>>+>+>+>>>>>>>>>>>>>>>>>>>>+>>>>>>>>>>>>>>>>>>>>>>>>>>>>>>>>>>>>>>>\n",
      "Iteration- 201: >>>>>>>>>>>>>>>>+>>>>>>>>>>>>>>>>>>>>>>>>>>>>>>>>>>+>+>+>+>+>+>+>+>+>>+>>>>>>>>>>+>>>+>>>+>>>>>>>+>>>>>+>+>>>>>>>>>>>\n",
      "Iteration- 301: >>>>>>>>+>>>>>>>>>>>>>>>>>>>>>>>>>>>>>>>>>>>>>>>>>>>>>>>>>>>>>>>>>>>>+>>+>>+>>+>+>>>>>>>>>>>>>>>>>>>>>>>>>\n",
      "Iteration- 401: >>>>>>>+>>+>>>>+>+>>>>>>>>>>>>>>>>>>>>>>>>>>>>>>>>>>>>>>>+>>>>>>>>>>>>>>>>>>>>>>>>>>>>>>>>>>>>>>>>>>>>>>>\n",
      "Iteration- 501: >>>>>>+>>>>>>>>>>>>>>>>>>>>>>>>>>>>>+>>>>>>>>>>>>>>>>>>>+>>>>>>>>>>>>>>>>>>>>>>>>>>>>>>>>>>>>>>>>>>>>>>\n",
      "Iteration- 601: >>>>>>>>>+>>>>>>\n",
      "\n",
      "Optimization: \n",
      "Number of iterations                   : 615\n",
      "Lower bound estimate                   : -40.143230\n",
      "\n",
      "=================\n",
      "Replication-22\n",
      "\n",
      "Iteration-   1: +++++++++++\n",
      "Iteration- 101: +>>>>>>>>>>>>>>>>>>>>+>+>>>>>>>>>>>>>>>>>>>>>>>>>>>>>>>>>>>>>+>>>>>>>>>>>>\n",
      "Iteration- 201: >>>>>>>>>>>>>>>>>>>>>>>>>>>>>>>>>>>>>>>>>>>>>>>>>>>>>>>>+>>+>>>>>>>>>>>>>>>>>>>>+>+>+>+>+>+>+>>>>>>>>>>>>>>>>\n",
      "Iteration- 301: >>>>>>>>>>>>>>>>>>>>>>>>>>>\n",
      "\n",
      "Optimization: \n",
      "Number of iterations                   : 327\n",
      "Lower bound estimate                   : -39.717334\n",
      "\n",
      "=================\n",
      "Replication-23\n",
      "\n",
      "Iteration-   1: +++++++++++++\n",
      "Iteration- 101: +++>>>>>>>>>>>>>>>>>>>>>+>>>>>>>>>>>>>>>>>>>>>>>>>>>>>>>>>>>>>>>>>>>>>>+>+>>\n",
      "Iteration- 201: >>>+>+>+>>+>+>+>+>>>>>>>+>>>>>+>>>>>+>+>+>+>+>>>>>>>>>>>>>>>>>>>>>>>>>+>>>>>+>>>>>>>>>>>>>+>+>+>+>+>>>>>>>+>>>>>>+>>>>>>>>>\n",
      "Iteration- 301: >+>>>>>>>>>>>>>>>>>>>>>>>>>+>+>>>>>>>>>>>+>>>>>>>>>>>>>>>>>>>>>>>>>>>>>>>>>>>>>>>>>>>>>>>>>>>>>>>>>>>>>>\n",
      "Iteration- 401: >>>>>>>>>>>>>>>>>>>>>>>+>+>+>+>+>>>>+>+>+>+>+>+>+>+>+>+>+>+>+>+>+>+>+>+>+>+>+>+>+>>+>+>+>+>+>+>+>+>+>+>+>+>+>+>>+>>+>+>+>+>+>+>+>+>+>+>+>>+>+>+>+>+>+>>+>>+>+>+>+>+>+>+>+\n",
      "Iteration- 501: >+>+>+>+>+>+>+>+>+>+>+>+>+>+>+>+>+>+>+>+>+>+>+>+>+>+>+>+>+>+>+>+>+>+>+>+>+>+>+>+>+>+>+>+>+>+>+>+>+>+>+>+>+>>+>+>+>+>+>+>>>+>>>>>>>>>>>>>>>>>>>>+>>+>>>>>>>>>>>>>>>\n",
      "Iteration- 601: >>>>>>>>+>>>>>>>>>>>>>+>+>+>+>+>+>+>+>+>+>+>+>+>+>+>+>+>+>+>+>+>+>+>+>+>+>+>+>+>+>+>+>+>+>+>+>+>+>+>+>+>+>+>+>+>+>+>+>+>+>+>+>+>+>+>+>+>+>+>+>+>+>+>+>+>+>+>+>+>+>+>+>+>+>+>+>+>+>+>+\n",
      "Iteration- 701: >+>+>+>+>+>+>+>+>+>+>+>+>+>+>+>+>+>+>+>+>+>+>+>+>+>+>+>+>+>+>+>+>+>+>+>+>+>+>+>+>+>+>+>+>+>+>+>+>+>+>+>+>+>+>+>+>+>+>+>+>+>+>+>+>+>+>+>+>+>+>+>+>+>+>+>+>+>+>+>+>+>+>+>+>+>+>+>+>+>+>+>+>+>+>+>+>+>+>+>+\n",
      "Iteration- 801: >+>+>+>+>+>+>+>+>+>+>+>+>+>+>+>+>+>+>+>+>+>+>+>+>+>+>+>+>+>+>+>+>+>+>+>+>+>+>+>+>+>+>+>+>+>+>+>+>>+>+>+>+>+>+>+>+>>>+>+>>+>+>+>+>>>+>+>+>>+>+>+>>>>+>+>+>+>+>+>>>+>>+>+>+>+>+>+>+>+>+>+>+>+\n",
      "Iteration- 901: >+>+>+>+>+>+>+>+>+>+>+>+>+>+>+>+>+>+>+>+>+>+>+>+>+>+>+>+>+>+>+>+>+>+>+>+>+>+>+>+>+>+>+>+>+>+>+>+>+>+>+>+>+>+>+>+>+>+>+>+>+>+>+>+>+>+>+>+>+>+>+>+>+>+>+>+>+>+>+>+>+>+>+>+>+>+>+>+>+>+>+>+>+>+>+>+>+>+>+>+\n",
      "Iteration-1001: >+>+>+>+>+>+>+>+>+>+>+>+>+>+>+>+>+>+>+>+>+>+>+>+>+>+>+>+>+>+>+>+>+>+>+>+>+>+>+>+>+>+>+>+>+>+>+>+>+>+>+>+>+>+>+>+>+>+>+>+>+>+>+>+>+>+>+>+>+>+>+>+>+>+>+>+>+>+>+>+>+>+>+>+>+>+>+>+>+>+>+>+>+>+>+>+>+>+>+>+\n",
      "Iteration-1101: >+>+>+>+>+>+>+>+>+>+>+>+>+>+>+>+>+>+>+>+>+>+>>+>+>+>+>+>+>+>+>+>+>+>+>+>+>+>+>+>+>+>+>>>+>+>+>+>+>+>+>+>+>+>+>+>+>+>+>+>+>+>+>+>+>+>+>+>+>+>+>+>+>+>+>+>+>+>+>+>+>+>+>+>+>+>+>+>+>+>+>+>+>+>+>+>+>+>+\n",
      "Iteration-1201: >+>+>+>+>+>+>+>+>+>+>+>+>+>+>+>+>+>+>+>+>+>+>+>+>+>+>+>+>+>+>+>+>+>+>+>+>+>+>+>+>+>+>+>+>+>+>+>+>+>+>+>+>+>+>+>+>+>+>+>+>+>+>+>+>+>+>+>+>+>+>+>+>+>+>+>+>+>+>+>+>+>+>+>+>+>+>+>+>+>+>+>+>+>+>+>+>+>>+>+\n",
      "Iteration-1301: >+>+>+>+>+>+>+>+>+>+>+>+>+>+>>+>+>+>+>+>+>+>+>+>>+>+>+>+>+>+>+>+>+>+>+>+>+>+>+>+>+>+>+>+>+>+>+>+>+>+>+>+>+>+>+>+>+>+>+>+>+>+>+>+>+>+>+>+>+>+>+>+>+>+>+>+>+>+>+>+>+>+>+>+>+>+>+>+>+>+>+>+>+>+>+>+>+>+>+\n",
      "Iteration-1401: >+>+>+>+>+>+>+>+>+>+>+>+>+>+>+>+>+>+>+>+>+>+>+>+>+>+>+>+>+>+>+>+>+>+>+>+>+>+>+>+>+>+>+>+>+>+>+>+>+>+>+>+>+>+>+>+>+>+>+>+>+>+>+>+>+>+>+>+>+>+>+>+>+>+>+>+>+>+>+>+>+>+>+>+>+>+>+>+>+>+>+>+>+>+>+>+>+>+>+>+\n",
      "Iteration-1501: >+>+>+>+>+>+>+>+>+>+>+>+>+>+>+>+>+>+>+>+>+>+>+>+>+>+>+>+>+>+>+>+>+>+>+>+>+>+>+>+>+>+>+>+>+>+>+>+>+>+>+>+>+>+>+>+>+>+>+>+>+>+>+>+>+>+>+>+>+>+>+>+>+>+>+>+>+>+>+>+>+>+>+>+>+>+>+>+>+>+>+>+>+>+>+>+>+>+>+>+\n",
      "Iteration-1601: >+>+>+>+>+>+>+>+>+>+>+>+>+>+>+>+>+>+>+>+>+>+>+>+>+>+>+>+>+>+>+>+>+>+>+>+>+>+>+>+>+>+>+>+>+>+>+>+>+>+>+>+>+>+>+>+>+>+>+>+>+>+>+>+>+>+>+>+>+>+>+>+>+>+>+>+>+>+>+>+>+>+>+>+>+>+>+>+>+>+>+>+>+>+>+>+>+>+>+>+\n",
      "Iteration-1701: >+>+>+>+>+>+>+>+>+>+>+>+>+>+>+>+>+>+>+>+>+>+>+>+>+>+>+>+>+>+>+>+>+>+>+>+>+>+>+>+>+>+>+>+>+>+>+>+>+>+>+>+>+>+>+>+>+>+>+>+>+>+>+>+>+>+>+>+>+>+>+>+>+>+>+>+>+>+>+>+>+>+>+>+>+>+>+>+>+>+>+>+>+>+>+>+>+>+>+>+\n",
      "Iteration-1801: >+>+>+>+>+>+>+>+>+>+>+>+>+>+>+>+>+>+>+>+>+>+>+>+>+>+>+>+>+>+>+>+>+>+>+>+>+>+>+>+>+>+>+>+>+>+>+>+>+>+>+>+>+>+>+>+>+>+>+>+>+>+>+>+>+>+>+>+>+>+>+>+>+>+>+>+>+>+>+>+>+>+>+>+>+>+>+>+>+>+>+>+>+>+>+>+>+>+>+>+\n",
      "Iteration-1901: >+>+>+>+>+>+>+>+>+>+>+>+>+>+>+>+>+>+>+>+>+>+>+>+>+>+>+>+>+>+>+>+>+>+>+>+>+>+>+>+>+>+>+>+>+>+>+>+>+>+>+>+>+>+>+>+>+>+>+>+>+>+>+>+>+>+>+>+>+>+>+>+>+>+>+>+>+>+>+>+>+>+>+>+>+>+>+>+>+>+>+>+>+>+>+>+>+>+>+>+\n",
      "Iteration-2001: >+>+>+>+>+>+>+>+>+>+>+>+>+>+>+>+>+>+>+>+>+>+>+>+>+>+>+>+>+>+>+>+>+>+>+>+>+>+>+>+>+>+>+>+>+>+>+>+>+>+>+>+>+>+>+>+>+>+>+>+>+>+>+>+>+>+>+>+>+>+>+>+>+>+>+>+>>>>>>>>>>>>>>>>>>>>>>>>\n",
      "Iteration-2101: >>>>>>>>>>>>>>>>>>>>>>>>>>>>>>>>>>>\n",
      "\n",
      "Optimization: \n",
      "Number of iterations                   : 2135\n",
      "Lower bound estimate                   : -40.198083\n",
      "\n",
      "=================\n",
      "Replication-24\n",
      "\n",
      "Iteration-   1: ++++++++\n",
      "Iteration- 101: ++>+>>>+>>>+>+>>+>>>>+>>>>>>>>>>>>>>+>>>>>>>>>>>>>>>>>>>>>>>>>>>>>+>>>>>>>>>>>\n",
      "Iteration- 201: >>>>+>>>>+>>>>>+>+>>>>>+>>>>>>>>>+>>>>>+>+>>>>>>>>>>>>>>>>>>>>>>>>>>>>>>>>>>>>>>>+>>>>>>>>>>>>+>>>>>>>>>>>>>>>\n",
      "Iteration- 301: >>>>>>>>>>>>>>>>>>>>+>>>>>+>>>+>+>+>+>+>>>>>>>+>>>>>>>>>>>>>>>>>>>>>>>>>>>>>>>>>>>>>>>>>>>>>>>>>>>>>>>>>>>>>\n",
      "Iteration- 401: >>>>>>>>>>>>>>>>>>>>>>>>>>>>>>>>>>>>>>>>>>>>>>>>>>>>>>>>>>>>>>>>>>>>>>>>>>>>>>>>>>>>>>>>>>>>>>>>>>>>\n",
      "Iteration- 501: >>>>>>>>>>>>>>>>>>>\n",
      "\n",
      "Optimization: \n",
      "Number of iterations                   : 519\n",
      "Lower bound estimate                   : -39.705018\n",
      "\n",
      "=================\n",
      "Replication-25\n",
      "\n",
      "Iteration-   1: ++++++++++++++++\n",
      "Iteration- 101: +++>>>>>>+>+>>>>>>>>>+>>>+>+>+>>+>+>>>>>>>>>>>>>>>>>>>>>+>+>>>>>+>>>>>>>>+>+>>>>>>>>+>>\n",
      "Iteration- 201: >+>>>>>>>>>>>>>>>>>>>>>>>>>>>+>>>>>>>+>>+>+>+>>>>>>>>>>>>+>+>>>>>>>>>>>>>>>>>>>>>>>>>>>>>>>>>>>>>>>>>>>>>>>>\n",
      "Iteration- 301: >>>>>>>>>>>>>>>>>+>+>>>>>+>+>+>>>>>+>>>+>>>>>>>>>>>>>>>>>+>>>>>>>>>>>>>>>>>>>>>>>+>>>>>>>>>>+>>>>>>>>>>>+>+>>>>>\n",
      "Iteration- 401: >>>>+>+>>+>>>>>>>>>+>>>>>>>>>>>>>>>>>>>>>>>>>>>+>+>+>>+>+>+>+>>>>>>>>>>>>>>+>>>>>>+>+>+>+>+>+>+>+>+>+>+>+>+>+>+>+>+>+>+>+>+>+>+>+>+>+>+>+>+>+>+\n",
      "Iteration- 501: >+>+>+>+>+>+>+>+>+>+>+>+>+>+>+>+>+>+>+>+>+>+>+>+>+>+>+>+>+>+>+>+>+>+>+>+>+>+>+>+>+>+>+>+>+>+>+>+>+>+>+>+>+>+>+>+>+>+>+>+>+>+>+>+>+>+>+>+>+>+>+>+>+>+>+>+>+>+>+>+>+>+>+>+>+>+>+>+>+>+>+>+>+>+>+>+>+>+>+>+\n",
      "Iteration- 601: >+>+>+>+>+>+>+>+>+>+>+>+>+>+>+>+>+>+>+>+>+>+>+>>+>+>+>+>>+>>+>+>+>>+>+>+>+>>+>+>+>>+>+>+>+>+>+>+>+>+>+>+>+>+>+>+>+>+>+>+>+>+>+>+>+>+>+>+>+>+>+>+>+>+>+>+>+>+>+>+>+>+>+>+>+>+>+>+>+>+>+>+>+>+>+>+>+\n",
      "Iteration- 701: >+>+>+>+>+>+>+>+>+>+>+>+>+>+>+>+>+>+>+>+>+>+>+>+>+>+>+>+>+>+>+>+>+>+>+>+>+>+>+>+>+>+>+>+>+>+>+>+>+>+>+>+>+>+>+>+>+>+>+>+>+>+>+>+>+>+>+>+>+>+>+>+>+>+>+>+>+>+>+>+>+>+>+>+>+>+>+>+>+>+>+>+>+>+>+>+>+>+>+>+\n",
      "Iteration- 801: >+>+>+>+>+>+>+>+>+>+>+>+>+>+>+>+>+>+>+>+>+>+>+>+>+>+>+>+>+>+>+>+>+>+>>+>+>+>>+>>+>+>+>+>+>>+>+>+>>+>+>+>+>>+>+>+>>+>>+>+>+>+>>>+>+>+>>+>>>+>+>+>+>+>+>+>+>+>+>+>+>+>+>+>+>+>+>+>+>+>+>+>+>+\n",
      "Iteration- 901: >>+>+>+>+>+>+>+>+>+>>+>+>+>+>+>+>+>>+>>+>>>+>>+>+>+>+>>+>+>+>+>+>+>>>>>>>+>>>+>>>>>>>>>>>>>>>+>>>>>>>+>>>>>>>>>>+>+>+>+>+>+>+>+>+>+>+>+>+>+>+>+>+>+>+>+>+>+\n",
      "Iteration-1001: >+>+>+>+>+>+>+>+>+>+>+>+>+>+>+>+>+>+>+>+>+>+>+>+>+>+>+>+>+>+>+>+>+>+>+>+>+>+>+>+>+>+>+>+>+>+>+>+>+>+>+>+>+>+>+>+>+>+>+>+>+>+>+>+>+>+>+>+>+>+>+>+>+>+>+>+>>+>+>+>+>+>+>+>+>+>+>+>+>+>+>+>+>+>+>+>+>+>+>+\n",
      "Iteration-1101: >+>+>+>+>+>+>+>+>+>+>+>+>+>+>+>+>+>+>+>+>+>+>+>+>+>+>>+>+>>+>+>+>+>+>+>+>+>+>+>+>+>+>+>+>+>+>+>+>+>+>+>+>+>+>+>+>+>+>+>+>+>+>+>+>+>+>+>+>+>+>+>+>+>+>+>+>+>+>+>+>+>+>+>+>+>+>+>+>+>+>+>+>+>+>+>+>+>+>+\n",
      "Iteration-1201: >+>+>+>+>+>+>+>+>+>+>+>+>+>+>+>+>+>+>+>+>+>+>+>+>+>+>+>+>+>+>+>+>+>+>+>+>+>+>+>+>+>+>+>+>+>+>+>+>+>+>+>+>+>+>+>+>+>+>+>+>+>+>+>+>+>+>+>+>+>+>+>+>+>+>+>+>+>+>+>+>+>+>+>+>+>+>+>+>+>+>+>+>+>+>+>+>+>+>+>+\n",
      "Iteration-1301: >+>+>+>+>+>+>+>+>+>+>+>+>+>+>+>+>+>+>+>+>+>+>+>+>+>+>+>+>+>+>+>+>+>+>+>+>+>+>+>+>+>+>+>+>+>+>+>+>+>+>+>+>+>+>+>+>+>+>+>+>+>+>+>+>+>+>+>+>+>+>+>+>+>+>+>+>+>+>+>+>+>+>+>+>+>+>+>+>+>+>+>+>+>+>+>+>+>+>+>+\n",
      "Iteration-1401: >+>+>+>+>+>+>+>+>+>+>+>+>+>+>+>+>+>+>+>+>+>+>+>+>+>+>+>+>+>+>+>+>+>+>+>+>+>+>+>+>+>+>+>+>+>+>+>+>+>+>+>+>+>+>+>+>+>+>+>+>+>+>+>+>+>+>+>+>+>+>+>+>+>+>+>+>+>+>+>+>+>+>+>+>+>+>+>+>+>+>+>+>+>+>+>+>+>+>+>+\n",
      "Iteration-1501: >+>+>+>+>+>+>+>+>+>+>+>+>+>+>+>+>+>+>+>+>+>+>+>+>+>+>+>+>+>+>+>+>+>+>+>+>+>+>+>+>+>+>+>+>+>+>+>+>+>+>+>+>+>+>+>+>+>+>+>+>+>+>+>+>+>+>+>+>+>+>+>+>+>+>+>+>+>+>+>+>+>+>+>+>+>+>+>+>+>+>+>+>+>+>+>+>+>+>+>+\n",
      "Iteration-1601: >+>+>+>+>+>+>+>+>+>+>+>+>+>+>+>+>+>+>+>+>+>+>+>+>+>+>+>+>+>+>+>+>+>+>+>+>+>+>+>+>+>+>+>+>+>+>+>+>+>+>+>+>+>+>+>+>+>+>+>+>+>+>+>+>+>+>+>+>+>+>+>+>+>+>+>+>+>+>+>+>+>+>+>+>+>+>+>+>+>+>+>+>+>+>+>+>+>+>+>+\n",
      "Iteration-1701: >+>+>+>+>+>+>+>+>+>+>+>+>+>+>+>+>+>+>+>+>+>+>+>+>+>+>+>+>+>+>+>+>+>+>+>+>+>+>+>+>+>+>+>+>+>+>+>+>+>+>+>+>+>+>+>+>+>+>+>+>+>+>+>+>+>+>+>+>+>+>+>+>+>+>+>+>+>+>+>+>+>+>+>+>+>+>+>+>+>+>+>+>+>+>+>+>+>+>+>+\n",
      "Iteration-1801: >+>+>+>+>+>+>+>+>+>+>+>+>+>+>+>+>+>+>+>+>+>+>+>+>+>+>+>+>+>+>+>+>+>+>+>+>+>+>+>+>+>+>+>+>+>+>+>+>+>+>+>+>+>+>+>+>+>+>+>+>+>+>+>+>+>+>+>+>+>+>+>+>+>+>+>+>+>+>+>+>+>+>+>+>+>+>+>+>+>+>+>+>+>+>+>+>+>+>+>+\n",
      "Iteration-1901: >+>+>+>+>+>+>+>+>+>+>+>+>+>+>+>+>+>+>+>+>+>+>+>+>+>+>+>+>+>+>+>+>+>+>+>+>+>+>+>+>+>+>+>+>+>+>+>+>+>+>+>+>+>+>+>+>+>+>+>+>+>+>+>+>+>+>+>+>+>+>+>+>+>+>+>+>+>+>+>+>+>+>+>+>+>+>+>+>+>+>+>+>+>+>+>+>+>+>+>+\n",
      "Iteration-2001: >+>+>+>+>+>+>+>+>+>+>+>+>+>+>+>+>+>+>+>+>+>+>+>+>+>+>+>+>+>+>+>+>+>+>+>+>+>+>+>+>+>+>+>+>+>+>+>+>+>+>+>+>+>+>+>+>+>+>+>+>+>+>+>+>+>+>+>+>+>+>+>+>+>+>+>+>+>+>+>+>+>+>+>+>+>+>+>+>+>+>+>+>+>+>+>+>+>+>+>+\n",
      "Iteration-2101: >+>+>+>+>+>+>+>+>+>+>+>+>+>+>+>+>+>+>+>+>+>+>+>+>+>+>+>+>+>+>+>+>+>+>+>+>+>+>+>+>+>+>+>+>+>+>+>+>+>+>+>+>+>+>+>+>+>+>+>+>+>+>+>+>+>+>+>+>+>+>+>+>+>+>+>+>+>+>+>+>+>+>+>+>+>+>+>+>+>+>+>+>+>+>+>+>+>+>+>+\n",
      "Iteration-2201: >+>+>+>+>+>+>+>+>+>+>+>+>+>+>+>+>+>+>+>+>+>+>+>+>+>+>+>+>+>+>+>+>+>+>+>+>+>+>+>+>+>+>+>+>+>+>+>+>+>+>+>+>+>+>+>+>+>+>+>+>+>+>+>+>+>+>+>+>+>+>+>+>+>+>+>+>+>+>+>+>+>+>+>+>+>+>+>+>+>+>+>+>+>+>+>+>+>+>+>+\n",
      "Iteration-2301: >+>+>+>+>+>+>+>+>+>+>+>+>+>+>+>+>+>+>+>+>+>+>+>+>+>+>+>+>+>+>+>+>+>+>+>+>+>+>+>+>+>+>+>+>+>+>+>+>+>+>+>+>+>+>+>+>+>+>+>+>+>+>+>+>+>+>+>+>+>+>+>+>+>+>+>+>+>+>+>+>+>+>+>+>+>+>+>+>+>+>+>+>+>+>+>+>+>+>+>+\n",
      "Iteration-2401: >+>+>+>+>+>+>+>+>+>+>+>+>+>+>+>+>+>+>+>+>+>+>+>+>+>+>+>+>+>+>+>+>+>+>+>+>+>+>+>+>+>+>+>+>+>+>+>+>+>+>+>+>+>+>+>+>+>+>+>+>+>+>+>+>+>+>+>+>+>+>+>+>+>+>+>+>+>+>+>+>+>+>+>+>+>+>+>+>+>+>+>+>+>+>+>+>+>+>+>+\n",
      "Iteration-2501: >+>+>+>+>+>+>+>+>+>+>+>+>+>+>+>+>+>+>+>+>+>+>+>+>+>+>+>+>+>+>+>+>+>+>+>+>+>+>+>+>+>+>+>+>+>+>+>+>+>+>+>+>+>+>+>+>+>+>+>+>+>+>+>+>+>+>+>+>+>+>+>+>+>+>+>+>+>+>+>+>+>+>+>+>+>+>+>+>+>+>+>+>+>+>+>+>+>+>+>+\n",
      "Iteration-2601: >+>+>+>+>+>+>+>+>+>+>+>+>+>+>+>+>+>+>+>+>+>+>+>+>+>+>+>+>+>+>+>+>+>+>+>+>+>+>+>+>+>+>+>+>+>+>+>+>+>+>+>+>+>+>+>+>+>+>+>+>+>+>+>+>+>+>+>+>+>+>+>+>+>+>+>+>+>+>+>+>+>+>+>+>+>+>+>+>+>+>+>+>+>+>+>+>+>+>+>+\n",
      "Iteration-2701: >+>+>+>+>+>+>+>+>+>+>+>+>+>+>+>+>+>+>+>+>+>+>+>+>+>+>+>+>+>+>+>+>+>+>+>+>+>+>+>+>+>+>+>+>+>+>+>+>+>+>+>+>+>+>+>+>+>+>+>+>+>+>+>+>+>+>+>+>+>+>+>+>+>+>+>+>+>+>+>+>+>+>+>+>+>+>+>+>+>+>+>+>+>+>+>+>+>+>+>+\n",
      "Iteration-2801: >+>+>+>+>+>+>+>+>+>+>+>+>+>+>+>+>+>+>+>+>+>+>+>+>+>+>+>+>+>+>+>+>+>+>+>+>+>+>+>+>+>+>+>+>+>+>+>+>+>+>+>+>+>+>+>+>+>+>+>+>+>+>+>+>+>+>+>+>+>+>+>+>+>+>+>+>+>+>+>+>+>+>+>+>+>+>+>+>+>+>+>+>+>+>+>+>+>+>+>+\n",
      "Iteration-2901: >+>+>+>+>+>+>+>+>+>+>+>+>+>+>+>+>+>+>+>+>+>+>+>+>+>+>+>+>+>+>+>+>+>+>+>+>+>+>+>+>+>+>+>+>+>+>+>+>+>+>+>+>+>+>+>+>+>+>+>+>+>+>+>+>+>+>+>+>+>+>+>+>+>+>+>+>+>+>+>+>+>+>+>+>+>+>+>+>+>+>+>+>+>+>+>+>+>+>+>+\n",
      "Iteration-3001: >+>+>+>+>+>+>+>+>+>+>+>+>+>+>+>+>+>+>+>+>+>+>+>+>+>+>+>+>+>+>+>+>+>+>+>+>+>+>+>+>+>+>+>+>+>+>+>+>+>+>+>+>+>+>+>+>+>+>+>+>+>+>+>+>+>+>+>+>+>+>+>+>+>+>+>+>+>+>+>+>+>+>+>+>+>+>+>+>+>+>+>+>+>+>+>+>+>+>+>+\n",
      "Iteration-3101: >+>+>+>+>+>+>+>+>+>+>+>+>+>+>+>+>+>+>+>+>+>+>+>+>+>+>+>+>+>+>+>+>+>+>+>+>+>+>+>+>+>+>+>+>+>+>+>+>+>+>+>+>+>+>+>+>+>+>+>+>+>+>+>+>+>+>+>+>+>+>+>+>+>+>+>+>+>+>+>+>+>+>+>+>+>+>+>+>+>+>+>+>+>+>+>+>+>+>+>+\n",
      "Iteration-3201: >+>+>+>+>+>+>+>+>+>+>+>+>+>+>+>+>+>+>+>+>+>+>+>+>+>+>+>+>+>+>+>+>+>+>+>+>+>+>+>+>+>+>+>+>+>+>+>+>+>+>+>+>+>+>+>+>+>+>+>+>+>+>+>+>+>+>+>+>+>+>+>+>+>+>+>+>+>+>+>+>+>+>+>+>+>+>+>+>+>+>+>+>+>+>+>+>+>+>+>+\n",
      "Iteration-3301: >+>+>+>+>+>+>+>+>+>+>+>+>+>+>+>+>+>+>+>+>+>+>+>+>+>+>+>+>+>+>+>+>+>+>+>+>+>+>+>+>+>+>+>+>+>+>+>+>+>+>+>+>+>+>+>+>+>+>+>+>+>+>+>+>+>+>+>+>+>+>+>+>+>+>+>+>+>+>+>+>+>+>+>+>+>+>+>+>+>+>+>+>+>+>+>+>+>+>+>+\n",
      "Iteration-3401: >+>+>+>+>+>+>+>+>+>+>+>+>+>+>+>+>+>+>+>+>+>+>+>+>+>+>+>+>+>+>+>+>+>+>+>+>+>+>+>+>+>+>+>+>+>+>+>+>+>+>+>+>+>+>+>+>+>>>+>>+>+>+>+>+>+>+>+>>+>+>+>+>>+>+>+>+>+>+>+>+>+>+>+>>+>+>+>>+>+>+>+>+>+>+>+>+\n",
      "Iteration-3501: >>+>>+>+>>+>+>+>+>+>+>+>+>+>+>+>+>+>+>+>+>+>+>+>+>+>+>+>+>+>+>+>+>+>+>+>+>+>+>+>+>+>+>+>+>+>+>+>+>+>+>+>+>+>+>+>+>+>+>+>+>+>+>+>+>+>+>+>+>+>+>+>+>+>+>+>+>+>+>+>+>+>+>+>+>+>+>+>+>+>+>+>+>+>+>+>+>+>+\n",
      "Iteration-3601: >+>+>+>+>+>+>+>+>+>+>+>+>+>+>+>+>+>+>+>+>+>+>+>+>+>+>+>+>+>+>+>+>+>+>+>+>+>+>+>+>+>+>+>+>>+>+>+>+>+>>>>>+>+>+>+>+>+>+>+>+>+>+>+>+>+>+>+>+>+>+>+>+>+>+>+>+>+>+>+>+>+>+>+>+>+>+>+>+>+>+>+>+>+>+>+>+>+\n",
      "Iteration-3701: >+>+>+>+>+>+>+>+>+>+>+>+>+>+>+>+>+>+>+>+>+>+>+>+>+>+>+>+>+>+>+>+>+>+>+>+>+>+>+>+>+>+>+>+>+>+>+>+>+>+>+>+>+>+>+>+>+>+>+>+>+>+>+>+>+>+>+>+>+>+>+>+>+>+>+>+>+>+>+>+>+>+>+>+>+>+>+>+>+>+>+>+>+>+>+>+>+>+>+>+\n",
      "Iteration-3801: >+>+>+>+>+>+>+>+>+>+>+>+>+>+>+>+>+>+>+>+>+>+>+>+>+>+>+>+>+>+>+>+>+>+>+>+>+>+>+>+>+>+>+>+>+>+>+>+>+>+>+>+>+>+>+>+>+>+>+>+>+>+>+>+>+>+>+>+>+>+>+>+>+>+>+>+>+>+>+>+>+>+>+>+>+>+>+>+>+>+>+>+>+>+>+>+>+>+>+>+\n",
      "Iteration-3901: >+>+>+>+>+>+>+>+>+>+>+>+>+>+>+>+>+>+>+>+>+>+>+>+>+>+>+>+>+>+>+>+>+>+>+>+>+>+>+>+>+>+>+>+>+>+>+>+>+>+>+>+>+>+>+>+>+>+>+>+>+>+>+>+>+>+>+>+>+>+>+>+>+>+>+>+>+>+>+>+>+>+>+>+>+>+>+>+>+>+>+>+>+>+>+>+>+>+>+>+\n",
      "Iteration-4001: >+>+>+>+>+>+>+>+>+>+>+>+>+>+>+>+>+>+>+>+>+>+>+>+>+>+>+>+>+>+>+>+>+>+>+>+>+>+>+>+>+>+>+>+>+>+>+>+>+>+>+>+>+>+>+>+>+>+>+>+>+>+>+>+>+>+>+>+>+>+>+>+>+>+>+>+>+>+>+>+>+>+>+>+>+>+>+>+>+>+>+>+>+>+>+>+>+>+>+>+\n",
      "Iteration-4101: >+>+>+>+>+>+>+>+>+>+>+>+>+>+>+>+>+>+>+>+>+>+>+>+>+>+>+>+>+>+>+>+>+>+>+>+>+>+>+>+>+>+>+>+>+>+>+>+>+>+>+>+>+>+>+>+>+>+>+>+>+>+>+>+>+>+>+>+>+>+>+>+>+>+>+>+>+>+>+>+>+>+>+>+>+>+>+>+>+>+>+>+>+>+>+>+>+>+>+>+\n",
      "Iteration-4201: >+>+>+>+>+>+>+>+>+>+>+>+>+>+>+>+>+>+>+>+>+>+>+>+>+>+>+>+>+>+>+>+>+>+>+>+>+>+>+>+>+>+>+>+>+>+>+>+>+>+>+>+>+>+>+>+>+>+>+>+>+>+>+>+>+>+>+>+>+>+>+>+>+>+>+>+>+>+>+>+>+>+>+>+>+>+>+>+>+>+>+>+>+>+>+>+>+>+>+>+\n",
      "Iteration-4301: >+>+>+>+>+>+>+>+>+>+>+>+>+>+>+>+>+>+>+>+>+>+>+>+>+>+>+>+>+>+>+>+>+>+>+>+>+>+>+>+>+>+>+>+>+>+>+>+>+>+>+>+>+>+>+>+>+>+>+>+>+>+>+>+>+>+>+>+>+>+>+>+>+>+>+>+>+>+>+>+>+>+>+>+>+>+>+>+>+>+>+>+>+>+>+>+>+>+>+>+\n",
      "Iteration-4401: >+>+>+>+>+>+>+>+>+>+>+>+>+>+>+>+>+>+>+>+>+>+>+>+>+>+>+>+>+>+>+>+>+>+>+>+>+>+>+>+>+>+>+>+>+>+>+>+>+>+>+>>+>+>+>+>+>+>+>+>+>+>+>>>+>+>+>+>+>+>+>+>+>+>+>>+>+>+>+>>+>+>>+>>+>+>+>+>+>+>+>+>+>+>+>+>+\n",
      "Iteration-4501: >+>>>+>+>+>+>+>+>+>+>+>+>+>+>+>+>>+>+>+>+>+>+>+>+>+>+>+>+>+>+>+>+>+>+>+>+>+>+>+>+>+>+>+>+>+>+>+>+>+>+>+>+>+>+>+>+>+>+>+>+>+>+>+>+>+>+>+>+>+>>+>+>+>+>+>>+>+>+>+>+>+>+>>+>>+>+>>+>+>+>>>+>+>+>+\n",
      "Iteration-4601: >+>+>+>+>+>+>+>+>+>+>+>+>+>+>+>+>+>+>+>+>+>+>+>+>+>>+>+>+>+>>+>+>+>+>+>+>+>+>+>+>+>+>+>+>+>+>+>+>+>+>+>+>+>+>+>+>+>+>+>+>+>+>+>+>+>+>+>+>+>+>+>+>+>+>+>+>+>+>+>+>+>+>+>+>+>+>+>+>+>+>+>+>+>+>+>+>+>+>+\n",
      "Iteration-4701: >+>+>+>+>+>+>+>+>+>+>+>+>+>+>+>+>+>+>+>+>+>+>+>+>+>+>+>+>+>+>+>+>+>+>+>+>+>+>+>+>+>+>+>+>+>+>+>+>+>+>+>+>+>+>+>+>+>+>+>+>+>+>+>+>+>+>+>+>+>+>+>+>+>+>+>+>+>+>+>+>+>+>+>+>+>+>+>+>+>+>+>+>+>+>+>+>+>+>+>+\n",
      "Iteration-4801: >+>+>+>+>+>+>+>+>+>+>+>+>+>+>+>>+>+>+>>+>+>+>+>+>+>+>+>+>+>+>+>+>+>+>+>+>+>+>+>+>+>+>+>+>+>+>+>+>+>+>+>+>+>+>+>+>+>+>+>+>+>+>+>+>+>>+>+>+>+>+>+>+>+>+>+>+>+>+>+>+>+>+>+>+>+>+>+>+>+>+>+>+>+>+>+>+>+>+\n",
      "Iteration-4901: >+>+>+>+>+>+>+>+>+>+>+>+>+>+>+>+>+>+>+>+>+>+>+>+>+>+>+>+>+>+>+>+>+>+>+>+>+>+>+>+>+>+>+>+>+>+>+>+>+>+>+>+>+>+>+>+>+>+>+>+>+>+>+>+>+>+>+>+>+>+>+>+>+>+>+>+>+>+>+>+>+>+>+>+>+>+>+>+>+>+>+>+>+>+>+>+>+>+>+>+\n",
      "\n",
      "Optimization: \n",
      "Number of iterations                   : 5000\n",
      "Lower bound estimate                   : -39.893696\n",
      "\n",
      "=================\n",
      "Replication-26\n",
      "\n",
      "Iteration-   1: +++++++++++\n",
      "Iteration- 101: +++++++>>>>>>>>>>>>>>>>>>>>>>+>+>>>>>>>>+>>>>>>>>>+>>>>>>>>>>>>>>>>>>>>>>>>>+>+>>>\n",
      "Iteration- 201: >>>>+>+>>>>>>>>>>>>>>>>>>>>>>>>>>>>>>>>>>>>>>>>>>>>>>>>>>>>>>>>>>>>>>>>>>>>>>>>>>>>>>>>>>>>>>>>>>>>>+>>+\n",
      "Iteration- 301: >+>+>+>>+>+>+>+>+>+>+>+>+>+>+>+>+>>+>>>>>>>>>>>+>>+>+>>>>>>>>>+>>>+>>>>>>>>>>>>>>>>>>+>>+>+>>>>>>>>+>+>>+>>>>>>>+>>+>>>>>>>>>+>+>>>>\n",
      "Iteration- 401: >>+>>>+>>+>>>>>>>>>+>>>>>>>>>>>>>>>>>>>>>>+>>>>>>>+>>>>>>>>>>>>>+>+>>>>>>>+>+>>+>>+>+>>>>>>>>>>>>>+>+>>>>>>>>>>>>>>\n",
      "Iteration- 501: >>>>>+>>>>>>>>>>>>>>>>>>>>>>>>>>+>+>>>>>>>>>>>>>>>>>>>+>>>+>>>>>+>+>>>>>>>>>>>>>+>+>>>>>>>>>>>>>>>>>>>>>>>>>>\n",
      "Iteration- 601: >>>>>>>>>>>>>>+>>>>>>>>>>>>>>>>>>>+>>>>>>>+>>>+>+>+>>>>>>>>>>+>+>+>>>>>>>>>>>>>>>>>>>>>>>>>>>>>>>>>+>>>>>>>>>>\n",
      "Iteration- 701: >>>>>>>>+>+>+>+>+>+>+>>>+>>+>>>>>>>>>>>>>+>>>>>>>>>+>>>>>>>>>>>>>>>>>>>>>>>>>>>>>>>>>>>>>>>>>>>>>>+>>>>>>>>>>>>>\n",
      "Iteration- 801: >>>>>>>>>>>>>>>>>>>>>>>>>>>>>>>>>>>>>>>>>>>>>>>>>>>>>>>>>>>>>>+>>>>>>>>>>>>>>>>>>>>>>>>>>>>>>>>>>>>>+>\n",
      "Iteration- 901: >>>>>>\n",
      "\n",
      "Optimization: \n",
      "Number of iterations                   : 906\n",
      "Lower bound estimate                   : -39.932834\n",
      "\n",
      "=================\n",
      "Replication-27\n",
      "\n",
      "Iteration-   1: +++++++++++++++\n",
      "Iteration- 101: +++++++>>>>+>>>>>>>>>>>>>>>>>>>>>>>>>>>>>>>>>>>>>>>>>>>>>>>>>>>+>+>>>>+>>+>>>>>>>\n",
      "Iteration- 201: >>>>>>>>>>>>>>>>>>>>>>>>>>>>>>>>>>>>+>>>+>>>>>>>>>>>>>>>>+>+>+>+>>>>+>+>+>>>>>>>>>>>>>>>>>>>>>>>>>>>>>>+>+>+>>+>>\n",
      "Iteration- 301: >>>>>>>>>>>>>>>>>>>>>>>>>+>>>>>>>>>>>>>>>>>>>>>>>>>>>+>>>>>>>>>>>>>>>>>>>>>>>>>>>>>>>>>>>>>>>+>>>>+>+>+>+>+>+\n",
      "Iteration- 401: >+>+>>+>+>+>+>+>+>+>+>+>+>+>+>+>+>+>+>+>+>+>+>+>+>+>+>>+>+>+>+>+>+>+>+>+>>>+>+>+>+>+>+>+>+>>+>+>+>+>+>+>+>+>+>+>+>+>+>+>+>+>+>>+>>+>+>>+>>+>+>+>+>+>+>+>+>+>>+>+>+>+>+>+>+>+>+>>>>>>+>+>\n",
      "Iteration- 501: >+>>>+>+>+>>+>+>+>+>>+>+>+>>+>+>+>+>+>+>+>+>+>+>+>+>+>+>+>+>+>+>+>+>+>+>+>+>+>+>+>+>+>+>+>+>+>+>+>+>+>+>+>+>+>+>+>+>+>+>+>+>+>+>+>+>+>+>+>+>+>+>+>+>+>+>+>+>+>+>+>+>+>+>+>+>+>+>+>+>+>+>+>+>+>+>+>+\n",
      "Iteration- 601: >+>+>+>+>+>+>+>+>+>+>+>+>+>+>+>+>+>+>+>+>+>+>+>+>+>+>+>+>+>+>+>+>+>+>+>+>+>+>+>+>+>+>+>+>+>+>+>+>+>+>+>+>+>+>+>+>+>+>+>+>+>+>+>+>+>+>+>+>+>+>+>+>+>+>+>+>+>+>+>+>+>+>+>+>+>+>+>+>+>+>+>+>+>+>+>+>+>+>+>+\n",
      "Iteration- 701: >+>+>+>+>+>+>+>+>+>+>+>+>+>+>+>+>+>+>+>+>+>+>+>+>+>+>+>+>+>+>+>+>+>+>+>+>+>+>+>+>+>+>+>+>+>+>+>+>+>+>+>+>+>+>+>+>+>+>+>+>+>+>+>+>+>+>+>+>+>+>+>+>+>+>+>+>+>+>+>+>+>+>+>+>+>+>+>+>+>+>+>+>+>+>+>+>+>+>+>+\n",
      "Iteration- 801: >+>+>+>+>+>+>+>+>+>+>+>+>+>+>+>+>+>+>+>+>+>+>+>+>+>+>+>+>+>+>+>+>+>+>+>+>+>+>+>+>+>+>+>+>+>+>+>+>>>+>+>>+>+>+>+>+>+>+>+>+>+>+>+>+>+>+>+>+>+>+>>+>+>+>+>+>+>+>+>+>+>+>+>+>+>+>+>+>+>+>+>+>+>+>+>+>+>+\n",
      "Iteration- 901: >+>+>+>+>+>+>+>+>+>+>+>+>+>+>+>+>+>+>+>+>+>+>+>+>+>+>+>+>+>+>+>+>+>+>+>+>+>+>+>+>+>+>+>+>+>+>+>+>+>+>+>+>+>+>+>+>+>>+>>+>+>+>+>+>+>+>+>+>+>+>+>+>+>+>+>+>+>+>+>>+>+>>+>+>+>+>+>+>+>>+>+>+>+>+>+>+>+\n",
      "Iteration-1001: >+>+>+>+>+>+>>+>+>+>+>+>+>+>>>>+>+>+>+>+>+>+>+>+>+>+>+>+>+>+>+>+>+>+>+>+>+>+>+>+>+>+>+>+>+>+>+>+>+>+>+>+>+>+>+>+>+>+>+>+>+>+>+>+>+>+>+>+>+>+>+>+>+>+>+>+>+>+>+>+>+>+>+>+>+>+>+>+>+>+>+>+>+>+>+>+>+>+\n",
      "Iteration-1101: >+>+>+>+>+>+>+>+>+>+>+>+>+>+>+>+>+>+>+>+>+>+>+>+>+>+>+>+>+>+>+>+>+>+>+>+>+>+>+>+>+>+>+>+>+>+>+>+>+>+>+>+>+>+>+>+>+>+>+>+>+>+>+>+>+>+>+>+>+>+>+>+>+>+>+>+>+>+>+>+>+>+>+>+>+>+>+>+>+>+>+>+>+>+>+>+>+>+>+>+\n",
      "Iteration-1201: >+>+>+>+>+>+>+>+>+>+>+>+>+>+>+>+>+>+>+>+>+>+>+>+>+>+>+>+>+>+>+>+>+>+>+>+>+>+>+>+>+>+>+>+>+>+>+>+>+>+>+>+>+>+>+>+>+>+>+>+>+>+>+>+>+>+>+>+>+>+>+>+>+>+>+>+>+>+>+>+>+>+>+>+>+>+>+>+>+>+>+>+>+>+>+>+>+>+>+>+\n",
      "Iteration-1301: >+>+>+>+>+>+>+>+>+>+>+>+>+>+>+>+>+>+>+>+>+>+>+>+>+>+>+>+>+>+>+>+>+>+>+>+>+>+>+>+>+>+>+>+>+>+>+>+>+>+>+>+>+>+>+>+>+>+>+>+>+>+>+>+>+>+>+>+>+>+>+>+>+>+>+>+>+>+>+>+>+>+>+>+>+>+>+>+>+>+>+>+>+>+>+>+>+>+>+>+\n",
      "Iteration-1401: >+>+>+>+>+>+>+>+>+>+>+>+>+>+>+>+>+>+>+>+>+>+>+>+>+>+>+>+>+>+>+>+>+>+>+>+>+>+>+>+>+>+>+>+>+>+>+>+>+>+>+>+>+>+>+>+>+>+>+>+>+>+>+>+>+>+>+>+>+>+>+>+>+>+>+>+>+>+>+>+>+>+>+>+>+>+>+>+>+>+>+>+>+>+>+>+>+>+>+>+\n",
      "Iteration-1501: >+>+>+>+>+>+>+>+>+>+>+>+>+>+>+>+>+>+>+>+>+>+>+>+>+>+>+>+>+>+>+>+>+>+>+>+>+>+>+>+>+>+>+>+>+>+>+>+>+>+>+>+>+>+>+>+>+>+>+>+>+>+>+>+>+>+>+>+>+>+>+>+>+>+>+>+>+>+>+>+>+>+>+>+>+>+>+>+>+>+>+>+>+>+>+>+>+>+>+>+\n",
      "Iteration-1601: >+>+>+>+>+>+>+>+>+>+>+>+>+>+>+>+>+>+>+>+>+>+>+>+>+>+>+>+>+>+>+>+>+>+>+>+>+>+>+>+>+>+>+>+>+>+>+>+>+>+>+>+>+>+>+>+>+>+>+>+>+>+>+>+>+>+>+>+>+>+>+>+>+>+>+>+>+>+>+>+>+>+>+>+>+>+>+>+>+>+>+>+>+>+>+>+>+>+>+>+\n",
      "Iteration-1701: >+>+>+>+>+>+>+>+>+>+>+>+>+>+>+>+>+>+>+>+>+>+>+>+>+>+>+>+>+>+>+>+>+>+>+>+>+>+>+>+>+>+>+>+>+>+>+>+>+>+>+>+>+>+>+>+>+>+>+>+>+>+>+>+>+>+>+>+>+>+>+>+>+>+>+>+>+>+>+>+>+>+>+>+>+>+>+>+>+>+>+>+>+>+>+>+>+>+>+>+\n",
      "Iteration-1801: >+>+>+>+>+>+>+>+>+>+>+>+>+>+>+>+>+>+>+>+>+>+>+>+>+>+>+>+>+>+>+>+>+>+>+>+>+>+>+>+>+>+>+>+>+>+>+>+>+>+>+>+>+>+>+>+>+>+>+>+>+>+>+>+>+>+>+>+>+>+>+>+>+>+>+>+>+>+>+>+>+>+>+>+>+>+>+>+>+>+>+>+>+>+>+>+>+>+>+>+\n",
      "Iteration-1901: >+>+>+>+>+>+>+>+>+>+>+>+>+>+>+>+>+>+>+>+>+>+>+>+>+>+>+>+>+>+>+>+>+>+>+>+>+>+>+>+>+>+>+>+>+>+>+>+>+>+>+>+>+>+>+>+>+>+>+>+>+>+>+>+>+>+>+>+>+>+>+>+>+>+>+>+>+>+>+>+>+>+>+>+>+>+>+>+>+>+>+>+>+>+>+>+>+>+>+>+\n",
      "Iteration-2001: >+>+>+>+>+>+>+>+>+>+>+>+>+>+>+>+>+>+>+>+>+>+>+>+>+>+>+>+>+>+>+>+>+>+>+>+>+>+>+>+>+>+>+>+>+>+>+>+>+>+>+>+>+>+>+>+>+>+>+>+>+>+>+>+>+>+>+>+>+>+>+>+>+>+>+>+>+>+>+>+>+>+>+>+>>>>+>+>>+>+>+>+>>+>+>+>+>+\n",
      "Iteration-2101: >+>+>+>>+>+>+>+>+>+>+>+>+>+>+>+>+>+>>>+>+>+>+>+>>+>+>+>+>+>+>+>+>>+>+>+>+>+>+>+>>+>+>>+>+>+>+>+>>+>+>>+>+>+>+>+>>+>+>+>+>+>+>+>+>+>+>+>+>>+>+>+>+>+>+>+>+>+>+>+>+>+>+>+>+>+>+>+>+>+>+>+>+>+>+\n",
      "Iteration-2201: >+>+>+>+>+>+>+>+>+>+>+>+>+>+>+>+>+>+>+>+>+>+>+>+>+>+>+>+>+>+>+>+>+>+>+>+>+>+>+>+>+>+>+>+>+>+>+>+>+>+>+>+>+>+>+>+>+>+>+>+>+>+>+>+>+>+>+>+>+>+>+>+>+>+>+>+>+>+>+>+>+>+>+>+>+>+>+>+>+>+>+>+>+>+>+>+>+>+>+>+\n",
      "Iteration-2301: >+>+>+>+>+>+>+>+>+>+>+>+>+>+>+>+>+>+>+>+>+>+>+>+>+>+>+>+>+>+>+>+>+>+>+>+>+>+>+>+>+>+>+>+>+>+>+>+>+>+>+>+>+>+>+>+>+>+>+>+>+>+>+>+>+>+>+>+>+>+>+>+>+>+>+>+>+>+>+>+>+>+>+>+>+>+>+>+>+>+>+>+>+>+>+>+>+>+>+>+\n",
      "Iteration-2401: >+>+>+>+>+>+>+>+>+>+>+>+>+>+>+>+>+>+>+>+>+>+>+>+>+>+>+>+>+>+>+>+>+>+>+>+>+>+>+>+>+>+>+>+>+>+>+>+>+>+>+>+>+>+>+>+>+>+>+>+>+>+>+>+>+>+>+>+>+>+>+>+>+>+>+>+>+>+>+>+>+>+>+>+>+>+>+>+>+>+>+>+>+>+>+>+>+>+>+>+\n",
      "Iteration-2501: >+>+>+>+>+>+>+>+>+>+>+>+>+>+>+>+>+>+>+>+>+>+>+>+>+>+>+>+>+>+>+>+>+>+>+>+>+>+>+>+>+>+>+>+>+>+>+>+>+>+>+>+>+>+>+>+>+>+>+>+>+>+>+>+>+>+>+>+>+>+>+>+>+>+>+>+>+>+>+>+>+>+>+>+>+>+>+>+>+>+>+>+>+>+>+>+>+>+>+>+\n",
      "Iteration-2601: >+>+>+>+>+>+>+>+>+>+>+>+>+>+>+>+>+>+>+>+>+>+>+>+>+>+>+>+>+>+>+>+>+>+>+>+>+>+>+>+>+>+>+>+>+>+>+>+>+>+>+>+>+>+>+>+>+>+>+>+>+>+>+>+>+>+>+>+>+>+>+>+>+>+>+>+>+>+>+>+>+>+>+>+>+>+>+>+>+>+>+>+>+>+>+>+>+>+>+>+\n",
      "Iteration-2701: >+>+>+>+>+>+>+>+>+>+>+>+>+>+>+>+>+>+>+>+>+>+>+>+>+>+>+>+>+>+>+>+>+>+>+>+>+>+>+>+>+>+>+>+>+>+>+>+>+>+>+>+>+>+>+>+>+>+>+>+>+>+>+>+>+>+>+>+>+>+>+>+>+>+>+>+>+>+>+>+>+>+>+>+>+>+>+>+>+>+>+>+>+>+>+>+>+>+>+>+\n",
      "Iteration-2801: >+>+>+>+>+>+>+>+>+>+>+>+>+>+>+>+>+>+>+>+>+>+>+>+>+>+>+>+>+>+>+>+>+>+>+>+>+>+>+>+>+>+>+>+>+>+>+>+>+>+>+>+>+>+>+>+>+>+>+>+>+>+>+>+>+>+>+>+>+>+>+>+>+>+>+>+>+>+>+>+>+>+>+>+>+>+>+>+>+>+>+>+>+>+>+>+>+>+>+>+\n",
      "Iteration-2901: >+>+>+>+>+>+>+>+>+>+>+>+>+>+>+>+>+>+>+>+>+>+>+>+>+>+>+>+>+>+>+>+>+>+>+>+>+>+>+>+>+>+>+>+>+>+>+>+>+>+>+>+>+>+>+>+>+>+>+>+>+>+>+>+>+>+>+>+>+>+>+>+>+>+>+>+>+>+>+>+>+>+>+>+>+>+>+>+>+>+>+>+>+>+>+>+>+>+>+>+\n",
      "Iteration-3001: >+>+>+>+>+>+>+>+>+>+>+>+>+>+>+>+>+>+>+>+>+>+>+>+>+>+>+>+>+>+>+>+>+>+>+>+>+>+>+>+>+>+>+>+>+>+>+>+>+>+>+>+>+>+>+>+>+>+>+>+>+>+>+>+>+>+>+>+>+>+>+>+>+>+>+>+>+>+>+>+>+>+>+>+>+>+>+>+>+>+>+>+>+>+>+>+>+>+>+>+\n",
      "Iteration-3101: >+>+>+>+>+>+>+>+>+>+>+>+>+>+>+>+>+>+>+>+>+>+>+>+>+>+>+>+>+>+>+>+>+>+>+>+>+>+>+>+>+>+>+>+>+>+>+>+>+>+>+>+>+>+>+>+>+>+>+>+>+>+>+>+>+>+>+>+>+>+>+>+>+>+>+>+>+>+>+>+>+>+>+>+>+>+>+>+>+>+>+>+>+>+>+>+>+>+>+>+\n",
      "Iteration-3201: >+>+>+>+>+>+>+>+>+>+>+>+>+>+>+>+>+>+>+>+>+>+>+>+>+>+>+>+>+>+>+>+>+>+>+>+>+>+>+>+>+>+>+>+>+>+>+>+>+>+>+>+>+>+>+>+>+>+>+>+>+>+>+>+>+>+>+>+>+>+>+>+>+>+>+>+>+>+>+>+>+>+>+>+>+>+>+>+>+>+>+>+>+>+>+>+>+>+>+>+\n",
      "Iteration-3301: >+>+>+>+>+>+>+>+>+>+>+>+>+>+>+>+>+>+>+>+>+>+>+>+>+>+>+>+>+>+>+>+>+>+>+>+>+>+>+>+>+>+>+>+>+>+>+>+>+>+>+>+>+>+>+>+>+>+>+>+>+>+>+>+>+>+>+>+>+>+>+>+>+>+>+>+>+>+>+>+>+>+>+>+>+>+>+>+>+>+>+>+>+>+>+>+>+>+>+>+\n",
      "Iteration-3401: >+>+>+>+>+>+>+>+>+>+>+>+>+>+>+>+>+>+>+>+>+>+>+>+>+>+>+>+>+>+>+>+>+>+>+>+>+>+>+>+>+>+>+>+>+>+>+>+>+>+>+>+>+>+>+>+>+>+>+>+>+>+>+>+>+>+>+>+>+>+>+>+>+>+>+>+>+>+>+>+>+>+>+>+>+>+>+>+>+>+>+>+>+>+>+>+>+>+>+>+\n",
      "Iteration-3501: >+>+>+>+>+>+>+>+>+>+>+>+>+>+>+>+>+>+>+>+>+>+>+>+>+>+>+>+>+>+>+>+>+>+>+>+>+>+>+>+>+>+>+>+>+>+>+>+>+>+>+>+>+>+>+>+>+>+>+>+>+>+>+>+>+>+>+>+>+>+>+>+>+>+>+>+>+>+>+>+>+>+>+>+>+>+>+>+>+>+>+>+>+>+>+>+>>+>+>+\n",
      "Iteration-3601: >+>+>+>+>+>+>+>+>+>+>+>+>+>+>+>+>+>+>+>+>+>+>+>+>+>+>+>+>+>+>+>+>+>+>+>+>+>+>+>+>+>+>+>+>+>+>+>+>+>+>+>+>+>+>+>+>+>+>+>+>+>+>+>+>+>+>+>+>+>+>+>+>+>+>+>+>+>+>+>+>+>+>+>+>+>+>+>+>+>+>+>+>+>+>+>+>+>+>+>+\n",
      "Iteration-3701: >+>+>+>+>+>+>+>+>+>+>+>+>+>+>+>+>+>+>+>+>+>+>+>+>+>+>+>+>+>+>+>+>+>+>+>+>+>+>+>+>+>+>+>+>+>+>+>+>+>+>+>+>+>+>+>+>+>+>+>+>+>+>+>+>+>+>+>+>+>+>+>+>+>+>+>+>+>+>+>+>+>+>+>+>+>+>+>+>+>+>+>+>+>+>+>+>+>+>+>+\n",
      "Iteration-3801: >+>+>+>+>+>+>+>+>+>+>+>+>+>+>+>+>+>+>+>+>+>+>+>+>+>+>+>>+>>+>+>+>+>+>+>+>+>+>+>+>+>+>+>+>+>+>+>+>+>+>+>+>+>+>+>+>+>+>+>+>+>+>+>+>+>+>+>+>+>+>+>+>+>+>+>+>+>+>+>+>+>+>+>+>+>+>+>+>+>+>+>+>+>+>+>+>+>+>+\n",
      "Iteration-3901: >+>+>+>+>+>+>+>+>+>+>+>+>+>+>+>+>+>+>+>+>+>+>+>+>+>+>+>+>+>+>+>+>+>+>+>+>+>+>+>+>+>+>+>+>+>+>+>+>+>+>+>+>+>+>+>+>+>+>+>+>+>+>+>+>+>+>+>+>+>+>+>+>+>+>+>+>+>+>+>+>+>+>+>+>+>+>+>+>+>+>+>+>+>+>+>+>+>+>+>+\n",
      "Iteration-4001: >+>+>+>+>+>+>+>+>+>+>+>+>+>+>+>+>+>+>+>+>+>+>+>+>+>+>+>+>+>+>+>+>+>+>+>+>+>+>+>+>+>+>+>+>+>+>+>+>+>+>+>+>+>+>+>+>+>+>+>+>+>+>+>+>+>+>+>+>+>+>+>+>+>+>+>+>+>+>+>+>+>+>+>+>+>+>+>+>+>+>+>+>+>+>+>+>+>+>+>+\n",
      "Iteration-4101: >+>+>+>+>+>+>+>+>+>+>+>+>+>+>+>+>+>+>+>+>+>+>+>+>+>+>+>+>+>+>+>+>+>+>+>+>+>+>+>+>+>+>+>+>+>+>+>+>+>+>+>+>+>+>+>+>>+>+>+>+>+>+>+>+>+>+>+>+>+>+>+>+>+>+>+>+>+>+>+>+>+>+>+>+>+>>+>+>+>+>+>>+>+>+>+>+>+>+\n",
      "Iteration-4201: >+>+>+>+>+>+>+>+>+>+>+>+>+>+>+>+>+>+>+>+>+>+>+>+>+>+>+>+>+>+>+>+>+>+>+>+>+>+>+>>+>+>+>+>+>+>+>+>+>+>+>+>+>+>+>+>+>+>+>+>+>+>+>+>+>+>+>+>+>+>+>+>+>>+>+>>+>+>+>+>+>+>+>+>+>+>+>+>+"
     ]
    },
    {
     "data": {
      "text/plain": [
       "TwoSD.SDResult(Dict{ConstraintRef, Int64}(c4 : 2 Yb ≤ 24.0 => 4, c6 : -0.04549056742151611 X1 - 0.19561635306972333 X2 + Ya + Yb ≤ 2.688241698799437 => 6, c3 : Ya ≤ 8.0 => 3, c2 : X1 - 0.5 X2 ≥ 0.0 => 2, c1 : X1 + X2 ≤ 200.0 => 1, c5 : 3 Ya + 2 Yb ≤ 36.0 => 5), Dict{VariableRef, Int64}(X2 => 2, X1 => 1, Ya => 3, Yb => 4), Dict{Int64, ConstraintRef{Model, C, ScalarShape} where C}(5 => c5 : 3 Ya + 2 Yb ≤ 36.0, 4 => c4 : 2 Yb ≤ 24.0, 6 => c6 : -0.04549056742151611 X1 - 0.19561635306972333 X2 + Ya + Yb ≤ 2.688241698799437, 2 => c2 : X1 - 0.5 X2 ≥ 0.0, 3 => c3 : Ya ≤ 8.0, 1 => c1 : X1 + X2 ≤ 200.0), Dict{Int64, ConstraintRef{Model, C, ScalarShape} where C}(5 => c5 : 3 Ya + 2 Yb ≤ 36.0, 4 => c4 : 2 Yb ≤ 24.0, 6 => c6 : -0.04549056742151611 X1 - 0.19561635306972333 X2 + Ya + Yb ≤ 2.688241698799437, 2 => c2 : X1 - 0.5 X2 ≥ 0.0, 3 => c3 : Ya ≤ 8.0, 1 => c1 : X1 + X2 ≤ 200.0), [[183.682084, 16.317916], [180.656691, 19.343309], [182.772077, 17.227923], [183.121313, 16.878687], [179.990534, 20.009466], [180.656891, 19.343109], [182.772094, 17.227906], [179.990616, 20.009384], [181.188676, 18.811324], [180.626913, 19.373087]  …  [181.527486, 18.472514], [179.989741, 20.010259], [181.527494, 18.472506], [181.18865, 18.81135], [181.155609, 18.844391], [181.527491, 18.472509], [180.999297, 19.000703], [181.527472, 18.472528], [181.806869, 18.193131], [181.188651, 18.811349]], [[181.36172, 18.63828]], [[181.36171, 18.63829]])"
      ]
     },
     "execution_count": 29,
     "metadata": {},
     "output_type": "execute_result"
    }
   ],
   "source": [
    "solve_sd(model, split_position, user_mean, mystoc)"
   ]
  },
  {
   "cell_type": "code",
   "execution_count": 30,
   "id": "feeda8a9",
   "metadata": {},
   "outputs": [],
   "source": [
    "#x1_opt = decision(X1, Ref(solve_sd(model, split_position, user_mean, mystoc)), CompromiseSolution)"
   ]
  },
  {
   "cell_type": "code",
   "execution_count": 31,
   "id": "72fc3fc5",
   "metadata": {},
   "outputs": [],
   "source": [
    "#x1_opt"
   ]
  },
  {
   "cell_type": "code",
   "execution_count": 32,
   "id": "a0874c26",
   "metadata": {},
   "outputs": [],
   "source": [
    "#x2_opt = decision(X2, Ref(solve_sd(model, split_position, user_mean, mystoc)), CompromiseSolution)"
   ]
  },
  {
   "cell_type": "markdown",
   "id": "38a7c2c6",
   "metadata": {},
   "source": [
    "#### 2.3 Validation"
   ]
  },
  {
   "cell_type": "code",
   "execution_count": 33,
   "id": "3ecc0ca8",
   "metadata": {},
   "outputs": [
    {
     "data": {
      "text/plain": [
       "100-element Vector{Float64}:\n",
       " 10.531897352134427\n",
       " 14.837706485044478\n",
       " 14.542487007544036\n",
       " 16.348663888645362\n",
       " 17.66422747897488\n",
       " 14.685121019658862\n",
       " 11.567299248998197\n",
       " 13.05553857750098\n",
       " 15.771884028387532\n",
       " 16.425167711608516\n",
       " 15.752521845749895\n",
       " 14.233285941638313\n",
       " 15.359858104218613\n",
       "  ⋮\n",
       " 14.839755556934701\n",
       " 17.0346797305746\n",
       " 15.18611349549765\n",
       " 12.507930329545765\n",
       " 13.785424408661877\n",
       " 13.02171305423699\n",
       " 14.763774536243787\n",
       " 11.726743880167755\n",
       " 16.064934135619257\n",
       " 14.152380918903823\n",
       " 16.131714261509913\n",
       " 16.05470420335988"
      ]
     },
     "execution_count": 33,
     "metadata": {},
     "output_type": "execute_result"
    }
   ],
   "source": [
    "X1_hat = 181.361720\n",
    "X2_hat = 18.638280\n",
    "W = beta0 .+ beta1*X1_hat .+ beta2*X2_hat .+ error_test"
   ]
  },
  {
   "cell_type": "code",
   "execution_count": 55,
   "id": "44514b0b",
   "metadata": {},
   "outputs": [],
   "source": [
    "profits = zeros(100);\n",
    "for i in 1:100\n",
    "    profits[i] = profit(W[i])\n",
    "end"
   ]
  },
  {
   "cell_type": "code",
   "execution_count": 56,
   "id": "e7b7fa12",
   "metadata": {},
   "outputs": [
    {
     "data": {
      "text/plain": [
       "40.201636409439686"
      ]
     },
     "execution_count": 56,
     "metadata": {},
     "output_type": "execute_result"
    }
   ],
   "source": [
    "MVSAE_avg = -0.1*X1_hat - 0.5*X2_hat + mean(profits)"
   ]
  },
  {
   "cell_type": "code",
   "execution_count": 57,
   "id": "bc4cd17b",
   "metadata": {},
   "outputs": [
    {
     "data": {
      "text/plain": [
       "(39.02235761489088, 41.38091520398849)"
      ]
     },
     "execution_count": 57,
     "metadata": {},
     "output_type": "execute_result"
    }
   ],
   "source": [
    "lo = -0.1*X1_hat - 0.5*X2_hat + CI(profits)[1]\n",
    "hi = -0.1*X1_hat - 0.5*X2_hat + CI(profits)[2]\n",
    "(lo,hi)"
   ]
  },
  {
   "cell_type": "code",
   "execution_count": null,
   "id": "7c74472d",
   "metadata": {},
   "outputs": [],
   "source": []
  }
 ],
 "metadata": {
  "kernelspec": {
   "display_name": "Julia 1.8.0",
   "language": "julia",
   "name": "julia-1.8"
  },
  "language_info": {
   "file_extension": ".jl",
   "mimetype": "application/julia",
   "name": "julia",
   "version": "1.8.0"
  },
  "vp": {
   "vp_config_version": "1.0.0",
   "vp_menu_width": 273,
   "vp_note_display": false,
   "vp_note_width": 0,
   "vp_position": {
    "width": 278
   },
   "vp_section_display": false,
   "vp_signature": "VisualPython"
  }
 },
 "nbformat": 4,
 "nbformat_minor": 5
}
